{
 "cells": [
  {
   "attachments": {},
   "cell_type": "markdown",
   "metadata": {},
   "source": [
    "# Regional Voting Preferences in the 2019 Philippine Senatorial Elections"
   ]
  },
  {
   "cell_type": "markdown",
   "metadata": {},
   "source": [
    "\n",
    "The Philippines recently concluded its 2019 midterm elections last May 13. Sixty-two (62) candidates from various political parties contested for twelve (12) seats in the Senate of The Philippines. Given the unexpected results, the team was wondering on the following topics:\n",
    "\n",
    "- How did the various administrative regions of the Philippines voted for their senators? \n",
    "- Is the voter preference homogeneous across the country, or is there a preferred candidate or party per region? More specifically, how does (1) religious affiliation, (2) educational attainment, and (2) sex play a major role on how the voters select their candidates. "
   ]
  },
  {
   "cell_type": "code",
   "execution_count": 1,
   "metadata": {
    "ExecuteTime": {
     "end_time": "2019-05-28T18:56:30.091773Z",
     "start_time": "2019-05-28T18:56:30.070049Z"
    }
   },
   "outputs": [
    {
     "data": {
      "text/html": [
       "<script>\n",
       "  function code_toggle() {\n",
       "    if (code_shown){\n",
       "      $('div.input').hide('500');\n",
       "      $('#toggleButton').val('Show Code')\n",
       "    } else {\n",
       "      $('div.input').show('500');\n",
       "      $('#toggleButton').val('Hide Code')\n",
       "    }\n",
       "    code_shown = !code_shown\n",
       "  }\n",
       "\n",
       "  $( document ).ready(function(){\n",
       "    code_shown=false;\n",
       "    $('div.input').hide()\n",
       "  });\n",
       "</script>\n",
       "<form action=\"javascript:code_toggle()\"><input type=\"submit\" id=\"toggleButton\" value=\"Show Code\"></form>"
      ],
      "text/plain": [
       "<IPython.core.display.HTML object>"
      ]
     },
     "execution_count": 1,
     "metadata": {},
     "output_type": "execute_result"
    }
   ],
   "source": [
    "from IPython.display import HTML\n",
    "\n",
    "HTML('''<script>\n",
    "  function code_toggle() {\n",
    "    if (code_shown){\n",
    "      $('div.input').hide('500');\n",
    "      $('#toggleButton').val('Show Code')\n",
    "    } else {\n",
    "      $('div.input').show('500');\n",
    "      $('#toggleButton').val('Hide Code')\n",
    "    }\n",
    "    code_shown = !code_shown\n",
    "  }\n",
    "\n",
    "  $( document ).ready(function(){\n",
    "    code_shown=false;\n",
    "    $('div.input').hide()\n",
    "  });\n",
    "</script>\n",
    "<form action=\"javascript:code_toggle()\"><input type=\"submit\" id=\"toggleButton\" value=\"Show Code\"></form>''')"
   ]
  },
  {
   "cell_type": "markdown",
   "metadata": {},
   "source": [
    "Before anything else, let us first load all important modules for this exercise."
   ]
  },
  {
   "cell_type": "code",
   "execution_count": 2,
   "metadata": {
    "ExecuteTime": {
     "end_time": "2019-05-29T08:39:26.530813Z",
     "start_time": "2019-05-29T08:39:26.510073Z"
    }
   },
   "outputs": [],
   "source": [
    "import os\n",
    "import io\n",
    "import re\n",
    "import time\n",
    "import glob\n",
    "import requests\n",
    "import urllib.request\n",
    "import numpy as np\n",
    "import pandas as pd\n",
    "import geopandas as gpd\n",
    "import matplotlib.pyplot as plt\n",
    "from matplotlib.colors import LinearSegmentedColormap\n",
    "import seaborn as sns"
   ]
  },
  {
   "cell_type": "markdown",
   "metadata": {},
   "source": [
    "It is important to identify the datasets we are going to use for this exercise. The two identified datasets the group intends to use are: the 2019 National Data and the 2015-2016 Census data. \n",
    "    \n",
    "With regards to 2019 National data, the team used a web scapper provided Prof. Alis. The web scapper downloaded the election results from the [Commission of Elections' 2019 National and Local Elections website](https://2019electionresults.comelec.gov.ph/#/dashboard). The results were then stored in a local repository which is then easily accesible for the team. The 2019 elections results are broken down into two main directories: `results` and `contest`. In this exercise, the team will explore both directories to map out a comprehensive summary of the 2019 senatorial and party elections.\n",
    "\n",
    "Secondly, the 2015-2016 Census data has already been stored in a local repository for easier access. One of the main reasons why the team decided to use the 2015-2016 Census data is because of the lack of availability of recent data. The Philippine Statistics Authority only releases a comprehensive census survey ever six years. However for the purpose of this exercise, the team has agreed that the 2015-2016 census data can act as an appproximate for today's population."
   ]
  },
  {
   "cell_type": "markdown",
   "metadata": {},
   "source": [
    "## <font color=\"BF5209\"> A. Methodology"
   ]
  },
  {
   "cell_type": "markdown",
   "metadata": {},
   "source": [
    "### <font color=\"BF5209\"> Step 1: Extract and collect the 2019 Elections (Results) data"
   ]
  },
  {
   "cell_type": "markdown",
   "metadata": {},
   "source": [
    "The first directory to explore is the 2019 Election `results`. The `results` directory contains all electoral results from a regional level down to the barangay level. For each level, a specific `coc.json` file is stored. This file contains all electoral results data and metadata for both national and local elections. However for the purposes of this analysis, we will only look at the aggregated elections data at the regional level. The files that we are interested are the `coc.json` files associated to each province, as these files contain the metadata and data on the election results. "
   ]
  },
  {
   "cell_type": "markdown",
   "metadata": {},
   "source": [
    "The main structure of each `coc.json` file contains the following main keys: `vbc`, `rs`, `sts`, `obs`, and `cos`. For the purpose of this exercise, the important key the group needs to extract is the `rs` key as this provides the each candidate's total votes per area. Under the `rs` key, the following keys can be found: `cc`, `bo`, `v`, `tot`, `per`, and `ser`. Cross referencing these keys with official statements and comelec documentations suggests that important keys are as follows: `cc` pertaining to `contest_type`, `bo` pertaining to the `candidate_id`, and `v` pertaining to `votes_per_province`. \n",
    "\n",
    "| Parameter | Description               |\n",
    "|-----------|---------------------------|\n",
    "|   cc      | Contest code              |\n",
    "|   bo      | Contestant id             |\n",
    "|   v       | Total votes per contestant|\n",
    "|   tot     | Total votes per province  |\n",
    "\n",
    "However, it must be pointed out that the available data only goes as high as provincial data. If we want to process the provincial level, the team will have to aggregate the data up."
   ]
  },
  {
   "cell_type": "markdown",
   "metadata": {},
   "source": [
    "The group created utility functions for easier retrieval of the provincial elections datasets. The purpose for the utility functions (and future utility functions) are for initial cleaning and manipulations. This is to ensure each dataset is ready for aggregation. \n",
    "\n",
    "The `get_province_coc` method unpacks each key and value from the `coc.json` dictionary into a cleaned up dataframe. In addition, the method identifies which region and province the file originated from by examining the filepath that was passed. \n",
    "\n",
    "The `get_all_province_coc` method is a walker that goes through each of the `results` directory. The walker checks if the filename has an equal value to `coc.json`. If a `coc.json` was located, the `get_province_coc` method is applied with the `filepath` as the parameter. The resulting dataframe is then appended to a master dataframe for further extraction and analysis. For this exercise, the group only had to extract data up to the regional and provincial levels so only three wildcard were use for the `glob` walker. \n",
    "\n",
    "Special methods (`get_ncr_coc` and `get_all_ncr_coc`) were established to get the cities' `coc.json`. For the case of the NCR cities, theire associated `coc.json` files were one directory lower."
   ]
  },
  {
   "cell_type": "code",
   "execution_count": 3,
   "metadata": {
    "ExecuteTime": {
     "end_time": "2019-05-29T08:39:30.086899Z",
     "start_time": "2019-05-29T08:39:29.988675Z"
    }
   },
   "outputs": [],
   "source": [
    "def get_province_coc(filepath):\n",
    "    \"\"\"\n",
    "    Loads a single coc file. \n",
    "\n",
    "    Adds additional columns `region` and `province to the DataFrame,\n",
    "    depending on filepath.\n",
    "\n",
    "    Parameters\n",
    "    ----------\n",
    "    filepath    : filepath\n",
    "\n",
    "    Return\n",
    "    ------\n",
    "    df          : a dataframe\n",
    "    \"\"\"\n",
    "    output = []\n",
    "    with open(filepath, 'r') as f:\n",
    "        dirpath, filepath = os.path.split(filepath)\n",
    "        region = dirpath.split('/')[-2]\n",
    "        province = dirpath.split('/')[-1]\n",
    "        data = json.load(f)\n",
    "        for each in data['rs']:\n",
    "            row = [float(element) for element in list(each.values())]\n",
    "            output.append([data['vbc']] + row + [region] + [province])\n",
    "    df = pd.DataFrame(output,\n",
    "                      columns=['vbc', 'cc', 'bo', 'v', 'tot', 'per', 'ser',\n",
    "                               'region', 'province'])\n",
    "    return df\n",
    "\n",
    "\n",
    "def get_all_province_coc(tree):\n",
    "    \"\"\"\n",
    "    Loads all province COC files and saves them to a dataframe\n",
    "\n",
    "    Checks the filepath if filename is 'coc.json'\n",
    "\n",
    "    Created a new column to deal with the reclassification of\n",
    "        \"NEGROS ORIENTAL\" and \"NEGROS OCCIDENTAL\" to \"NIR\" \n",
    "            to match the PSA 2016 dataset.\n",
    "\n",
    "    Parameters\n",
    "    ----------\n",
    "    filepath    : filepath\n",
    "\n",
    "    Return\n",
    "    ------\n",
    "    df          : a dataframe\n",
    "    \"\"\"\n",
    "    total = pd.DataFrame()\n",
    "    for file in glob.glob(tree):\n",
    "        if os.path.basename(file) == 'coc.json':\n",
    "            df = get_province_coc(file)\n",
    "            total = total.append(df)\n",
    "    total.rename(columns={'region': 'region_raw'}, inplace=True)\n",
    "    total['region'] = total['region_raw'].copy()\n",
    "    total.loc[(total['province'] == \"NEGROS ORIENTAL\") |\n",
    "              (total['province'] == \"NEGROS OCCIDENTAL\"), 'region'] = 'NIR'\n",
    "    return total"
   ]
  },
  {
   "cell_type": "code",
   "execution_count": 4,
   "metadata": {
    "ExecuteTime": {
     "end_time": "2019-05-29T08:39:31.277951Z",
     "start_time": "2019-05-29T08:39:31.130333Z"
    }
   },
   "outputs": [],
   "source": [
    "def get_ncr_coc(filepath):\n",
    "    \"\"\"\n",
    "    Loads a single coc file. \n",
    "\n",
    "    Adds additional columns `region` and `province to the DataFrame,\n",
    "    depending on filepath.\n",
    "\n",
    "    Parameters\n",
    "    ----------\n",
    "    filepath    : filepath\n",
    "\n",
    "    Return\n",
    "    ------\n",
    "    df          : a dataframe    \n",
    "\n",
    "    \"\"\"\n",
    "    output = []\n",
    "    with open(filepath, 'r') as f:\n",
    "        dirpath, filepath = os.path.split(filepath)\n",
    "        region = dirpath.split('/')[-3]\n",
    "        province = dirpath.split('/')[-2]\n",
    "        data = json.load(f)\n",
    "        for each in data['rs']:\n",
    "            row = [float(element) for element in list(each.values())]\n",
    "            output.append([data['vbc']] + row + [region] + [province])\n",
    "    df = pd.DataFrame(output,\n",
    "                      columns=['vbc', 'cc', 'bo', 'v', 'tot', 'per', 'ser',\n",
    "                               'region', 'province'])\n",
    "    return df\n",
    "\n",
    "\n",
    "def get_all_ncr_coc(tree):\n",
    "    \"\"\"\n",
    "    Loads all province COC files and saves them to a dataframe\n",
    "\n",
    "    Checks the filepath if filename is 'coc.json'\n",
    "\n",
    "    Parameters\n",
    "    ----------\n",
    "    filepath    : filepath\n",
    "\n",
    "    Return\n",
    "    ------\n",
    "    df          : a dataframe\n",
    "    \"\"\"\n",
    "    total = pd.DataFrame()\n",
    "    for file in glob.glob(tree):\n",
    "        if file.split('/')[7] == 'NCR':\n",
    "            if os.path.basename(file) == 'coc.json':\n",
    "                df = get_ncr_coc(file)\n",
    "                total = total.append(df)\n",
    "    total.rename(columns={'region': 'region_raw'}, inplace=True)\n",
    "    total['region'] = total['region_raw'].copy()\n",
    "    return total"
   ]
  },
  {
   "cell_type": "markdown",
   "metadata": {},
   "source": [
    "###  With these utility functions inplace, the team can now apply these methods for easier access to the 2019 elections data. \n",
    "\n",
    "We can now compile all of the election results with the following line:"
   ]
  },
  {
   "cell_type": "code",
   "execution_count": 5,
   "metadata": {
    "ExecuteTime": {
     "end_time": "2019-05-29T08:39:37.785192Z",
     "start_time": "2019-05-29T08:39:33.209517Z"
    },
    "scrolled": false
   },
   "outputs": [],
   "source": [
    "tree = '/mnt/data/public/elections/nle2019/results/*/*/*'\n",
    "ncr_tree = '/mnt/data/public/elections/nle2019/results/*/*/*/*'\n",
    "df_results = get_all_province_coc(tree)\n",
    "df_results = df_results.append(get_all_ncr_coc(ncr_tree))\n",
    "df_results.drop_duplicates(inplace=True)"
   ]
  },
  {
   "cell_type": "code",
   "execution_count": 6,
   "metadata": {
    "ExecuteTime": {
     "end_time": "2019-05-29T08:39:48.454100Z",
     "start_time": "2019-05-29T08:39:48.402732Z"
    }
   },
   "outputs": [
    {
     "data": {
      "text/html": [
       "<div>\n",
       "<style scoped>\n",
       "    .dataframe tbody tr th:only-of-type {\n",
       "        vertical-align: middle;\n",
       "    }\n",
       "\n",
       "    .dataframe tbody tr th {\n",
       "        vertical-align: top;\n",
       "    }\n",
       "\n",
       "    .dataframe thead th {\n",
       "        text-align: right;\n",
       "    }\n",
       "</style>\n",
       "<table border=\"1\" class=\"dataframe\">\n",
       "  <thead>\n",
       "    <tr style=\"text-align: right;\">\n",
       "      <th></th>\n",
       "      <th>vbc</th>\n",
       "      <th>cc</th>\n",
       "      <th>bo</th>\n",
       "      <th>v</th>\n",
       "      <th>tot</th>\n",
       "      <th>per</th>\n",
       "      <th>ser</th>\n",
       "      <th>region_raw</th>\n",
       "      <th>province</th>\n",
       "      <th>region</th>\n",
       "    </tr>\n",
       "  </thead>\n",
       "  <tbody>\n",
       "    <tr>\n",
       "      <th>0</th>\n",
       "      <td>89550</td>\n",
       "      <td>1.0</td>\n",
       "      <td>1.0</td>\n",
       "      <td>2004.0</td>\n",
       "      <td>1708769.0</td>\n",
       "      <td>0.11</td>\n",
       "      <td>2800.0</td>\n",
       "      <td>REGION I</td>\n",
       "      <td>ILOCOS NORTE</td>\n",
       "      <td>REGION I</td>\n",
       "    </tr>\n",
       "    <tr>\n",
       "      <th>1</th>\n",
       "      <td>89550</td>\n",
       "      <td>1.0</td>\n",
       "      <td>2.0</td>\n",
       "      <td>1607.0</td>\n",
       "      <td>1708769.0</td>\n",
       "      <td>0.09</td>\n",
       "      <td>2800.0</td>\n",
       "      <td>REGION I</td>\n",
       "      <td>ILOCOS NORTE</td>\n",
       "      <td>REGION I</td>\n",
       "    </tr>\n",
       "    <tr>\n",
       "      <th>2</th>\n",
       "      <td>89550</td>\n",
       "      <td>1.0</td>\n",
       "      <td>3.0</td>\n",
       "      <td>8772.0</td>\n",
       "      <td>1708769.0</td>\n",
       "      <td>0.51</td>\n",
       "      <td>2800.0</td>\n",
       "      <td>REGION I</td>\n",
       "      <td>ILOCOS NORTE</td>\n",
       "      <td>REGION I</td>\n",
       "    </tr>\n",
       "    <tr>\n",
       "      <th>3</th>\n",
       "      <td>89550</td>\n",
       "      <td>1.0</td>\n",
       "      <td>4.0</td>\n",
       "      <td>1767.0</td>\n",
       "      <td>1708769.0</td>\n",
       "      <td>0.10</td>\n",
       "      <td>2800.0</td>\n",
       "      <td>REGION I</td>\n",
       "      <td>ILOCOS NORTE</td>\n",
       "      <td>REGION I</td>\n",
       "    </tr>\n",
       "    <tr>\n",
       "      <th>4</th>\n",
       "      <td>89550</td>\n",
       "      <td>1.0</td>\n",
       "      <td>5.0</td>\n",
       "      <td>5068.0</td>\n",
       "      <td>1708769.0</td>\n",
       "      <td>0.29</td>\n",
       "      <td>2800.0</td>\n",
       "      <td>REGION I</td>\n",
       "      <td>ILOCOS NORTE</td>\n",
       "      <td>REGION I</td>\n",
       "    </tr>\n",
       "  </tbody>\n",
       "</table>\n",
       "</div>"
      ],
      "text/plain": [
       "     vbc   cc   bo       v        tot   per     ser region_raw      province  \\\n",
       "0  89550  1.0  1.0  2004.0  1708769.0  0.11  2800.0   REGION I  ILOCOS NORTE   \n",
       "1  89550  1.0  2.0  1607.0  1708769.0  0.09  2800.0   REGION I  ILOCOS NORTE   \n",
       "2  89550  1.0  3.0  8772.0  1708769.0  0.51  2800.0   REGION I  ILOCOS NORTE   \n",
       "3  89550  1.0  4.0  1767.0  1708769.0  0.10  2800.0   REGION I  ILOCOS NORTE   \n",
       "4  89550  1.0  5.0  5068.0  1708769.0  0.29  2800.0   REGION I  ILOCOS NORTE   \n",
       "\n",
       "     region  \n",
       "0  REGION I  \n",
       "1  REGION I  \n",
       "2  REGION I  \n",
       "3  REGION I  \n",
       "4  REGION I  "
      ]
     },
     "execution_count": 6,
     "metadata": {},
     "output_type": "execute_result"
    }
   ],
   "source": [
    "df_results.head(5)"
   ]
  },
  {
   "cell_type": "markdown",
   "metadata": {},
   "source": [
    "### Next, let us examine the obtained dataset with actual election results. \n",
    "\n",
    "By cross checking the results with [Comelec data](https://www.comelec.gov.ph/?r=2019NLE/ListsOfCandidates/CertifiedListofCandidates), we can identify the senators and party names."
   ]
  },
  {
   "cell_type": "markdown",
   "metadata": {},
   "source": [
    "Just to check our data, we can look at an example senator from the dataset. By choosing `cc=1` and `bo=46`, we are actually highlighting Imee Marcos' senatorial candidacy results."
   ]
  },
  {
   "cell_type": "code",
   "execution_count": 7,
   "metadata": {
    "ExecuteTime": {
     "end_time": "2019-05-29T08:45:30.546974Z",
     "start_time": "2019-05-29T08:45:29.340107Z"
    }
   },
   "outputs": [
    {
     "data": {
      "image/png": "[encoded data removed]",
      "text/plain": [
       "<Figure size 720x720 with 1 Axes>"
      ]
     },
     "metadata": {
      "needs_background": "light"
     },
     "output_type": "display_data"
    }
   ],
   "source": [
    "fig, ax = plt.subplots()\n",
    "ax.set_xlabel('Votes')\n",
    "df_marcos = df_results.query('cc == 1 & bo == 46').copy()\n",
    "df_marcos.groupby('region').sum()['v'].sort_values(\n",
    "    ascending=True).plot.barh(figsize=(10, 10),\n",
    "                              title='Contestant: 46 - Imee Marcos',\n",
    "                              color='#BF5209', ax=ax);"
   ]
  },
  {
   "cell_type": "markdown",
   "metadata": {},
   "source": [
    "Additionally, let us check some descriptive statistics for the 2019 Elections dataset. More specifically, let us examine the `v` or `votes` column. The group will be highly dependent on the `votes` data so let us first do some initial statistics and visualizations."
   ]
  },
  {
   "cell_type": "code",
   "execution_count": 8,
   "metadata": {
    "ExecuteTime": {
     "end_time": "2019-05-29T08:51:39.164392Z",
     "start_time": "2019-05-29T08:51:39.035946Z"
    }
   },
   "outputs": [
    {
     "data": {
      "text/html": [
       "<div>\n",
       "<style scoped>\n",
       "    .dataframe tbody tr th:only-of-type {\n",
       "        vertical-align: middle;\n",
       "    }\n",
       "\n",
       "    .dataframe tbody tr th {\n",
       "        vertical-align: top;\n",
       "    }\n",
       "\n",
       "    .dataframe thead th {\n",
       "        text-align: right;\n",
       "    }\n",
       "</style>\n",
       "<table border=\"1\" class=\"dataframe\">\n",
       "  <thead>\n",
       "    <tr style=\"text-align: right;\">\n",
       "      <th></th>\n",
       "      <th></th>\n",
       "      <th>votes</th>\n",
       "    </tr>\n",
       "    <tr>\n",
       "      <th>region</th>\n",
       "      <th>province</th>\n",
       "      <th></th>\n",
       "    </tr>\n",
       "  </thead>\n",
       "  <tbody>\n",
       "    <tr>\n",
       "      <th rowspan=\"5\" valign=\"top\">BARMM</th>\n",
       "      <th>BASILAN</th>\n",
       "      <td>2093067.0</td>\n",
       "    </tr>\n",
       "    <tr>\n",
       "      <th>LANAO DEL SUR</th>\n",
       "      <td>4770462.0</td>\n",
       "    </tr>\n",
       "    <tr>\n",
       "      <th>MAGUINDANAO</th>\n",
       "      <td>5917983.0</td>\n",
       "    </tr>\n",
       "    <tr>\n",
       "      <th>SULU</th>\n",
       "      <td>3529555.0</td>\n",
       "    </tr>\n",
       "    <tr>\n",
       "      <th>TAWI-TAWI</th>\n",
       "      <td>1874486.0</td>\n",
       "    </tr>\n",
       "    <tr>\n",
       "      <th rowspan=\"6\" valign=\"top\">CAR</th>\n",
       "      <th>ABRA</th>\n",
       "      <td>1923481.0</td>\n",
       "    </tr>\n",
       "    <tr>\n",
       "      <th>APAYAO</th>\n",
       "      <td>703002.0</td>\n",
       "    </tr>\n",
       "    <tr>\n",
       "      <th>BENGUET</th>\n",
       "      <td>2426397.0</td>\n",
       "    </tr>\n",
       "    <tr>\n",
       "      <th>IFUGAO</th>\n",
       "      <td>1408688.0</td>\n",
       "    </tr>\n",
       "    <tr>\n",
       "      <th>KALINGA</th>\n",
       "      <td>1621414.0</td>\n",
       "    </tr>\n",
       "    <tr>\n",
       "      <th>MOUNTAIN PROVINCE</th>\n",
       "      <td>1074249.0</td>\n",
       "    </tr>\n",
       "    <tr>\n",
       "      <th rowspan=\"5\" valign=\"top\">NCR</th>\n",
       "      <th>NATIONAL CAPITAL REGION - FOURTH DISTRICT</th>\n",
       "      <td>22896771.0</td>\n",
       "    </tr>\n",
       "    <tr>\n",
       "      <th>NATIONAL CAPITAL REGION - MANILA</th>\n",
       "      <td>13461229.0</td>\n",
       "    </tr>\n",
       "    <tr>\n",
       "      <th>NATIONAL CAPITAL REGION - SECOND DISTRICT</th>\n",
       "      <td>29803007.0</td>\n",
       "    </tr>\n",
       "    <tr>\n",
       "      <th>NATIONAL CAPITAL REGION - THIRD DISTRICT</th>\n",
       "      <td>18481014.0</td>\n",
       "    </tr>\n",
       "    <tr>\n",
       "      <th>TAGUIG - PATEROS</th>\n",
       "      <td>10018306.0</td>\n",
       "    </tr>\n",
       "    <tr>\n",
       "      <th rowspan=\"2\" valign=\"top\">NIR</th>\n",
       "      <th>NEGROS OCCIDENTAL</th>\n",
       "      <td>12453486.0</td>\n",
       "    </tr>\n",
       "    <tr>\n",
       "      <th>NEGROS ORIENTAL</th>\n",
       "      <td>6900077.0</td>\n",
       "    </tr>\n",
       "    <tr>\n",
       "      <th rowspan=\"4\" valign=\"top\">REGION I</th>\n",
       "      <th>ILOCOS NORTE</th>\n",
       "      <td>3614806.0</td>\n",
       "    </tr>\n",
       "    <tr>\n",
       "      <th>ILOCOS SUR</th>\n",
       "      <td>4882048.0</td>\n",
       "    </tr>\n",
       "    <tr>\n",
       "      <th>LA UNION</th>\n",
       "      <td>5764844.0</td>\n",
       "    </tr>\n",
       "    <tr>\n",
       "      <th>PANGASINAN</th>\n",
       "      <td>19803192.0</td>\n",
       "    </tr>\n",
       "    <tr>\n",
       "      <th rowspan=\"5\" valign=\"top\">REGION II</th>\n",
       "      <th>BATANES</th>\n",
       "      <td>118412.0</td>\n",
       "    </tr>\n",
       "    <tr>\n",
       "      <th>CAGAYAN</th>\n",
       "      <td>6890994.0</td>\n",
       "    </tr>\n",
       "    <tr>\n",
       "      <th>ISABELA</th>\n",
       "      <td>9632919.0</td>\n",
       "    </tr>\n",
       "    <tr>\n",
       "      <th>NUEVA VIZCAYA</th>\n",
       "      <td>3200395.0</td>\n",
       "    </tr>\n",
       "    <tr>\n",
       "      <th>QUIRINO</th>\n",
       "      <td>1198929.0</td>\n",
       "    </tr>\n",
       "    <tr>\n",
       "      <th rowspan=\"3\" valign=\"top\">REGION III</th>\n",
       "      <th>AURORA</th>\n",
       "      <td>1493909.0</td>\n",
       "    </tr>\n",
       "    <tr>\n",
       "      <th>BATAAN</th>\n",
       "      <td>6433641.0</td>\n",
       "    </tr>\n",
       "    <tr>\n",
       "      <th>BULACAN</th>\n",
       "      <td>19567555.0</td>\n",
       "    </tr>\n",
       "    <tr>\n",
       "      <th>...</th>\n",
       "      <th>...</th>\n",
       "      <td>...</td>\n",
       "    </tr>\n",
       "    <tr>\n",
       "      <th rowspan=\"2\" valign=\"top\">REGION VI</th>\n",
       "      <th>GUIMARAS</th>\n",
       "      <td>1217864.0</td>\n",
       "    </tr>\n",
       "    <tr>\n",
       "      <th>ILOILO</th>\n",
       "      <td>11118379.0</td>\n",
       "    </tr>\n",
       "    <tr>\n",
       "      <th rowspan=\"3\" valign=\"top\">REGION VII</th>\n",
       "      <th>BOHOL</th>\n",
       "      <td>8977777.0</td>\n",
       "    </tr>\n",
       "    <tr>\n",
       "      <th>CEBU</th>\n",
       "      <td>19919139.0</td>\n",
       "    </tr>\n",
       "    <tr>\n",
       "      <th>SIQUIJOR</th>\n",
       "      <td>694813.0</td>\n",
       "    </tr>\n",
       "    <tr>\n",
       "      <th rowspan=\"6\" valign=\"top\">REGION VIII</th>\n",
       "      <th>BILIRAN</th>\n",
       "      <td>1051266.0</td>\n",
       "    </tr>\n",
       "    <tr>\n",
       "      <th>EASTERN SAMAR</th>\n",
       "      <td>3370187.0</td>\n",
       "    </tr>\n",
       "    <tr>\n",
       "      <th>LEYTE</th>\n",
       "      <td>9366390.0</td>\n",
       "    </tr>\n",
       "    <tr>\n",
       "      <th>NORTHERN SAMAR</th>\n",
       "      <td>3733282.0</td>\n",
       "    </tr>\n",
       "    <tr>\n",
       "      <th>SAMAR (WESTERN SAMAR)</th>\n",
       "      <td>5954800.0</td>\n",
       "    </tr>\n",
       "    <tr>\n",
       "      <th>SOUTHERN LEYTE</th>\n",
       "      <td>2558108.0</td>\n",
       "    </tr>\n",
       "    <tr>\n",
       "      <th rowspan=\"5\" valign=\"top\">REGION X</th>\n",
       "      <th>BUKIDNON</th>\n",
       "      <td>7415656.0</td>\n",
       "    </tr>\n",
       "    <tr>\n",
       "      <th>CAMIGUIN</th>\n",
       "      <td>768370.0</td>\n",
       "    </tr>\n",
       "    <tr>\n",
       "      <th>LANAO DEL NORTE</th>\n",
       "      <td>3584638.0</td>\n",
       "    </tr>\n",
       "    <tr>\n",
       "      <th>MISAMIS OCCIDENTAL</th>\n",
       "      <td>4391884.0</td>\n",
       "    </tr>\n",
       "    <tr>\n",
       "      <th>MISAMIS ORIENTAL</th>\n",
       "      <td>6488743.0</td>\n",
       "    </tr>\n",
       "    <tr>\n",
       "      <th rowspan=\"5\" valign=\"top\">REGION XI</th>\n",
       "      <th>COMPOSTELA VALLEY</th>\n",
       "      <td>4281424.0</td>\n",
       "    </tr>\n",
       "    <tr>\n",
       "      <th>DAVAO (DAVAO DEL NORTE)</th>\n",
       "      <td>7056455.0</td>\n",
       "    </tr>\n",
       "    <tr>\n",
       "      <th>DAVAO DEL SUR</th>\n",
       "      <td>4457484.0</td>\n",
       "    </tr>\n",
       "    <tr>\n",
       "      <th>DAVAO OCCIDENTAL</th>\n",
       "      <td>1378314.0</td>\n",
       "    </tr>\n",
       "    <tr>\n",
       "      <th>DAVAO ORIENTAL</th>\n",
       "      <td>3200605.0</td>\n",
       "    </tr>\n",
       "    <tr>\n",
       "      <th rowspan=\"4\" valign=\"top\">REGION XII</th>\n",
       "      <th>COTABATO (NORTH COT.)</th>\n",
       "      <td>7659458.0</td>\n",
       "    </tr>\n",
       "    <tr>\n",
       "      <th>SARANGANI</th>\n",
       "      <td>2990485.0</td>\n",
       "    </tr>\n",
       "    <tr>\n",
       "      <th>SOUTH COTABATO</th>\n",
       "      <td>9090438.0</td>\n",
       "    </tr>\n",
       "    <tr>\n",
       "      <th>SULTAN KUDARAT</th>\n",
       "      <td>4037874.0</td>\n",
       "    </tr>\n",
       "    <tr>\n",
       "      <th rowspan=\"5\" valign=\"top\">REGION XIII</th>\n",
       "      <th>AGUSAN DEL NORTE</th>\n",
       "      <td>4670054.0</td>\n",
       "    </tr>\n",
       "    <tr>\n",
       "      <th>AGUSAN DEL SUR</th>\n",
       "      <td>4155305.0</td>\n",
       "    </tr>\n",
       "    <tr>\n",
       "      <th>DINAGAT ISLANDS</th>\n",
       "      <td>735236.0</td>\n",
       "    </tr>\n",
       "    <tr>\n",
       "      <th>SURIGAO DEL NORTE</th>\n",
       "      <td>3979284.0</td>\n",
       "    </tr>\n",
       "    <tr>\n",
       "      <th>SURIGAO DEL SUR</th>\n",
       "      <td>4116338.0</td>\n",
       "    </tr>\n",
       "  </tbody>\n",
       "</table>\n",
       "<p>86 rows × 1 columns</p>\n",
       "</div>"
      ],
      "text/plain": [
       "                                                            votes\n",
       "region      province                                             \n",
       "BARMM       BASILAN                                     2093067.0\n",
       "            LANAO DEL SUR                               4770462.0\n",
       "            MAGUINDANAO                                 5917983.0\n",
       "            SULU                                        3529555.0\n",
       "            TAWI-TAWI                                   1874486.0\n",
       "CAR         ABRA                                        1923481.0\n",
       "            APAYAO                                       703002.0\n",
       "            BENGUET                                     2426397.0\n",
       "            IFUGAO                                      1408688.0\n",
       "            KALINGA                                     1621414.0\n",
       "            MOUNTAIN PROVINCE                           1074249.0\n",
       "NCR         NATIONAL CAPITAL REGION - FOURTH DISTRICT  22896771.0\n",
       "            NATIONAL CAPITAL REGION - MANILA           13461229.0\n",
       "            NATIONAL CAPITAL REGION - SECOND DISTRICT  29803007.0\n",
       "            NATIONAL CAPITAL REGION - THIRD DISTRICT   18481014.0\n",
       "            TAGUIG - PATEROS                           10018306.0\n",
       "NIR         NEGROS OCCIDENTAL                          12453486.0\n",
       "            NEGROS ORIENTAL                             6900077.0\n",
       "REGION I    ILOCOS NORTE                                3614806.0\n",
       "            ILOCOS SUR                                  4882048.0\n",
       "            LA UNION                                    5764844.0\n",
       "            PANGASINAN                                 19803192.0\n",
       "REGION II   BATANES                                      118412.0\n",
       "            CAGAYAN                                     6890994.0\n",
       "            ISABELA                                     9632919.0\n",
       "            NUEVA VIZCAYA                               3200395.0\n",
       "            QUIRINO                                     1198929.0\n",
       "REGION III  AURORA                                      1493909.0\n",
       "            BATAAN                                      6433641.0\n",
       "            BULACAN                                    19567555.0\n",
       "...                                                           ...\n",
       "REGION VI   GUIMARAS                                    1217864.0\n",
       "            ILOILO                                     11118379.0\n",
       "REGION VII  BOHOL                                       8977777.0\n",
       "            CEBU                                       19919139.0\n",
       "            SIQUIJOR                                     694813.0\n",
       "REGION VIII BILIRAN                                     1051266.0\n",
       "            EASTERN SAMAR                               3370187.0\n",
       "            LEYTE                                       9366390.0\n",
       "            NORTHERN SAMAR                              3733282.0\n",
       "            SAMAR (WESTERN SAMAR)                       5954800.0\n",
       "            SOUTHERN LEYTE                              2558108.0\n",
       "REGION X    BUKIDNON                                    7415656.0\n",
       "            CAMIGUIN                                     768370.0\n",
       "            LANAO DEL NORTE                             3584638.0\n",
       "            MISAMIS OCCIDENTAL                          4391884.0\n",
       "            MISAMIS ORIENTAL                            6488743.0\n",
       "REGION XI   COMPOSTELA VALLEY                           4281424.0\n",
       "            DAVAO (DAVAO DEL NORTE)                     7056455.0\n",
       "            DAVAO DEL SUR                               4457484.0\n",
       "            DAVAO OCCIDENTAL                            1378314.0\n",
       "            DAVAO ORIENTAL                              3200605.0\n",
       "REGION XII  COTABATO (NORTH COT.)                       7659458.0\n",
       "            SARANGANI                                   2990485.0\n",
       "            SOUTH COTABATO                              9090438.0\n",
       "            SULTAN KUDARAT                              4037874.0\n",
       "REGION XIII AGUSAN DEL NORTE                            4670054.0\n",
       "            AGUSAN DEL SUR                              4155305.0\n",
       "            DINAGAT ISLANDS                              735236.0\n",
       "            SURIGAO DEL NORTE                           3979284.0\n",
       "            SURIGAO DEL SUR                             4116338.0\n",
       "\n",
       "[86 rows x 1 columns]"
      ]
     },
     "execution_count": 8,
     "metadata": {},
     "output_type": "execute_result"
    }
   ],
   "source": [
    "df_test = df_results.groupby(['region', 'province'])['v'].sum().to_frame()\n",
    "df_test = df_test.rename(columns={'v': 'votes'})\n",
    "df_test"
   ]
  },
  {
   "cell_type": "code",
   "execution_count": 9,
   "metadata": {
    "ExecuteTime": {
     "end_time": "2019-05-29T08:50:44.921931Z",
     "start_time": "2019-05-29T08:50:44.213410Z"
    }
   },
   "outputs": [
    {
     "data": {
      "image/png": "[encoded data removed]",
      "text/plain": [
       "<Figure size 432x288 with 1 Axes>"
      ]
     },
     "metadata": {
      "needs_background": "light"
     },
     "output_type": "display_data"
    }
   ],
   "source": [
    "fig, ax = plt.subplots()\n",
    "ax.set_xlabel('Votes')\n",
    "df_test.loc['REGION III',\"votes\"].plot.barh(color='#BF5209', ax=ax);"
   ]
  },
  {
   "cell_type": "code",
   "execution_count": 10,
   "metadata": {
    "ExecuteTime": {
     "end_time": "2019-05-28T18:56:41.134046Z",
     "start_time": "2019-05-28T18:56:40.466508Z"
    }
   },
   "outputs": [
    {
     "data": {
      "image/png": "[encoded data removed]",
      "text/plain": [
       "<Figure size 432x288 with 1 Axes>"
      ]
     },
     "metadata": {
      "needs_background": "light"
     },
     "output_type": "display_data"
    }
   ],
   "source": [
    "fig, ax = plt.subplots()\n",
    "ax.set_xlabel('Votes')\n",
    "df_test.loc['NCR',\"votes\"].plot.barh(color='#BF5209', ax=ax);"
   ]
  },
  {
   "cell_type": "code",
   "execution_count": 11,
   "metadata": {
    "ExecuteTime": {
     "end_time": "2019-05-29T08:52:09.540561Z",
     "start_time": "2019-05-29T08:52:08.874310Z"
    }
   },
   "outputs": [
    {
     "data": {
      "image/png": "[encoded data removed]",
      "text/plain": [
       "<Figure size 432x288 with 1 Axes>"
      ]
     },
     "metadata": {
      "needs_background": "light"
     },
     "output_type": "display_data"
    }
   ],
   "source": [
    "fig, ax = plt.subplots()\n",
    "ax.set_xlabel('Votes')\n",
    "df_test.loc['REGION IV-A',\"votes\"].plot.barh(color='#BF5209', ax=ax);"
   ]
  },
  {
   "cell_type": "code",
   "execution_count": 12,
   "metadata": {
    "ExecuteTime": {
     "end_time": "2019-05-29T08:51:04.548826Z",
     "start_time": "2019-05-29T08:51:03.810945Z"
    }
   },
   "outputs": [
    {
     "data": {
      "image/png": "[encoded data removed]",
      "text/plain": [
       "<Figure size 432x288 with 1 Axes>"
      ]
     },
     "metadata": {
      "needs_background": "light"
     },
     "output_type": "display_data"
    }
   ],
   "source": [
    "fig, ax = plt.subplots()\n",
    "ax.set_xlabel('Votes')\n",
    "df_test.loc['REGION VII',\"votes\"].plot.barh(color='#BF5209', ax=ax);\n"
   ]
  },
  {
   "cell_type": "markdown",
   "metadata": {},
   "source": [
    "To match the contestant ID to the contestant name, the `contest` files were also downloaded from the [Commission of Elections' 2019 National and Local Elections website](https://2019electionresults.comelec.gov.ph/#/dashboard) and stored in the local repository. Similar to the `results` directory, the `contest` directory contained json files for each contest type/position. Upon inspection of a sample file within the directory, the following values were obtained:\n",
    "\n",
    "\n",
    "The pertinent keys from each json files were:\n",
    "   \n",
    "| Parameter | Description               |\n",
    "|-----------|---------------------------|\n",
    "|   cc      | Contest code              |\n",
    "|   cn      | Contest code name - location |\n",
    "|   ccc     | Contest code name         |\n",
    "|   type    | Contest type              |\n",
    "|   bos     | list of candidate parameters|\n",
    "\n",
    "Under the `bos` key, we can extract each of the candidates' parameters. The more useful ones for the group's study include:\n",
    "\n",
    "| Parameter | Description               |\n",
    "|-----------|---------------------------|\n",
    "|   boc     | Contestant ID             |\n",
    "|   bon     | Contestant Name           |\n",
    "|   pn      | Party Name                |\n",
    "\n",
    "</font>"
   ]
  },
  {
   "cell_type": "markdown",
   "metadata": {},
   "source": [
    "### <font color=\"BF5209\"> Step 2: Extract and collect the 2019 Elections (Contestant) data"
   ]
  },
  {
   "cell_type": "markdown",
   "metadata": {},
   "source": [
    "The group also created utility functions for easier retrieval of the contestant datasets. This is to ensure each dataset is ready for aggregation. \n",
    "\n",
    "Similar to the `get_province_coc`, the `get_contestant_attrib` method unpacks each key and value from the `{contest_number}.json` dictionary into a cleaned up dataframe. The method converts the `bos` directory into an additional list, which will also be appended into the resulting dataframe. \n",
    "\n",
    "There are two (2) major political coalitions fighting for the senate seats:</font>\n",
    "* **<font color = 'red'>Hugpong ng Pagbabago (HNP)</font>**\n",
    "* **<span style=\"background-color: #FFFF00\">Otso Diretso</span>**\n",
    "\n",
    "Similar to the `get_all_province_coc`, the `get_contestants_attrib` method is a walker that goes through each of the `contest` directory. The method will first append all `{contest_numer}.json` files into a singular dataframe. Next, the method creates a new column that identifies who among the senatorial candidates are part of the **Hugpong ng Pagbabago (HNP)** or **Otso Diretso campaign**."
   ]
  },
  {
   "cell_type": "code",
   "execution_count": 13,
   "metadata": {
    "ExecuteTime": {
     "end_time": "2019-05-29T08:55:29.639076Z",
     "start_time": "2019-05-29T08:55:29.471507Z"
    }
   },
   "outputs": [],
   "source": [
    "def get_contestant_attrib(filepath):\n",
    "    \"\"\"\n",
    "    Returns the contestant json file into a dataframe\n",
    "\n",
    "    Parameters\n",
    "    ----------\n",
    "    filepath   : string\n",
    "\n",
    "    Returns\n",
    "    ----------\n",
    "    df         : pd.DataFrame of contestnat attributes\n",
    "\n",
    "    \"\"\"\n",
    "\n",
    "    contestants_values = []\n",
    "    with open(filepath, 'r') as file:\n",
    "        data = json.load(file)\n",
    "        attrib_keys = [key for key in list(data.keys())\n",
    "                       if isinstance(key, (str, float, int))]\n",
    "        attrib_values = [value for value in list(data.values())\n",
    "                         if isinstance(value, (str, float, int))]\n",
    "        contest_values = [list(contest.values()) for contest in data['bos']]\n",
    "        df = pd.DataFrame(contest_values,\n",
    "                          columns=list(data['bos'][0].keys()))\n",
    "        for k, v in zip(attrib_keys, attrib_values):\n",
    "            df[k] = v\n",
    "    return df\n",
    "\n",
    "\n",
    "def get_contestants_attrib(filepath):\n",
    "    \"\"\"\n",
    "    Returns ALL contestant json files into a dataframe\n",
    "\n",
    "    Parameters\n",
    "    ----------\n",
    "    filepath   : string\n",
    "\n",
    "    Returns\n",
    "    ----------\n",
    "    df         : pd.DataFrame of contestant attributes\n",
    "\n",
    "    \"\"\"\n",
    "    df = pd.DataFrame()\n",
    "    for each_filepath in glob.glob(filepath):\n",
    "        df = df.append(get_contestant_attrib(each_filepath))\n",
    "    senators = df[df.cc == 1].copy()\n",
    "    senators['bon'] = senators['bon'].str.extract(pat='(.*?) \\(')\n",
    "    party = df[df.cc == 5567].copy()\n",
    "    df = senators.append(party)\n",
    "    df.drop_duplicates(inplace=True)\n",
    "    df.rename(columns={'boc': 'bo'}, inplace=True)\n",
    "    otso = ['AQUINO, BENIGNO BAM ', 'DIOKNO, CHEL', 'HILBAY, PILO',\n",
    "            'MACALINTAL, MACAROMY', 'GUTOC, SAMIRA', 'ALEJANO, GARY',\n",
    "            'ROXAS, MAR', 'TAÑADA,LORENZO ERIN TAPAT']\n",
    "    hnp = ['ANGARA, EDGARDO SONNY', 'BONG REVILLA, RAMON JR', 'CAYETANO, PIA',\n",
    "           'DELA ROSA, BATO', 'EJERCITO, ESTRADA JV', 'ESTRADA, JINGGOY',\n",
    "           'GO, BONG GO', 'MANGUDADATU, DONG', 'MANICAD, JIGGY',\n",
    "           'MARCOS, IMEE', 'PIMENTEL, KOKO', 'TOLENTINO, FRANCIS', \n",
    "           'VILLAR, CYNTHIA']\n",
    "    for o in otso:\n",
    "        df.loc[df.bon == o, 'coalition'] = \"Otso Diretso\"\n",
    "    for h in hnp:\n",
    "        df.loc[df.bon == h, 'coalition'] = \"HNP\"\n",
    "    df['coalition'] = df['coalition'].fillna('None')\n",
    "    return df"
   ]
  },
  {
   "cell_type": "markdown",
   "metadata": {},
   "source": [
    "Let us run the `get_contestants_attrib`. This will be used later in the blog for our further analysis."
   ]
  },
  {
   "cell_type": "code",
   "execution_count": null,
   "metadata": {
    "ExecuteTime": {
     "end_time": "2019-05-29T08:59:37.739314Z",
     "start_time": "2019-05-29T08:55:34.631503Z"
    }
   },
   "outputs": [],
   "source": [
    "contestant_filepaths = '/mnt/data/public/elections/nle2019/contests/*'\n",
    "df_contestants = get_contestants_attrib(contestant_filepaths)\n",
    "df_contestants.head()"
   ]
  },
  {
   "cell_type": "markdown",
   "metadata": {},
   "source": [
    "We now have two dataframes: `df_results` containing the 2019 election results, and `df_contestants` containing the contestant information. These two dataframes can now be merged into a single dataframe. Let us also drop certain columns which we have deemed as unimportant."
   ]
  },
  {
   "cell_type": "code",
   "execution_count": null,
   "metadata": {
    "ExecuteTime": {
     "end_time": "2019-05-29T09:06:55.180529Z",
     "start_time": "2019-05-29T09:06:53.642480Z"
    }
   },
   "outputs": [],
   "source": [
    "def merge_comelec(results, contestants):\n",
    "    \"\"\"\n",
    "    Merge results dataframe with contestants dataframe\n",
    "\n",
    "    Parameters\n",
    "    ----------\n",
    "    results    : pd.DataFrame\n",
    "    contestants: pd.DataFrame\n",
    "\n",
    "\n",
    "    Returns\n",
    "    ----------\n",
    "    df         : pd.DataFrame of contestant attributes\n",
    "\n",
    "    \"\"\"\n",
    "\n",
    "    df = pd.merge(results, contestants, on=['bo', 'cc'], how='left')\n",
    "    df = df.drop(['vbc', 'boi', 'to', 'pc', 'pcc', 'pcy', 'pcm',\n",
    "                  'pck', 'ccc', 'pre', 'ser', 'cn'], axis=1)\n",
    "    df.columns = ['position', 'candidate_id', 'votes_per_province',\n",
    "                  'total_votes', 'votes_in_pct', 'region_raw', 'province',\n",
    "                  'region', 'candidate_name', 'party_name',\n",
    "                  'contest_position', 'contest_type', 'coalition']\n",
    "    return df"
   ]
  },
  {
   "cell_type": "code",
   "execution_count": null,
   "metadata": {
    "ExecuteTime": {
     "end_time": "2019-05-29T09:06:56.103972Z",
     "start_time": "2019-05-29T09:06:56.011352Z"
    }
   },
   "outputs": [],
   "source": [
    "nle2019 = merge_comelec(df_results, df_contestants)\n",
    "nle2019.region.unique()"
   ]
  },
  {
   "cell_type": "markdown",
   "metadata": {},
   "source": [
    "### <font color=\"BF5209\"> Step 3: Load `Geopandas` for geospatial processing </font>\n",
    "\n",
    "The Philippines is composed of **seventeen (17) administrative regions**. We can use the `geopandas` module to manage and pre-process geospatial data.\n",
    "\n",
    "Let us first load up a geopandas graph of the Philippines."
   ]
  },
  {
   "cell_type": "code",
   "execution_count": null,
   "metadata": {
    "ExecuteTime": {
     "end_time": "2019-05-29T09:43:00.163530Z",
     "start_time": "2019-05-29T09:42:59.336359Z"
    }
   },
   "outputs": [],
   "source": [
    "fig, ax = plt.subplots(1, figsize=(10, 15), frameon=True)\n",
    "\n",
    "ph0 = gpd.GeoDataFrame.from_file(\"ph_regions.shp\")\n",
    "ph0.plot(ax=ax, cmap='Greens', edgecolor='#555555', k=18)\n",
    "ax.set_title('Regions of the Philippines')\n",
    "ax.spines['top'].set_visible(False)\n",
    "ax.spines['right'].set_visible(False)\n",
    "ax.spines['bottom'].set_visible(False)\n",
    "ax.spines['left'].set_visible(False)\n",
    "\n",
    "for ind, row in ph0.iterrows():\n",
    "    ax.text(row[\"geometry\"].centroid.x, row[\"geometry\"].centroid.y,\n",
    "            row[\"region\"])"
   ]
  },
  {
   "cell_type": "markdown",
   "metadata": {},
   "source": [
    "## <font color=\"BF5209\"> B. National Senatorial Results</font>"
   ]
  },
  {
   "cell_type": "markdown",
   "metadata": {},
   "source": [
    "### Let us look at the senatorial candidates. Let us total up the votes by candidate and see the top 12 winners."
   ]
  },
  {
   "cell_type": "code",
   "execution_count": null,
   "metadata": {
    "ExecuteTime": {
     "end_time": "2019-05-29T09:17:10.841923Z",
     "start_time": "2019-05-29T09:17:10.766272Z"
    }
   },
   "outputs": [],
   "source": [
    "df_senators = nle2019[nle2019['contest_position'] == 'SENATOR']\n",
    "df_senator = df_senators.groupby(['candidate_name']).agg(\n",
    "    {'votes_per_province': sum}).reset_index()\n",
    "df_senator.sort_values('votes_per_province', ascending=False, inplace=True)\n",
    "df_senator.columns = ['Candidate', 'Votes']\n",
    "df_senator.head(12)"
   ]
  },
  {
   "cell_type": "code",
   "execution_count": null,
   "metadata": {
    "ExecuteTime": {
     "end_time": "2019-05-29T09:22:27.639292Z",
     "start_time": "2019-05-29T09:22:26.731410Z"
    }
   },
   "outputs": [],
   "source": [
    "fig, ax = plt.subplots(figsize=(15,8))\n",
    "plt.rcParams.update({'font.size': 14})\n",
    "df_senator.set_index('Candidate').head(12).sort_values(\n",
    "    by='Votes', ascending=True).plot.barh(ax=ax,\n",
    "    title='Top 12 Candidates, in Millions', color='#BF5209', legend=False);\n",
    "ax.set_xlabel('Total Votes');"
   ]
  },
  {
   "cell_type": "markdown",
   "metadata": {},
   "source": [
    "## <font color=\"BF5209\"> C. Top Senator Per Region\n",
    "\n",
    "\n",
    "We want to find out won across all the regions. If there is any bias for cetain candidates.\n",
    "Based on our findings, we can see that candidate Cynthia Villar won majority of the regions. \n",
    "\n",
    "It is interesting to note that the top ranking senator for Ilocos Region (Region I) and the Cordillera Administrative Region (CAR) is **Imee Marcos**, which hails from that region. This confirms that there is a \"Solid North\", and that support for the Marcoses still exists in that area.\n",
    "\n",
    "For the Mindanao regions, the top candidate is **Bong Go**, former special assistant to President Duterte, who is from Mindanao.\n",
    "\n",
    "These show that Philippine politics is **very regional in nature**. Voters will naturally support their hometown candidate, regardless of the issues surrounding that candidate. \n"
   ]
  },
  {
   "cell_type": "code",
   "execution_count": null,
   "metadata": {
    "ExecuteTime": {
     "end_time": "2019-05-29T09:23:24.240524Z",
     "start_time": "2019-05-29T09:23:24.122744Z"
    }
   },
   "outputs": [],
   "source": [
    "df_senator_region = df_senators.groupby(\n",
    "    ['region', 'candidate_name']).agg({'votes_per_province': sum})\n",
    "df_senator_region['rank'] = df_senator_region.groupby(\n",
    "    'region')['votes_per_province'].rank('dense', ascending=False)\n",
    "df_senator_region = df_senator_region[df_senator_region['rank'] == 1].reset_index()\n",
    "df_senator_region.columns = ['Region', 'Candidate Name', 'Votes', 'Rank']\n",
    "df_senator_region"
   ]
  },
  {
   "cell_type": "code",
   "execution_count": null,
   "metadata": {
    "ExecuteTime": {
     "end_time": "2019-05-29T09:25:40.029508Z",
     "start_time": "2019-05-29T09:25:39.936377Z"
    }
   },
   "outputs": [],
   "source": [
    "(df_senator_region[df_senator_region['Rank'] == 1].reset_index().groupby(\n",
    "    'Candidate Name')['Rank'].sum().to_frame().sort_values(by='Rank')\n",
    " .reset_index())"
   ]
  },
  {
   "cell_type": "code",
   "execution_count": null,
   "metadata": {
    "ExecuteTime": {
     "end_time": "2019-05-29T09:25:23.427780Z",
     "start_time": "2019-05-29T09:25:22.763714Z"
    }
   },
   "outputs": [],
   "source": [
    "fig, ax = plt.subplots()\n",
    "(df_senator_region[df_senator_region['Rank'] == 1].reset_index().groupby(\n",
    "    'Candidate Name')['Rank'].sum().to_frame().sort_values(by='Rank').plot\n",
    " .barh(color='#BF5209', ax=ax));\n",
    "ax.set_xlabel('Rank');\n"
   ]
  },
  {
   "cell_type": "markdown",
   "metadata": {},
   "source": [
    "## <font color=\"BF5209\"> D. Dominant Party per Region"
   ]
  },
  {
   "cell_type": "markdown",
   "metadata": {},
   "source": [
    "There are three main political parties vying for the senatorial seats:\n",
    "1. **<span style=\"background-color: #FFFF00\">LIBERAL PARTY</span>**\n",
    "2. **<font color='green'>NACIONALISTA PARTY</font>**\n",
    "3. **<font color='red'>PARTIDO DEMOKRATIKO PILIPINO LAKAS NG BAYAN (PDP-LABAN)</font>**\n",
    "\n",
    "We looked at the <font color=\"BF5209\">dominant or majority political party</font> per administrative region, and identify if any regions have any affiliations to a certain party."
   ]
  },
  {
   "cell_type": "code",
   "execution_count": null,
   "metadata": {
    "ExecuteTime": {
     "end_time": "2019-05-29T09:30:32.115456Z",
     "start_time": "2019-05-29T09:30:32.053979Z"
    }
   },
   "outputs": [],
   "source": [
    "df_party = df_senators.groupby(['region_raw', 'party_name']).agg({\n",
    "    'votes_per_province': sum})\n",
    "df_party['rank'] = df_party.groupby(\n",
    "    'region_raw')['votes_per_province'].rank('dense', ascending=False)\n",
    "df_party.reset_index(inplace=True)\n",
    "df_leading_party = df_party[df_party['rank'] == 1].copy()\n",
    "df_leading_party.columns = ['Region', 'Party', 'Votes', 'Rank']\n",
    "df_leading_party.sort_values(['Region', 'Rank'], inplace=True)\n",
    "df_leading_party"
   ]
  },
  {
   "cell_type": "markdown",
   "metadata": {},
   "source": [
    "We can clearly see a voting bias of each region.\n",
    "\n",
    "Majority of Region 1 and Region 2 has a voting preference towards the **<font color='green'>NACIONALISTA PARTY</font>**. This can be attributed to the fact that Imee Marcos, who hails from Ilocos Norte, is a Nacionalista.\n",
    "\n",
    "Majority of Region 5 and Region 6 has a voting preference towards the **<span style=\"background-color: #FFFF00\">LIBERAL PARTY</span>**. This is also expected since Leni Robredo, incumbent Vice President who is from the Liberal Party, is a Bicolano. \n",
    "\n",
    "The remainder of the Philippines has a voting preference towards the **<font color='red'>PDP-LABAN</font>**."
   ]
  },
  {
   "cell_type": "code",
   "execution_count": null,
   "metadata": {
    "ExecuteTime": {
     "end_time": "2019-05-29T09:43:14.111487Z",
     "start_time": "2019-05-29T09:43:14.074821Z"
    }
   },
   "outputs": [],
   "source": [
    "merged = ph0.merge(df_leading_party, left_on='region', right_on='Region')\n",
    "colors = 18\n",
    "color_map = {'PARTIDO DEMOKRATIKO PILIPINO LAKAS NG BAYAN': 'red', \n",
    "             'LIBERAL PARTY': 'yellow',\n",
    "             'NACIONALISTA PARTY': 'green'}\n",
    "\n",
    "fig, ax = plt.subplots(1, 1, figsize = (10,12));\n",
    "ax.set_title('Dominant political party per region', fontsize=20);\n",
    "\n",
    "for party in list(merged['Party'].unique()):\n",
    "    color_map[party]\n",
    "    merged[merged['Party'] == party].plot(ax=ax, color = color_map[party], \n",
    "                                          categorical = True, \n",
    "                                          figsize=(10,12), legend=True)\n",
    "\n",
    "merged.geometry.boundary.plot(color=None,edgecolor='k',linewidth = .5,ax=ax);\n",
    "plt.rcParams.update({'font.size': 18})"
   ]
  },
  {
   "cell_type": "markdown",
   "metadata": {},
   "source": [
    "## <font color=\"BF5209\"> E. Dominant Coalition Per Region"
   ]
  },
  {
   "cell_type": "markdown",
   "metadata": {},
   "source": [
    "Aside from individual candidates and parties, we also looked at the **dominant coalition per region** by counting the number of senate seats obtained by each coalition. The results indicate that HNP gained a majority of the seats across all regions, especially in Mindanao. \n",
    "\n",
    "The only regions where HNP did not gain a solid majority are in Bicol Region (Region V) and Eastern Visayas (Region VI), known bailwicks of the Liberal Party."
   ]
  },
  {
   "cell_type": "code",
   "execution_count": null,
   "metadata": {
    "ExecuteTime": {
     "end_time": "2019-05-29T09:50:49.806815Z",
     "start_time": "2019-05-29T09:50:49.584123Z"
    }
   },
   "outputs": [],
   "source": [
    "def get_coalition_seats():\n",
    "    \"\"\"\n",
    "    Returns a dataframe of the number of seats won per coalition per region\n",
    "\n",
    "    Returns\n",
    "    -------\n",
    "    coalition : pd.DataFrame\n",
    "\n",
    "    \"\"\"\n",
    "    coalition_seats = nle2019.query('position == 1')\n",
    "\n",
    "    coalition_seats = coalition_seats.groupby(\n",
    "        ['region', 'candidate_name', 'coalition'],\n",
    "        as_index=False).agg({'votes_per_province': sum})\n",
    "    coalition_seats = coalition_seats.sort_values(\n",
    "        by=['region', 'votes_per_province'], ascending=[1, 0])\n",
    "    coalition_seats.set_index('region', inplace=True)\n",
    "\n",
    "    coalition_seats['rank'] = list(range(1, len(\n",
    "        coalition_seats.candidate_name.unique())+1))\\\n",
    "        * len(coalition_seats.index.unique())\n",
    "    coalition_seats['is_top_12'] = 1*(coalition_seats['rank'] <= 12)\n",
    "    coalition_seats = coalition_seats.reset_index()\n",
    "    coalition_seats = pd.pivot_table(\n",
    "        coalition_seats, index='region', columns='coalition',\n",
    "        values='is_top_12', aggfunc=np.sum)\n",
    "    coalition_seats['coalition_seats_total'] = coalition_seats.sum(axis=1)\n",
    "\n",
    "    for coalition in coalition_seats.columns[:-1]:\n",
    "        coalition_seats['party_seats_pct_' + coalition] = \\\n",
    "            coalition_seats[coalition] / \\\n",
    "            coalition_seats['coalition_seats_total']\n",
    "        coalition_seats.rename(\n",
    "            columns={coalition: 'coalition_seats_count_' + coalition},\n",
    "            inplace=True)\n",
    "\n",
    "    coalition_seats = coalition_seats.round(5)\n",
    "    coalition_seats = coalition_seats.reset_index()\n",
    "    return coalition_seats\n",
    "\n",
    "\n",
    "coalition = get_coalition_seats()\n",
    "merged = ph0.merge(coalition[[\n",
    "                   'region', 'coalition_seats_count_HNP']], left_on='region',\n",
    "                   right_on='region')\n",
    "\n",
    "fig, ax = plt.subplots(1, 1, figsize=(10, 15))\n",
    "merged.plot('coalition_seats_count_HNP', ax=ax, cmap='YlOrRd', legend=True)\n",
    "ax.set_title('Number of HNP senate seats won', fontsize=24)\n",
    "merged.geometry.boundary.plot(color=None, edgecolor='k', linewidth=1, ax=ax)"
   ]
  },
  {
   "cell_type": "markdown",
   "metadata": {},
   "source": [
    "## <font color=\"BF5209\"> F. Is Demographics Related To Voting Preference?"
   ]
  },
  {
   "cell_type": "markdown",
   "metadata": {},
   "source": [
    "Is the voting preference of a region related to its demographics such as literacy rate and religious affiliation? To answer this, we obtained the `2015 Census Data`. The directory is a collection of excel files, where each excel file corresponds to a certain region and province. If we explore each file, we can see that each sheet corresponds to a different demographic feature table. For this analysis, we are intrested at sheets `T8` and `T11`.\n",
    "\n",
    "The `get_census_religion` loads the imporant columns and rows from sheet `T8`. It also adds an additional column based on the region. Similarly, the `get_census_education` loads the imporant columns and rows from sheet `T11`. It also aggregates each individual years experience column into a singular cumulative column.\n",
    "\n",
    "Finally, the `read_census_files` aggregates the 2016 regional data into singular dataframe by using `get_census_religion` and `get_census_education` functions. To extract only the regional files, the `read_census_files` uses regex to get filenames with only underscores in the beginning (this is an indicator of regional data)."
   ]
  },
  {
   "cell_type": "code",
   "execution_count": null,
   "metadata": {},
   "outputs": [],
   "source": [
    "def get_census_religion(path):\n",
    "    \"\"\"\n",
    "    Returns a consolidated DataFrame of census data by religion\n",
    "\n",
    "    Parameters\n",
    "    ----------\n",
    "    path      : string, filepath to census directory\n",
    "\n",
    "\n",
    "    Returns\n",
    "    ----------\n",
    "    df        : pd.DataFrame\n",
    "\n",
    "    \"\"\"\n",
    "    filename = os.path.basename(path)\n",
    "    df = pd.read_excel(path, sheet_name='T8', header=None,\n",
    "                       usecols=[0, 1, 2, 3],\n",
    "                       skiprows=6, skip_blank_lines=True,\n",
    "                       skipfooter=3,\n",
    "                       names=['religion', 'total', 'm', 'f'])\n",
    "    df.sort_values('total', ascending=False, inplace=True)\n",
    "    df['region'] = re.search(r'\\_(.*?)\\_', os.path.basename(path)).group(1)\n",
    "    cols = ['region', 'religion', 'm', 'f', 'total']\n",
    "    df = df[cols]\n",
    "    return df\n",
    "\n",
    "\n",
    "def get_census_education(path):\n",
    "    \"\"\"\n",
    "    Returns a consolidated DataFrame of census data by education\n",
    "\n",
    "    Parameters\n",
    "    ----------\n",
    "    path      : string, filepath to census directory\n",
    "\n",
    "\n",
    "    Returns\n",
    "    ----------\n",
    "    df        : pd.DataFrame\n",
    "\n",
    "    \"\"\"\n",
    "    filename = os.path.basename(path)\n",
    "    df = pd.read_excel(path, sheet_name='T11',\n",
    "                       usecols=[0, 15, 16, 17, 18, 19, 20],\n",
    "                       skiprows=3,\n",
    "                       skip_blank_lines=True, nrows=20,\n",
    "                       names=['education', '18', '19',\n",
    "                              '20_24', '25_29', '30_34', '35_above'])\n",
    "    df.dropna(how='any', inplace=True)\n",
    "    df.reset_index(inplace=True, drop=True)\n",
    "    df.drop(df.index[[0, 5, 6, 7, 9, 10, 12, 13]], inplace=True)\n",
    "    df['total'] = (df['18'] + df['19'] + df['20_24'] + df['25_29'] +\n",
    "                   df['30_34'] + df['35_above'])\n",
    "    df['region'] = re.search(r'\\_(.*?)\\_', os.path.basename(path)).group(1)\n",
    "    cols = ['region', 'education', '18', '19', '20_24', '25_29', '30_34',\n",
    "            '35_above', 'total']\n",
    "    df = df[cols]\n",
    "    return df\n",
    "\n",
    "\n",
    "def read_census_files(path):\n",
    "    '''\n",
    "    Reads all census regional files\n",
    "\n",
    "    Parameter\n",
    "    ---------\n",
    "    path      : string, filepath to census directory\n",
    "\n",
    "    Returns\n",
    "    -------\n",
    "    Dictionary of dataframes\n",
    "    '''\n",
    "    total = {'religion': pd.DataFrame(),\n",
    "             'education': pd.DataFrame()}\n",
    "\n",
    "    for filepath in glob.glob(path + \".xls\", recursive=True):\n",
    "        if re.match('_(?!PHILIPPINES)', os.path.basename(filepath)):\n",
    "            total['religion'] = (total['religion']\n",
    "                                 .append(get_census_religion(filepath)))\n",
    "            total['education'] = (total['education']\n",
    "                                  .append(get_census_education(filepath)))\n",
    "    total['religion'].reset_index(inplace=True, drop=True)\n",
    "    total['education'].reset_index(inplace=True, drop=True)\n",
    "\n",
    "    for df in total.values():\n",
    "        df.loc[(df['region'] == \"ARMM\"), 'region'] = 'BARMM'\n",
    "        df.loc[(df['region'] == \"MIMAROPA\"), 'region'] = 'REGION IV-B'\n",
    "        df.loc[(df['region'] == \"CARAGA\"), 'region'] = 'REGION XIII'\n",
    "    return total"
   ]
  },
  {
   "cell_type": "code",
   "execution_count": null,
   "metadata": {},
   "outputs": [],
   "source": [
    "census_path = '/mnt/data/public/census/*'\n",
    "census_dict = read_census_files(census_path)"
   ]
  },
  {
   "cell_type": "markdown",
   "metadata": {},
   "source": [
    "## <font color=\"BF5209\"> G. Is literacy rate related to voting preference? "
   ]
  },
  {
   "cell_type": "markdown",
   "metadata": {},
   "source": [
    "We looked at the number of seats obtained by each coalition per region, then correlated it to literacy rate. Education information was obtained from the 2015 Census data."
   ]
  },
  {
   "cell_type": "markdown",
   "metadata": {},
   "source": [
    "We looked at the literacy rate $\\frac{n_{educated}}{n_{total}}$ of each administrative region:"
   ]
  },
  {
   "cell_type": "code",
   "execution_count": null,
   "metadata": {},
   "outputs": [],
   "source": [
    "def get_education_percent():\n",
    "    '''\n",
    "    Gets percentage of educational level per region\n",
    "    '''\n",
    "    education = census_dict['education'].groupby(\n",
    "        ['region', 'education'], as_index=False).sum()\n",
    "    education = pd.pivot_table(\n",
    "        education, index='region', columns='education', values='total')\n",
    "    education.columns = ['education_pct_' + educ for educ in education.columns]\n",
    "    education['education_total'] = education.sum(axis=1)\n",
    "    for educ in education.columns[:-1]:\n",
    "        education[educ] /= education['education_total']\n",
    "    education.drop('education_total', axis=1, inplace=True)\n",
    "    education = education.round(5)\n",
    "\n",
    "    return education\n",
    "\n",
    "\n",
    "def get_agg_education_percent():\n",
    "    '''\n",
    "    Gets aggregated percentage of educational level per region\n",
    "    '''\n",
    "    df_educ = get_education_percent()\n",
    "    df_educ = df_educ.reset_index()\n",
    "    df_educ['educated'] = (1 - df_educ['education_pct_No Grade Completed']\n",
    "                           - df_educ['education_pct_Not Stated'])\n",
    "    df_educ['not_educated'] = df_educ['education_pct_No Grade Completed']\n",
    "    df_educ['unknown'] = df_educ['education_pct_Not Stated']\n",
    "    df_educ.drop(columns=['education_pct_Academic Degree Holder',\n",
    "                          'education_pct_College Undergraduate',\n",
    "                          'education_pct_Elementary',\n",
    "                          'education_pct_High School',\n",
    "                          'education_pct_No Grade Completed',\n",
    "                          'education_pct_Not Stated',\n",
    "                          'education_pct_Post Baccalaureate',\n",
    "                          'education_pct_Post-Secondary',\n",
    "                          'education_pct_Pre-School',\n",
    "                          'education_pct_Special Education'], inplace=True)\n",
    "    df_educ.set_index('region', inplace=True)\n",
    "    df_educ.reset_index(inplace=True)\n",
    "    return df_educ\n",
    "\n",
    "\n",
    "df_educ = get_agg_education_percent()\n",
    "df_educ"
   ]
  },
  {
   "cell_type": "markdown",
   "metadata": {},
   "source": [
    "We then checked if the number of seats obtained by each coalition is correlated to the literacy rate of that region. First, we obtained the number of seats obtained by each coalition per region:"
   ]
  },
  {
   "cell_type": "code",
   "execution_count": null,
   "metadata": {},
   "outputs": [],
   "source": [
    "def get_coalition_rank():\n",
    "    \"\"\"\n",
    "    Get number of seats obtained by each coalition\n",
    "    \"\"\"\n",
    "    coalition_seats = nle2019.query('position == 1')\n",
    "    coalition_seats = coalition_seats.groupby(\n",
    "        ['region', 'candidate_name', 'coalition'], as_index=False).agg({'votes_per_province': sum})\n",
    "    coalition_seats = coalition_seats.sort_values(\n",
    "        by=['region', 'votes_per_province'], ascending=[1, 0])\n",
    "    coalition_seats.set_index('region', inplace=True)\n",
    "\n",
    "    coalition_seats['rank'] = list(range(1, len(\n",
    "        coalition_seats.candidate_name.unique())+1)) * len(coalition_seats.index.unique())\n",
    "    coalition_seats['is_top_12'] = 1*(coalition_seats['rank'] <= 12)\n",
    "    coalition_seats.reset_index(inplace=True)\n",
    "\n",
    "    coalition_seats = pd.pivot_table(\n",
    "        coalition_seats, index='region', columns='coalition', values='is_top_12', aggfunc=np.sum)\n",
    "    return coalition_seats"
   ]
  },
  {
   "cell_type": "markdown",
   "metadata": {},
   "source": [
    "We then merge this with the education dataframe, then get the correlation:"
   ]
  },
  {
   "cell_type": "code",
   "execution_count": null,
   "metadata": {
    "scrolled": false
   },
   "outputs": [],
   "source": [
    "df_coal_educ = get_agg_education_percent().set_index('region').join(get_coalition_rank())\n",
    "df_coal_educ['Educated'] = df_coal_educ['educated']\n",
    "df_coal_educ['Not Educated'] = df_coal_educ['not_educated']\n",
    "corr = df_coal_educ.corr().loc[['Otso Diretso', 'HNP'],['Educated', 'Not Educated']]\n",
    "colormap = sns.diverging_palette(100, 100, n = 10)\n",
    "sns.heatmap(corr, cmap=colormap, annot=True, vmin = -1, vmax = 1);"
   ]
  },
  {
   "cell_type": "markdown",
   "metadata": {},
   "source": [
    "The Census and election data show that the voting preference of a region has **no correlation** with its literacy rate. We now look at religion to see if it has a correlation with the voting preference."
   ]
  },
  {
   "cell_type": "markdown",
   "metadata": {},
   "source": [
    "##  <font color=\"BF5209\"> H. Is religion related to voting preference? "
   ]
  },
  {
   "cell_type": "markdown",
   "metadata": {},
   "source": [
    "We also looked into the religious affiliation per region, and checked if it is correlatd with voting preference.\n",
    "\n",
    "First, we obtained the distribution of religions per region from the Census data:"
   ]
  },
  {
   "cell_type": "code",
   "execution_count": null,
   "metadata": {},
   "outputs": [],
   "source": [
    "def get_religion_percent():\n",
    "    \"\"\"\n",
    "    Get percentages of religion per region\n",
    "    \"\"\"\n",
    "    religion = census_dict['religion'].groupby(\n",
    "        ['region', 'religion'], as_index=False).sum()\n",
    "    religion = pd.pivot_table(\n",
    "        religion, index='region', columns='religion', values='total')\n",
    "    religion.columns = ['religion_pct_' + rel for rel in religion.columns]\n",
    "    religion['religion_total'] = religion.sum(axis=1)\n",
    "    for rel in religion.columns[:-1]:\n",
    "        religion[rel] /= religion['religion_total']\n",
    "    religion.drop('religion_total', axis=1, inplace=True)\n",
    "    religion = religion.round(5)\n",
    "    return religion\n",
    "\n",
    "\n",
    "df_rel = get_religion_percent()"
   ]
  },
  {
   "cell_type": "markdown",
   "metadata": {},
   "source": [
    "We then merged the religion census data with the coalition ranking data to check if religion has correlation with the number of seats obtained by each coalition:"
   ]
  },
  {
   "cell_type": "code",
   "execution_count": null,
   "metadata": {},
   "outputs": [],
   "source": [
    "df_coal_rel = get_religion_percent().join(get_coalition_rank())\n",
    "df_coal_rel.head()"
   ]
  },
  {
   "cell_type": "markdown",
   "metadata": {},
   "source": [
    "From getting the correlation of the religion data with the number of seats per coalition, it is apparent that the Voting preference of a region has **<font color=\"BF5209\">no correlation with its religious affiliation</font>**."
   ]
  },
  {
   "cell_type": "code",
   "execution_count": null,
   "metadata": {},
   "outputs": [],
   "source": [
    "df_coal_rel['Roman Catholic'] = df_coal_rel['religion_pct_Roman Catholic, including Catholic Charismatic']\n",
    "df_coal_rel['Islam'] = df_coal_rel['religion_pct_Islam']\n",
    "df_coal_rel['Iglesia ni Cristo'] = df_coal_rel['religion_pct_Iglesia ni Cristo']\n",
    "corr = df_coal_rel.corr().loc[\n",
    "    ['Roman Catholic','Islam','Iglesia ni Cristo'],['HNP','Otso Diretso']]\n",
    "colormap = sns.diverging_palette(100, 100, n = 10)\n",
    "sns.heatmap(corr, cmap=colormap, annot=True, vmin = -1, vmax = 1);"
   ]
  },
  {
   "cell_type": "markdown",
   "metadata": {},
   "source": [
    "## <font color=\"BF5209\"> I. Conclusion"
   ]
  },
  {
   "cell_type": "markdown",
   "metadata": {},
   "source": [
    "Upon checking both the Comelec 2019 Election Results and the 2015 Philippine Census data, we found out that voting preference is characterized by high regionality. Candidates have a homecourt advantage, and voters tend to vote candidates or parties affiliated with their home region.\n",
    "\n",
    "Also, literacy rate and religious affiliation is not correlated to voting preference."
   ]
  },
  {
   "cell_type": "markdown",
   "metadata": {},
   "source": [
    "## Acknowledgements\n",
    "We would like to thank Prof Christian Alis and the ACCeSS Laboratory for the access to the high-performance computing facility."
   ]
  },
  {
   "cell_type": "code",
   "execution_count": null,
   "metadata": {},
   "outputs": [],
   "source": []
  }
 ],
 "metadata": {
  "kernelspec": {
   "display_name": "Python 3",
   "language": "python",
   "name": "python3"
  },
  "language_info": {
   "codemirror_mode": {
    "name": "ipython",
    "version": 3
   },
   "file_extension": ".py",
   "mimetype": "text/x-python",
   "name": "python",
   "nbconvert_exporter": "python",
   "pygments_lexer": "ipython3",
   "version": "3.6.8"
  }
 },
 "nbformat": 4,
 "nbformat_minor": 2
}
