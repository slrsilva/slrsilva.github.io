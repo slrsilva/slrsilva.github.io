{
 "cells": [
  {
   "cell_type": "markdown",
   "metadata": {},
   "source": [
    "<div style='padding:5px'><font style='font-weight:bold;font-size:32px;color:#2c3393;'>Here Comes The Sun: Clark Solar Power Plant</font></div>\n",
    "<div style='padding:5px'><font style='font-weight:bold;font-size:24px;color:#2c3393;'>LT16 - Sandro Silva and Jac Lin Yu</font></div>"
   ]
  },
  {
   "cell_type": "markdown",
   "metadata": {},
   "source": [
    "------------"
   ]
  },
  {
   "cell_type": "markdown",
   "metadata": {},
   "source": [
    "<font style='font-weight:bold;font-size:32px;color:#2c3393;'>Table of Contents</font>\n"
   ]
  },
  {
   "cell_type": "markdown",
   "metadata": {
    "ExecuteTime": {
     "end_time": "2019-12-20T08:14:15.828643Z",
     "start_time": "2019-12-20T08:14:15.822694Z"
    }
   },
   "source": [
    "<font style='font-size:16px'>\n",
    "    \n",
    "**[1. Problem Statement](#problem-statement)**\n",
    "\n",
    "**[2. Methodology](#methodology)**\n",
    "\n",
    "  * [2.1. Loading Prerequisites](#preq)\n",
    "  * [2.2. Dataset and Preprocessing](#data)\n",
    "  * [2.3. Train, Validation, Test Split and Batch Generation](#train)\n",
    "  * [2.4. Determining the Benchmark](#benchmark)\n",
    "  * [2.5. Model Training and Selection](#model)\n",
    "      * [2.5.1 LSTM with 64 nodes](#lstm1)\n",
    "      * [2.5.2 LSTM with 32 nodes](#lstm2)\n",
    "      * [2.5.3 Stacked LSTM with 64 and 32 nodes](#lstm3)\n",
    "      * [2.5.4 Stacked LSTM with 32 and 64 nodes](#lstm4)   \n",
    "\n",
    "**[3. Results and Discussions](#results)**\n",
    "  * [3.1. Results](#res)\n",
    "  * [3.2. Discussions and Recommendations](#discussions)\n",
    "  \n",
    "</font>"
   ]
  },
  {
   "cell_type": "markdown",
   "metadata": {},
   "source": [
    "<div id=\"problem-statement\"/>\n",
    "<div style='padding:3px;'> <font style='font-weight:bold;font-size:20px;color:#2c3393;'>1. Problem Statement</font></div>"
   ]
  },
  {
   "cell_type": "markdown",
   "metadata": {},
   "source": [
    "<div style='padding-left: 20px; text-align: justify; font-size:16px; line-height:1.6'>\n",
    "In recent years, the global energy industry has changed its focus away from traditional fuel sources, such as oil and coal, to more alternative and sustainable solutions, such as hydroelectric, solar and wind. However, the shift towards renewable energy poses new threats and challenges to existing power grids across the world. One major concern surrounding renewable energy generation is the inherent variability and intermittency of its fuel source, as this can cause disruptions in power grids. Essentially, renewable energy technologies threaten to overwhelm the grid operators.\n",
    "<br><br> \n",
    "Renewable energy forecasting, in particular solar generation supply, may provide power grid operators the ability to predict and balance energy generation and consumption. In addition, power grid operators will be able to balance and schedule the distribution of generated power for not only renewable power plants but also conventional (and rigid) power plants, such as coal and natural gas.\n",
    "</div>"
   ]
  },
  {
   "cell_type": "markdown",
   "metadata": {},
   "source": [
    "<div id=\"methodology\"/>\n",
    "<div style='padding:5px;'> <font style='font-weight:bold;font-size:20px;color:#2c3393;'>2. Methodology</font></div>"
   ]
  },
  {
   "cell_type": "markdown",
   "metadata": {
    "ExecuteTime": {
     "end_time": "2019-12-20T09:16:29.227577Z",
     "start_time": "2019-12-20T09:16:29.221872Z"
    }
   },
   "source": [
    "<div id=\"preq\"/>\n",
    "<div style='padding:5px;'> <font style='font-weight:bold;font-size:15px;color:#2c3393;'>2.1 Loading Prerequisites</font></div>"
   ]
  },
  {
   "cell_type": "code",
   "execution_count": 1,
   "metadata": {
    "ExecuteTime": {
     "end_time": "2019-12-22T10:11:48.427661Z",
     "start_time": "2019-12-22T10:11:48.425146Z"
    }
   },
   "outputs": [],
   "source": [
    "import warnings\n",
    "warnings.simplefilter(action='ignore', category=FutureWarning)"
   ]
  },
  {
   "cell_type": "code",
   "execution_count": 2,
   "metadata": {
    "ExecuteTime": {
     "end_time": "2019-12-22T10:11:49.894523Z",
     "start_time": "2019-12-22T10:11:48.429409Z"
    }
   },
   "outputs": [],
   "source": [
    "import numpy as np\n",
    "import math\n",
    "import pandas as pd\n",
    "import matplotlib.pyplot as plt\n",
    "\n",
    "from sklearn.preprocessing import MinMaxScaler\n",
    "\n",
    "from tensorflow.keras.datasets import imdb\n",
    "from tensorflow.keras.preprocessing import sequence\n",
    "from tensorflow.keras.models import Sequential\n",
    "from tensorflow.keras import layers\n",
    "from tensorflow.keras.optimizers import RMSprop, Adam\n",
    "\n",
    "from tensorflow.keras.callbacks import ModelCheckpoint, EarlyStopping"
   ]
  },
  {
   "cell_type": "markdown",
   "metadata": {
    "ExecuteTime": {
     "end_time": "2019-12-20T09:17:54.042396Z",
     "start_time": "2019-12-20T09:17:54.032465Z"
    }
   },
   "source": [
    "<div id=\"data\"/>\n",
    "<div style='padding:5px;'> <font style='font-weight:bold;font-size:15px;color:#2c3393;'>2.2 Dataset and Preprocessing</font></div>"
   ]
  },
  {
   "cell_type": "markdown",
   "metadata": {
    "ExecuteTime": {
     "end_time": "2019-12-20T10:22:01.397144Z",
     "start_time": "2019-12-20T10:22:01.390828Z"
    }
   },
   "source": [
    "<div style='padding:5px;'> <font style='font-style:italic;font-size:15px;color:#2c3393;'>\n",
    "Here, we will load the already cleaned preprocessed dataset of solar generation per plant per hour.\n",
    "The cleaning was processed outside of this notebook, and followed a framework which follows the industry standard of imputing missing values.\n",
    "  \n",
    "    \n",
    "<b>To list a few processes:</b>\n",
    "    - using the average between the before(t-1) and after hour(t+1)\n",
    "    - using a 1-week average of all similar intervals \n",
    "    (ex, if empty during hour 6 of dec 20, take the moving average of all hour 6 from dec 13-dec19)\n",
    "    - using a 4-week moving average of that specific hour and day of the week \n",
    "    (ex, if empty during hour 6 of dec 20, we take average of hour 6(dec 13, 6, 29, 22)\n",
    "</font></div>"
   ]
  },
  {
   "cell_type": "code",
   "execution_count": 3,
   "metadata": {
    "ExecuteTime": {
     "end_time": "2019-12-22T10:12:19.760658Z",
     "start_time": "2019-12-22T10:11:49.895758Z"
    }
   },
   "outputs": [],
   "source": [
    "df = pd.read_excel('solar_dataset.xlsx', \n",
    "                   sheet_name='metro_manila', \n",
    "                   parse_dates=['DATETIME'])"
   ]
  },
  {
   "cell_type": "markdown",
   "metadata": {},
   "source": [
    "<div style='padding:5px;'> <font style='font-style:italic;font-size:15px;color:#2c3393;'>\n",
    "Here let us observe the different datatypes, notice that some columns are objects, some of which will be dropped.\n",
    "    </font></div>"
   ]
  },
  {
   "cell_type": "code",
   "execution_count": 4,
   "metadata": {
    "ExecuteTime": {
     "end_time": "2019-12-22T10:12:19.769708Z",
     "start_time": "2019-12-22T10:12:19.762492Z"
    }
   },
   "outputs": [
    {
     "data": {
      "text/plain": [
       "DATETIME         datetime64[ns]\n",
       "YEAR                      int64\n",
       "MONTH                     int64\n",
       "DAY                       int64\n",
       "HOUR                      int64\n",
       "RESOURCE_ID              object\n",
       "MW                      float64\n",
       "Location                 object\n",
       "Temperature             float64\n",
       "Dew Point               float64\n",
       "Humidity                float64\n",
       "Wind Speed                int64\n",
       "Wind Gust                 int64\n",
       "Pressure                float64\n",
       "Condition                object\n",
       "Location_Name            object\n",
       "dtype: object"
      ]
     },
     "execution_count": 4,
     "metadata": {},
     "output_type": "execute_result"
    }
   ],
   "source": [
    "df.dtypes"
   ]
  },
  {
   "cell_type": "code",
   "execution_count": 5,
   "metadata": {
    "ExecuteTime": {
     "end_time": "2019-12-22T10:12:19.832025Z",
     "start_time": "2019-12-22T10:12:19.771509Z"
    }
   },
   "outputs": [
    {
     "data": {
      "text/html": [
       "<div>\n",
       "<style scoped>\n",
       "    .dataframe tbody tr th:only-of-type {\n",
       "        vertical-align: middle;\n",
       "    }\n",
       "\n",
       "    .dataframe tbody tr th {\n",
       "        vertical-align: top;\n",
       "    }\n",
       "\n",
       "    .dataframe thead th {\n",
       "        text-align: right;\n",
       "    }\n",
       "</style>\n",
       "<table border=\"1\" class=\"dataframe\">\n",
       "  <thead>\n",
       "    <tr style=\"text-align: right;\">\n",
       "      <th></th>\n",
       "      <th>DATETIME</th>\n",
       "      <th>YEAR</th>\n",
       "      <th>MONTH</th>\n",
       "      <th>DAY</th>\n",
       "      <th>HOUR</th>\n",
       "      <th>RESOURCE_ID</th>\n",
       "      <th>MW</th>\n",
       "      <th>Location</th>\n",
       "      <th>Temperature</th>\n",
       "      <th>Dew Point</th>\n",
       "      <th>Humidity</th>\n",
       "      <th>Wind Speed</th>\n",
       "      <th>Wind Gust</th>\n",
       "      <th>Pressure</th>\n",
       "      <th>Condition</th>\n",
       "      <th>Location_Name</th>\n",
       "    </tr>\n",
       "  </thead>\n",
       "  <tbody>\n",
       "    <tr>\n",
       "      <th>0</th>\n",
       "      <td>2016-12-26 00:00:00</td>\n",
       "      <td>2016</td>\n",
       "      <td>12</td>\n",
       "      <td>26</td>\n",
       "      <td>1</td>\n",
       "      <td>2VALSOL_G01</td>\n",
       "      <td>0.0</td>\n",
       "      <td>RPLL</td>\n",
       "      <td>77.0</td>\n",
       "      <td>73.0</td>\n",
       "      <td>89.0</td>\n",
       "      <td>20</td>\n",
       "      <td>31</td>\n",
       "      <td>29.6</td>\n",
       "      <td>Light Rain</td>\n",
       "      <td>NINOY AQUINO INT</td>\n",
       "    </tr>\n",
       "    <tr>\n",
       "      <th>1</th>\n",
       "      <td>2016-12-26 01:00:00</td>\n",
       "      <td>2016</td>\n",
       "      <td>12</td>\n",
       "      <td>26</td>\n",
       "      <td>2</td>\n",
       "      <td>2VALSOL_G01</td>\n",
       "      <td>0.0</td>\n",
       "      <td>RPLL</td>\n",
       "      <td>77.0</td>\n",
       "      <td>75.0</td>\n",
       "      <td>94.0</td>\n",
       "      <td>15</td>\n",
       "      <td>0</td>\n",
       "      <td>29.6</td>\n",
       "      <td>Light Rain</td>\n",
       "      <td>NINOY AQUINO INT</td>\n",
       "    </tr>\n",
       "    <tr>\n",
       "      <th>2</th>\n",
       "      <td>2016-12-26 02:00:00</td>\n",
       "      <td>2016</td>\n",
       "      <td>12</td>\n",
       "      <td>26</td>\n",
       "      <td>3</td>\n",
       "      <td>2VALSOL_G01</td>\n",
       "      <td>0.0</td>\n",
       "      <td>RPLL</td>\n",
       "      <td>75.0</td>\n",
       "      <td>75.0</td>\n",
       "      <td>100.0</td>\n",
       "      <td>15</td>\n",
       "      <td>0</td>\n",
       "      <td>29.6</td>\n",
       "      <td>Light Rain</td>\n",
       "      <td>NINOY AQUINO INT</td>\n",
       "    </tr>\n",
       "  </tbody>\n",
       "</table>\n",
       "</div>"
      ],
      "text/plain": [
       "             DATETIME  YEAR  MONTH  DAY  HOUR  RESOURCE_ID   MW Location  \\\n",
       "0 2016-12-26 00:00:00  2016     12   26     1  2VALSOL_G01  0.0     RPLL   \n",
       "1 2016-12-26 01:00:00  2016     12   26     2  2VALSOL_G01  0.0     RPLL   \n",
       "2 2016-12-26 02:00:00  2016     12   26     3  2VALSOL_G01  0.0     RPLL   \n",
       "\n",
       "   Temperature  Dew Point  Humidity  Wind Speed  Wind Gust  Pressure  \\\n",
       "0         77.0       73.0      89.0          20         31      29.6   \n",
       "1         77.0       75.0      94.0          15          0      29.6   \n",
       "2         75.0       75.0     100.0          15          0      29.6   \n",
       "\n",
       "    Condition     Location_Name  \n",
       "0  Light Rain  NINOY AQUINO INT  \n",
       "1  Light Rain  NINOY AQUINO INT  \n",
       "2  Light Rain  NINOY AQUINO INT  "
      ]
     },
     "execution_count": 5,
     "metadata": {},
     "output_type": "execute_result"
    }
   ],
   "source": [
    "df.head(3)"
   ]
  },
  {
   "cell_type": "markdown",
   "metadata": {},
   "source": [
    "<div style='padding:5px;'> <font style='font-style:italic;font-size:15px;color:#2c3393;'>\n",
    "    It is customary in traditional time-series regression to convert the <code>month</code>, <code>day</code>, \n",
    "    <code>hour</code> into categorical data, which will be later used in one-hot encoding. In addition, this is the usual preprocessing used in the energy industry here in the Philippines.\n",
    "</font></div>"
   ]
  },
  {
   "cell_type": "code",
   "execution_count": 6,
   "metadata": {
    "ExecuteTime": {
     "end_time": "2019-12-22T10:12:19.881619Z",
     "start_time": "2019-12-22T10:12:19.833771Z"
    }
   },
   "outputs": [],
   "source": [
    "df.MONTH = df.MONTH.astype('str')\n",
    "df.DAY = df.DAY.astype('str')\n",
    "df.HOUR = df.HOUR.astype('str')"
   ]
  },
  {
   "cell_type": "markdown",
   "metadata": {},
   "source": [
    "<div style='padding:5px;'> <font style='font-style:italic;font-size:15px;color:#2c3393;'>\n",
    "    Let us drop the unimportant columns\n",
    "</font></div>"
   ]
  },
  {
   "cell_type": "code",
   "execution_count": 7,
   "metadata": {
    "ExecuteTime": {
     "end_time": "2019-12-22T10:12:19.894668Z",
     "start_time": "2019-12-22T10:12:19.882757Z"
    }
   },
   "outputs": [],
   "source": [
    "df.drop(['Location_Name', 'Location', \"YEAR\"],axis=1,inplace=True)"
   ]
  },
  {
   "cell_type": "markdown",
   "metadata": {},
   "source": [
    "<div style='padding:5px;'> <font style='font-style:italic;font-size:15px;color:#2c3393;'>\n",
    "    Let us append the main <code>df</code> with the one-hot encoded dataframe\n",
    "</font></div>"
   ]
  },
  {
   "cell_type": "code",
   "execution_count": 8,
   "metadata": {
    "ExecuteTime": {
     "end_time": "2019-12-22T10:12:19.919114Z",
     "start_time": "2019-12-22T10:12:19.895884Z"
    }
   },
   "outputs": [],
   "source": [
    "df = df.join(pd.get_dummies(df[['MONTH','DAY','HOUR','Condition']]))"
   ]
  },
  {
   "cell_type": "markdown",
   "metadata": {},
   "source": [
    "<div style='padding:5px;'> <font style='font-style:italic;font-size:15px;color:#2c3393;'>\n",
    "    Let us get the unique list of power plants in the region\n",
    "</font></div>"
   ]
  },
  {
   "cell_type": "code",
   "execution_count": 9,
   "metadata": {
    "ExecuteTime": {
     "end_time": "2019-12-22T10:12:19.924795Z",
     "start_time": "2019-12-22T10:12:19.921179Z"
    }
   },
   "outputs": [],
   "source": [
    "locations = df.RESOURCE_ID.unique()"
   ]
  },
  {
   "cell_type": "markdown",
   "metadata": {},
   "source": [
    "<div style='padding:5px;'> <font style='font-style:italic;font-size:15px;color:#2c3393;'>\n",
    "    For this study, let us consider the first power plant\n",
    "</font></div>"
   ]
  },
  {
   "cell_type": "code",
   "execution_count": 10,
   "metadata": {
    "ExecuteTime": {
     "end_time": "2019-12-22T10:12:19.929760Z",
     "start_time": "2019-12-22T10:12:19.926633Z"
    }
   },
   "outputs": [
    {
     "data": {
      "text/plain": [
       "'2VALSOL_G01'"
      ]
     },
     "execution_count": 10,
     "metadata": {},
     "output_type": "execute_result"
    }
   ],
   "source": [
    "locations[0]"
   ]
  },
  {
   "cell_type": "code",
   "execution_count": 11,
   "metadata": {
    "ExecuteTime": {
     "end_time": "2019-12-22T10:12:19.973455Z",
     "start_time": "2019-12-22T10:12:19.931088Z"
    }
   },
   "outputs": [],
   "source": [
    "df0 = df[df.RESOURCE_ID == locations[0]].copy()"
   ]
  },
  {
   "cell_type": "markdown",
   "metadata": {},
   "source": [
    "<div style='padding:5px;'> <font style='font-style:italic;font-size:15px;color:#2c3393;'>\n",
    "    Further dropping of columns as well as reordering of columns\n",
    "</font></div>"
   ]
  },
  {
   "cell_type": "code",
   "execution_count": 12,
   "metadata": {
    "ExecuteTime": {
     "end_time": "2019-12-22T10:12:19.980738Z",
     "start_time": "2019-12-22T10:12:19.974698Z"
    }
   },
   "outputs": [],
   "source": [
    "df0 = df0.drop(['RESOURCE_ID','DATETIME','MONTH','DAY','HOUR','Condition'],\n",
    "               axis=1)"
   ]
  },
  {
   "cell_type": "code",
   "execution_count": 13,
   "metadata": {
    "ExecuteTime": {
     "end_time": "2019-12-22T10:12:19.988436Z",
     "start_time": "2019-12-22T10:12:19.983351Z"
    }
   },
   "outputs": [],
   "source": [
    "df0 = df0[['Temperature','MW'] + df0.columns[2:].tolist()].copy()"
   ]
  },
  {
   "cell_type": "code",
   "execution_count": 14,
   "metadata": {
    "ExecuteTime": {
     "end_time": "2019-12-22T10:12:20.002665Z",
     "start_time": "2019-12-22T10:12:19.989807Z"
    }
   },
   "outputs": [],
   "source": [
    "df0 = df0.astype('float')"
   ]
  },
  {
   "cell_type": "markdown",
   "metadata": {},
   "source": [
    "<div style='padding:5px;'> <font style='font-style:italic;font-size:15px;color:#2c3393;'>\n",
    "    Final <code>DataFrame</code> to be used\n",
    "</font></div>"
   ]
  },
  {
   "cell_type": "code",
   "execution_count": 15,
   "metadata": {
    "ExecuteTime": {
     "end_time": "2019-12-22T10:12:20.023087Z",
     "start_time": "2019-12-22T10:12:20.003952Z"
    }
   },
   "outputs": [
    {
     "data": {
      "text/html": [
       "<div>\n",
       "<style scoped>\n",
       "    .dataframe tbody tr th:only-of-type {\n",
       "        vertical-align: middle;\n",
       "    }\n",
       "\n",
       "    .dataframe tbody tr th {\n",
       "        vertical-align: top;\n",
       "    }\n",
       "\n",
       "    .dataframe thead th {\n",
       "        text-align: right;\n",
       "    }\n",
       "</style>\n",
       "<table border=\"1\" class=\"dataframe\">\n",
       "  <thead>\n",
       "    <tr style=\"text-align: right;\">\n",
       "      <th></th>\n",
       "      <th>Temperature</th>\n",
       "      <th>MW</th>\n",
       "      <th>Dew Point</th>\n",
       "      <th>Humidity</th>\n",
       "      <th>Wind Speed</th>\n",
       "      <th>Wind Gust</th>\n",
       "      <th>Pressure</th>\n",
       "      <th>MONTH_1</th>\n",
       "      <th>MONTH_10</th>\n",
       "      <th>MONTH_11</th>\n",
       "      <th>...</th>\n",
       "      <th>Condition_Mostly Cloudy / Windy</th>\n",
       "      <th>Condition_Partly Cloudy</th>\n",
       "      <th>Condition_Partly Cloudy / Windy</th>\n",
       "      <th>Condition_Rain</th>\n",
       "      <th>Condition_Rain / Windy</th>\n",
       "      <th>Condition_Rain Shower</th>\n",
       "      <th>Condition_Showers in the Vicinity</th>\n",
       "      <th>Condition_T-Storm</th>\n",
       "      <th>Condition_Thunder</th>\n",
       "      <th>Condition_Thunder in the Vicinity</th>\n",
       "    </tr>\n",
       "  </thead>\n",
       "  <tbody>\n",
       "    <tr>\n",
       "      <th>0</th>\n",
       "      <td>77.0</td>\n",
       "      <td>0.0</td>\n",
       "      <td>73.0</td>\n",
       "      <td>89.0</td>\n",
       "      <td>20.0</td>\n",
       "      <td>31.0</td>\n",
       "      <td>29.6</td>\n",
       "      <td>0.0</td>\n",
       "      <td>0.0</td>\n",
       "      <td>0.0</td>\n",
       "      <td>...</td>\n",
       "      <td>0.0</td>\n",
       "      <td>0.0</td>\n",
       "      <td>0.0</td>\n",
       "      <td>0.0</td>\n",
       "      <td>0.0</td>\n",
       "      <td>0.0</td>\n",
       "      <td>0.0</td>\n",
       "      <td>0.0</td>\n",
       "      <td>0.0</td>\n",
       "      <td>0.0</td>\n",
       "    </tr>\n",
       "    <tr>\n",
       "      <th>1</th>\n",
       "      <td>77.0</td>\n",
       "      <td>0.0</td>\n",
       "      <td>75.0</td>\n",
       "      <td>94.0</td>\n",
       "      <td>15.0</td>\n",
       "      <td>0.0</td>\n",
       "      <td>29.6</td>\n",
       "      <td>0.0</td>\n",
       "      <td>0.0</td>\n",
       "      <td>0.0</td>\n",
       "      <td>...</td>\n",
       "      <td>0.0</td>\n",
       "      <td>0.0</td>\n",
       "      <td>0.0</td>\n",
       "      <td>0.0</td>\n",
       "      <td>0.0</td>\n",
       "      <td>0.0</td>\n",
       "      <td>0.0</td>\n",
       "      <td>0.0</td>\n",
       "      <td>0.0</td>\n",
       "      <td>0.0</td>\n",
       "    </tr>\n",
       "    <tr>\n",
       "      <th>2</th>\n",
       "      <td>75.0</td>\n",
       "      <td>0.0</td>\n",
       "      <td>75.0</td>\n",
       "      <td>100.0</td>\n",
       "      <td>15.0</td>\n",
       "      <td>0.0</td>\n",
       "      <td>29.6</td>\n",
       "      <td>0.0</td>\n",
       "      <td>0.0</td>\n",
       "      <td>0.0</td>\n",
       "      <td>...</td>\n",
       "      <td>0.0</td>\n",
       "      <td>0.0</td>\n",
       "      <td>0.0</td>\n",
       "      <td>0.0</td>\n",
       "      <td>0.0</td>\n",
       "      <td>0.0</td>\n",
       "      <td>0.0</td>\n",
       "      <td>0.0</td>\n",
       "      <td>0.0</td>\n",
       "      <td>0.0</td>\n",
       "    </tr>\n",
       "    <tr>\n",
       "      <th>3</th>\n",
       "      <td>75.0</td>\n",
       "      <td>0.0</td>\n",
       "      <td>75.0</td>\n",
       "      <td>100.0</td>\n",
       "      <td>16.0</td>\n",
       "      <td>0.0</td>\n",
       "      <td>29.6</td>\n",
       "      <td>0.0</td>\n",
       "      <td>0.0</td>\n",
       "      <td>0.0</td>\n",
       "      <td>...</td>\n",
       "      <td>0.0</td>\n",
       "      <td>0.0</td>\n",
       "      <td>0.0</td>\n",
       "      <td>0.0</td>\n",
       "      <td>0.0</td>\n",
       "      <td>0.0</td>\n",
       "      <td>0.0</td>\n",
       "      <td>0.0</td>\n",
       "      <td>0.0</td>\n",
       "      <td>0.0</td>\n",
       "    </tr>\n",
       "    <tr>\n",
       "      <th>4</th>\n",
       "      <td>77.0</td>\n",
       "      <td>0.0</td>\n",
       "      <td>77.0</td>\n",
       "      <td>100.0</td>\n",
       "      <td>13.0</td>\n",
       "      <td>0.0</td>\n",
       "      <td>29.6</td>\n",
       "      <td>0.0</td>\n",
       "      <td>0.0</td>\n",
       "      <td>0.0</td>\n",
       "      <td>...</td>\n",
       "      <td>0.0</td>\n",
       "      <td>0.0</td>\n",
       "      <td>0.0</td>\n",
       "      <td>0.0</td>\n",
       "      <td>0.0</td>\n",
       "      <td>0.0</td>\n",
       "      <td>0.0</td>\n",
       "      <td>0.0</td>\n",
       "      <td>0.0</td>\n",
       "      <td>0.0</td>\n",
       "    </tr>\n",
       "  </tbody>\n",
       "</table>\n",
       "<p>5 rows × 99 columns</p>\n",
       "</div>"
      ],
      "text/plain": [
       "   Temperature   MW  Dew Point  Humidity  Wind Speed  Wind Gust  Pressure  \\\n",
       "0         77.0  0.0       73.0      89.0        20.0       31.0      29.6   \n",
       "1         77.0  0.0       75.0      94.0        15.0        0.0      29.6   \n",
       "2         75.0  0.0       75.0     100.0        15.0        0.0      29.6   \n",
       "3         75.0  0.0       75.0     100.0        16.0        0.0      29.6   \n",
       "4         77.0  0.0       77.0     100.0        13.0        0.0      29.6   \n",
       "\n",
       "   MONTH_1  MONTH_10  MONTH_11  ...  Condition_Mostly Cloudy / Windy  \\\n",
       "0      0.0       0.0       0.0  ...                              0.0   \n",
       "1      0.0       0.0       0.0  ...                              0.0   \n",
       "2      0.0       0.0       0.0  ...                              0.0   \n",
       "3      0.0       0.0       0.0  ...                              0.0   \n",
       "4      0.0       0.0       0.0  ...                              0.0   \n",
       "\n",
       "   Condition_Partly Cloudy  Condition_Partly Cloudy / Windy  Condition_Rain  \\\n",
       "0                      0.0                              0.0             0.0   \n",
       "1                      0.0                              0.0             0.0   \n",
       "2                      0.0                              0.0             0.0   \n",
       "3                      0.0                              0.0             0.0   \n",
       "4                      0.0                              0.0             0.0   \n",
       "\n",
       "   Condition_Rain / Windy  Condition_Rain Shower  \\\n",
       "0                     0.0                    0.0   \n",
       "1                     0.0                    0.0   \n",
       "2                     0.0                    0.0   \n",
       "3                     0.0                    0.0   \n",
       "4                     0.0                    0.0   \n",
       "\n",
       "   Condition_Showers in the Vicinity  Condition_T-Storm  Condition_Thunder  \\\n",
       "0                                0.0                0.0                0.0   \n",
       "1                                0.0                0.0                0.0   \n",
       "2                                0.0                0.0                0.0   \n",
       "3                                0.0                0.0                0.0   \n",
       "4                                0.0                0.0                0.0   \n",
       "\n",
       "   Condition_Thunder in the Vicinity  \n",
       "0                                0.0  \n",
       "1                                0.0  \n",
       "2                                0.0  \n",
       "3                                0.0  \n",
       "4                                0.0  \n",
       "\n",
       "[5 rows x 99 columns]"
      ]
     },
     "execution_count": 15,
     "metadata": {},
     "output_type": "execute_result"
    }
   ],
   "source": [
    "df0.head()"
   ]
  },
  {
   "cell_type": "code",
   "execution_count": 16,
   "metadata": {
    "ExecuteTime": {
     "end_time": "2019-12-22T10:12:20.026708Z",
     "start_time": "2019-12-22T10:12:20.024107Z"
    }
   },
   "outputs": [
    {
     "data": {
      "text/plain": [
       "(24021, 99)"
      ]
     },
     "execution_count": 16,
     "metadata": {},
     "output_type": "execute_result"
    }
   ],
   "source": [
    "df0.shape"
   ]
  },
  {
   "cell_type": "code",
   "execution_count": 17,
   "metadata": {
    "ExecuteTime": {
     "end_time": "2019-12-22T10:12:20.031460Z",
     "start_time": "2019-12-22T10:12:20.027941Z"
    }
   },
   "outputs": [],
   "source": [
    "plant_capacity = 8.5"
   ]
  },
  {
   "cell_type": "markdown",
   "metadata": {},
   "source": [
    "<div id=\"train\"/>\n",
    "<div style='padding:5px;'> <font style='font-weight:bold;font-size:15px;color:#2c3393;'>\n",
    "    2.3 Train,Validate,Test Split and Batch Generation</font></div>"
   ]
  },
  {
   "cell_type": "markdown",
   "metadata": {},
   "source": [
    "<div style='padding:5px;'> <font style='font-style:italic;font-size:15px;color:#2c3393;'>\n",
    "    For this analysis, a <code>.8</code>, <code>.1</code>, <code>.1</code>, train-validate-test split was implemented. Since we are dealing with a time-series, the train-validate-test split cannot be randomly selected from the dataset, splitting of dataset should be conducted in a chronogical order. Below we define the starting and ending <code>index</code> for each group\n",
    "</font></div>"
   ]
  },
  {
   "cell_type": "code",
   "execution_count": 18,
   "metadata": {
    "ExecuteTime": {
     "end_time": "2019-12-22T10:12:20.035435Z",
     "start_time": "2019-12-22T10:12:20.032864Z"
    }
   },
   "outputs": [],
   "source": [
    "train_validate_test_split = [.8, .1, .1]\n",
    "\n",
    "train_idx = math.floor(df0.shape[0] * train_validate_test_split[0])\n",
    "val_idx = math.floor(df0.shape[0] * train_validate_test_split[1]) + train_idx"
   ]
  },
  {
   "cell_type": "markdown",
   "metadata": {
    "ExecuteTime": {
     "end_time": "2019-12-20T09:53:01.962892Z",
     "start_time": "2019-12-20T09:53:01.950987Z"
    }
   },
   "source": [
    "<div style='padding:5px;'> <font style='font-style:italic;font-size:15px;color:#2c3393;'>\n",
    "    The <code>generator</code> function below was utilized to yield the appropriate batch. Significant parameters include the <code>lookback</code>, or how far back of the data to consider, <code>delay</code>, or how far into the future are we forecasting, <code>batch_size</code>, refers to the number of training examples utilized in one iteration.\n",
    "</font></div>"
   ]
  },
  {
   "cell_type": "code",
   "execution_count": 19,
   "metadata": {
    "ExecuteTime": {
     "end_time": "2019-12-22T10:12:20.043597Z",
     "start_time": "2019-12-22T10:12:20.036703Z"
    }
   },
   "outputs": [],
   "source": [
    "def generator(data, lookback, delay, min_index, max_index, shuffle=False, \n",
    "              batch_size=128, step=1):\n",
    "    \n",
    "    if max_index is None:\n",
    "        max_index = len(data) - delay - 1\n",
    "    i = min_index + lookback\n",
    "    \n",
    "    while 1:\n",
    "        if shuffle:\n",
    "            rows = np.random.randint(min_index + lookback, \n",
    "                                     max_index, size=batch_size)\n",
    "        else:\n",
    "            if i + batch_size >= max_index:\n",
    "                i = min_index + lookback\n",
    "            rows = np.arange(i, min(i + batch_size, max_index))\n",
    "            i += len(rows)\n",
    "\n",
    "        samples = np.zeros((len(rows), lookback // step, data.shape[-1]))\n",
    "        targets = np.zeros((len(rows),))\n",
    "        for j, row in enumerate(rows):\n",
    "            indices = range(rows[j] - lookback, rows[j], step)\n",
    "            samples[j] = data[indices]\n",
    "            targets[j] = data[rows[j] + delay][1]\n",
    "        yield samples, targets"
   ]
  },
  {
   "cell_type": "markdown",
   "metadata": {},
   "source": [
    "<div style='padding:5px;'> <font style='font-style:italic;font-size:15px;color:#2c3393;'>\n",
    "    Let us mean-center the dataset\n",
    "</font></div>"
   ]
  },
  {
   "cell_type": "code",
   "execution_count": 20,
   "metadata": {
    "ExecuteTime": {
     "end_time": "2019-12-22T10:12:20.061158Z",
     "start_time": "2019-12-22T10:12:20.044873Z"
    }
   },
   "outputs": [],
   "source": [
    "float_data = df0.values\n",
    "train_mean = float_data[:train_idx].mean(axis=0)\n",
    "float_data -= train_mean\n",
    "train_std = float_data[:train_idx].std(axis=0)\n",
    "float_data /= train_std\n",
    "train_mw_std = train_std[1]"
   ]
  },
  {
   "cell_type": "markdown",
   "metadata": {
    "ExecuteTime": {
     "end_time": "2019-12-20T10:17:36.642996Z",
     "start_time": "2019-12-20T10:17:36.633412Z"
    }
   },
   "source": [
    "<div style='padding:5px;'> <font style='font-style:italic;font-size:15px;color:#2c3393;'>\n",
    "    Let us initialize the parameters which will be used for the generation\n",
    "    An industry standard practic is to utilize a <code>lookback</code> of either <code>144 hours</code> (1 week), <code>288 hours</code> (2 weeks), or <code>720 hours</code> (1[30-day] month). The initial run was to utilized a <code>288 hour</code> lookback period due to group's industry expert's experience. However, outside consultation with industry experts said 1 week would suffice with this limited dataset.\n",
    "</font></div>"
   ]
  },
  {
   "cell_type": "code",
   "execution_count": 21,
   "metadata": {
    "ExecuteTime": {
     "end_time": "2019-12-22T10:12:20.064846Z",
     "start_time": "2019-12-22T10:12:20.062388Z"
    }
   },
   "outputs": [],
   "source": [
    "lookback = 144 # lookback(consider) the previous week data\n",
    "step = 1 # in hourly granularity\n",
    "delay = 24 # to forecast the next 24 hours\n",
    "batch_size = 128"
   ]
  },
  {
   "cell_type": "code",
   "execution_count": 22,
   "metadata": {
    "ExecuteTime": {
     "end_time": "2019-12-22T10:12:20.071519Z",
     "start_time": "2019-12-22T10:12:20.066292Z"
    }
   },
   "outputs": [],
   "source": [
    "train_gen = generator(float_data,\n",
    "    lookback=lookback,\n",
    "    delay=delay,\n",
    "    min_index=0,\n",
    "    max_index=train_idx,\n",
    "    shuffle=True,\n",
    "    step=step,\n",
    "    batch_size=batch_size)\n",
    "\n",
    "val_gen = generator(float_data,\n",
    "    lookback=lookback,\n",
    "    delay=delay,\n",
    "    min_index=train_idx+1,\n",
    "    max_index=val_idx,\n",
    "    step=step,\n",
    "    batch_size=batch_size)\n",
    "\n",
    "test_gen = generator(float_data,\n",
    "    lookback=lookback,\n",
    "    delay=delay,\n",
    "    min_index=val_idx,\n",
    "    max_index=None,\n",
    "    step=step,\n",
    "    batch_size=batch_size)\n",
    "\n",
    "val_steps = (val_idx - (train_idx+1) - lookback)\n",
    "test_steps = (len(float_data) - (val_idx+1) - lookback)"
   ]
  },
  {
   "cell_type": "markdown",
   "metadata": {},
   "source": [
    "<div id=\"benchmark\"/>\n",
    "<div style='padding:5px;'> <font style='font-weight:bold;font-size:15px;color:#2c3393;'>2.4 Benchmark</font></div>"
   ]
  },
  {
   "cell_type": "markdown",
   "metadata": {},
   "source": [
    "<div style='padding:5px;'> <font style='font-style:italic;font-size:15px;color:#2c3393;'>\n",
    "    The team used two metrics to establish a baseline error:\n",
    "    \n",
    "    (1) the naive method identified in a previous lecture, which we scaled to industry standard\n",
    "    (2) a different framework suggested by industry\n",
    "</font></div>"
   ]
  },
  {
   "cell_type": "code",
   "execution_count": 23,
   "metadata": {
    "ExecuteTime": {
     "end_time": "2019-12-22T10:12:33.924577Z",
     "start_time": "2019-12-22T10:12:20.072980Z"
    }
   },
   "outputs": [
    {
     "name": "stdout",
     "output_type": "stream",
     "text": [
      "0\n",
      "1000\n",
      "2000\n"
     ]
    }
   ],
   "source": [
    "def evaluate_naive_method():\n",
    "\n",
    "    batch_maes = []\n",
    "    for step in range(val_steps):\n",
    "        if step % 1000 == 0:\n",
    "            print(step)\n",
    "        samples, targets = next(val_gen)\n",
    "        preds = samples[:, -1, 1]\n",
    "        mae = np.mean(np.abs(preds - targets))\n",
    "        batch_maes.append(mae)\n",
    "    \n",
    "    return np.mean(batch_maes)\n",
    "\n",
    "naive_method = evaluate_naive_method()"
   ]
  },
  {
   "cell_type": "code",
   "execution_count": 24,
   "metadata": {
    "ExecuteTime": {
     "end_time": "2019-12-22T10:12:33.930736Z",
     "start_time": "2019-12-22T10:12:33.928082Z"
    }
   },
   "outputs": [
    {
     "name": "stdout",
     "output_type": "stream",
     "text": [
      "NAIVE METHOD 1: 5.84%\n"
     ]
    }
   ],
   "source": [
    "print('NAIVE METHOD 1:', f'{((naive_method * train_mw_std)/plant_capacity):0.2%}') #where 22 is the capacity of the plant"
   ]
  },
  {
   "cell_type": "code",
   "execution_count": 25,
   "metadata": {
    "ExecuteTime": {
     "end_time": "2019-12-22T10:12:33.983083Z",
     "start_time": "2019-12-22T10:12:33.932294Z"
    }
   },
   "outputs": [],
   "source": [
    "benchmark1 = ((naive_method * train_mw_std)/plant_capacity) * 100"
   ]
  },
  {
   "cell_type": "markdown",
   "metadata": {},
   "source": [
    "<div style='padding:5px;text-align:justify'> <font style='font-style:italic;font-size:17px;color:#2c3393;'>\n",
    "For establishing the 2nd baseline error, the team consulted the industry to determine a baseline error. However, even the industry is still conflicted on how to establish a baseline measurement. As of now, the baseline is still being established by policy makers and grid operators. \n",
    "<br>   \n",
    "    \n",
    "Luckily, consulting with industry experts gave the team a framework on how to establish a baseline error per plant. The resulting measure looked at the mean squared error of the day-ahead projection(DAP), also called scheduled (Ex-Ante or RTD), and the actual delivered (Ex-Post or RTX).\n",
    "    \n",
    "    \n",
    "This was then scaled as a percentage to the capacity of the plant. This was with processed with an industry expert and not included in the notebook. The yielding error resulted with a baseline of <code>12.48%</code>\n",
    "</font></div>"
   ]
  },
  {
   "cell_type": "code",
   "execution_count": 26,
   "metadata": {
    "ExecuteTime": {
     "end_time": "2019-12-22T10:12:33.994741Z",
     "start_time": "2019-12-22T10:12:33.987755Z"
    }
   },
   "outputs": [],
   "source": [
    "benchmark2 = 12.48"
   ]
  },
  {
   "cell_type": "markdown",
   "metadata": {},
   "source": [
    "<div id=\"model\"/>\n",
    "<div style='padding:5px;'> <font style='font-weight:bold;font-size:15px;color:#2c3393;'>2.5 Model Training Selection</font></div>"
   ]
  },
  {
   "cell_type": "markdown",
   "metadata": {},
   "source": [
    "<div style='padding:5px;'> <font style='font-style:italic;font-size:15px;color:#2c3393;'>\n",
    "The team utilized 4 models:\n",
    "    \n",
    "    - LSTM with 64 nodes\n",
    "    - LSTM with 32 nodes\n",
    "    - Stacked LSTM(2 layer) with 64 and 32 nodes\n",
    "    - Stacked LSTM(2 layer) with 32 and 64 nodes\n",
    "    \n",
    "Dropout of <code>0.2</code> and Recurrent Dropout of <code>0.2</code> and a <code>RMSProp</code> optimized was implemented for all three.\n",
    "\n",
    "The group decided to use a <code>Epoch=50</code>, with an EarlyStopping of <code>patience=10</code> and <code>min_delta=0.01</code> to avoid overfitting and to reduce runtime due to the limited time constraints.\n",
    "</font></div>"
   ]
  },
  {
   "cell_type": "code",
   "execution_count": 27,
   "metadata": {
    "ExecuteTime": {
     "end_time": "2019-12-22T10:12:34.008178Z",
     "start_time": "2019-12-22T10:12:34.000591Z"
    }
   },
   "outputs": [],
   "source": [
    "steps_per_epoch_cnt = math.floor(train_idx/batch_size)\n",
    "val_steps_cnt = round(math.floor((val_idx-train_idx)/batch_size),-1)"
   ]
  },
  {
   "cell_type": "markdown",
   "metadata": {},
   "source": [
    "<div id=\"lstm1\"/>\n",
    "<div style='padding:20px;'> <font style='font-weight:bold;font-size:15px;color:#2c3393;'>2.5.1 LSTM with 64</font></div>"
   ]
  },
  {
   "cell_type": "code",
   "execution_count": 28,
   "metadata": {
    "ExecuteTime": {
     "end_time": "2019-12-22T10:17:12.275611Z",
     "start_time": "2019-12-22T10:12:34.013786Z"
    },
    "collapsed": true
   },
   "outputs": [
    {
     "name": "stdout",
     "output_type": "stream",
     "text": [
      "WARNING:tensorflow:From /home/ssilva/anaconda3/lib/python3.7/site-packages/tensorflow/python/ops/resource_variable_ops.py:435: colocate_with (from tensorflow.python.framework.ops) is deprecated and will be removed in a future version.\n",
      "Instructions for updating:\n",
      "Colocations handled automatically by placer.\n",
      "WARNING:tensorflow:From /home/ssilva/anaconda3/lib/python3.7/site-packages/tensorflow/python/keras/backend.py:4010: calling dropout (from tensorflow.python.ops.nn_ops) with keep_prob is deprecated and will be removed in a future version.\n",
      "Instructions for updating:\n",
      "Please use `rate` instead of `keep_prob`. Rate should be set to `rate = 1 - keep_prob`.\n",
      "WARNING:tensorflow:From /home/ssilva/anaconda3/lib/python3.7/site-packages/tensorflow/python/ops/math_ops.py:3066: to_int32 (from tensorflow.python.ops.math_ops) is deprecated and will be removed in a future version.\n",
      "Instructions for updating:\n",
      "Use tf.cast instead.\n",
      "Epoch 1/50\n",
      "20/20 [==============================] - 1s 48ms/step - loss: 0.1711\n",
      "\n",
      "Epoch 00001: val_loss improved from inf to 0.17113, saving model to clark_best_lstm64.hdf5\n",
      " - 21s - loss: 0.3853 - val_loss: 0.1711\n",
      "Epoch 2/50\n",
      "20/20 [==============================] - 1s 42ms/step - loss: 0.1504\n",
      "\n",
      "Epoch 00002: val_loss improved from 0.17113 to 0.15042, saving model to clark_best_lstm64.hdf5\n",
      " - 22s - loss: 0.2661 - val_loss: 0.1504\n",
      "Epoch 3/50\n",
      "20/20 [==============================] - 1s 41ms/step - loss: 0.1373\n",
      "\n",
      "Epoch 00003: val_loss improved from 0.15042 to 0.13729, saving model to clark_best_lstm64.hdf5\n",
      " - 22s - loss: 0.2066 - val_loss: 0.1373\n",
      "Epoch 4/50\n",
      "20/20 [==============================] - 1s 40ms/step - loss: 0.1295\n",
      "\n",
      "Epoch 00004: val_loss improved from 0.13729 to 0.12954, saving model to clark_best_lstm64.hdf5\n",
      " - 21s - loss: 0.1742 - val_loss: 0.1295\n",
      "Epoch 5/50\n",
      "20/20 [==============================] - 1s 50ms/step - loss: 0.1284\n",
      "\n",
      "Epoch 00005: val_loss improved from 0.12954 to 0.12843, saving model to clark_best_lstm64.hdf5\n",
      " - 21s - loss: 0.1633 - val_loss: 0.1284\n",
      "Epoch 6/50\n",
      "20/20 [==============================] - 1s 47ms/step - loss: 0.1436\n",
      "\n",
      "Epoch 00006: val_loss did not improve from 0.12843\n",
      " - 22s - loss: 0.1576 - val_loss: 0.1436\n",
      "Epoch 7/50\n",
      "20/20 [==============================] - 1s 45ms/step - loss: 0.1292\n",
      "\n",
      "Epoch 00007: val_loss did not improve from 0.12843\n",
      " - 22s - loss: 0.1494 - val_loss: 0.1292\n",
      "Epoch 8/50\n",
      "20/20 [==============================] - 1s 49ms/step - loss: 0.1321\n",
      "\n",
      "Epoch 00008: val_loss did not improve from 0.12843\n",
      " - 21s - loss: 0.1475 - val_loss: 0.1321\n",
      "Epoch 9/50\n",
      "20/20 [==============================] - 1s 40ms/step - loss: 0.1304\n",
      "\n",
      "Epoch 00009: val_loss did not improve from 0.12843\n",
      " - 22s - loss: 0.1404 - val_loss: 0.1304\n",
      "Epoch 10/50\n",
      "20/20 [==============================] - 1s 43ms/step - loss: 0.1405\n",
      "\n",
      "Epoch 00010: val_loss did not improve from 0.12843\n",
      " - 21s - loss: 0.1370 - val_loss: 0.1405\n",
      "Epoch 11/50\n",
      "20/20 [==============================] - 1s 42ms/step - loss: 0.1361\n",
      "\n",
      "Epoch 00011: val_loss did not improve from 0.12843\n",
      " - 21s - loss: 0.1375 - val_loss: 0.1361\n",
      "Epoch 12/50\n",
      "20/20 [==============================] - 1s 41ms/step - loss: 0.1294\n",
      "\n",
      "Epoch 00012: val_loss did not improve from 0.12843\n",
      " - 20s - loss: 0.1328 - val_loss: 0.1294\n",
      "Epoch 13/50\n",
      "20/20 [==============================] - 1s 42ms/step - loss: 0.1366\n",
      "\n",
      "Epoch 00013: val_loss did not improve from 0.12843\n",
      " - 20s - loss: 0.1295 - val_loss: 0.1366\n",
      "Epoch 00013: early stopping\n"
     ]
    }
   ],
   "source": [
    "filepath_lstm64=\"clark_best_lstm64.hdf5\" \n",
    "cp_lstm64 = ModelCheckpoint(filepath_lstm64, monitor='val_loss', verbose=2, save_best_only=True, mode='min')\n",
    "es_lstm64 = EarlyStopping(monitor='val_loss', mode='min', verbose=2, patience=10, min_delta=.01)\n",
    "callbacks_list_lstm64 = [cp_lstm64, es_lstm64]\n",
    "\n",
    "# fix random seed for reproducibility\n",
    "seed = 1337\n",
    "np.random.seed(seed)\n",
    "\n",
    "model_lstm64 = Sequential()\n",
    "model_lstm64.add(layers.LSTM(64, \n",
    "                       dropout=0.2,\n",
    "                       recurrent_dropout=0.2, \n",
    "                       input_shape=(None, float_data.shape[-1])))\n",
    "model_lstm64.add(layers.Dense(64,activation='relu'))\n",
    "model_lstm64.add(layers.Dense(1))\n",
    "model_lstm64.compile(optimizer=RMSprop(), loss='mae')\n",
    "\n",
    "history_lstm64 = model_lstm64.fit_generator(train_gen,\n",
    "                                        steps_per_epoch=steps_per_epoch_cnt, \n",
    "                                        epochs=50,\n",
    "                                        validation_data=val_gen, \n",
    "                                        validation_steps=val_steps_cnt,\n",
    "                                        callbacks=callbacks_list_lstm64, verbose=2) "
   ]
  },
  {
   "cell_type": "code",
   "execution_count": 29,
   "metadata": {
    "ExecuteTime": {
     "end_time": "2019-12-22T10:17:12.468764Z",
     "start_time": "2019-12-22T10:17:12.277784Z"
    },
    "collapsed": true
   },
   "outputs": [
    {
     "data": {
      "image/png": "[encoded data removed]",
      "text/plain": [
       "<Figure size 432x288 with 1 Axes>"
      ]
     },
     "metadata": {
      "needs_background": "light"
     },
     "output_type": "display_data"
    }
   ],
   "source": [
    "loss_lstm64 = history_lstm64.history['loss']\n",
    "val_loss_lstm64 = history_lstm64.history['val_loss']\n",
    "\n",
    "epochs = range(1, len(loss_lstm64) + 1)\n",
    "\n",
    "plt.figure()\n",
    "\n",
    "plt.plot(epochs, loss_lstm64, 'bo', label='Training loss')\n",
    "plt.plot(epochs, val_loss_lstm64, 'b', label='Validation loss')\n",
    "plt.title('Training and validation loss')\n",
    "plt.legend()\n",
    "\n",
    "plt.show()"
   ]
  },
  {
   "cell_type": "code",
   "execution_count": 30,
   "metadata": {
    "ExecuteTime": {
     "end_time": "2019-12-22T10:17:12.473857Z",
     "start_time": "2019-12-22T10:17:12.470377Z"
    }
   },
   "outputs": [
    {
     "name": "stdout",
     "output_type": "stream",
     "text": [
      "Model Error: 2.82%\n"
     ]
    }
   ],
   "source": [
    "print('Model Error:', f'{((min(val_loss_lstm64) * train_mw_std)/plant_capacity):0.2%}')"
   ]
  },
  {
   "cell_type": "code",
   "execution_count": 31,
   "metadata": {
    "ExecuteTime": {
     "end_time": "2019-12-22T10:17:12.478050Z",
     "start_time": "2019-12-22T10:17:12.475313Z"
    }
   },
   "outputs": [],
   "source": [
    "lstm64 = ((min(val_loss_lstm64) * train_mw_std)/plant_capacity) * 100"
   ]
  },
  {
   "cell_type": "markdown",
   "metadata": {},
   "source": [
    "<div id=\"lstm2\"/>\n",
    "<div style='padding:20px;'> <font style='font-weight:bold;font-size:15px;color:#2c3393;'>2.5.2 LSTM with 32 nodes</font></div>"
   ]
  },
  {
   "cell_type": "code",
   "execution_count": 32,
   "metadata": {
    "ExecuteTime": {
     "end_time": "2019-12-22T10:21:36.091899Z",
     "start_time": "2019-12-22T10:17:12.479670Z"
    },
    "collapsed": true
   },
   "outputs": [
    {
     "name": "stdout",
     "output_type": "stream",
     "text": [
      "Epoch 1/50\n",
      "20/20 [==============================] - 1s 38ms/step - loss: 0.1862\n",
      "\n",
      "Epoch 00001: val_loss improved from inf to 0.18618, saving model to clark_best_lstm32.hdf5\n",
      " - 18s - loss: 0.4808 - val_loss: 0.1862\n",
      "Epoch 2/50\n",
      "20/20 [==============================] - 1s 33ms/step - loss: 0.1496\n",
      "\n",
      "Epoch 00002: val_loss improved from 0.18618 to 0.14965, saving model to clark_best_lstm32.hdf5\n",
      " - 17s - loss: 0.3122 - val_loss: 0.1496\n",
      "Epoch 3/50\n",
      "20/20 [==============================] - 1s 35ms/step - loss: 0.1462\n",
      "\n",
      "Epoch 00003: val_loss improved from 0.14965 to 0.14625, saving model to clark_best_lstm32.hdf5\n",
      " - 18s - loss: 0.2731 - val_loss: 0.1462\n",
      "Epoch 4/50\n",
      "20/20 [==============================] - 1s 30ms/step - loss: 0.1438\n",
      "\n",
      "Epoch 00004: val_loss improved from 0.14625 to 0.14383, saving model to clark_best_lstm32.hdf5\n",
      " - 17s - loss: 0.2481 - val_loss: 0.1438\n",
      "Epoch 5/50\n",
      "20/20 [==============================] - 1s 31ms/step - loss: 0.1364\n",
      "\n",
      "Epoch 00005: val_loss improved from 0.14383 to 0.13638, saving model to clark_best_lstm32.hdf5\n",
      " - 17s - loss: 0.2247 - val_loss: 0.1364\n",
      "Epoch 6/50\n",
      "20/20 [==============================] - 1s 33ms/step - loss: 0.1361\n",
      "\n",
      "Epoch 00006: val_loss improved from 0.13638 to 0.13614, saving model to clark_best_lstm32.hdf5\n",
      " - 17s - loss: 0.2101 - val_loss: 0.1361\n",
      "Epoch 7/50\n",
      "20/20 [==============================] - 1s 46ms/step - loss: 0.1266\n",
      "\n",
      "Epoch 00007: val_loss improved from 0.13614 to 0.12662, saving model to clark_best_lstm32.hdf5\n",
      " - 19s - loss: 0.1899 - val_loss: 0.1266\n",
      "Epoch 8/50\n",
      "20/20 [==============================] - 1s 31ms/step - loss: 0.1360\n",
      "\n",
      "Epoch 00008: val_loss did not improve from 0.12662\n",
      " - 17s - loss: 0.1716 - val_loss: 0.1360\n",
      "Epoch 9/50\n",
      "20/20 [==============================] - 1s 36ms/step - loss: 0.1264\n",
      "\n",
      "Epoch 00009: val_loss improved from 0.12662 to 0.12641, saving model to clark_best_lstm32.hdf5\n",
      " - 17s - loss: 0.1583 - val_loss: 0.1264\n",
      "Epoch 10/50\n",
      "20/20 [==============================] - 1s 35ms/step - loss: 0.1375\n",
      "\n",
      "Epoch 00010: val_loss did not improve from 0.12641\n",
      " - 16s - loss: 0.1496 - val_loss: 0.1375\n",
      "Epoch 11/50\n",
      "20/20 [==============================] - 1s 33ms/step - loss: 0.1290\n",
      "\n",
      "Epoch 00011: val_loss did not improve from 0.12641\n",
      " - 17s - loss: 0.1506 - val_loss: 0.1290\n",
      "Epoch 12/50\n",
      "20/20 [==============================] - 1s 31ms/step - loss: 0.1341\n",
      "\n",
      "Epoch 00012: val_loss did not improve from 0.12641\n",
      " - 17s - loss: 0.1457 - val_loss: 0.1341\n",
      "Epoch 13/50\n",
      "20/20 [==============================] - 1s 54ms/step - loss: 0.1269\n",
      "\n",
      "Epoch 00013: val_loss did not improve from 0.12641\n",
      " - 19s - loss: 0.1442 - val_loss: 0.1269\n",
      "Epoch 14/50\n",
      "20/20 [==============================] - 1s 31ms/step - loss: 0.1369\n",
      "\n",
      "Epoch 00014: val_loss did not improve from 0.12641\n",
      " - 19s - loss: 0.1391 - val_loss: 0.1369\n",
      "Epoch 15/50\n",
      "20/20 [==============================] - 1s 34ms/step - loss: 0.1328\n",
      "\n",
      "Epoch 00015: val_loss did not improve from 0.12641\n",
      " - 18s - loss: 0.1361 - val_loss: 0.1328\n",
      "Epoch 00015: early stopping\n"
     ]
    }
   ],
   "source": [
    "filepath_lstm32=\"clark_best_lstm32.hdf5\" \n",
    "cp_lstm32 = ModelCheckpoint(filepath_lstm32, monitor='val_loss', verbose=2, save_best_only=True, mode='min')\n",
    "es_lstm32 = EarlyStopping(monitor='val_loss', mode='min', verbose=2, patience=10, min_delta=.01)\n",
    "callbacks_list_lstm32 = [cp_lstm32, es_lstm32]\n",
    "\n",
    "# fix random seed for reproducibility\n",
    "seed = 1337\n",
    "np.random.seed(seed)\n",
    "\n",
    "model_lstm32 = Sequential()\n",
    "model_lstm32.add(layers.LSTM(32, \n",
    "                       dropout=0.2,\n",
    "                       recurrent_dropout=0.2, \n",
    "                       input_shape=(None, float_data.shape[-1])))\n",
    "model_lstm32.add(layers.Dense(32, activation='relu'))\n",
    "model_lstm32.add(layers.Dense(1))\n",
    "model_lstm32.compile(optimizer=RMSprop(), loss='mae')\n",
    "\n",
    "history_lstm32 = model_lstm32.fit_generator(train_gen,\n",
    "                                        steps_per_epoch=steps_per_epoch_cnt, \n",
    "                                        epochs=50,\n",
    "                                        validation_data=val_gen, \n",
    "                                        validation_steps=val_steps_cnt,\n",
    "                                        callbacks=callbacks_list_lstm32, verbose=2) "
   ]
  },
  {
   "cell_type": "code",
   "execution_count": 33,
   "metadata": {
    "ExecuteTime": {
     "end_time": "2019-12-22T10:21:36.296192Z",
     "start_time": "2019-12-22T10:21:36.094086Z"
    },
    "collapsed": true
   },
   "outputs": [
    {
     "data": {
      "image/png": "[encoded data removed]",
      "text/plain": [
       "<Figure size 432x288 with 1 Axes>"
      ]
     },
     "metadata": {
      "needs_background": "light"
     },
     "output_type": "display_data"
    }
   ],
   "source": [
    "loss_lstm32 = history_lstm32.history['loss']\n",
    "val_loss_lstm32 = history_lstm32.history['val_loss']\n",
    "\n",
    "epochs = range(1, len(loss_lstm32) + 1)\n",
    "\n",
    "plt.figure()\n",
    "\n",
    "plt.plot(epochs, loss_lstm32, 'bo', label='Training loss')\n",
    "plt.plot(epochs, val_loss_lstm32, 'b', label='Validation loss')\n",
    "plt.title('Training and validation loss')\n",
    "plt.legend()\n",
    "\n",
    "plt.show()"
   ]
  },
  {
   "cell_type": "code",
   "execution_count": 34,
   "metadata": {
    "ExecuteTime": {
     "end_time": "2019-12-22T10:21:36.301203Z",
     "start_time": "2019-12-22T10:21:36.297844Z"
    }
   },
   "outputs": [
    {
     "name": "stdout",
     "output_type": "stream",
     "text": [
      "Model Error: 2.77%\n"
     ]
    }
   ],
   "source": [
    "print('Model Error:', f'{((min(val_loss_lstm32) * train_mw_std)/plant_capacity):0.2%}')"
   ]
  },
  {
   "cell_type": "code",
   "execution_count": 35,
   "metadata": {
    "ExecuteTime": {
     "end_time": "2019-12-22T10:21:36.305467Z",
     "start_time": "2019-12-22T10:21:36.302916Z"
    }
   },
   "outputs": [],
   "source": [
    "lstm32 = ((min(val_loss_lstm32) * train_mw_std)/plant_capacity)  * 100"
   ]
  },
  {
   "cell_type": "markdown",
   "metadata": {},
   "source": [
    "<div id=\"lstm3\"/>\n",
    "<div style='padding:20px;'> <font style='font-weight:bold;font-size:15px;color:#2c3393;'>2.5.3 Stacked LSTM with 64 and 32 nodes</font></div>"
   ]
  },
  {
   "cell_type": "code",
   "execution_count": 36,
   "metadata": {
    "ExecuteTime": {
     "end_time": "2019-12-22T10:29:43.218851Z",
     "start_time": "2019-12-22T10:21:36.306958Z"
    },
    "collapsed": true
   },
   "outputs": [
    {
     "name": "stdout",
     "output_type": "stream",
     "text": [
      "Epoch 1/50\n",
      "20/20 [==============================] - 2s 84ms/step - loss: 0.1595\n",
      "\n",
      "Epoch 00001: val_loss improved from inf to 0.15946, saving model to clark_best_lstm6432.hdf5\n",
      " - 46s - loss: 0.4159 - val_loss: 0.1595\n",
      "Epoch 2/50\n",
      "20/20 [==============================] - 1s 69ms/step - loss: 0.1199\n",
      "\n",
      "Epoch 00002: val_loss improved from 0.15946 to 0.11991, saving model to clark_best_lstm6432.hdf5\n",
      " - 42s - loss: 0.2417 - val_loss: 0.1199\n",
      "Epoch 3/50\n",
      "20/20 [==============================] - 1s 66ms/step - loss: 0.1290\n",
      "\n",
      "Epoch 00003: val_loss did not improve from 0.11991\n",
      " - 40s - loss: 0.1874 - val_loss: 0.1290\n",
      "Epoch 4/50\n",
      "20/20 [==============================] - 1s 67ms/step - loss: 0.1210\n",
      "\n",
      "Epoch 00004: val_loss did not improve from 0.11991\n",
      " - 40s - loss: 0.1660 - val_loss: 0.1210\n",
      "Epoch 5/50\n",
      "20/20 [==============================] - 2s 77ms/step - loss: 0.1203\n",
      "\n",
      "Epoch 00005: val_loss did not improve from 0.11991\n",
      " - 41s - loss: 0.1551 - val_loss: 0.1203\n",
      "Epoch 6/50\n",
      "20/20 [==============================] - 2s 83ms/step - loss: 0.1340\n",
      "\n",
      "Epoch 00006: val_loss did not improve from 0.11991\n",
      " - 41s - loss: 0.1528 - val_loss: 0.1340\n",
      "Epoch 7/50\n",
      "20/20 [==============================] - 1s 66ms/step - loss: 0.1215\n",
      "\n",
      "Epoch 00007: val_loss did not improve from 0.11991\n",
      " - 39s - loss: 0.1419 - val_loss: 0.1215\n",
      "Epoch 8/50\n",
      "20/20 [==============================] - 1s 65ms/step - loss: 0.1299\n",
      "\n",
      "Epoch 00008: val_loss did not improve from 0.11991\n",
      " - 38s - loss: 0.1433 - val_loss: 0.1299\n",
      "Epoch 9/50\n",
      "20/20 [==============================] - 1s 65ms/step - loss: 0.1234\n",
      "\n",
      "Epoch 00009: val_loss did not improve from 0.11991\n",
      " - 38s - loss: 0.1355 - val_loss: 0.1234\n",
      "Epoch 10/50\n",
      "20/20 [==============================] - 1s 69ms/step - loss: 0.1421\n",
      "\n",
      "Epoch 00010: val_loss did not improve from 0.11991\n",
      " - 38s - loss: 0.1325 - val_loss: 0.1421\n",
      "Epoch 11/50\n",
      "20/20 [==============================] - 1s 65ms/step - loss: 0.1251\n",
      "\n",
      "Epoch 00011: val_loss did not improve from 0.11991\n",
      " - 39s - loss: 0.1322 - val_loss: 0.1251\n",
      "Epoch 12/50\n",
      "20/20 [==============================] - 1s 72ms/step - loss: 0.1347\n",
      "\n",
      "Epoch 00012: val_loss did not improve from 0.11991\n",
      " - 40s - loss: 0.1292 - val_loss: 0.1347\n",
      "Epoch 00012: early stopping\n"
     ]
    }
   ],
   "source": [
    "filepath_lstm6432=\"clark_best_lstm6432.hdf5\" \n",
    "cp_lstm6432 = ModelCheckpoint(filepath_lstm6432, monitor='val_loss', verbose=2, save_best_only=True, mode='min')\n",
    "es_lstm6432 = EarlyStopping(monitor='val_loss', mode='min', verbose=2, patience=10, min_delta=.01)\n",
    "callbacks_list_lstm6432 = [cp_lstm6432, es_lstm6432]\n",
    "\n",
    "# fix random seed for reproducibility\n",
    "seed = 1337\n",
    "np.random.seed(seed)\n",
    "\n",
    "model_lstm6432 = Sequential()\n",
    "model_lstm6432.add(layers.LSTM(64,\n",
    "                    dropout=0.2,\n",
    "                    recurrent_dropout=0.2,\n",
    "                    return_sequences=True,\n",
    "                    input_shape=(None, float_data.shape[-1])))\n",
    "model_lstm6432.add(layers.LSTM(32,\n",
    "                    dropout=0.2,\n",
    "                    recurrent_dropout=0.2))\n",
    "model_lstm6432.add(layers.Dense(32, activation='relu'))\n",
    "model_lstm6432.add(layers.Dense(1))\n",
    "model_lstm6432.compile(optimizer=RMSprop(), loss='mae')\n",
    "\n",
    "history_lstm6432 = model_lstm6432.fit_generator(train_gen,\n",
    "                                             steps_per_epoch=steps_per_epoch_cnt,\n",
    "                                             epochs=50,\n",
    "                                             validation_data=val_gen, \n",
    "                                             validation_steps=val_steps_cnt,\n",
    "                                             callbacks=callbacks_list_lstm6432, verbose=2)"
   ]
  },
  {
   "cell_type": "code",
   "execution_count": 37,
   "metadata": {
    "ExecuteTime": {
     "end_time": "2019-12-22T10:29:43.410788Z",
     "start_time": "2019-12-22T10:29:43.220551Z"
    },
    "collapsed": true
   },
   "outputs": [
    {
     "data": {
      "image/png": "[encoded data removed]",
      "text/plain": [
       "<Figure size 432x288 with 1 Axes>"
      ]
     },
     "metadata": {
      "needs_background": "light"
     },
     "output_type": "display_data"
    }
   ],
   "source": [
    "loss_lstm6432 = history_lstm6432.history['loss']\n",
    "val_loss_lstm6432 = history_lstm6432.history['val_loss']\n",
    "\n",
    "epochs = range(1, len(loss_lstm6432) + 1)\n",
    "\n",
    "plt.figure()\n",
    "\n",
    "plt.plot(epochs, loss_lstm6432, 'bo', label='Training loss')\n",
    "plt.plot(epochs, val_loss_lstm6432, 'b', label='Validation loss')\n",
    "plt.title('Training and validation loss')\n",
    "plt.legend()\n",
    "\n",
    "plt.show()"
   ]
  },
  {
   "cell_type": "code",
   "execution_count": 38,
   "metadata": {
    "ExecuteTime": {
     "end_time": "2019-12-22T10:29:43.415865Z",
     "start_time": "2019-12-22T10:29:43.412310Z"
    }
   },
   "outputs": [
    {
     "name": "stdout",
     "output_type": "stream",
     "text": [
      "Model Error: 2.63%\n"
     ]
    }
   ],
   "source": [
    "print('Model Error:', f'{((min(val_loss_lstm6432) * train_mw_std)/plant_capacity):0.2%}')"
   ]
  },
  {
   "cell_type": "code",
   "execution_count": 39,
   "metadata": {
    "ExecuteTime": {
     "end_time": "2019-12-22T10:29:43.421295Z",
     "start_time": "2019-12-22T10:29:43.418041Z"
    }
   },
   "outputs": [],
   "source": [
    "lstm6432 = ((min(val_loss_lstm6432) * train_mw_std)/plant_capacity)  * 100"
   ]
  },
  {
   "cell_type": "markdown",
   "metadata": {},
   "source": [
    "<div id=\"lstm4\"/>\n",
    "<div style='padding:20px;'> <font style='font-weight:bold;font-size:15px;color:#2c3393;'>2.5.4 Stacked LSTM with 32 and 64 nodes</font></div>"
   ]
  },
  {
   "cell_type": "code",
   "execution_count": 40,
   "metadata": {
    "ExecuteTime": {
     "end_time": "2019-12-22T10:38:22.505718Z",
     "start_time": "2019-12-22T10:29:43.423271Z"
    },
    "collapsed": true
   },
   "outputs": [
    {
     "name": "stdout",
     "output_type": "stream",
     "text": [
      "Epoch 1/50\n",
      "20/20 [==============================] - 2s 86ms/step - loss: 0.1717\n",
      "\n",
      "Epoch 00001: val_loss improved from inf to 0.17167, saving model to clark_best_lstm3264.hdf5\n",
      " - 50s - loss: 0.3827 - val_loss: 0.1717\n",
      "Epoch 2/50\n",
      "20/20 [==============================] - 1s 71ms/step - loss: 0.1447\n",
      "\n",
      "Epoch 00002: val_loss improved from 0.17167 to 0.14468, saving model to clark_best_lstm3264.hdf5\n",
      " - 38s - loss: 0.2317 - val_loss: 0.1447\n",
      "Epoch 3/50\n",
      "20/20 [==============================] - 1s 64ms/step - loss: 0.1177\n",
      "\n",
      "Epoch 00003: val_loss improved from 0.14468 to 0.11771, saving model to clark_best_lstm3264.hdf5\n",
      " - 39s - loss: 0.1797 - val_loss: 0.1177\n",
      "Epoch 4/50\n",
      "20/20 [==============================] - 1s 64ms/step - loss: 0.1282\n",
      "\n",
      "Epoch 00004: val_loss did not improve from 0.11771\n",
      " - 37s - loss: 0.1620 - val_loss: 0.1282\n",
      "Epoch 5/50\n",
      "20/20 [==============================] - 2s 90ms/step - loss: 0.1210\n",
      "\n",
      "Epoch 00005: val_loss did not improve from 0.11771\n",
      " - 42s - loss: 0.1546 - val_loss: 0.1210\n",
      "Epoch 6/50\n",
      "20/20 [==============================] - 1s 66ms/step - loss: 0.1249\n",
      "\n",
      "Epoch 00006: val_loss did not improve from 0.11771\n",
      " - 49s - loss: 0.1525 - val_loss: 0.1249\n",
      "Epoch 7/50\n",
      "20/20 [==============================] - 1s 65ms/step - loss: 0.1245\n",
      "\n",
      "Epoch 00007: val_loss did not improve from 0.11771\n",
      " - 36s - loss: 0.1434 - val_loss: 0.1245\n",
      "Epoch 8/50\n",
      "20/20 [==============================] - 1s 65ms/step - loss: 0.1350\n",
      "\n",
      "Epoch 00008: val_loss did not improve from 0.11771\n",
      " - 37s - loss: 0.1449 - val_loss: 0.1350\n",
      "Epoch 9/50\n",
      "20/20 [==============================] - 1s 65ms/step - loss: 0.1203\n",
      "\n",
      "Epoch 00009: val_loss did not improve from 0.11771\n",
      " - 37s - loss: 0.1356 - val_loss: 0.1203\n",
      "Epoch 10/50\n",
      "20/20 [==============================] - 1s 64ms/step - loss: 0.1250\n",
      "\n",
      "Epoch 00010: val_loss did not improve from 0.11771\n",
      " - 38s - loss: 0.1336 - val_loss: 0.1250\n",
      "Epoch 11/50\n",
      "20/20 [==============================] - 1s 64ms/step - loss: 0.1447\n",
      "\n",
      "Epoch 00011: val_loss did not improve from 0.11771\n",
      " - 38s - loss: 0.1332 - val_loss: 0.1447\n",
      "Epoch 12/50\n",
      "20/20 [==============================] - 1s 65ms/step - loss: 0.1234\n",
      "\n",
      "Epoch 00012: val_loss did not improve from 0.11771\n",
      " - 37s - loss: 0.1302 - val_loss: 0.1234\n",
      "Epoch 13/50\n",
      "20/20 [==============================] - 1s 65ms/step - loss: 0.1325\n",
      "\n",
      "Epoch 00013: val_loss did not improve from 0.11771\n",
      " - 38s - loss: 0.1275 - val_loss: 0.1325\n",
      "Epoch 00013: early stopping\n"
     ]
    }
   ],
   "source": [
    "filepath_lstm3264 =\"clark_best_lstm3264.hdf5\" \n",
    "cp_lstm3264 = ModelCheckpoint(filepath_lstm3264, monitor='val_loss', verbose=2, save_best_only=True, mode='min')\n",
    "es_lstm3264 = EarlyStopping(monitor='val_loss', mode='min', verbose=2, patience=10, min_delta=.01)\n",
    "callbacks_list_lstm3264 = [cp_lstm3264, es_lstm3264]\n",
    "\n",
    "# fix random seed for reproducibility\n",
    "seed = 1337\n",
    "np.random.seed(seed)\n",
    "\n",
    "model_lstm3264 = Sequential()\n",
    "model_lstm3264.add(layers.LSTM(64,\n",
    "                    dropout=0.2,\n",
    "                    recurrent_dropout=0.2,\n",
    "                    return_sequences=True,\n",
    "                    input_shape=(None, float_data.shape[-1])))\n",
    "model_lstm3264.add(layers.LSTM(32,\n",
    "                    dropout=0.2,\n",
    "                    recurrent_dropout=0.2))\n",
    "model_lstm3264.add(layers.Dense(64, activation='relu'))\n",
    "model_lstm3264.add(layers.Dense(1))\n",
    "model_lstm3264.compile(optimizer=RMSprop(), loss='mae')\n",
    "\n",
    "history_lstm3264 = model_lstm3264.fit_generator(train_gen,\n",
    "                                             steps_per_epoch=steps_per_epoch_cnt,\n",
    "                                             epochs=50,\n",
    "                                             validation_data=val_gen, \n",
    "                                             validation_steps=val_steps_cnt,\n",
    "                                             callbacks=callbacks_list_lstm3264, verbose=2)"
   ]
  },
  {
   "cell_type": "code",
   "execution_count": 41,
   "metadata": {
    "ExecuteTime": {
     "end_time": "2019-12-22T10:38:22.690011Z",
     "start_time": "2019-12-22T10:38:22.507465Z"
    },
    "collapsed": true
   },
   "outputs": [
    {
     "data": {
      "image/png": "[encoded data removed]",
      "text/plain": [
       "<Figure size 432x288 with 1 Axes>"
      ]
     },
     "metadata": {
      "needs_background": "light"
     },
     "output_type": "display_data"
    }
   ],
   "source": [
    "loss_lstm3264 = history_lstm3264.history['loss']\n",
    "val_loss_lstm3264 = history_lstm3264.history['val_loss']\n",
    "\n",
    "epochs = range(1, len(loss_lstm3264) + 1)\n",
    "\n",
    "plt.figure()\n",
    "\n",
    "plt.plot(epochs, loss_lstm3264, 'bo', label='Training loss')\n",
    "plt.plot(epochs, val_loss_lstm3264, 'b', label='Validation loss')\n",
    "plt.title('Training and validation loss')\n",
    "plt.legend()\n",
    "\n",
    "plt.show()"
   ]
  },
  {
   "cell_type": "code",
   "execution_count": 42,
   "metadata": {
    "ExecuteTime": {
     "end_time": "2019-12-22T10:38:22.694760Z",
     "start_time": "2019-12-22T10:38:22.691430Z"
    }
   },
   "outputs": [
    {
     "name": "stdout",
     "output_type": "stream",
     "text": [
      "Model Error: 2.58%\n"
     ]
    }
   ],
   "source": [
    "print('Model Error:', f'{((min(val_loss_lstm3264) * train_mw_std)/plant_capacity):0.2%}')"
   ]
  },
  {
   "cell_type": "code",
   "execution_count": 43,
   "metadata": {
    "ExecuteTime": {
     "end_time": "2019-12-22T10:38:22.698920Z",
     "start_time": "2019-12-22T10:38:22.696430Z"
    }
   },
   "outputs": [],
   "source": [
    "lstm3264 = ((min(val_loss_lstm3264) * train_mw_std)/plant_capacity)  * 100"
   ]
  },
  {
   "cell_type": "markdown",
   "metadata": {},
   "source": [
    "<div id=\"results\"/>\n",
    "<div style='padding:3px;'> <font style='font-weight:bold;font-size:20px;color:#2c3393;'>3. Results and Discussions</font></div>"
   ]
  },
  {
   "cell_type": "markdown",
   "metadata": {},
   "source": [
    "<div id=\"res\"/>\n",
    "<div style='padding:10px;'> <font style='font-weight:bold;font-size:15px;color:#2c3393;'>3.1 Results</font></div>"
   ]
  },
  {
   "cell_type": "code",
   "execution_count": 44,
   "metadata": {
    "ExecuteTime": {
     "end_time": "2019-12-22T10:38:22.703293Z",
     "start_time": "2019-12-22T10:38:22.700473Z"
    }
   },
   "outputs": [],
   "source": [
    "names = ['Industry Agnostic Naive Method',\n",
    "         'Industry Standard Naive Method', \n",
    "         'LSTM with 64 nodes',\n",
    "         'LSTM with 32 nodes',\n",
    "         'LSTM+LSTM with 64 nodes and 32 nodes',\n",
    "         'LSTM+LSTM with 32 nodes and 64 nodes']\n",
    "results = [benchmark1, \n",
    "           benchmark2,\n",
    "           lstm64,\n",
    "           lstm32,\n",
    "           lstm6432,\n",
    "           lstm3264]"
   ]
  },
  {
   "cell_type": "code",
   "execution_count": 45,
   "metadata": {
    "ExecuteTime": {
     "end_time": "2019-12-22T10:38:22.708235Z",
     "start_time": "2019-12-22T10:38:22.704712Z"
    }
   },
   "outputs": [],
   "source": [
    "results = pd.DataFrame(zip(names,results), columns=['Model', 'Error in Percentage'])"
   ]
  },
  {
   "cell_type": "code",
   "execution_count": 46,
   "metadata": {
    "ExecuteTime": {
     "end_time": "2019-12-22T10:38:22.712834Z",
     "start_time": "2019-12-22T10:38:22.709786Z"
    }
   },
   "outputs": [],
   "source": [
    "results['Error in Percentage'] = round(results['Error in Percentage'],2)"
   ]
  },
  {
   "cell_type": "code",
   "execution_count": 47,
   "metadata": {
    "ExecuteTime": {
     "end_time": "2019-12-22T10:38:22.719530Z",
     "start_time": "2019-12-22T10:38:22.714346Z"
    }
   },
   "outputs": [],
   "source": [
    "results['Improvement'] = round(1-(results['Error in Percentage']/benchmark2),4)*100"
   ]
  },
  {
   "cell_type": "code",
   "execution_count": 48,
   "metadata": {
    "ExecuteTime": {
     "end_time": "2019-12-22T10:38:22.727570Z",
     "start_time": "2019-12-22T10:38:22.720865Z"
    }
   },
   "outputs": [
    {
     "data": {
      "text/html": [
       "<div>\n",
       "<style scoped>\n",
       "    .dataframe tbody tr th:only-of-type {\n",
       "        vertical-align: middle;\n",
       "    }\n",
       "\n",
       "    .dataframe tbody tr th {\n",
       "        vertical-align: top;\n",
       "    }\n",
       "\n",
       "    .dataframe thead th {\n",
       "        text-align: right;\n",
       "    }\n",
       "</style>\n",
       "<table border=\"1\" class=\"dataframe\">\n",
       "  <thead>\n",
       "    <tr style=\"text-align: right;\">\n",
       "      <th></th>\n",
       "      <th>Model</th>\n",
       "      <th>Error in Percentage</th>\n",
       "      <th>Improvement</th>\n",
       "    </tr>\n",
       "  </thead>\n",
       "  <tbody>\n",
       "    <tr>\n",
       "      <th>0</th>\n",
       "      <td>Industry Agnostic Naive Method</td>\n",
       "      <td>5.84</td>\n",
       "      <td>53.21</td>\n",
       "    </tr>\n",
       "    <tr>\n",
       "      <th>1</th>\n",
       "      <td>Industry Standard Naive Method</td>\n",
       "      <td>12.48</td>\n",
       "      <td>0.00</td>\n",
       "    </tr>\n",
       "    <tr>\n",
       "      <th>2</th>\n",
       "      <td>LSTM with 64 nodes</td>\n",
       "      <td>2.82</td>\n",
       "      <td>77.40</td>\n",
       "    </tr>\n",
       "    <tr>\n",
       "      <th>3</th>\n",
       "      <td>LSTM with 32 nodes</td>\n",
       "      <td>2.77</td>\n",
       "      <td>77.80</td>\n",
       "    </tr>\n",
       "    <tr>\n",
       "      <th>4</th>\n",
       "      <td>LSTM+LSTM with 64 nodes and 32 nodes</td>\n",
       "      <td>2.63</td>\n",
       "      <td>78.93</td>\n",
       "    </tr>\n",
       "    <tr>\n",
       "      <th>5</th>\n",
       "      <td>LSTM+LSTM with 32 nodes and 64 nodes</td>\n",
       "      <td>2.58</td>\n",
       "      <td>79.33</td>\n",
       "    </tr>\n",
       "  </tbody>\n",
       "</table>\n",
       "</div>"
      ],
      "text/plain": [
       "                                  Model  Error in Percentage  Improvement\n",
       "0        Industry Agnostic Naive Method                 5.84        53.21\n",
       "1        Industry Standard Naive Method                12.48         0.00\n",
       "2                    LSTM with 64 nodes                 2.82        77.40\n",
       "3                    LSTM with 32 nodes                 2.77        77.80\n",
       "4  LSTM+LSTM with 64 nodes and 32 nodes                 2.63        78.93\n",
       "5  LSTM+LSTM with 32 nodes and 64 nodes                 2.58        79.33"
      ]
     },
     "execution_count": 48,
     "metadata": {},
     "output_type": "execute_result"
    }
   ],
   "source": [
    "results"
   ]
  }
 ],
 "metadata": {
  "kernelspec": {
   "display_name": "Python 3",
   "language": "python",
   "name": "python3"
  },
  "language_info": {
   "codemirror_mode": {
    "name": "ipython",
    "version": 3
   },
   "file_extension": ".py",
   "mimetype": "text/x-python",
   "name": "python",
   "nbconvert_exporter": "python",
   "pygments_lexer": "ipython3",
   "version": "3.7.3"
  }
 },
 "nbformat": 4,
 "nbformat_minor": 2
}
