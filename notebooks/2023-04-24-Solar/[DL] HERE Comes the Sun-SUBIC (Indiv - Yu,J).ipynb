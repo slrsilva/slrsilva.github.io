{
 "cells": [
  {
   "cell_type": "markdown",
   "metadata": {},
   "source": [
    "<div style='padding:5px'><font style='font-weight:bold;font-size:32px;color:#2c3393;'>Here Comes The Sun: Clark Solar Power Plant</font></div>\n",
    "<div style='padding:5px'><font style='font-weight:bold;font-size:24px;color:#2c3393;'>LT16 - Sandro Silva and Jac Lin Yu</font></div>\n",
    "<div style='padding:5px'><font style='font-weight:bold;font-size:15px;color:#2c3393;'>Individual Project of Jac Lin Yu</font><div>"
   ]
  },
  {
   "cell_type": "markdown",
   "metadata": {},
   "source": [
    "------------"
   ]
  },
  {
   "cell_type": "markdown",
   "metadata": {},
   "source": [
    "<font style='font-weight:bold;font-size:32px;color:#2c3393;'>Table of Contents</font>\n"
   ]
  },
  {
   "cell_type": "markdown",
   "metadata": {
    "ExecuteTime": {
     "end_time": "2019-12-20T08:14:15.828643Z",
     "start_time": "2019-12-20T08:14:15.822694Z"
    }
   },
   "source": [
    "<font style='font-size:16px'>\n",
    "    \n",
    "**[1. Problem Statement](#problem-statement)**\n",
    "\n",
    "**[2. Methodology](#methodology)**\n",
    "\n",
    "  * [2.1. Loading Prerequisites](#preq)\n",
    "  * [2.2. Dataset and Preprocessing](#data)\n",
    "  * [2.3. Train, Validation, Test Split and Batch Generation](#train)\n",
    "  * [2.4. Determining the Benchmark](#benchmark)\n",
    "  * [2.5. Model Training and Selection](#model)\n",
    "      * [2.5.1 LSTM with 64 nodes](#lstm1)\n",
    "      * [2.5.2 LSTM with 32 nodes](#lstm2)\n",
    "      * [2.5.3 Stacked LSTM with 64 and 32 nodes](#lstm3)\n",
    "      * [2.5.4 Stacked LSTM with 32 and 64 nodes](#lstm4)   \n",
    "\n",
    "**[3. Results and Discussions](#results)**\n",
    "  * [3.1. Results](#res)\n",
    "  * [3.2. Discussions and Recommendations](#discussions)\n",
    "    \n",
    "**[4. Summary and Main Learning Points](#summary)**\n",
    "  * [4.1. Summary](#summary)\n",
    "  * [4.1. Main Learning Points](#main)\n",
    "</font>"
   ]
  },
  {
   "cell_type": "markdown",
   "metadata": {},
   "source": [
    "<div id=\"problem-statement\"/>\n",
    "<div style='padding:3px;'> <font style='font-weight:bold;font-size:20px;color:#2c3393;'>1. Problem Statement</font></div>"
   ]
  },
  {
   "cell_type": "markdown",
   "metadata": {},
   "source": [
    "<div style='padding-left: 20px; text-align: justify; font-size:16px; line-height:1.6'>\n",
    "With the threat of climate change, governments and industries needed to make adjustments as a response to the changes in the priorities of the people. Being one of the biggest contributors to greenhouse gases, the energy industry has shifted its focus away from traditional fuel sources, such as oil and coal, to more alternative and sustainable solutions, such as hydroelectric, solar, and wind. This movement, however, poses new threats and challenges to existing power grids across the world due to the inherent variability and intermittency of renewable fuel source. The disruptions in the power grids and the possibility of an imbalanced load threaten to overwhelm the grid operators.\n",
    "<br><br> \n",
    "Renewable energy forecasting, in particular for solar generation supply as this is the most volatile renewable power source, may provide grid operators the ability to predict and balance energy generation and consumption. In addition, power grid operators will be able to balance and schedule the distribution of generated power for not only renewable power plants but also conventional (and rigid) power plants, such as coal and natural gas. This is currently important to the Philippines, as the Department of Energy has given priority to solar power plants. The government has promised to buy all power these plants produce at a fixed rate. This encourages production which increases supply, but demand remains constant. Therefore, conventional plants need to adjust their production or incur loses and cause instability to the grid.  \n",
    "</div>"
   ]
  },
  {
   "cell_type": "markdown",
   "metadata": {},
   "source": [
    "<div id=\"methodology\"/>\n",
    "<div style='padding:5px;'> <font style='font-weight:bold;font-size:20px;color:#2c3393;'>2. Methodology</font></div>"
   ]
  },
  {
   "cell_type": "markdown",
   "metadata": {
    "ExecuteTime": {
     "end_time": "2019-12-20T09:16:29.227577Z",
     "start_time": "2019-12-20T09:16:29.221872Z"
    }
   },
   "source": [
    "<div id=\"preq\"/>\n",
    "<div style='padding:5px;'> <font style='font-weight:bold;font-size:15px;color:#2c3393;'>2.1 Loading Prerequisites</font></div>"
   ]
  },
  {
   "cell_type": "code",
   "execution_count": 1,
   "metadata": {
    "ExecuteTime": {
     "end_time": "2019-12-20T19:09:36.379473Z",
     "start_time": "2019-12-20T19:09:36.376526Z"
    }
   },
   "outputs": [],
   "source": [
    "import warnings\n",
    "warnings.simplefilter(action='ignore', category=FutureWarning)"
   ]
  },
  {
   "cell_type": "code",
   "execution_count": 2,
   "metadata": {
    "ExecuteTime": {
     "end_time": "2019-12-20T19:09:37.851051Z",
     "start_time": "2019-12-20T19:09:36.381296Z"
    }
   },
   "outputs": [],
   "source": [
    "import numpy as np\n",
    "import math\n",
    "import pandas as pd\n",
    "import matplotlib.pyplot as plt\n",
    "\n",
    "from sklearn.preprocessing import MinMaxScaler\n",
    "\n",
    "from tensorflow.keras.datasets import imdb\n",
    "from tensorflow.keras.preprocessing import sequence\n",
    "from tensorflow.keras.models import Sequential\n",
    "from tensorflow.keras import layers\n",
    "from tensorflow.keras.optimizers import RMSprop, Adam\n",
    "\n",
    "from tensorflow.keras.callbacks import ModelCheckpoint, EarlyStopping"
   ]
  },
  {
   "cell_type": "markdown",
   "metadata": {
    "ExecuteTime": {
     "end_time": "2019-12-20T09:17:54.042396Z",
     "start_time": "2019-12-20T09:17:54.032465Z"
    }
   },
   "source": [
    "<div id=\"data\"/>\n",
    "<div style='padding:5px;'> <font style='font-weight:bold;font-size:15px;color:#2c3393;'>2.2 Dataset and Preprocessing</font></div>"
   ]
  },
  {
   "cell_type": "markdown",
   "metadata": {
    "ExecuteTime": {
     "end_time": "2019-12-20T10:22:01.397144Z",
     "start_time": "2019-12-20T10:22:01.390828Z"
    }
   },
   "source": [
    "<div style='padding:5px;'> <font style='font-style:italic;font-size:15px;color:#2c3393;'>\n",
    "Here, we will load the already cleaned preprocessed dataset of solar generation per plant per hour.\n",
    "The cleaning was processed outside of this notebook, and followed a framework which follows the industry standard of imputing missing values.\n",
    "  \n",
    "    \n",
    "<b>To list a few processes:</b>\n",
    "    - using the average between the before(t-1) and after hour(t+1)\n",
    "    - using a 1-week average of all similar intervals \n",
    "    (ex, if empty during hour 6 of dec 20, take the moving average of all hour 6 from dec 13-dec19)\n",
    "    - using a 4-week moving average of that specific hour and day of the week \n",
    "    (ex, if empty during hour 6 of dec 20, we take average of hour 6(dec 13, 6, 29, 22)\n",
    "</font></div>"
   ]
  },
  {
   "cell_type": "code",
   "execution_count": 3,
   "metadata": {
    "ExecuteTime": {
     "end_time": "2019-12-20T19:10:06.474406Z",
     "start_time": "2019-12-20T19:09:37.852646Z"
    }
   },
   "outputs": [],
   "source": [
    "df = pd.read_excel('solar_dataset.xlsx', \n",
    "                   sheet_name='subic', \n",
    "                   parse_dates=['DATETIME'])"
   ]
  },
  {
   "cell_type": "markdown",
   "metadata": {},
   "source": [
    "<div style='padding:5px;'> <font style='font-style:italic;font-size:15px;color:#2c3393;'>\n",
    "Listed below are the columns and the corresponding datatype.\n",
    "    </font></div>"
   ]
  },
  {
   "cell_type": "code",
   "execution_count": 4,
   "metadata": {
    "ExecuteTime": {
     "end_time": "2019-12-20T19:10:06.482329Z",
     "start_time": "2019-12-20T19:10:06.476183Z"
    }
   },
   "outputs": [
    {
     "data": {
      "text/plain": [
       "DATETIME         datetime64[ns]\n",
       "YEAR                      int64\n",
       "MONTH                     int64\n",
       "DAY                       int64\n",
       "HOUR                      int64\n",
       "RESOURCE_ID              object\n",
       "MW                      float64\n",
       "Location                 object\n",
       "Temperature             float64\n",
       "Dew Point               float64\n",
       "Humidity                float64\n",
       "Wind Speed                int64\n",
       "Wind Gust                 int64\n",
       "Pressure                float64\n",
       "Condition                object\n",
       "Location_Name            object\n",
       "dtype: object"
      ]
     },
     "execution_count": 4,
     "metadata": {},
     "output_type": "execute_result"
    }
   ],
   "source": [
    "df.dtypes"
   ]
  },
  {
   "cell_type": "markdown",
   "metadata": {},
   "source": [
    "<div style='padding:5px;'> <font style='font-style:italic;font-size:15px;color:#2c3393;'>\n",
    "    Drop some columns such as location, resource ID, and year. The information regarding the specific plant is unimportant since the scope has already been specified, therefore, there is only one value for each of the specified column. The year is not important since weather has no seasonality in terms of year.\n",
    "</font></div>"
   ]
  },
  {
   "cell_type": "code",
   "execution_count": 7,
   "metadata": {
    "ExecuteTime": {
     "end_time": "2019-12-20T19:10:06.560535Z",
     "start_time": "2019-12-20T19:10:06.548726Z"
    }
   },
   "outputs": [],
   "source": [
    "df.drop(['Location_Name', 'Location', 'YEAR', 'RESOURCE_ID'],axis=1,inplace=True)"
   ]
  },
  {
   "cell_type": "markdown",
   "metadata": {},
   "source": [
    "<div style='padding:5px;'> <font style='font-style:italic;font-size:15px;color:#2c3393;'>\n",
    "    It is customary in traditional time-series regression to convert the <code>month</code>, <code>day</code>, \n",
    "    <code>hour</code> into categorical data, which will be later used in one-hot encoding. In addition, this is the usual preprocessing used in the energy industry here in the Philippines.\n",
    "</font></div>"
   ]
  },
  {
   "cell_type": "code",
   "execution_count": 6,
   "metadata": {
    "ExecuteTime": {
     "end_time": "2019-12-20T19:10:06.547480Z",
     "start_time": "2019-12-20T19:10:06.501922Z"
    }
   },
   "outputs": [],
   "source": [
    "df.MONTH = df.MONTH.astype('str')\n",
    "df.DAY = df.DAY.astype('str')\n",
    "df.HOUR = df.HOUR.astype('str')"
   ]
  },
  {
   "cell_type": "markdown",
   "metadata": {},
   "source": [
    "<div style='padding:5px;'> <font style='font-style:italic;font-size:15px;color:#2c3393;'>\n",
    "    Let us append the main <code>df</code> with the one-hot encoded dataframe. These columns need to be further processed because keeping them as they are will give the model the wrong idea that months, day, hour, and conditions that have higher values are more significant. \n",
    "</font></div>"
   ]
  },
  {
   "cell_type": "code",
   "execution_count": 8,
   "metadata": {
    "ExecuteTime": {
     "end_time": "2019-12-20T19:10:06.585107Z",
     "start_time": "2019-12-20T19:10:06.562405Z"
    }
   },
   "outputs": [],
   "source": [
    "df0 = df.join(pd.get_dummies(df[['MONTH','DAY','HOUR','Condition']]))"
   ]
  },
  {
   "cell_type": "markdown",
   "metadata": {},
   "source": [
    "<div style='padding:5px;'> <font style='font-style:italic;font-size:15px;color:#2c3393;'>\n",
    "    Further dropping of columns as well as reordering of columns\n",
    "</font></div>"
   ]
  },
  {
   "cell_type": "code",
   "execution_count": 12,
   "metadata": {
    "ExecuteTime": {
     "end_time": "2019-12-20T19:10:06.649075Z",
     "start_time": "2019-12-20T19:10:06.643349Z"
    }
   },
   "outputs": [],
   "source": [
    "df0 = df0.drop(['DATETIME','MONTH','DAY','HOUR','Condition'],\n",
    "               axis=1)"
   ]
  },
  {
   "cell_type": "code",
   "execution_count": 13,
   "metadata": {
    "ExecuteTime": {
     "end_time": "2019-12-20T19:10:06.655662Z",
     "start_time": "2019-12-20T19:10:06.650340Z"
    }
   },
   "outputs": [],
   "source": [
    "df0 = df0[['Temperature','MW'] + df0.columns[2:].tolist()].copy()"
   ]
  },
  {
   "cell_type": "code",
   "execution_count": 14,
   "metadata": {
    "ExecuteTime": {
     "end_time": "2019-12-20T19:10:06.669018Z",
     "start_time": "2019-12-20T19:10:06.657081Z"
    }
   },
   "outputs": [],
   "source": [
    "df0 = df0.astype('float')"
   ]
  },
  {
   "cell_type": "markdown",
   "metadata": {},
   "source": [
    "<div style='padding:5px;'> <font style='font-style:italic;font-size:15px;color:#2c3393;'>\n",
    "    Final <code>DataFrame</code> to be used\n",
    "</font></div>"
   ]
  },
  {
   "cell_type": "code",
   "execution_count": 15,
   "metadata": {
    "ExecuteTime": {
     "end_time": "2019-12-20T19:10:06.689595Z",
     "start_time": "2019-12-20T19:10:06.670227Z"
    }
   },
   "outputs": [
    {
     "data": {
      "text/html": [
       "<div>\n",
       "<style scoped>\n",
       "    .dataframe tbody tr th:only-of-type {\n",
       "        vertical-align: middle;\n",
       "    }\n",
       "\n",
       "    .dataframe tbody tr th {\n",
       "        vertical-align: top;\n",
       "    }\n",
       "\n",
       "    .dataframe thead th {\n",
       "        text-align: right;\n",
       "    }\n",
       "</style>\n",
       "<table border=\"1\" class=\"dataframe\">\n",
       "  <thead>\n",
       "    <tr style=\"text-align: right;\">\n",
       "      <th></th>\n",
       "      <th>Temperature</th>\n",
       "      <th>MW</th>\n",
       "      <th>Dew Point</th>\n",
       "      <th>Humidity</th>\n",
       "      <th>Wind Speed</th>\n",
       "      <th>Wind Gust</th>\n",
       "      <th>Pressure</th>\n",
       "      <th>MONTH_1</th>\n",
       "      <th>MONTH_10</th>\n",
       "      <th>MONTH_11</th>\n",
       "      <th>...</th>\n",
       "      <th>Condition_Partly Cloudy</th>\n",
       "      <th>Condition_Partly Cloudy / Windy</th>\n",
       "      <th>Condition_Rain</th>\n",
       "      <th>Condition_Rain / Windy</th>\n",
       "      <th>Condition_Rain Shower</th>\n",
       "      <th>Condition_Showers in the Vicinity</th>\n",
       "      <th>Condition_T-Storm</th>\n",
       "      <th>Condition_T-Storm / Windy</th>\n",
       "      <th>Condition_Thunder</th>\n",
       "      <th>Condition_Thunder in the Vicinity</th>\n",
       "    </tr>\n",
       "  </thead>\n",
       "  <tbody>\n",
       "    <tr>\n",
       "      <th>0</th>\n",
       "      <td>72.0</td>\n",
       "      <td>0.0</td>\n",
       "      <td>68.0</td>\n",
       "      <td>88.0</td>\n",
       "      <td>8.0</td>\n",
       "      <td>0.0</td>\n",
       "      <td>29.6</td>\n",
       "      <td>0.0</td>\n",
       "      <td>0.0</td>\n",
       "      <td>0.0</td>\n",
       "      <td>...</td>\n",
       "      <td>0.0</td>\n",
       "      <td>0.0</td>\n",
       "      <td>0.0</td>\n",
       "      <td>0.0</td>\n",
       "      <td>0.0</td>\n",
       "      <td>0.0</td>\n",
       "      <td>0.0</td>\n",
       "      <td>0.0</td>\n",
       "      <td>0.0</td>\n",
       "      <td>0.0</td>\n",
       "    </tr>\n",
       "    <tr>\n",
       "      <th>1</th>\n",
       "      <td>73.0</td>\n",
       "      <td>0.0</td>\n",
       "      <td>68.0</td>\n",
       "      <td>83.0</td>\n",
       "      <td>10.0</td>\n",
       "      <td>0.0</td>\n",
       "      <td>29.6</td>\n",
       "      <td>0.0</td>\n",
       "      <td>0.0</td>\n",
       "      <td>0.0</td>\n",
       "      <td>...</td>\n",
       "      <td>0.0</td>\n",
       "      <td>0.0</td>\n",
       "      <td>0.0</td>\n",
       "      <td>0.0</td>\n",
       "      <td>0.0</td>\n",
       "      <td>0.0</td>\n",
       "      <td>0.0</td>\n",
       "      <td>0.0</td>\n",
       "      <td>0.0</td>\n",
       "      <td>0.0</td>\n",
       "    </tr>\n",
       "    <tr>\n",
       "      <th>2</th>\n",
       "      <td>75.0</td>\n",
       "      <td>0.0</td>\n",
       "      <td>70.0</td>\n",
       "      <td>83.0</td>\n",
       "      <td>9.0</td>\n",
       "      <td>0.0</td>\n",
       "      <td>29.6</td>\n",
       "      <td>0.0</td>\n",
       "      <td>0.0</td>\n",
       "      <td>0.0</td>\n",
       "      <td>...</td>\n",
       "      <td>0.0</td>\n",
       "      <td>0.0</td>\n",
       "      <td>0.0</td>\n",
       "      <td>0.0</td>\n",
       "      <td>0.0</td>\n",
       "      <td>0.0</td>\n",
       "      <td>0.0</td>\n",
       "      <td>0.0</td>\n",
       "      <td>0.0</td>\n",
       "      <td>0.0</td>\n",
       "    </tr>\n",
       "    <tr>\n",
       "      <th>3</th>\n",
       "      <td>75.0</td>\n",
       "      <td>0.0</td>\n",
       "      <td>70.0</td>\n",
       "      <td>83.0</td>\n",
       "      <td>0.0</td>\n",
       "      <td>0.0</td>\n",
       "      <td>29.6</td>\n",
       "      <td>0.0</td>\n",
       "      <td>0.0</td>\n",
       "      <td>0.0</td>\n",
       "      <td>...</td>\n",
       "      <td>0.0</td>\n",
       "      <td>0.0</td>\n",
       "      <td>0.0</td>\n",
       "      <td>0.0</td>\n",
       "      <td>0.0</td>\n",
       "      <td>0.0</td>\n",
       "      <td>0.0</td>\n",
       "      <td>0.0</td>\n",
       "      <td>0.0</td>\n",
       "      <td>0.0</td>\n",
       "    </tr>\n",
       "    <tr>\n",
       "      <th>4</th>\n",
       "      <td>73.0</td>\n",
       "      <td>0.0</td>\n",
       "      <td>70.0</td>\n",
       "      <td>88.0</td>\n",
       "      <td>12.0</td>\n",
       "      <td>0.0</td>\n",
       "      <td>29.6</td>\n",
       "      <td>0.0</td>\n",
       "      <td>0.0</td>\n",
       "      <td>0.0</td>\n",
       "      <td>...</td>\n",
       "      <td>0.0</td>\n",
       "      <td>0.0</td>\n",
       "      <td>0.0</td>\n",
       "      <td>0.0</td>\n",
       "      <td>0.0</td>\n",
       "      <td>0.0</td>\n",
       "      <td>0.0</td>\n",
       "      <td>0.0</td>\n",
       "      <td>0.0</td>\n",
       "      <td>0.0</td>\n",
       "    </tr>\n",
       "  </tbody>\n",
       "</table>\n",
       "<p>5 rows × 103 columns</p>\n",
       "</div>"
      ],
      "text/plain": [
       "   Temperature   MW  Dew Point  Humidity  Wind Speed  Wind Gust  Pressure  \\\n",
       "0         72.0  0.0       68.0      88.0         8.0        0.0      29.6   \n",
       "1         73.0  0.0       68.0      83.0        10.0        0.0      29.6   \n",
       "2         75.0  0.0       70.0      83.0         9.0        0.0      29.6   \n",
       "3         75.0  0.0       70.0      83.0         0.0        0.0      29.6   \n",
       "4         73.0  0.0       70.0      88.0        12.0        0.0      29.6   \n",
       "\n",
       "   MONTH_1  MONTH_10  MONTH_11  ...  Condition_Partly Cloudy  \\\n",
       "0      0.0       0.0       0.0  ...                      0.0   \n",
       "1      0.0       0.0       0.0  ...                      0.0   \n",
       "2      0.0       0.0       0.0  ...                      0.0   \n",
       "3      0.0       0.0       0.0  ...                      0.0   \n",
       "4      0.0       0.0       0.0  ...                      0.0   \n",
       "\n",
       "   Condition_Partly Cloudy / Windy  Condition_Rain  Condition_Rain / Windy  \\\n",
       "0                              0.0             0.0                     0.0   \n",
       "1                              0.0             0.0                     0.0   \n",
       "2                              0.0             0.0                     0.0   \n",
       "3                              0.0             0.0                     0.0   \n",
       "4                              0.0             0.0                     0.0   \n",
       "\n",
       "   Condition_Rain Shower  Condition_Showers in the Vicinity  \\\n",
       "0                    0.0                                0.0   \n",
       "1                    0.0                                0.0   \n",
       "2                    0.0                                0.0   \n",
       "3                    0.0                                0.0   \n",
       "4                    0.0                                0.0   \n",
       "\n",
       "   Condition_T-Storm  Condition_T-Storm / Windy  Condition_Thunder  \\\n",
       "0                0.0                        0.0                0.0   \n",
       "1                0.0                        0.0                0.0   \n",
       "2                0.0                        0.0                0.0   \n",
       "3                0.0                        0.0                0.0   \n",
       "4                0.0                        0.0                0.0   \n",
       "\n",
       "   Condition_Thunder in the Vicinity  \n",
       "0                                0.0  \n",
       "1                                0.0  \n",
       "2                                0.0  \n",
       "3                                0.0  \n",
       "4                                0.0  \n",
       "\n",
       "[5 rows x 103 columns]"
      ]
     },
     "execution_count": 15,
     "metadata": {},
     "output_type": "execute_result"
    }
   ],
   "source": [
    "df0.head()"
   ]
  },
  {
   "cell_type": "code",
   "execution_count": 16,
   "metadata": {
    "ExecuteTime": {
     "end_time": "2019-12-20T19:10:06.693845Z",
     "start_time": "2019-12-20T19:10:06.690841Z"
    }
   },
   "outputs": [
    {
     "data": {
      "text/plain": [
       "(24018, 103)"
      ]
     },
     "execution_count": 16,
     "metadata": {},
     "output_type": "execute_result"
    }
   ],
   "source": [
    "df0.shape"
   ]
  },
  {
   "cell_type": "code",
   "execution_count": 17,
   "metadata": {
    "ExecuteTime": {
     "end_time": "2019-12-20T19:10:06.697671Z",
     "start_time": "2019-12-20T19:10:06.695261Z"
    }
   },
   "outputs": [],
   "source": [
    "plant_capacity = 100"
   ]
  },
  {
   "cell_type": "markdown",
   "metadata": {},
   "source": [
    "<div id=\"train\"/>\n",
    "<div style='padding:5px;'> <font style='font-weight:bold;font-size:15px;color:#2c3393;'>\n",
    "    2.3 Train,Validate,Test Split and Batch Generation</font></div>"
   ]
  },
  {
   "cell_type": "markdown",
   "metadata": {},
   "source": [
    "<div style='padding:5px;'> <font style='font-style:italic;font-size:15px;color:#2c3393;'>\n",
    "    For this analysis, a <code>.8</code>, <code>.1</code>, <code>.1</code>, train-validate-test split was implemented. Since we are dealing with a time-series, the train-validate-test split cannot be randomly selected from the dataset, splitting of dataset should be conducted in a chronogical order. Below we define the starting and ending <code>index</code> for each group\n",
    "</font></div>"
   ]
  },
  {
   "cell_type": "code",
   "execution_count": 18,
   "metadata": {
    "ExecuteTime": {
     "end_time": "2019-12-20T19:10:06.704084Z",
     "start_time": "2019-12-20T19:10:06.699334Z"
    }
   },
   "outputs": [],
   "source": [
    "train_validate_test_split = [.8, .1, .1]\n",
    "\n",
    "train_idx = math.floor(df0.shape[0] * train_validate_test_split[0])\n",
    "val_idx = math.floor(df0.shape[0] * train_validate_test_split[1]) + train_idx"
   ]
  },
  {
   "cell_type": "markdown",
   "metadata": {
    "ExecuteTime": {
     "end_time": "2019-12-20T09:53:01.962892Z",
     "start_time": "2019-12-20T09:53:01.950987Z"
    }
   },
   "source": [
    "<div style='padding:5px;'> <font style='font-style:italic;font-size:15px;color:#2c3393;'>\n",
    "    The <code>generator</code> function below was utilized to yield the appropriate batch. Significant parameters include the <code>lookback</code>, or how far back of the data to consider, <code>delay</code>, or how far into the future are we forecasting, <code>batch_size</code>, refers to the number of training examples utilized in one iteration.\n",
    "</font></div>"
   ]
  },
  {
   "cell_type": "code",
   "execution_count": 19,
   "metadata": {
    "ExecuteTime": {
     "end_time": "2019-12-20T19:10:06.714420Z",
     "start_time": "2019-12-20T19:10:06.705919Z"
    }
   },
   "outputs": [],
   "source": [
    "def generator(data, lookback, delay, min_index, max_index, shuffle=False, \n",
    "              batch_size=128, step=1):\n",
    "    \n",
    "    if max_index is None:\n",
    "        max_index = len(data) - delay - 1\n",
    "    i = min_index + lookback\n",
    "    \n",
    "    while 1:\n",
    "        if shuffle:\n",
    "            rows = np.random.randint(min_index + lookback, \n",
    "                                     max_index, size=batch_size)\n",
    "        else:\n",
    "            if i + batch_size >= max_index:\n",
    "                i = min_index + lookback\n",
    "            rows = np.arange(i, min(i + batch_size, max_index))\n",
    "            i += len(rows)\n",
    "\n",
    "        samples = np.zeros((len(rows), lookback // step, data.shape[-1]))\n",
    "        targets = np.zeros((len(rows),))\n",
    "        for j, row in enumerate(rows):\n",
    "            indices = range(rows[j] - lookback, rows[j], step)\n",
    "            samples[j] = data[indices]\n",
    "            targets[j] = data[rows[j] + delay][1]\n",
    "        yield samples, targets"
   ]
  },
  {
   "cell_type": "markdown",
   "metadata": {},
   "source": [
    "<div style='padding:5px;'> <font style='font-style:italic;font-size:15px;color:#2c3393;'>\n",
    "    Let us mean-center the dataset\n",
    "</font></div>"
   ]
  },
  {
   "cell_type": "code",
   "execution_count": 20,
   "metadata": {
    "ExecuteTime": {
     "end_time": "2019-12-20T19:10:06.733679Z",
     "start_time": "2019-12-20T19:10:06.716189Z"
    }
   },
   "outputs": [],
   "source": [
    "float_data = df0.values\n",
    "train_mean = float_data[:train_idx].mean(axis=0)\n",
    "float_data -= train_mean\n",
    "train_std = float_data[:train_idx].std(axis=0)\n",
    "float_data /= train_std\n",
    "train_mw_std = train_std[1]"
   ]
  },
  {
   "cell_type": "markdown",
   "metadata": {
    "ExecuteTime": {
     "end_time": "2019-12-20T10:17:36.642996Z",
     "start_time": "2019-12-20T10:17:36.633412Z"
    }
   },
   "source": [
    "<div style='padding:5px;'> <font style='font-style:italic;font-size:15px;color:#2c3393;'>\n",
    "    An industry standard is to utilize a <code>lookback</code> of either <code>144 hours</code> (1 week), <code>288 hours</code> (2 weeks), or <code>720 hours</code> (1[30-day] month). The initial run was to utilized a <code>288 hour</code> lookback period due to group's industry expert's experience. However, outside consultation with industry experts said 1 week would suffice with this limited dataset.\n",
    "</font></div>"
   ]
  },
  {
   "cell_type": "code",
   "execution_count": 21,
   "metadata": {
    "ExecuteTime": {
     "end_time": "2019-12-20T19:10:06.738779Z",
     "start_time": "2019-12-20T19:10:06.735675Z"
    }
   },
   "outputs": [],
   "source": [
    "lookback = 144 # lookback(consider) the previous week data\n",
    "step = 1 # in hourly granularity\n",
    "delay = 24 # to forecast the next 24 hours\n",
    "batch_size = 128"
   ]
  },
  {
   "cell_type": "code",
   "execution_count": 22,
   "metadata": {
    "ExecuteTime": {
     "end_time": "2019-12-20T19:10:06.747574Z",
     "start_time": "2019-12-20T19:10:06.740280Z"
    }
   },
   "outputs": [],
   "source": [
    "train_gen = generator(float_data,\n",
    "    lookback=lookback,\n",
    "    delay=delay,\n",
    "    min_index=0,\n",
    "    max_index=train_idx,\n",
    "    shuffle=True,\n",
    "    step=step,\n",
    "    batch_size=batch_size)\n",
    "\n",
    "val_gen = generator(float_data,\n",
    "    lookback=lookback,\n",
    "    delay=delay,\n",
    "    min_index=train_idx+1,\n",
    "    max_index=val_idx,\n",
    "    step=step,\n",
    "    batch_size=batch_size)\n",
    "\n",
    "test_gen = generator(float_data,\n",
    "    lookback=lookback,\n",
    "    delay=delay,\n",
    "    min_index=val_idx,\n",
    "    max_index=None,\n",
    "    step=step,\n",
    "    batch_size=batch_size)\n",
    "\n",
    "val_steps = (val_idx - (train_idx+1) - lookback)\n",
    "test_steps = (len(float_data) - (val_idx+1) - lookback)"
   ]
  },
  {
   "cell_type": "markdown",
   "metadata": {},
   "source": [
    "<div id=\"benchmark\"/>\n",
    "<div style='padding:5px;'> <font style='font-weight:bold;font-size:15px;color:#2c3393;'>2.4 Benchmark</font></div>"
   ]
  },
  {
   "cell_type": "markdown",
   "metadata": {},
   "source": [
    "<div style='padding:5px;'> <font style='font-style:italic;font-size:15px;color:#2c3393;'>\n",
    "    Two metrics were used to establish a baseline error:\n",
    "    \n",
    "    (1) the naive method identified in a previous lecture, which we scaled to industry standard\n",
    "    (2) a different framework suggested by industry\n",
    "</font></div>"
   ]
  },
  {
   "cell_type": "code",
   "execution_count": 23,
   "metadata": {
    "ExecuteTime": {
     "end_time": "2019-12-20T19:10:20.276354Z",
     "start_time": "2019-12-20T19:10:06.749600Z"
    }
   },
   "outputs": [
    {
     "name": "stdout",
     "output_type": "stream",
     "text": [
      "0\n",
      "1000\n",
      "2000\n"
     ]
    }
   ],
   "source": [
    "def evaluate_naive_method():\n",
    "\n",
    "    batch_maes = []\n",
    "    for step in range(val_steps):\n",
    "        if step % 1000 == 0:\n",
    "            print(step)\n",
    "        samples, targets = next(val_gen)\n",
    "        preds = samples[:, -1, 1]\n",
    "        mae = np.mean(np.abs(preds - targets))\n",
    "        batch_maes.append(mae)\n",
    "    \n",
    "    return np.mean(batch_maes)\n",
    "\n",
    "naive_method = evaluate_naive_method()"
   ]
  },
  {
   "cell_type": "code",
   "execution_count": 24,
   "metadata": {
    "ExecuteTime": {
     "end_time": "2019-12-20T19:10:20.283104Z",
     "start_time": "2019-12-20T19:10:20.279617Z"
    }
   },
   "outputs": [
    {
     "name": "stdout",
     "output_type": "stream",
     "text": [
      "NAIVE METHOD 1: 8.87%\n"
     ]
    }
   ],
   "source": [
    "print('NAIVE METHOD 1:', f'{((naive_method * train_mw_std)/22):0.2%}') #where 22 is the capacity of the plant"
   ]
  },
  {
   "cell_type": "code",
   "execution_count": 25,
   "metadata": {
    "ExecuteTime": {
     "end_time": "2019-12-20T19:10:20.333058Z",
     "start_time": "2019-12-20T19:10:20.285797Z"
    }
   },
   "outputs": [],
   "source": [
    "benchmark1 = ((naive_method * train_mw_std)/22) * 100"
   ]
  },
  {
   "cell_type": "markdown",
   "metadata": {},
   "source": [
    "<div style='padding:5px;text-align:justify'> <font style='font-style:italic;font-size:17px;color:#2c3393;'>\n",
    "For establishing the 2nd baseline error, the team consulted the industry to determine a baseline error. However, even the industry is still conflicted on how to establish a baseline measurement. As of now, the baseline is still being established by policy makers and grid operators. \n",
    "<br>   \n",
    "    \n",
    "Luckily, consulting with industry experts gave the team a framework on how to establish a baseline error per plant. The resulting measure looked at the mean squared error of the day-ahead projection(DAP), also called scheduled (Ex-Ante or RTD), and the actual delivered (Ex-Post or RTX).\n",
    "    \n",
    "    \n",
    "This was then scaled as a percentage to the capacity of the plant. This was with processed with an industry expert and not included in the notebook. The yielding error resulted with a baseline of <code>3.64%</code>\n",
    "</font></div>"
   ]
  },
  {
   "cell_type": "code",
   "execution_count": 26,
   "metadata": {
    "ExecuteTime": {
     "end_time": "2019-12-20T19:10:20.338659Z",
     "start_time": "2019-12-20T19:10:20.335369Z"
    }
   },
   "outputs": [],
   "source": [
    "benchmark2 = 3.64"
   ]
  },
  {
   "cell_type": "markdown",
   "metadata": {},
   "source": [
    "<div id=\"model\"/>\n",
    "<div style='padding:5px;'> <font style='font-weight:bold;font-size:15px;color:#2c3393;'>2.5 Model Training Selection</font></div>"
   ]
  },
  {
   "cell_type": "markdown",
   "metadata": {},
   "source": [
    "<div style='padding:5px;'> <font style='font-style:italic;font-size:15px;color:#2c3393;'>\n",
    "Four models were trained:\n",
    "    \n",
    "    - LSTM with 64 nodes\n",
    "    - LSTM with 32 nodes\n",
    "    - Stacked LSTM(2 layer) with 64 and 32 nodes\n",
    "    - Stacked LSTM(2 layer) with 32 and 64 nodes\n",
    "    \n",
    "Dropout of <code>0.2</code> and Recurrent Dropout of <code>0.2</code> and a <code>RMSProp</code> optimized was implemented for all three.\n",
    "\n",
    "The group decided to use a <code>Epoch=50</code>, with an EarlyStopping of <code>patience=10</code> and <code>min_delta=0.01</code> to avoid overfitting and to reduce runtime due to the limited time constraints.\n",
    "</font></div>"
   ]
  },
  {
   "cell_type": "code",
   "execution_count": 27,
   "metadata": {
    "ExecuteTime": {
     "end_time": "2019-12-20T19:10:20.345114Z",
     "start_time": "2019-12-20T19:10:20.341275Z"
    }
   },
   "outputs": [],
   "source": [
    "steps_per_epoch_cnt = math.floor(train_idx/batch_size)\n",
    "val_steps_cnt = round(math.floor((val_idx-train_idx)/batch_size),-1)"
   ]
  },
  {
   "cell_type": "markdown",
   "metadata": {},
   "source": [
    "<div id=\"lstm1\"/>\n",
    "<div style='padding:20px;'> <font style='font-weight:bold;font-size:15px;color:#2c3393;'>2.5.1 LSTM with 64</font></div>"
   ]
  },
  {
   "cell_type": "code",
   "execution_count": 28,
   "metadata": {
    "ExecuteTime": {
     "end_time": "2019-12-20T19:14:50.825091Z",
     "start_time": "2019-12-20T19:10:20.348201Z"
    },
    "collapsed": true
   },
   "outputs": [
    {
     "name": "stdout",
     "output_type": "stream",
     "text": [
      "WARNING:tensorflow:From /home/jaclin/anaconda3/lib/python3.7/site-packages/tensorflow/python/ops/resource_variable_ops.py:435: colocate_with (from tensorflow.python.framework.ops) is deprecated and will be removed in a future version.\n",
      "Instructions for updating:\n",
      "Colocations handled automatically by placer.\n",
      "WARNING:tensorflow:From /home/jaclin/anaconda3/lib/python3.7/site-packages/tensorflow/python/keras/backend.py:4010: calling dropout (from tensorflow.python.ops.nn_ops) with keep_prob is deprecated and will be removed in a future version.\n",
      "Instructions for updating:\n",
      "Please use `rate` instead of `keep_prob`. Rate should be set to `rate = 1 - keep_prob`.\n",
      "WARNING:tensorflow:From /home/jaclin/anaconda3/lib/python3.7/site-packages/tensorflow/python/ops/math_ops.py:3066: to_int32 (from tensorflow.python.ops.math_ops) is deprecated and will be removed in a future version.\n",
      "Instructions for updating:\n",
      "Use tf.cast instead.\n",
      "Epoch 1/50\n",
      "20/20 [==============================] - 1s 45ms/step - loss: 0.2421\n",
      "\n",
      "Epoch 00001: val_loss improved from inf to 0.24213, saving model to clark_best_lstm64.hdf5\n",
      " - 19s - loss: 0.4244 - val_loss: 0.2421\n",
      "Epoch 2/50\n",
      "20/20 [==============================] - 1s 43ms/step - loss: 0.2260\n",
      "\n",
      "Epoch 00002: val_loss improved from 0.24213 to 0.22596, saving model to clark_best_lstm64.hdf5\n",
      " - 21s - loss: 0.2940 - val_loss: 0.2260\n",
      "Epoch 3/50\n",
      "20/20 [==============================] - 1s 40ms/step - loss: 0.2035\n",
      "\n",
      "Epoch 00003: val_loss improved from 0.22596 to 0.20355, saving model to clark_best_lstm64.hdf5\n",
      " - 21s - loss: 0.2379 - val_loss: 0.2035\n",
      "Epoch 4/50\n",
      "20/20 [==============================] - 1s 42ms/step - loss: 0.2291\n",
      "\n",
      "Epoch 00004: val_loss did not improve from 0.20355\n",
      " - 21s - loss: 0.2035 - val_loss: 0.2291\n",
      "Epoch 5/50\n",
      "20/20 [==============================] - 1s 42ms/step - loss: 0.2306\n",
      "\n",
      "Epoch 00005: val_loss did not improve from 0.20355\n",
      " - 20s - loss: 0.1880 - val_loss: 0.2306\n",
      "Epoch 6/50\n",
      "20/20 [==============================] - 1s 40ms/step - loss: 0.2080\n",
      "\n",
      "Epoch 00006: val_loss did not improve from 0.20355\n",
      " - 21s - loss: 0.1816 - val_loss: 0.2080\n",
      "Epoch 7/50\n",
      "20/20 [==============================] - 1s 41ms/step - loss: 0.2186\n",
      "\n",
      "Epoch 00007: val_loss did not improve from 0.20355\n",
      " - 21s - loss: 0.1706 - val_loss: 0.2186\n",
      "Epoch 8/50\n",
      "20/20 [==============================] - 1s 40ms/step - loss: 0.2124\n",
      "\n",
      "Epoch 00008: val_loss did not improve from 0.20355\n",
      " - 21s - loss: 0.1624 - val_loss: 0.2124\n",
      "Epoch 9/50\n",
      "20/20 [==============================] - 1s 41ms/step - loss: 0.2054\n",
      "\n",
      "Epoch 00009: val_loss did not improve from 0.20355\n",
      " - 21s - loss: 0.1548 - val_loss: 0.2054\n",
      "Epoch 10/50\n",
      "20/20 [==============================] - 1s 41ms/step - loss: 0.2036\n",
      "\n",
      "Epoch 00010: val_loss did not improve from 0.20355\n",
      " - 20s - loss: 0.1517 - val_loss: 0.2036\n",
      "Epoch 11/50\n",
      "20/20 [==============================] - 1s 40ms/step - loss: 0.2477\n",
      "\n",
      "Epoch 00011: val_loss did not improve from 0.20355\n",
      " - 20s - loss: 0.1469 - val_loss: 0.2477\n",
      "Epoch 12/50\n",
      "20/20 [==============================] - 1s 45ms/step - loss: 0.1994\n",
      "\n",
      "Epoch 00012: val_loss improved from 0.20355 to 0.19939, saving model to clark_best_lstm64.hdf5\n",
      " - 22s - loss: 0.1445 - val_loss: 0.1994\n",
      "Epoch 13/50\n",
      "20/20 [==============================] - 1s 44ms/step - loss: 0.2224\n",
      "\n",
      "Epoch 00013: val_loss did not improve from 0.19939\n",
      " - 21s - loss: 0.1363 - val_loss: 0.2224\n",
      "Epoch 00013: early stopping\n"
     ]
    }
   ],
   "source": [
    "filepath_lstm64=\"clark_best_lstm64.hdf5\" \n",
    "cp_lstm64 = ModelCheckpoint(filepath_lstm64, monitor='val_loss', verbose=2, save_best_only=True, mode='min')\n",
    "es_lstm64 = EarlyStopping(monitor='val_loss', mode='min', verbose=2, patience=10, min_delta=.01)\n",
    "callbacks_list_lstm64 = [cp_lstm64, es_lstm64]\n",
    "\n",
    "# fix random seed for reproducibility\n",
    "seed = 1337\n",
    "np.random.seed(seed)\n",
    "\n",
    "model_lstm64 = Sequential()\n",
    "model_lstm64.add(layers.LSTM(64, \n",
    "                       dropout=0.2,\n",
    "                       recurrent_dropout=0.2, \n",
    "                       input_shape=(None, float_data.shape[-1])))\n",
    "model_lstm64.add(layers.Dense(64,activation='relu'))\n",
    "model_lstm64.add(layers.Dense(1))\n",
    "model_lstm64.compile(optimizer=RMSprop(), loss='mae')\n",
    "\n",
    "history_lstm64 = model_lstm64.fit_generator(train_gen,\n",
    "                                        steps_per_epoch=steps_per_epoch_cnt, \n",
    "                                        epochs=50,\n",
    "                                        validation_data=val_gen, \n",
    "                                        validation_steps=val_steps_cnt,\n",
    "                                        callbacks=callbacks_list_lstm64, verbose=2) "
   ]
  },
  {
   "cell_type": "code",
   "execution_count": 29,
   "metadata": {
    "ExecuteTime": {
     "end_time": "2019-12-20T19:14:51.038549Z",
     "start_time": "2019-12-20T19:14:50.826793Z"
    },
    "collapsed": true
   },
   "outputs": [
    {
     "data": {
      "image/png": "[encoded data removed]",
      "text/plain": [
       "<Figure size 432x288 with 1 Axes>"
      ]
     },
     "metadata": {
      "needs_background": "light"
     },
     "output_type": "display_data"
    }
   ],
   "source": [
    "loss_lstm64 = history_lstm64.history['loss']\n",
    "val_loss_lstm64 = history_lstm64.history['val_loss']\n",
    "\n",
    "epochs = range(1, len(loss_lstm64) + 1)\n",
    "\n",
    "plt.figure()\n",
    "\n",
    "plt.plot(epochs, loss_lstm64, 'bo', label='Training loss')\n",
    "plt.plot(epochs, val_loss_lstm64, 'b', label='Validation loss')\n",
    "plt.title('Training and validation loss')\n",
    "plt.legend()\n",
    "\n",
    "plt.show()"
   ]
  },
  {
   "cell_type": "code",
   "execution_count": 30,
   "metadata": {
    "ExecuteTime": {
     "end_time": "2019-12-20T19:14:51.043401Z",
     "start_time": "2019-12-20T19:14:51.040324Z"
    }
   },
   "outputs": [
    {
     "name": "stdout",
     "output_type": "stream",
     "text": [
      "Model Error: 1.44%\n"
     ]
    }
   ],
   "source": [
    "print('Model Error:', f'{((min(val_loss_lstm64) * train_mw_std)/plant_capacity):0.2%}')"
   ]
  },
  {
   "cell_type": "code",
   "execution_count": 31,
   "metadata": {
    "ExecuteTime": {
     "end_time": "2019-12-20T19:14:51.048629Z",
     "start_time": "2019-12-20T19:14:51.045426Z"
    }
   },
   "outputs": [],
   "source": [
    "lstm64 = ((min(val_loss_lstm64) * train_mw_std)/plant_capacity) * 100"
   ]
  },
  {
   "cell_type": "markdown",
   "metadata": {},
   "source": [
    "<div id=\"lstm2\"/>\n",
    "<div style='padding:20px;'> <font style='font-weight:bold;font-size:15px;color:#2c3393;'>2.5.2 LSTM with 32 nodes</font></div>"
   ]
  },
  {
   "cell_type": "code",
   "execution_count": 32,
   "metadata": {
    "ExecuteTime": {
     "end_time": "2019-12-20T19:19:47.874949Z",
     "start_time": "2019-12-20T19:14:51.050691Z"
    },
    "collapsed": true
   },
   "outputs": [
    {
     "name": "stdout",
     "output_type": "stream",
     "text": [
      "Epoch 1/50\n",
      "20/20 [==============================] - 1s 34ms/step - loss: 0.2359\n",
      "\n",
      "Epoch 00001: val_loss improved from inf to 0.23593, saving model to clark_best_lstm32.hdf5\n",
      " - 17s - loss: 0.4811 - val_loss: 0.2359\n",
      "Epoch 2/50\n",
      "20/20 [==============================] - 1s 30ms/step - loss: 0.2314\n",
      "\n",
      "Epoch 00002: val_loss improved from 0.23593 to 0.23142, saving model to clark_best_lstm32.hdf5\n",
      " - 15s - loss: 0.3305 - val_loss: 0.2314\n",
      "Epoch 3/50\n",
      "20/20 [==============================] - 1s 31ms/step - loss: 0.2202\n",
      "\n",
      "Epoch 00003: val_loss improved from 0.23142 to 0.22023, saving model to clark_best_lstm32.hdf5\n",
      " - 15s - loss: 0.2887 - val_loss: 0.2202\n",
      "Epoch 4/50\n",
      "20/20 [==============================] - 1s 30ms/step - loss: 0.2305\n",
      "\n",
      "Epoch 00004: val_loss did not improve from 0.22023\n",
      " - 15s - loss: 0.2572 - val_loss: 0.2305\n",
      "Epoch 5/50\n",
      "20/20 [==============================] - 1s 30ms/step - loss: 0.2144\n",
      "\n",
      "Epoch 00005: val_loss improved from 0.22023 to 0.21437, saving model to clark_best_lstm32.hdf5\n",
      " - 15s - loss: 0.2366 - val_loss: 0.2144\n",
      "Epoch 6/50\n",
      "20/20 [==============================] - 1s 30ms/step - loss: 0.2146\n",
      "\n",
      "Epoch 00006: val_loss did not improve from 0.21437\n",
      " - 15s - loss: 0.2151 - val_loss: 0.2146\n",
      "Epoch 7/50\n",
      "20/20 [==============================] - 1s 29ms/step - loss: 0.1948\n",
      "\n",
      "Epoch 00007: val_loss improved from 0.21437 to 0.19485, saving model to clark_best_lstm32.hdf5\n",
      " - 15s - loss: 0.2005 - val_loss: 0.1948\n",
      "Epoch 8/50\n",
      "20/20 [==============================] - 1s 30ms/step - loss: 0.2154\n",
      "\n",
      "Epoch 00008: val_loss did not improve from 0.19485\n",
      " - 16s - loss: 0.1869 - val_loss: 0.2154\n",
      "Epoch 9/50\n",
      "20/20 [==============================] - 1s 30ms/step - loss: 0.2095\n",
      "\n",
      "Epoch 00009: val_loss did not improve from 0.19485\n",
      " - 15s - loss: 0.1743 - val_loss: 0.2095\n",
      "Epoch 10/50\n",
      "20/20 [==============================] - 1s 36ms/step - loss: 0.2087\n",
      "\n",
      "Epoch 00010: val_loss did not improve from 0.19485\n",
      " - 17s - loss: 0.1674 - val_loss: 0.2087\n",
      "Epoch 11/50\n",
      "20/20 [==============================] - 1s 54ms/step - loss: 0.2268\n",
      "\n",
      "Epoch 00011: val_loss did not improve from 0.19485\n",
      " - 22s - loss: 0.1650 - val_loss: 0.2268\n",
      "Epoch 12/50\n",
      "20/20 [==============================] - 1s 43ms/step - loss: 0.1882\n",
      "\n",
      "Epoch 00012: val_loss improved from 0.19485 to 0.18820, saving model to clark_best_lstm32.hdf5\n",
      " - 22s - loss: 0.1633 - val_loss: 0.1882\n",
      "Epoch 13/50\n",
      "20/20 [==============================] - 1s 35ms/step - loss: 0.2057\n",
      "\n",
      "Epoch 00013: val_loss did not improve from 0.18820\n",
      " - 19s - loss: 0.1543 - val_loss: 0.2057\n",
      "Epoch 14/50\n",
      "20/20 [==============================] - 1s 35ms/step - loss: 0.2006\n",
      "\n",
      "Epoch 00014: val_loss did not improve from 0.18820\n",
      " - 19s - loss: 0.1561 - val_loss: 0.2006\n",
      "Epoch 15/50\n",
      "20/20 [==============================] - 1s 35ms/step - loss: 0.2172\n",
      "\n",
      "Epoch 00015: val_loss did not improve from 0.18820\n",
      " - 19s - loss: 0.1506 - val_loss: 0.2172\n",
      "Epoch 16/50\n",
      "20/20 [==============================] - 1s 35ms/step - loss: 0.1941\n",
      "\n",
      "Epoch 00016: val_loss did not improve from 0.18820\n",
      " - 19s - loss: 0.1504 - val_loss: 0.1941\n",
      "Epoch 17/50\n",
      "20/20 [==============================] - 1s 35ms/step - loss: 0.2072\n",
      "\n",
      "Epoch 00017: val_loss did not improve from 0.18820\n",
      " - 18s - loss: 0.1448 - val_loss: 0.2072\n",
      "Epoch 00017: early stopping\n"
     ]
    }
   ],
   "source": [
    "filepath_lstm32=\"clark_best_lstm32.hdf5\" \n",
    "cp_lstm32 = ModelCheckpoint(filepath_lstm32, monitor='val_loss', verbose=2, save_best_only=True, mode='min')\n",
    "es_lstm32 = EarlyStopping(monitor='val_loss', mode='min', verbose=2, patience=10, min_delta=.01)\n",
    "callbacks_list_lstm32 = [cp_lstm32, es_lstm32]\n",
    "\n",
    "# fix random seed for reproducibility\n",
    "seed = 1337\n",
    "np.random.seed(seed)\n",
    "\n",
    "model_lstm32 = Sequential()\n",
    "model_lstm32.add(layers.LSTM(32, \n",
    "                       dropout=0.2,\n",
    "                       recurrent_dropout=0.2, \n",
    "                       input_shape=(None, float_data.shape[-1])))\n",
    "model_lstm32.add(layers.Dense(32, activation='relu'))\n",
    "model_lstm32.add(layers.Dense(1))\n",
    "model_lstm32.compile(optimizer=RMSprop(), loss='mae')\n",
    "\n",
    "history_lstm32 = model_lstm32.fit_generator(train_gen,\n",
    "                                        steps_per_epoch=steps_per_epoch_cnt, \n",
    "                                        epochs=50,\n",
    "                                        validation_data=val_gen, \n",
    "                                        validation_steps=val_steps_cnt,\n",
    "                                        callbacks=callbacks_list_lstm32, verbose=2) "
   ]
  },
  {
   "cell_type": "code",
   "execution_count": 33,
   "metadata": {
    "ExecuteTime": {
     "end_time": "2019-12-20T19:19:48.094761Z",
     "start_time": "2019-12-20T19:19:47.876978Z"
    },
    "collapsed": true
   },
   "outputs": [
    {
     "data": {
      "image/png": "[encoded data removed]",
      "text/plain": [
       "<Figure size 432x288 with 1 Axes>"
      ]
     },
     "metadata": {
      "needs_background": "light"
     },
     "output_type": "display_data"
    }
   ],
   "source": [
    "loss_lstm32 = history_lstm32.history['loss']\n",
    "val_loss_lstm32 = history_lstm32.history['val_loss']\n",
    "\n",
    "epochs = range(1, len(loss_lstm32) + 1)\n",
    "\n",
    "plt.figure()\n",
    "\n",
    "plt.plot(epochs, loss_lstm32, 'bo', label='Training loss')\n",
    "plt.plot(epochs, val_loss_lstm32, 'b', label='Validation loss')\n",
    "plt.title('Training and validation loss')\n",
    "plt.legend()\n",
    "\n",
    "plt.show()"
   ]
  },
  {
   "cell_type": "code",
   "execution_count": 34,
   "metadata": {
    "ExecuteTime": {
     "end_time": "2019-12-20T19:19:48.099412Z",
     "start_time": "2019-12-20T19:19:48.096245Z"
    }
   },
   "outputs": [
    {
     "name": "stdout",
     "output_type": "stream",
     "text": [
      "Model Error: 1.36%\n"
     ]
    }
   ],
   "source": [
    "print('Model Error:', f'{((min(val_loss_lstm32) * train_mw_std)/plant_capacity):0.2%}')"
   ]
  },
  {
   "cell_type": "code",
   "execution_count": 35,
   "metadata": {
    "ExecuteTime": {
     "end_time": "2019-12-20T19:19:48.104418Z",
     "start_time": "2019-12-20T19:19:48.100830Z"
    }
   },
   "outputs": [],
   "source": [
    "lstm32 = ((min(val_loss_lstm32) * train_mw_std)/plant_capacity) * 100"
   ]
  },
  {
   "cell_type": "markdown",
   "metadata": {},
   "source": [
    "<div id=\"lstm3\"/>\n",
    "<div style='padding:20px;'> <font style='font-weight:bold;font-size:15px;color:#2c3393;'>2.5.3 Stacked LSTM with 64 and 32 nodes</font></div>"
   ]
  },
  {
   "cell_type": "code",
   "execution_count": 36,
   "metadata": {
    "ExecuteTime": {
     "end_time": "2019-12-20T19:30:50.211207Z",
     "start_time": "2019-12-20T19:19:48.106442Z"
    },
    "collapsed": true
   },
   "outputs": [
    {
     "name": "stdout",
     "output_type": "stream",
     "text": [
      "Epoch 1/50\n",
      "20/20 [==============================] - 2s 83ms/step - loss: 0.2134\n",
      "\n",
      "Epoch 00001: val_loss improved from inf to 0.21343, saving model to clark_best_lstm6432.hdf5\n",
      " - 52s - loss: 0.4166 - val_loss: 0.2134\n",
      "Epoch 2/50\n",
      "20/20 [==============================] - 1s 65ms/step - loss: 0.2394\n",
      "\n",
      "Epoch 00002: val_loss did not improve from 0.21343\n",
      " - 38s - loss: 0.2592 - val_loss: 0.2394\n",
      "Epoch 3/50\n",
      "20/20 [==============================] - 1s 73ms/step - loss: 0.2154\n",
      "\n",
      "Epoch 00003: val_loss did not improve from 0.21343\n",
      " - 38s - loss: 0.2145 - val_loss: 0.2154\n",
      "Epoch 4/50\n",
      "20/20 [==============================] - 1s 63ms/step - loss: 0.2356\n",
      "\n",
      "Epoch 00004: val_loss did not improve from 0.21343\n",
      " - 37s - loss: 0.1888 - val_loss: 0.2356\n",
      "Epoch 5/50\n",
      "20/20 [==============================] - 1s 65ms/step - loss: 0.2106\n",
      "\n",
      "Epoch 00005: val_loss improved from 0.21343 to 0.21064, saving model to clark_best_lstm6432.hdf5\n",
      " - 37s - loss: 0.1734 - val_loss: 0.2106\n",
      "Epoch 6/50\n",
      "20/20 [==============================] - 1s 64ms/step - loss: 0.2121\n",
      "\n",
      "Epoch 00006: val_loss did not improve from 0.21064\n",
      " - 37s - loss: 0.1678 - val_loss: 0.2121\n",
      "Epoch 7/50\n",
      "20/20 [==============================] - 1s 65ms/step - loss: 0.1950\n",
      "\n",
      "Epoch 00007: val_loss improved from 0.21064 to 0.19502, saving model to clark_best_lstm6432.hdf5\n",
      " - 37s - loss: 0.1602 - val_loss: 0.1950\n",
      "Epoch 8/50\n",
      "20/20 [==============================] - 1s 64ms/step - loss: 0.2112\n",
      "\n",
      "Epoch 00008: val_loss did not improve from 0.19502\n",
      " - 38s - loss: 0.1505 - val_loss: 0.2112\n",
      "Epoch 9/50\n",
      "20/20 [==============================] - 1s 67ms/step - loss: 0.2117\n",
      "\n",
      "Epoch 00009: val_loss did not improve from 0.19502\n",
      " - 38s - loss: 0.1454 - val_loss: 0.2117\n",
      "Epoch 10/50\n",
      "20/20 [==============================] - 1s 66ms/step - loss: 0.2128\n",
      "\n",
      "Epoch 00010: val_loss did not improve from 0.19502\n",
      " - 37s - loss: 0.1427 - val_loss: 0.2128\n",
      "Epoch 11/50\n",
      "20/20 [==============================] - 1s 65ms/step - loss: 0.2147\n",
      "\n",
      "Epoch 00011: val_loss did not improve from 0.19502\n",
      " - 39s - loss: 0.1397 - val_loss: 0.2147\n",
      "Epoch 12/50\n",
      "20/20 [==============================] - 1s 64ms/step - loss: 0.1968\n",
      "\n",
      "Epoch 00012: val_loss did not improve from 0.19502\n",
      " - 38s - loss: 0.1353 - val_loss: 0.1968\n",
      "Epoch 13/50\n",
      "20/20 [==============================] - 1s 71ms/step - loss: 0.2072\n",
      "\n",
      "Epoch 00013: val_loss did not improve from 0.19502\n",
      " - 38s - loss: 0.1296 - val_loss: 0.2072\n",
      "Epoch 14/50\n",
      "20/20 [==============================] - 1s 67ms/step - loss: 0.1979\n",
      "\n",
      "Epoch 00014: val_loss did not improve from 0.19502\n",
      " - 39s - loss: 0.1283 - val_loss: 0.1979\n",
      "Epoch 15/50\n",
      "20/20 [==============================] - 1s 67ms/step - loss: 0.2203\n",
      "\n",
      "Epoch 00015: val_loss did not improve from 0.19502\n",
      " - 39s - loss: 0.1231 - val_loss: 0.2203\n",
      "Epoch 16/50\n",
      "20/20 [==============================] - 1s 67ms/step - loss: 0.1974\n",
      "\n",
      "Epoch 00016: val_loss did not improve from 0.19502\n",
      " - 39s - loss: 0.1256 - val_loss: 0.1974\n",
      "Epoch 17/50\n",
      "20/20 [==============================] - 1s 65ms/step - loss: 0.2095\n",
      "\n",
      "Epoch 00017: val_loss did not improve from 0.19502\n",
      " - 39s - loss: 0.1221 - val_loss: 0.2095\n",
      "Epoch 00017: early stopping\n"
     ]
    }
   ],
   "source": [
    "filepath_lstm6432=\"clark_best_lstm6432.hdf5\" \n",
    "cp_lstm6432 = ModelCheckpoint(filepath_lstm6432, monitor='val_loss', verbose=2, save_best_only=True, mode='min')\n",
    "es_lstm6432 = EarlyStopping(monitor='val_loss', mode='min', verbose=2, patience=10, min_delta=.01)\n",
    "callbacks_list_lstm6432 = [cp_lstm6432, es_lstm6432]\n",
    "\n",
    "# fix random seed for reproducibility\n",
    "seed = 1337\n",
    "np.random.seed(seed)\n",
    "\n",
    "model_lstm6432 = Sequential()\n",
    "model_lstm6432.add(layers.LSTM(64,\n",
    "                    dropout=0.2,\n",
    "                    recurrent_dropout=0.2,\n",
    "                    return_sequences=True,\n",
    "                    input_shape=(None, float_data.shape[-1])))\n",
    "model_lstm6432.add(layers.LSTM(32,\n",
    "                    dropout=0.2,\n",
    "                    recurrent_dropout=0.2))\n",
    "model_lstm6432.add(layers.Dense(32, activation='relu'))\n",
    "model_lstm6432.add(layers.Dense(1))\n",
    "model_lstm6432.compile(optimizer=RMSprop(), loss='mae')\n",
    "\n",
    "history_lstm6432 = model_lstm6432.fit_generator(train_gen,\n",
    "                                             steps_per_epoch=steps_per_epoch_cnt,\n",
    "                                             epochs=50,\n",
    "                                             validation_data=val_gen, \n",
    "                                             validation_steps=val_steps_cnt,\n",
    "                                             callbacks=callbacks_list_lstm6432, verbose=2)"
   ]
  },
  {
   "cell_type": "code",
   "execution_count": 37,
   "metadata": {
    "ExecuteTime": {
     "end_time": "2019-12-20T19:30:50.433944Z",
     "start_time": "2019-12-20T19:30:50.213487Z"
    },
    "collapsed": true
   },
   "outputs": [
    {
     "data": {
      "image/png": "[encoded data removed]",
      "text/plain": [
       "<Figure size 432x288 with 1 Axes>"
      ]
     },
     "metadata": {
      "needs_background": "light"
     },
     "output_type": "display_data"
    }
   ],
   "source": [
    "loss_lstm6432 = history_lstm6432.history['loss']\n",
    "val_loss_lstm6432 = history_lstm6432.history['val_loss']\n",
    "\n",
    "epochs = range(1, len(loss_lstm6432) + 1)\n",
    "\n",
    "plt.figure()\n",
    "\n",
    "plt.plot(epochs, loss_lstm6432, 'bo', label='Training loss')\n",
    "plt.plot(epochs, val_loss_lstm6432, 'b', label='Validation loss')\n",
    "plt.title('Training and validation loss')\n",
    "plt.legend()\n",
    "\n",
    "plt.show()"
   ]
  },
  {
   "cell_type": "code",
   "execution_count": 38,
   "metadata": {
    "ExecuteTime": {
     "end_time": "2019-12-20T19:30:50.439598Z",
     "start_time": "2019-12-20T19:30:50.435812Z"
    }
   },
   "outputs": [
    {
     "name": "stdout",
     "output_type": "stream",
     "text": [
      "Model Error: 1.41%\n"
     ]
    }
   ],
   "source": [
    "print('Model Error:', f'{((min(val_loss_lstm6432) * train_mw_std)/plant_capacity):0.2%}')"
   ]
  },
  {
   "cell_type": "code",
   "execution_count": 39,
   "metadata": {
    "ExecuteTime": {
     "end_time": "2019-12-20T19:30:50.444773Z",
     "start_time": "2019-12-20T19:30:50.441616Z"
    }
   },
   "outputs": [],
   "source": [
    "lstm6432 = ((min(val_loss_lstm6432) * train_mw_std)/plant_capacity) * 100"
   ]
  },
  {
   "cell_type": "markdown",
   "metadata": {},
   "source": [
    "<div id=\"lstm4\"/>\n",
    "<div style='padding:20px;'> <font style='font-weight:bold;font-size:15px;color:#2c3393;'>2.5.4 Stacked LSTM with 32 and 64 nodes</font></div>"
   ]
  },
  {
   "cell_type": "code",
   "execution_count": 40,
   "metadata": {
    "ExecuteTime": {
     "end_time": "2019-12-20T19:41:42.935103Z",
     "start_time": "2019-12-20T19:30:50.446701Z"
    },
    "collapsed": true
   },
   "outputs": [
    {
     "name": "stdout",
     "output_type": "stream",
     "text": [
      "Epoch 1/50\n",
      "20/20 [==============================] - 2s 78ms/step - loss: 0.2272\n",
      "\n",
      "Epoch 00001: val_loss improved from inf to 0.22722, saving model to clark_best_lstm3264.hdf5\n",
      " - 41s - loss: 0.4076 - val_loss: 0.2272\n",
      "Epoch 2/50\n",
      "20/20 [==============================] - 2s 75ms/step - loss: 0.2298\n",
      "\n",
      "Epoch 00002: val_loss did not improve from 0.22722\n",
      " - 39s - loss: 0.2578 - val_loss: 0.2298\n",
      "Epoch 3/50\n",
      "20/20 [==============================] - 1s 66ms/step - loss: 0.2099\n",
      "\n",
      "Epoch 00003: val_loss improved from 0.22722 to 0.20986, saving model to clark_best_lstm3264.hdf5\n",
      " - 41s - loss: 0.2111 - val_loss: 0.2099\n",
      "Epoch 4/50\n",
      "20/20 [==============================] - 1s 66ms/step - loss: 0.2387\n",
      "\n",
      "Epoch 00004: val_loss did not improve from 0.20986\n",
      " - 37s - loss: 0.1871 - val_loss: 0.2387\n",
      "Epoch 5/50\n",
      "20/20 [==============================] - 1s 65ms/step - loss: 0.2111\n",
      "\n",
      "Epoch 00005: val_loss did not improve from 0.20986\n",
      " - 37s - loss: 0.1708 - val_loss: 0.2111\n",
      "Epoch 6/50\n",
      "20/20 [==============================] - 1s 67ms/step - loss: 0.2193\n",
      "\n",
      "Epoch 00006: val_loss did not improve from 0.20986\n",
      " - 37s - loss: 0.1655 - val_loss: 0.2193\n",
      "Epoch 7/50\n",
      "20/20 [==============================] - 1s 67ms/step - loss: 0.1926\n",
      "\n",
      "Epoch 00007: val_loss improved from 0.20986 to 0.19259, saving model to clark_best_lstm3264.hdf5\n",
      " - 38s - loss: 0.1579 - val_loss: 0.1926\n",
      "Epoch 8/50\n",
      "20/20 [==============================] - 1s 68ms/step - loss: 0.2260\n",
      "\n",
      "Epoch 00008: val_loss did not improve from 0.19259\n",
      " - 38s - loss: 0.1513 - val_loss: 0.2260\n",
      "Epoch 9/50\n",
      "20/20 [==============================] - 1s 67ms/step - loss: 0.2203\n",
      "\n",
      "Epoch 00009: val_loss did not improve from 0.19259\n",
      " - 39s - loss: 0.1417 - val_loss: 0.2203\n",
      "Epoch 10/50\n",
      "20/20 [==============================] - 1s 67ms/step - loss: 0.2130\n",
      "\n",
      "Epoch 00010: val_loss did not improve from 0.19259\n",
      " - 37s - loss: 0.1421 - val_loss: 0.2130\n",
      "Epoch 11/50\n",
      "20/20 [==============================] - 1s 65ms/step - loss: 0.2420\n",
      "\n",
      "Epoch 00011: val_loss did not improve from 0.19259\n",
      " - 37s - loss: 0.1376 - val_loss: 0.2420\n",
      "Epoch 12/50\n",
      "20/20 [==============================] - 1s 68ms/step - loss: 0.1928\n",
      "\n",
      "Epoch 00012: val_loss did not improve from 0.19259\n",
      " - 38s - loss: 0.1358 - val_loss: 0.1928\n",
      "Epoch 13/50\n",
      "20/20 [==============================] - 1s 66ms/step - loss: 0.2139\n",
      "\n",
      "Epoch 00013: val_loss did not improve from 0.19259\n",
      " - 38s - loss: 0.1290 - val_loss: 0.2139\n",
      "Epoch 14/50\n",
      "20/20 [==============================] - 1s 66ms/step - loss: 0.1976\n",
      "\n",
      "Epoch 00014: val_loss did not improve from 0.19259\n",
      " - 38s - loss: 0.1270 - val_loss: 0.1976\n",
      "Epoch 15/50\n",
      "20/20 [==============================] - 1s 66ms/step - loss: 0.2421\n",
      "\n",
      "Epoch 00015: val_loss did not improve from 0.19259\n",
      " - 38s - loss: 0.1227 - val_loss: 0.2421\n",
      "Epoch 16/50\n",
      "20/20 [==============================] - 1s 68ms/step - loss: 0.2069\n",
      "\n",
      "Epoch 00016: val_loss did not improve from 0.19259\n",
      " - 38s - loss: 0.1243 - val_loss: 0.2069\n",
      "Epoch 17/50\n",
      "20/20 [==============================] - 1s 66ms/step - loss: 0.2055\n",
      "\n",
      "Epoch 00017: val_loss did not improve from 0.19259\n",
      " - 37s - loss: 0.1201 - val_loss: 0.2055\n",
      "Epoch 00017: early stopping\n"
     ]
    }
   ],
   "source": [
    "filepath_lstm3264 =\"clark_best_lstm3264.hdf5\" \n",
    "cp_lstm3264 = ModelCheckpoint(filepath_lstm3264, monitor='val_loss', verbose=2, save_best_only=True, mode='min')\n",
    "es_lstm3264 = EarlyStopping(monitor='val_loss', mode='min', verbose=2, patience=10, min_delta=.01)\n",
    "callbacks_list_lstm3264 = [cp_lstm3264, es_lstm3264]\n",
    "\n",
    "# fix random seed for reproducibility\n",
    "seed = 1337\n",
    "np.random.seed(seed)\n",
    "\n",
    "model_lstm3264 = Sequential()\n",
    "model_lstm3264.add(layers.LSTM(64,\n",
    "                    dropout=0.2,\n",
    "                    recurrent_dropout=0.2,\n",
    "                    return_sequences=True,\n",
    "                    input_shape=(None, float_data.shape[-1])))\n",
    "model_lstm3264.add(layers.LSTM(32,\n",
    "                    dropout=0.2,\n",
    "                    recurrent_dropout=0.2))\n",
    "model_lstm3264.add(layers.Dense(64, activation='relu'))\n",
    "model_lstm3264.add(layers.Dense(1))\n",
    "model_lstm3264.compile(optimizer=RMSprop(), loss='mae')\n",
    "\n",
    "history_lstm3264 = model_lstm3264.fit_generator(train_gen,\n",
    "                                             steps_per_epoch=steps_per_epoch_cnt,\n",
    "                                             epochs=50,\n",
    "                                             validation_data=val_gen, \n",
    "                                             validation_steps=val_steps_cnt,\n",
    "                                             callbacks=callbacks_list_lstm3264, verbose=2)"
   ]
  },
  {
   "cell_type": "code",
   "execution_count": 41,
   "metadata": {
    "ExecuteTime": {
     "end_time": "2019-12-20T19:41:43.144255Z",
     "start_time": "2019-12-20T19:41:42.936638Z"
    },
    "collapsed": true
   },
   "outputs": [
    {
     "data": {
      "image/png": "[encoded data removed]",
      "text/plain": [
       "<Figure size 432x288 with 1 Axes>"
      ]
     },
     "metadata": {
      "needs_background": "light"
     },
     "output_type": "display_data"
    }
   ],
   "source": [
    "loss_lstm3264 = history_lstm3264.history['loss']\n",
    "val_loss_lstm3264 = history_lstm3264.history['val_loss']\n",
    "\n",
    "epochs = range(1, len(loss_lstm3264) + 1)\n",
    "\n",
    "plt.figure()\n",
    "\n",
    "plt.plot(epochs, loss_lstm3264, 'bo', label='Training loss')\n",
    "plt.plot(epochs, val_loss_lstm3264, 'b', label='Validation loss')\n",
    "plt.title('Training and validation loss')\n",
    "plt.legend()\n",
    "\n",
    "plt.show()"
   ]
  },
  {
   "cell_type": "code",
   "execution_count": 42,
   "metadata": {
    "ExecuteTime": {
     "end_time": "2019-12-20T19:41:43.150064Z",
     "start_time": "2019-12-20T19:41:43.145864Z"
    }
   },
   "outputs": [
    {
     "name": "stdout",
     "output_type": "stream",
     "text": [
      "Model Error: 1.40%\n"
     ]
    }
   ],
   "source": [
    "print('Model Error:', f'{((min(val_loss_lstm3264) * train_mw_std)/plant_capacity):0.2%}')"
   ]
  },
  {
   "cell_type": "code",
   "execution_count": 43,
   "metadata": {
    "ExecuteTime": {
     "end_time": "2019-12-20T19:41:43.154532Z",
     "start_time": "2019-12-20T19:41:43.151940Z"
    }
   },
   "outputs": [],
   "source": [
    "lstm3264 = ((min(val_loss_lstm3264) * train_mw_std)/plant_capacity)  * 100"
   ]
  },
  {
   "cell_type": "markdown",
   "metadata": {},
   "source": [
    "<div id=\"results\"/>\n",
    "<div style='padding:3px;'> <font style='font-weight:bold;font-size:20px;color:#2c3393;'>3. Results and Discussions</font></div>"
   ]
  },
  {
   "cell_type": "markdown",
   "metadata": {},
   "source": [
    "<div id=\"res\"/>\n",
    "<div style='padding:10px;'> <font style='font-weight:bold;font-size:15px;color:#2c3393;'>3.1 Results</font></div>"
   ]
  },
  {
   "cell_type": "code",
   "execution_count": 44,
   "metadata": {
    "ExecuteTime": {
     "end_time": "2019-12-20T19:41:43.159244Z",
     "start_time": "2019-12-20T19:41:43.156020Z"
    }
   },
   "outputs": [],
   "source": [
    "names = ['Industry Agnostic Naive Method',\n",
    "         'Industry Standard Naive Method', \n",
    "         'LSTM with 64 nodes',\n",
    "         'LSTM with 32 nodes',\n",
    "         'LSTM+LSTM with 64 nodes and 32 nodes',\n",
    "         'LSTM+LSTM with 32 nodes and 64 nodes']\n",
    "results = [benchmark1, \n",
    "           benchmark2,\n",
    "           lstm64,\n",
    "           lstm32,\n",
    "           lstm6432,\n",
    "           lstm3264]"
   ]
  },
  {
   "cell_type": "code",
   "execution_count": 45,
   "metadata": {
    "ExecuteTime": {
     "end_time": "2019-12-20T19:41:43.164874Z",
     "start_time": "2019-12-20T19:41:43.160798Z"
    }
   },
   "outputs": [],
   "source": [
    "results = pd.DataFrame(zip(names,results), columns=['Model', 'Error in Percentage'])"
   ]
  },
  {
   "cell_type": "code",
   "execution_count": 47,
   "metadata": {
    "ExecuteTime": {
     "end_time": "2019-12-21T02:43:34.909019Z",
     "start_time": "2019-12-21T02:43:34.905769Z"
    }
   },
   "outputs": [],
   "source": [
    "results['Error in Percentage'] = round(results['Error in Percentage'],2)"
   ]
  },
  {
   "cell_type": "code",
   "execution_count": 48,
   "metadata": {
    "ExecuteTime": {
     "end_time": "2019-12-21T02:43:42.897120Z",
     "start_time": "2019-12-21T02:43:42.890993Z"
    }
   },
   "outputs": [],
   "source": [
    "results['Improvement'] = round(1-(results['Error in Percentage']/3.64),4)*100"
   ]
  },
  {
   "cell_type": "code",
   "execution_count": 49,
   "metadata": {
    "ExecuteTime": {
     "end_time": "2019-12-21T02:43:51.071919Z",
     "start_time": "2019-12-21T02:43:51.055743Z"
    }
   },
   "outputs": [
    {
     "data": {
      "text/html": [
       "<div>\n",
       "<style scoped>\n",
       "    .dataframe tbody tr th:only-of-type {\n",
       "        vertical-align: middle;\n",
       "    }\n",
       "\n",
       "    .dataframe tbody tr th {\n",
       "        vertical-align: top;\n",
       "    }\n",
       "\n",
       "    .dataframe thead th {\n",
       "        text-align: right;\n",
       "    }\n",
       "</style>\n",
       "<table border=\"1\" class=\"dataframe\">\n",
       "  <thead>\n",
       "    <tr style=\"text-align: right;\">\n",
       "      <th></th>\n",
       "      <th>Model</th>\n",
       "      <th>Error in Percentage</th>\n",
       "      <th>Improvement</th>\n",
       "    </tr>\n",
       "  </thead>\n",
       "  <tbody>\n",
       "    <tr>\n",
       "      <th>0</th>\n",
       "      <td>Industry Agnostic Naive Method</td>\n",
       "      <td>8.87</td>\n",
       "      <td>143.68</td>\n",
       "    </tr>\n",
       "    <tr>\n",
       "      <th>1</th>\n",
       "      <td>Industry Standard Naive Method</td>\n",
       "      <td>3.64</td>\n",
       "      <td>0.00</td>\n",
       "    </tr>\n",
       "    <tr>\n",
       "      <th>2</th>\n",
       "      <td>LSTM with 64 nodes</td>\n",
       "      <td>1.44</td>\n",
       "      <td>60.44</td>\n",
       "    </tr>\n",
       "    <tr>\n",
       "      <th>3</th>\n",
       "      <td>LSTM with 32 nodes</td>\n",
       "      <td>1.36</td>\n",
       "      <td>62.64</td>\n",
       "    </tr>\n",
       "    <tr>\n",
       "      <th>4</th>\n",
       "      <td>LSTM+LSTM with 64 nodes and 32 nodes</td>\n",
       "      <td>1.41</td>\n",
       "      <td>61.26</td>\n",
       "    </tr>\n",
       "    <tr>\n",
       "      <th>5</th>\n",
       "      <td>LSTM+LSTM with 32 nodes and 64 nodes</td>\n",
       "      <td>1.40</td>\n",
       "      <td>61.54</td>\n",
       "    </tr>\n",
       "  </tbody>\n",
       "</table>\n",
       "</div>"
      ],
      "text/plain": [
       "                                  Model  Error in Percentage  Improvement\n",
       "0        Industry Agnostic Naive Method                 8.87        143.68\n",
       "1        Industry Standard Naive Method                 3.64        0.00\n",
       "2                    LSTM with 64 nodes                 1.44        60.44\n",
       "3                    LSTM with 32 nodes                 1.36        62.64\n",
       "4  LSTM+LSTM with 64 nodes and 32 nodes                 1.41        61.26\n",
       "5  LSTM+LSTM with 32 nodes and 64 nodes                 1.40        61.54"
      ]
     },
     "execution_count": 49,
     "metadata": {},
     "output_type": "execute_result"
    }
   ],
   "source": [
    "results"
   ]
  },
  {
   "cell_type": "markdown",
   "metadata": {},
   "source": [
    "<div id=\"res\"/>\n",
    "<div style='padding:10px;'> <font style='font-weight:bold;font-size:15px;color:#2c3393;'>3.2 Discussion and Recommendation</font></div>"
   ]
  },
  {
   "cell_type": "markdown",
   "metadata": {},
   "source": [
    "Deep learning models, particularly Long-Short Term Memory, works very well with time series data that all neural networks performed more than 60% better than current industry standards. This improvements will save companies and the national grid operators money and make our power system more efficient. Companies will pay less paid due to miscalculations of projected generation and waste from generating too much power that are not bought by the market. Grid operators will save on repairs and downtimes caused by fluctuations in the power supply.\n",
    "\n",
    "Further improvements in the model can be achieved further manipulation of the architecture of the network such as trying different numbers of nodes, layers, and optimizers in the LSTM layer, adding dense layers with different nodes, or even adding a CNN layer after the LSTM layer, as some have done. Another avenue for improvement is to obtain more data that are more indicative of solar power generation such as quality of solar panels, the angle they are placed, the irridiance per hour, altitude of the area, among others."
   ]
  },
  {
   "cell_type": "markdown",
   "metadata": {},
   "source": [
    "<div id=\"summary\"/>\n",
    "<div style='padding:3px;'> <font style='font-weight:bold;font-size:20px;color:#2c3393;'>4. Main Learning Points</font></div>"
   ]
  },
  {
   "cell_type": "markdown",
   "metadata": {},
   "source": [
    "In this age of the 4th industrial revolution, technologies are making everything, even ones that require specialized technical knowledge, such as programming, available to all. Various programs enable anyone, who has a computer, internet connection, and interest, to create their own machine learning models. All these parameter tuning, model selection, and model evaluation are getting simpler and simpler to execute, but harder to explain. This is where a formal education in data science with good mathematical foundation brings an edge. Real self-respecting data scientists will be able to explain not just how to execute/program the pipline, but also how the actual algorithm works and how it was able to provide the results it did. There is a developed intuition from  having understand the fundamentals. This, together with industry expertise, will determine the success of a data scientist in the field.\n",
    "\n",
    "Industry expertise is still important, as there are various intricacies in an industry that are not known to outsiders. These insights might be the determining factor in the increased performance of a model, or even its acceptance."
   ]
  }
 ],
 "metadata": {
  "kernelspec": {
   "display_name": "Python 3",
   "language": "python",
   "name": "python3"
  },
  "language_info": {
   "codemirror_mode": {
    "name": "ipython",
    "version": 3
   },
   "file_extension": ".py",
   "mimetype": "text/x-python",
   "name": "python",
   "nbconvert_exporter": "python",
   "pygments_lexer": "ipython3",
   "version": "3.7.3"
  }
 },
 "nbformat": 4,
 "nbformat_minor": 2
}
