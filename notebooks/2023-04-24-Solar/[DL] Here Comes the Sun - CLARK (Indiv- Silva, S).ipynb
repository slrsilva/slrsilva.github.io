{
 "cells": [
  {
   "cell_type": "markdown",
   "metadata": {},
   "source": [
    "<div style='padding:5px'><font style='font-weight:bold;font-size:32px;color:#2c3393;'>Here Comes The Sun: Clark Solar Power Plant</font></div>\n",
    "<div style='padding:5px'><font style='font-weight:bold;font-size:24px;color:#2c3393;'>LT16 - Sandro Silva and Jac Lin Yu</font></div>\n",
    "<div style='padding:5px'><font style='font-weight:bold;font-size:15px;color:#2c3393;'>Individual Project of Sandro Silva</font><div>"
   ]
  },
  {
   "cell_type": "markdown",
   "metadata": {},
   "source": [
    "------------"
   ]
  },
  {
   "cell_type": "markdown",
   "metadata": {},
   "source": [
    "<font style='font-weight:bold;font-size:32px;color:#2c3393;'>Table of Contents</font>\n"
   ]
  },
  {
   "cell_type": "markdown",
   "metadata": {
    "ExecuteTime": {
     "end_time": "2019-12-20T08:14:15.828643Z",
     "start_time": "2019-12-20T08:14:15.822694Z"
    }
   },
   "source": [
    "<font style='font-size:16px'>\n",
    "    \n",
    "**[1. Problem Statement](#problem-statement)**\n",
    "\n",
    "**[2. Methodology](#methodology)**\n",
    "\n",
    "  * [2.1. Loading Prerequisites](#preq)\n",
    "  * [2.2. Dataset and Preprocessing](#data)\n",
    "  * [2.3. Train, Validation, Test Split and Batch Generation](#train)\n",
    "  * [2.4. Determining the Benchmark](#benchmark)\n",
    "  * [2.5. Model Training and Selection](#model)\n",
    "      * [2.5.1 LSTM with 64 nodes](#lstm1)\n",
    "      * [2.5.2 LSTM with 32 nodes](#lstm2)\n",
    "      * [2.5.3 Stacked LSTM with 64 and 32 nodes](#lstm3)\n",
    "      * [2.5.4 Stacked LSTM with 32 and 64 nodes](#lstm4)   \n",
    "\n",
    "**[3. Results and Discussions](#results)**\n",
    "  * [3.1. Results](#res)\n",
    "  * [3.2. Discussions and Recommendations](#discussions)\n",
    "    \n",
    "**[4. Summary and Main Learning Points](#summary)**\n",
    "  * [4.1. Summary](#summary)\n",
    "  * [4.1. Main Learning Points](#main)\n",
    "</font>"
   ]
  },
  {
   "cell_type": "markdown",
   "metadata": {},
   "source": [
    "<div id=\"problem-statement\"/>\n",
    "<div style='padding:3px;'> <font style='font-weight:bold;font-size:20px;color:#2c3393;'>1. Problem Statement</font></div>"
   ]
  },
  {
   "cell_type": "markdown",
   "metadata": {},
   "source": [
    "<div style='padding-left: 20px; text-align: justify; font-size:16px; line-height:1.6'>\n",
    "In recent years, the global energy industry has changed its focus away from traditional fuel sources, such as oil and coal, to more alternative and sustainable solutions, such as hydroelectric, solar and wind. However, the shift towards renewable energy poses new threats and challenges to existing power grids across the world. One major concern surrounding renewable energy generation is the inherent variability and intermittency of its fuel source, as this can cause disruptions in power grids. Essentially, renewable energy technologies threaten to overwhelm the grid operators.\n",
    "<br><br> \n",
    "Renewable energy forecasting, in particular solar generation supply, may provide power grid operators the ability to predict and balance energy generation and consumption. In addition, power grid operators will be able to balance and schedule the distribution of generated power for not only renewable power plants but also conventional (and rigid) power plants, such as coal and natural gas.\n",
    "</div>"
   ]
  },
  {
   "cell_type": "markdown",
   "metadata": {},
   "source": [
    "<div id=\"methodology\"/>\n",
    "<div style='padding:5px;'> <font style='font-weight:bold;font-size:20px;color:#2c3393;'>2. Methodology</font></div>"
   ]
  },
  {
   "cell_type": "markdown",
   "metadata": {
    "ExecuteTime": {
     "end_time": "2019-12-20T09:16:29.227577Z",
     "start_time": "2019-12-20T09:16:29.221872Z"
    }
   },
   "source": [
    "<div id=\"preq\"/>\n",
    "<div style='padding:5px;'> <font style='font-weight:bold;font-size:15px;color:#2c3393;'>2.1 Loading Prerequisites</font></div>"
   ]
  },
  {
   "cell_type": "code",
   "execution_count": 2,
   "metadata": {
    "ExecuteTime": {
     "end_time": "2019-12-22T10:29:34.456059Z",
     "start_time": "2019-12-22T10:29:34.451884Z"
    }
   },
   "outputs": [],
   "source": [
    "import warnings\n",
    "warnings.simplefilter(action='ignore', category=FutureWarning)"
   ]
  },
  {
   "cell_type": "code",
   "execution_count": 3,
   "metadata": {
    "ExecuteTime": {
     "end_time": "2019-12-22T10:29:37.558609Z",
     "start_time": "2019-12-22T10:29:34.876146Z"
    }
   },
   "outputs": [],
   "source": [
    "import numpy as np\n",
    "import math\n",
    "import pandas as pd\n",
    "import matplotlib.pyplot as plt\n",
    "\n",
    "from sklearn.preprocessing import MinMaxScaler\n",
    "\n",
    "from tensorflow.keras.datasets import imdb\n",
    "from tensorflow.keras.preprocessing import sequence\n",
    "from tensorflow.keras.models import Sequential\n",
    "from tensorflow.keras import layers\n",
    "from tensorflow.keras.optimizers import RMSprop, Adam\n",
    "\n",
    "from tensorflow.keras.callbacks import ModelCheckpoint, EarlyStopping"
   ]
  },
  {
   "cell_type": "markdown",
   "metadata": {
    "ExecuteTime": {
     "end_time": "2019-12-20T09:17:54.042396Z",
     "start_time": "2019-12-20T09:17:54.032465Z"
    }
   },
   "source": [
    "<div id=\"data\"/>\n",
    "<div style='padding:5px;'> <font style='font-weight:bold;font-size:15px;color:#2c3393;'>2.2 Dataset and Preprocessing</font></div>"
   ]
  },
  {
   "cell_type": "markdown",
   "metadata": {
    "ExecuteTime": {
     "end_time": "2019-12-20T10:22:01.397144Z",
     "start_time": "2019-12-20T10:22:01.390828Z"
    }
   },
   "source": [
    "<div style='padding:5px;'> <font style='font-style:italic;font-size:15px;color:#2c3393;'>\n",
    "Here, we will load the already cleaned preprocessed dataset of solar generation per plant per hour.\n",
    "The cleaning was processed outside of this notebook, and followed a framework which follows the industry standard of imputing missing values.\n",
    "  \n",
    "    \n",
    "<b>To list a few processes:</b>\n",
    "    - using the average between the before(t-1) and after hour(t+1)\n",
    "    - using a 1-week average of all similar intervals \n",
    "    (ex, if empty during hour 6 of dec 20, take the moving average of all hour 6 from dec 13-dec19)\n",
    "    - using a 4-week moving average of that specific hour and day of the week \n",
    "    (ex, if empty during hour 6 of dec 20, we take average of hour 6(dec 13, 6, 29, 22)\n",
    "</font></div>"
   ]
  },
  {
   "cell_type": "code",
   "execution_count": 4,
   "metadata": {
    "ExecuteTime": {
     "end_time": "2019-12-22T10:30:35.995418Z",
     "start_time": "2019-12-22T10:29:37.561183Z"
    }
   },
   "outputs": [],
   "source": [
    "df = pd.read_excel('solar_dataset.xlsx', \n",
    "                   sheet_name='clark', \n",
    "                   parse_dates=['DATETIME'])"
   ]
  },
  {
   "cell_type": "markdown",
   "metadata": {},
   "source": [
    "<div style='padding:5px;'> <font style='font-style:italic;font-size:15px;color:#2c3393;'>\n",
    "Here let us observe the different datatypes, notice that some columns are objects, some of which will be dropped.\n",
    "    </font></div>"
   ]
  },
  {
   "cell_type": "code",
   "execution_count": 4,
   "metadata": {
    "ExecuteTime": {
     "end_time": "2019-12-20T17:58:14.898307Z",
     "start_time": "2019-12-20T17:58:14.881215Z"
    }
   },
   "outputs": [
    {
     "data": {
      "text/plain": [
       "DATETIME         datetime64[ns]\n",
       "YEAR                      int64\n",
       "MONTH                     int64\n",
       "DAY                       int64\n",
       "HOUR                      int64\n",
       "RESOURCE_ID              object\n",
       "MW                      float64\n",
       "Location                 object\n",
       "Temperature             float64\n",
       "Dew Point               float64\n",
       "Humidity                float64\n",
       "Wind Speed              float64\n",
       "Wind Gust                 int64\n",
       "Pressure                float64\n",
       "Condition                object\n",
       "Location_Name            object\n",
       "dtype: object"
      ]
     },
     "execution_count": 4,
     "metadata": {},
     "output_type": "execute_result"
    }
   ],
   "source": [
    "df.dtypes"
   ]
  },
  {
   "cell_type": "code",
   "execution_count": 5,
   "metadata": {
    "ExecuteTime": {
     "end_time": "2019-12-20T17:58:14.917372Z",
     "start_time": "2019-12-20T17:58:14.899802Z"
    }
   },
   "outputs": [
    {
     "data": {
      "text/html": [
       "<div>\n",
       "<style scoped>\n",
       "    .dataframe tbody tr th:only-of-type {\n",
       "        vertical-align: middle;\n",
       "    }\n",
       "\n",
       "    .dataframe tbody tr th {\n",
       "        vertical-align: top;\n",
       "    }\n",
       "\n",
       "    .dataframe thead th {\n",
       "        text-align: right;\n",
       "    }\n",
       "</style>\n",
       "<table border=\"1\" class=\"dataframe\">\n",
       "  <thead>\n",
       "    <tr style=\"text-align: right;\">\n",
       "      <th></th>\n",
       "      <th>DATETIME</th>\n",
       "      <th>YEAR</th>\n",
       "      <th>MONTH</th>\n",
       "      <th>DAY</th>\n",
       "      <th>HOUR</th>\n",
       "      <th>RESOURCE_ID</th>\n",
       "      <th>MW</th>\n",
       "      <th>Location</th>\n",
       "      <th>Temperature</th>\n",
       "      <th>Dew Point</th>\n",
       "      <th>Humidity</th>\n",
       "      <th>Wind Speed</th>\n",
       "      <th>Wind Gust</th>\n",
       "      <th>Pressure</th>\n",
       "      <th>Condition</th>\n",
       "      <th>Location_Name</th>\n",
       "    </tr>\n",
       "  </thead>\n",
       "  <tbody>\n",
       "    <tr>\n",
       "      <th>0</th>\n",
       "      <td>2016-12-26 00:00:00</td>\n",
       "      <td>2016</td>\n",
       "      <td>12</td>\n",
       "      <td>26</td>\n",
       "      <td>1</td>\n",
       "      <td>1CLASOL_G01</td>\n",
       "      <td>0.0</td>\n",
       "      <td>RPLC</td>\n",
       "      <td>75.0</td>\n",
       "      <td>70.0</td>\n",
       "      <td>83.0</td>\n",
       "      <td>5.0</td>\n",
       "      <td>0</td>\n",
       "      <td>29.3</td>\n",
       "      <td>Light Rain Shower</td>\n",
       "      <td>ANGELES/PAMPANGA</td>\n",
       "    </tr>\n",
       "    <tr>\n",
       "      <th>1</th>\n",
       "      <td>2016-12-26 01:00:00</td>\n",
       "      <td>2016</td>\n",
       "      <td>12</td>\n",
       "      <td>26</td>\n",
       "      <td>2</td>\n",
       "      <td>1CLASOL_G01</td>\n",
       "      <td>0.0</td>\n",
       "      <td>RPLC</td>\n",
       "      <td>77.0</td>\n",
       "      <td>68.0</td>\n",
       "      <td>74.0</td>\n",
       "      <td>9.0</td>\n",
       "      <td>0</td>\n",
       "      <td>29.2</td>\n",
       "      <td>Cloudy</td>\n",
       "      <td>ANGELES/PAMPANGA</td>\n",
       "    </tr>\n",
       "    <tr>\n",
       "      <th>2</th>\n",
       "      <td>2016-12-26 02:00:00</td>\n",
       "      <td>2016</td>\n",
       "      <td>12</td>\n",
       "      <td>26</td>\n",
       "      <td>3</td>\n",
       "      <td>1CLASOL_G01</td>\n",
       "      <td>0.0</td>\n",
       "      <td>RPLC</td>\n",
       "      <td>77.0</td>\n",
       "      <td>70.0</td>\n",
       "      <td>78.0</td>\n",
       "      <td>9.0</td>\n",
       "      <td>0</td>\n",
       "      <td>29.2</td>\n",
       "      <td>Light Rain Shower</td>\n",
       "      <td>ANGELES/PAMPANGA</td>\n",
       "    </tr>\n",
       "  </tbody>\n",
       "</table>\n",
       "</div>"
      ],
      "text/plain": [
       "             DATETIME  YEAR  MONTH  DAY  HOUR  RESOURCE_ID   MW Location  \\\n",
       "0 2016-12-26 00:00:00  2016     12   26     1  1CLASOL_G01  0.0     RPLC   \n",
       "1 2016-12-26 01:00:00  2016     12   26     2  1CLASOL_G01  0.0     RPLC   \n",
       "2 2016-12-26 02:00:00  2016     12   26     3  1CLASOL_G01  0.0     RPLC   \n",
       "\n",
       "   Temperature  Dew Point  Humidity  Wind Speed  Wind Gust  Pressure  \\\n",
       "0         75.0       70.0      83.0         5.0          0      29.3   \n",
       "1         77.0       68.0      74.0         9.0          0      29.2   \n",
       "2         77.0       70.0      78.0         9.0          0      29.2   \n",
       "\n",
       "           Condition     Location_Name  \n",
       "0  Light Rain Shower  ANGELES/PAMPANGA  \n",
       "1             Cloudy  ANGELES/PAMPANGA  \n",
       "2  Light Rain Shower  ANGELES/PAMPANGA  "
      ]
     },
     "execution_count": 5,
     "metadata": {},
     "output_type": "execute_result"
    }
   ],
   "source": [
    "df.head(3)"
   ]
  },
  {
   "cell_type": "markdown",
   "metadata": {},
   "source": [
    "<div style='padding:5px;'> <font style='font-style:italic;font-size:15px;color:#2c3393;'>\n",
    "    It is customary in traditional time-series regression to convert the <code>month</code>, <code>day</code>, \n",
    "    <code>hour</code> into categorical data, which will be later used in one-hot encoding. In addition, this is the usual preprocessing used in the energy industry here in the Philippines.\n",
    "</font></div>"
   ]
  },
  {
   "cell_type": "code",
   "execution_count": 6,
   "metadata": {
    "ExecuteTime": {
     "end_time": "2019-12-20T17:58:15.045070Z",
     "start_time": "2019-12-20T17:58:14.918955Z"
    }
   },
   "outputs": [],
   "source": [
    "df.MONTH = df.MONTH.astype('str')\n",
    "df.DAY = df.DAY.astype('str')\n",
    "df.HOUR = df.HOUR.astype('str')"
   ]
  },
  {
   "cell_type": "markdown",
   "metadata": {},
   "source": [
    "<div style='padding:5px;'> <font style='font-style:italic;font-size:15px;color:#2c3393;'>\n",
    "    Let us drop the unimportant columns\n",
    "</font></div>"
   ]
  },
  {
   "cell_type": "code",
   "execution_count": 7,
   "metadata": {
    "ExecuteTime": {
     "end_time": "2019-12-20T17:58:15.075868Z",
     "start_time": "2019-12-20T17:58:15.046202Z"
    }
   },
   "outputs": [],
   "source": [
    "df.drop(['Location_Name', 'Location', \"YEAR\"],axis=1,inplace=True)"
   ]
  },
  {
   "cell_type": "markdown",
   "metadata": {},
   "source": [
    "<div style='padding:5px;'> <font style='font-style:italic;font-size:15px;color:#2c3393;'>\n",
    "    Let us append the main <code>df</code> with the one-hot encoded dataframe\n",
    "</font></div>"
   ]
  },
  {
   "cell_type": "code",
   "execution_count": 8,
   "metadata": {
    "ExecuteTime": {
     "end_time": "2019-12-20T17:58:15.163769Z",
     "start_time": "2019-12-20T17:58:15.078065Z"
    }
   },
   "outputs": [],
   "source": [
    "df = df.join(pd.get_dummies(df[['MONTH','DAY','HOUR','Condition']]))"
   ]
  },
  {
   "cell_type": "markdown",
   "metadata": {},
   "source": [
    "<div style='padding:5px;'> <font style='font-style:italic;font-size:15px;color:#2c3393;'>\n",
    "    Let us get the unique list of power plants in the region\n",
    "</font></div>"
   ]
  },
  {
   "cell_type": "code",
   "execution_count": 9,
   "metadata": {
    "ExecuteTime": {
     "end_time": "2019-12-20T17:58:15.173301Z",
     "start_time": "2019-12-20T17:58:15.166471Z"
    }
   },
   "outputs": [],
   "source": [
    "locations = df.RESOURCE_ID.unique()"
   ]
  },
  {
   "cell_type": "markdown",
   "metadata": {},
   "source": [
    "<div style='padding:5px;'> <font style='font-style:italic;font-size:15px;color:#2c3393;'>\n",
    "    For this study, let us consider the first power plant\n",
    "</font></div>"
   ]
  },
  {
   "cell_type": "code",
   "execution_count": 10,
   "metadata": {
    "ExecuteTime": {
     "end_time": "2019-12-20T17:58:15.180358Z",
     "start_time": "2019-12-20T17:58:15.176105Z"
    }
   },
   "outputs": [
    {
     "data": {
      "text/plain": [
       "'1CLASOL_G01'"
      ]
     },
     "execution_count": 10,
     "metadata": {},
     "output_type": "execute_result"
    }
   ],
   "source": [
    "locations[0]"
   ]
  },
  {
   "cell_type": "code",
   "execution_count": 11,
   "metadata": {
    "ExecuteTime": {
     "end_time": "2019-12-20T17:58:15.229579Z",
     "start_time": "2019-12-20T17:58:15.181992Z"
    }
   },
   "outputs": [],
   "source": [
    "df0 = df[df.RESOURCE_ID == locations[0]].copy()"
   ]
  },
  {
   "cell_type": "markdown",
   "metadata": {},
   "source": [
    "<div style='padding:5px;'> <font style='font-style:italic;font-size:15px;color:#2c3393;'>\n",
    "    Further dropping of columns as well as reordering of columns\n",
    "</font></div>"
   ]
  },
  {
   "cell_type": "code",
   "execution_count": 12,
   "metadata": {
    "ExecuteTime": {
     "end_time": "2019-12-20T17:58:15.237316Z",
     "start_time": "2019-12-20T17:58:15.231256Z"
    }
   },
   "outputs": [],
   "source": [
    "df0 = df0.drop(['RESOURCE_ID','DATETIME','MONTH','DAY','HOUR','Condition'],\n",
    "               axis=1)"
   ]
  },
  {
   "cell_type": "code",
   "execution_count": 13,
   "metadata": {
    "ExecuteTime": {
     "end_time": "2019-12-20T17:58:15.245634Z",
     "start_time": "2019-12-20T17:58:15.238992Z"
    }
   },
   "outputs": [],
   "source": [
    "df0 = df0[['Temperature','MW'] + df0.columns[2:].tolist()].copy()"
   ]
  },
  {
   "cell_type": "code",
   "execution_count": 14,
   "metadata": {
    "ExecuteTime": {
     "end_time": "2019-12-20T17:58:15.264233Z",
     "start_time": "2019-12-20T17:58:15.247292Z"
    }
   },
   "outputs": [],
   "source": [
    "df0 = df0.astype('float')"
   ]
  },
  {
   "cell_type": "markdown",
   "metadata": {},
   "source": [
    "<div style='padding:5px;'> <font style='font-style:italic;font-size:15px;color:#2c3393;'>\n",
    "    Final <code>DataFrame</code> to be used\n",
    "</font></div>"
   ]
  },
  {
   "cell_type": "code",
   "execution_count": 15,
   "metadata": {
    "ExecuteTime": {
     "end_time": "2019-12-20T17:58:15.299458Z",
     "start_time": "2019-12-20T17:58:15.266137Z"
    }
   },
   "outputs": [
    {
     "data": {
      "text/html": [
       "<div>\n",
       "<style scoped>\n",
       "    .dataframe tbody tr th:only-of-type {\n",
       "        vertical-align: middle;\n",
       "    }\n",
       "\n",
       "    .dataframe tbody tr th {\n",
       "        vertical-align: top;\n",
       "    }\n",
       "\n",
       "    .dataframe thead th {\n",
       "        text-align: right;\n",
       "    }\n",
       "</style>\n",
       "<table border=\"1\" class=\"dataframe\">\n",
       "  <thead>\n",
       "    <tr style=\"text-align: right;\">\n",
       "      <th></th>\n",
       "      <th>Temperature</th>\n",
       "      <th>MW</th>\n",
       "      <th>Dew Point</th>\n",
       "      <th>Humidity</th>\n",
       "      <th>Wind Speed</th>\n",
       "      <th>Wind Gust</th>\n",
       "      <th>Pressure</th>\n",
       "      <th>MONTH_1</th>\n",
       "      <th>MONTH_10</th>\n",
       "      <th>MONTH_11</th>\n",
       "      <th>...</th>\n",
       "      <th>Condition_Mostly Cloudy / Windy</th>\n",
       "      <th>Condition_Partly Cloudy</th>\n",
       "      <th>Condition_Partly Cloudy / Windy</th>\n",
       "      <th>Condition_Patches of Fog</th>\n",
       "      <th>Condition_Rain</th>\n",
       "      <th>Condition_Rain / Windy</th>\n",
       "      <th>Condition_Rain Shower</th>\n",
       "      <th>Condition_Showers in the Vicinity</th>\n",
       "      <th>Condition_T-Storm</th>\n",
       "      <th>Condition_Thunder</th>\n",
       "    </tr>\n",
       "  </thead>\n",
       "  <tbody>\n",
       "    <tr>\n",
       "      <th>0</th>\n",
       "      <td>75.0</td>\n",
       "      <td>0.0</td>\n",
       "      <td>70.0</td>\n",
       "      <td>83.0</td>\n",
       "      <td>5.0</td>\n",
       "      <td>0.0</td>\n",
       "      <td>29.3</td>\n",
       "      <td>0.0</td>\n",
       "      <td>0.0</td>\n",
       "      <td>0.0</td>\n",
       "      <td>...</td>\n",
       "      <td>0.0</td>\n",
       "      <td>0.0</td>\n",
       "      <td>0.0</td>\n",
       "      <td>0.0</td>\n",
       "      <td>0.0</td>\n",
       "      <td>0.0</td>\n",
       "      <td>0.0</td>\n",
       "      <td>0.0</td>\n",
       "      <td>0.0</td>\n",
       "      <td>0.0</td>\n",
       "    </tr>\n",
       "    <tr>\n",
       "      <th>1</th>\n",
       "      <td>77.0</td>\n",
       "      <td>0.0</td>\n",
       "      <td>68.0</td>\n",
       "      <td>74.0</td>\n",
       "      <td>9.0</td>\n",
       "      <td>0.0</td>\n",
       "      <td>29.2</td>\n",
       "      <td>0.0</td>\n",
       "      <td>0.0</td>\n",
       "      <td>0.0</td>\n",
       "      <td>...</td>\n",
       "      <td>0.0</td>\n",
       "      <td>0.0</td>\n",
       "      <td>0.0</td>\n",
       "      <td>0.0</td>\n",
       "      <td>0.0</td>\n",
       "      <td>0.0</td>\n",
       "      <td>0.0</td>\n",
       "      <td>0.0</td>\n",
       "      <td>0.0</td>\n",
       "      <td>0.0</td>\n",
       "    </tr>\n",
       "    <tr>\n",
       "      <th>2</th>\n",
       "      <td>77.0</td>\n",
       "      <td>0.0</td>\n",
       "      <td>70.0</td>\n",
       "      <td>78.0</td>\n",
       "      <td>9.0</td>\n",
       "      <td>0.0</td>\n",
       "      <td>29.2</td>\n",
       "      <td>0.0</td>\n",
       "      <td>0.0</td>\n",
       "      <td>0.0</td>\n",
       "      <td>...</td>\n",
       "      <td>0.0</td>\n",
       "      <td>0.0</td>\n",
       "      <td>0.0</td>\n",
       "      <td>0.0</td>\n",
       "      <td>0.0</td>\n",
       "      <td>0.0</td>\n",
       "      <td>0.0</td>\n",
       "      <td>0.0</td>\n",
       "      <td>0.0</td>\n",
       "      <td>0.0</td>\n",
       "    </tr>\n",
       "    <tr>\n",
       "      <th>3</th>\n",
       "      <td>79.0</td>\n",
       "      <td>0.0</td>\n",
       "      <td>70.0</td>\n",
       "      <td>74.0</td>\n",
       "      <td>12.0</td>\n",
       "      <td>0.0</td>\n",
       "      <td>29.2</td>\n",
       "      <td>0.0</td>\n",
       "      <td>0.0</td>\n",
       "      <td>0.0</td>\n",
       "      <td>...</td>\n",
       "      <td>0.0</td>\n",
       "      <td>0.0</td>\n",
       "      <td>0.0</td>\n",
       "      <td>0.0</td>\n",
       "      <td>0.0</td>\n",
       "      <td>0.0</td>\n",
       "      <td>0.0</td>\n",
       "      <td>0.0</td>\n",
       "      <td>0.0</td>\n",
       "      <td>0.0</td>\n",
       "    </tr>\n",
       "    <tr>\n",
       "      <th>4</th>\n",
       "      <td>79.0</td>\n",
       "      <td>0.0</td>\n",
       "      <td>70.0</td>\n",
       "      <td>74.0</td>\n",
       "      <td>12.0</td>\n",
       "      <td>0.0</td>\n",
       "      <td>29.2</td>\n",
       "      <td>0.0</td>\n",
       "      <td>0.0</td>\n",
       "      <td>0.0</td>\n",
       "      <td>...</td>\n",
       "      <td>0.0</td>\n",
       "      <td>0.0</td>\n",
       "      <td>0.0</td>\n",
       "      <td>0.0</td>\n",
       "      <td>0.0</td>\n",
       "      <td>0.0</td>\n",
       "      <td>0.0</td>\n",
       "      <td>0.0</td>\n",
       "      <td>0.0</td>\n",
       "      <td>0.0</td>\n",
       "    </tr>\n",
       "  </tbody>\n",
       "</table>\n",
       "<p>5 rows × 101 columns</p>\n",
       "</div>"
      ],
      "text/plain": [
       "   Temperature   MW  Dew Point  Humidity  Wind Speed  Wind Gust  Pressure  \\\n",
       "0         75.0  0.0       70.0      83.0         5.0        0.0      29.3   \n",
       "1         77.0  0.0       68.0      74.0         9.0        0.0      29.2   \n",
       "2         77.0  0.0       70.0      78.0         9.0        0.0      29.2   \n",
       "3         79.0  0.0       70.0      74.0        12.0        0.0      29.2   \n",
       "4         79.0  0.0       70.0      74.0        12.0        0.0      29.2   \n",
       "\n",
       "   MONTH_1  MONTH_10  MONTH_11  ...  Condition_Mostly Cloudy / Windy  \\\n",
       "0      0.0       0.0       0.0  ...                              0.0   \n",
       "1      0.0       0.0       0.0  ...                              0.0   \n",
       "2      0.0       0.0       0.0  ...                              0.0   \n",
       "3      0.0       0.0       0.0  ...                              0.0   \n",
       "4      0.0       0.0       0.0  ...                              0.0   \n",
       "\n",
       "   Condition_Partly Cloudy  Condition_Partly Cloudy / Windy  \\\n",
       "0                      0.0                              0.0   \n",
       "1                      0.0                              0.0   \n",
       "2                      0.0                              0.0   \n",
       "3                      0.0                              0.0   \n",
       "4                      0.0                              0.0   \n",
       "\n",
       "   Condition_Patches of Fog  Condition_Rain  Condition_Rain / Windy  \\\n",
       "0                       0.0             0.0                     0.0   \n",
       "1                       0.0             0.0                     0.0   \n",
       "2                       0.0             0.0                     0.0   \n",
       "3                       0.0             0.0                     0.0   \n",
       "4                       0.0             0.0                     0.0   \n",
       "\n",
       "   Condition_Rain Shower  Condition_Showers in the Vicinity  \\\n",
       "0                    0.0                                0.0   \n",
       "1                    0.0                                0.0   \n",
       "2                    0.0                                0.0   \n",
       "3                    0.0                                0.0   \n",
       "4                    0.0                                0.0   \n",
       "\n",
       "   Condition_T-Storm  Condition_Thunder  \n",
       "0                0.0                0.0  \n",
       "1                0.0                0.0  \n",
       "2                0.0                0.0  \n",
       "3                0.0                0.0  \n",
       "4                0.0                0.0  \n",
       "\n",
       "[5 rows x 101 columns]"
      ]
     },
     "execution_count": 15,
     "metadata": {},
     "output_type": "execute_result"
    }
   ],
   "source": [
    "df0.head()"
   ]
  },
  {
   "cell_type": "code",
   "execution_count": 16,
   "metadata": {
    "ExecuteTime": {
     "end_time": "2019-12-20T17:58:15.304284Z",
     "start_time": "2019-12-20T17:58:15.300875Z"
    }
   },
   "outputs": [
    {
     "data": {
      "text/plain": [
       "(24031, 101)"
      ]
     },
     "execution_count": 16,
     "metadata": {},
     "output_type": "execute_result"
    }
   ],
   "source": [
    "df0.shape"
   ]
  },
  {
   "cell_type": "code",
   "execution_count": 17,
   "metadata": {
    "ExecuteTime": {
     "end_time": "2019-12-20T17:58:15.313047Z",
     "start_time": "2019-12-20T17:58:15.305713Z"
    }
   },
   "outputs": [],
   "source": [
    "plant_capacity = 22"
   ]
  },
  {
   "cell_type": "markdown",
   "metadata": {},
   "source": [
    "<div id=\"train\"/>\n",
    "<div style='padding:5px;'> <font style='font-weight:bold;font-size:15px;color:#2c3393;'>\n",
    "    2.3 Train,Validate,Test Split and Batch Generation</font></div>"
   ]
  },
  {
   "cell_type": "markdown",
   "metadata": {},
   "source": [
    "<div style='padding:5px;'> <font style='font-style:italic;font-size:15px;color:#2c3393;'>\n",
    "    For this analysis, a <code>.8</code>, <code>.1</code>, <code>.1</code>, train-validate-test split was implemented. Since we are dealing with a time-series, the train-validate-test split cannot be randomly selected from the dataset, splitting of dataset should be conducted in a chronogical order. Below we define the starting and ending <code>index</code> for each group\n",
    "</font></div>"
   ]
  },
  {
   "cell_type": "code",
   "execution_count": 18,
   "metadata": {
    "ExecuteTime": {
     "end_time": "2019-12-20T17:58:15.318256Z",
     "start_time": "2019-12-20T17:58:15.314840Z"
    }
   },
   "outputs": [],
   "source": [
    "train_validate_test_split = [.8, .1, .1]\n",
    "\n",
    "train_idx = math.floor(df0.shape[0] * train_validate_test_split[0])\n",
    "val_idx = math.floor(df0.shape[0] * train_validate_test_split[1]) + train_idx"
   ]
  },
  {
   "cell_type": "markdown",
   "metadata": {
    "ExecuteTime": {
     "end_time": "2019-12-20T09:53:01.962892Z",
     "start_time": "2019-12-20T09:53:01.950987Z"
    }
   },
   "source": [
    "<div style='padding:5px;'> <font style='font-style:italic;font-size:15px;color:#2c3393;'>\n",
    "    The <code>generator</code> function below was utilized to yield the appropriate batch. Significant parameters include the <code>lookback</code>, or how far back of the data to consider, <code>delay</code>, or how far into the future are we forecasting, <code>batch_size</code>, refers to the number of training examples utilized in one iteration.\n",
    "</font></div>"
   ]
  },
  {
   "cell_type": "code",
   "execution_count": 19,
   "metadata": {
    "ExecuteTime": {
     "end_time": "2019-12-20T17:58:15.328621Z",
     "start_time": "2019-12-20T17:58:15.319786Z"
    }
   },
   "outputs": [],
   "source": [
    "def generator(data, lookback, delay, min_index, max_index, shuffle=False, \n",
    "              batch_size=128, step=1):\n",
    "    \n",
    "    if max_index is None:\n",
    "        max_index = len(data) - delay - 1\n",
    "    i = min_index + lookback\n",
    "    \n",
    "    while 1:\n",
    "        if shuffle:\n",
    "            rows = np.random.randint(min_index + lookback, \n",
    "                                     max_index, size=batch_size)\n",
    "        else:\n",
    "            if i + batch_size >= max_index:\n",
    "                i = min_index + lookback\n",
    "            rows = np.arange(i, min(i + batch_size, max_index))\n",
    "            i += len(rows)\n",
    "\n",
    "        samples = np.zeros((len(rows), lookback // step, data.shape[-1]))\n",
    "        targets = np.zeros((len(rows),))\n",
    "        for j, row in enumerate(rows):\n",
    "            indices = range(rows[j] - lookback, rows[j], step)\n",
    "            samples[j] = data[indices]\n",
    "            targets[j] = data[rows[j] + delay][1]\n",
    "        yield samples, targets"
   ]
  },
  {
   "cell_type": "markdown",
   "metadata": {},
   "source": [
    "<div style='padding:5px;'> <font style='font-style:italic;font-size:15px;color:#2c3393;'>\n",
    "    Let us mean-center the dataset\n",
    "</font></div>"
   ]
  },
  {
   "cell_type": "code",
   "execution_count": 20,
   "metadata": {
    "ExecuteTime": {
     "end_time": "2019-12-20T17:58:15.350053Z",
     "start_time": "2019-12-20T17:58:15.330196Z"
    }
   },
   "outputs": [],
   "source": [
    "float_data = df0.values\n",
    "train_mean = float_data[:train_idx].mean(axis=0)\n",
    "float_data -= train_mean\n",
    "train_std = float_data[:train_idx].std(axis=0)\n",
    "float_data /= train_std\n",
    "train_mw_std = train_std[1]"
   ]
  },
  {
   "cell_type": "markdown",
   "metadata": {
    "ExecuteTime": {
     "end_time": "2019-12-20T10:17:36.642996Z",
     "start_time": "2019-12-20T10:17:36.633412Z"
    }
   },
   "source": [
    "<div style='padding:5px;'> <font style='font-style:italic;font-size:15px;color:#2c3393;'>\n",
    "    Let us initialize the parameters which will be used for the generation\n",
    "    An industry standard practic is to utilize a <code>lookback</code> of either <code>144 hours</code> (1 week), <code>288 hours</code> (2 weeks), or <code>720 hours</code> (1[30-day] month). The initial run was to utilized a <code>288 hour</code> lookback period due to group's industry expert's experience. However, outside consultation with industry experts said 1 week would suffice with this limited dataset.\n",
    "</font></div>"
   ]
  },
  {
   "cell_type": "code",
   "execution_count": 21,
   "metadata": {
    "ExecuteTime": {
     "end_time": "2019-12-20T17:58:15.353772Z",
     "start_time": "2019-12-20T17:58:15.351491Z"
    }
   },
   "outputs": [],
   "source": [
    "lookback = 144 # lookback(consider) the previous week data\n",
    "step = 1 # in hourly granularity\n",
    "delay = 24 # to forecast the next 24 hours\n",
    "batch_size = 128"
   ]
  },
  {
   "cell_type": "code",
   "execution_count": 22,
   "metadata": {
    "ExecuteTime": {
     "end_time": "2019-12-20T17:58:15.360974Z",
     "start_time": "2019-12-20T17:58:15.355309Z"
    }
   },
   "outputs": [],
   "source": [
    "train_gen = generator(float_data,\n",
    "    lookback=lookback,\n",
    "    delay=delay,\n",
    "    min_index=0,\n",
    "    max_index=train_idx,\n",
    "    shuffle=True,\n",
    "    step=step,\n",
    "    batch_size=batch_size)\n",
    "\n",
    "val_gen = generator(float_data,\n",
    "    lookback=lookback,\n",
    "    delay=delay,\n",
    "    min_index=train_idx+1,\n",
    "    max_index=val_idx,\n",
    "    step=step,\n",
    "    batch_size=batch_size)\n",
    "\n",
    "test_gen = generator(float_data,\n",
    "    lookback=lookback,\n",
    "    delay=delay,\n",
    "    min_index=val_idx,\n",
    "    max_index=None,\n",
    "    step=step,\n",
    "    batch_size=batch_size)\n",
    "\n",
    "val_steps = (val_idx - (train_idx+1) - lookback)\n",
    "test_steps = (len(float_data) - (val_idx+1) - lookback)"
   ]
  },
  {
   "cell_type": "markdown",
   "metadata": {},
   "source": [
    "<div id=\"benchmark\"/>\n",
    "<div style='padding:5px;'> <font style='font-weight:bold;font-size:15px;color:#2c3393;'>2.4 Benchmark</font></div>"
   ]
  },
  {
   "cell_type": "markdown",
   "metadata": {},
   "source": [
    "<div style='padding:5px;'> <font style='font-style:italic;font-size:15px;color:#2c3393;'>\n",
    "    The team used two metrics to establish a baseline error:\n",
    "    \n",
    "    (1) the naive method identified in a previous lecture, which we scaled to industry standard\n",
    "    (2) a different framework suggested by industry\n",
    "</font></div>"
   ]
  },
  {
   "cell_type": "code",
   "execution_count": 23,
   "metadata": {
    "ExecuteTime": {
     "end_time": "2019-12-20T17:58:28.528330Z",
     "start_time": "2019-12-20T17:58:15.362379Z"
    }
   },
   "outputs": [
    {
     "name": "stdout",
     "output_type": "stream",
     "text": [
      "0\n",
      "1000\n",
      "2000\n"
     ]
    }
   ],
   "source": [
    "def evaluate_naive_method():\n",
    "\n",
    "    batch_maes = []\n",
    "    for step in range(val_steps):\n",
    "        if step % 1000 == 0:\n",
    "            print(step)\n",
    "        samples, targets = next(val_gen)\n",
    "        preds = samples[:, -1, 1]\n",
    "        mae = np.mean(np.abs(preds - targets))\n",
    "        batch_maes.append(mae)\n",
    "    \n",
    "    return np.mean(batch_maes)\n",
    "\n",
    "naive_method = evaluate_naive_method()"
   ]
  },
  {
   "cell_type": "code",
   "execution_count": 24,
   "metadata": {
    "ExecuteTime": {
     "end_time": "2019-12-20T17:58:28.534496Z",
     "start_time": "2019-12-20T17:58:28.531891Z"
    }
   },
   "outputs": [
    {
     "name": "stdout",
     "output_type": "stream",
     "text": [
      "NAIVE METHOD 1: 6.58%\n"
     ]
    }
   ],
   "source": [
    "print('NAIVE METHOD 1:', f'{((naive_method * train_mw_std)/22):0.2%}') #where 22 is the capacity of the plant"
   ]
  },
  {
   "cell_type": "code",
   "execution_count": 25,
   "metadata": {
    "ExecuteTime": {
     "end_time": "2019-12-20T17:58:28.586762Z",
     "start_time": "2019-12-20T17:58:28.535943Z"
    }
   },
   "outputs": [],
   "source": [
    "benchmark1 = ((naive_method * train_mw_std)/22) * 100"
   ]
  },
  {
   "cell_type": "markdown",
   "metadata": {},
   "source": [
    "<div style='padding:5px;text-align:justify'> <font style='font-style:italic;font-size:17px;color:#2c3393;'>\n",
    "For establishing the 2nd baseline error, the team consulted the industry to determine a baseline error. However, even the industry is still conflicted on how to establish a baseline measurement. As of now, the baseline is still being established by policy makers and grid operators. \n",
    "<br>   \n",
    "    \n",
    "Luckily, consulting with industry experts gave the team a framework on how to establish a baseline error per plant. The resulting measure looked at the mean squared error of the day-ahead projection(DAP), also called scheduled (Ex-Ante or RTD), and the actual delivered (Ex-Post or RTX).\n",
    "    \n",
    "    \n",
    "This was then scaled as a percentage to the capacity of the plant. This was with processed with an industry expert and not included in the notebook. The yielding error resulted with a baseline of <code>12.01%</code>\n",
    "</font></div>"
   ]
  },
  {
   "cell_type": "code",
   "execution_count": 26,
   "metadata": {
    "ExecuteTime": {
     "end_time": "2019-12-20T17:58:28.599905Z",
     "start_time": "2019-12-20T17:58:28.593186Z"
    }
   },
   "outputs": [],
   "source": [
    "benchmark2 = 12.01"
   ]
  },
  {
   "cell_type": "markdown",
   "metadata": {},
   "source": [
    "<div id=\"model\"/>\n",
    "<div style='padding:5px;'> <font style='font-weight:bold;font-size:15px;color:#2c3393;'>2.5 Model Training Selection</font></div>"
   ]
  },
  {
   "cell_type": "markdown",
   "metadata": {},
   "source": [
    "<div style='padding:5px;'> <font style='font-style:italic;font-size:15px;color:#2c3393;'>\n",
    "The team utilized 4 models:\n",
    "    \n",
    "    - LSTM with 64 nodes\n",
    "    - LSTM with 32 nodes\n",
    "    - Stacked LSTM(2 layer) with 64 and 32 nodes\n",
    "    - Stacked LSTM(2 layer) with 32 and 64 nodes\n",
    "    \n",
    "Dropout of <code>0.2</code> and Recurrent Dropout of <code>0.2</code> and a <code>RMSProp</code> optimized was implemented for all three.\n",
    "\n",
    "The group decided to use a <code>Epoch=50</code>, with an EarlyStopping of <code>patience=10</code> and <code>min_delta=0.01</code> to avoid overfitting and to reduce runtime due to the limited time constraints. Lastly, the ModelCheckpoint was utilized to extract the best model.\n",
    "</font></div>"
   ]
  },
  {
   "cell_type": "code",
   "execution_count": 27,
   "metadata": {
    "ExecuteTime": {
     "end_time": "2019-12-20T17:58:28.610670Z",
     "start_time": "2019-12-20T17:58:28.604405Z"
    }
   },
   "outputs": [],
   "source": [
    "steps_per_epoch_cnt = math.floor(train_idx/batch_size)\n",
    "val_steps_cnt = round(math.floor((val_idx-train_idx)/batch_size),-1)"
   ]
  },
  {
   "cell_type": "markdown",
   "metadata": {},
   "source": [
    "<div id=\"lstm1\"/>\n",
    "<div style='padding:20px;'> <font style='font-weight:bold;font-size:15px;color:#2c3393;'>2.5.1 LSTM with 64</font></div>"
   ]
  },
  {
   "cell_type": "code",
   "execution_count": 28,
   "metadata": {
    "ExecuteTime": {
     "end_time": "2019-12-20T18:05:51.266426Z",
     "start_time": "2019-12-20T17:58:28.613478Z"
    },
    "collapsed": true
   },
   "outputs": [
    {
     "name": "stdout",
     "output_type": "stream",
     "text": [
      "WARNING:tensorflow:From /home/ssilva/anaconda3/lib/python3.7/site-packages/tensorflow/python/ops/resource_variable_ops.py:435: colocate_with (from tensorflow.python.framework.ops) is deprecated and will be removed in a future version.\n",
      "Instructions for updating:\n",
      "Colocations handled automatically by placer.\n",
      "WARNING:tensorflow:From /home/ssilva/anaconda3/lib/python3.7/site-packages/tensorflow/python/keras/backend.py:4010: calling dropout (from tensorflow.python.ops.nn_ops) with keep_prob is deprecated and will be removed in a future version.\n",
      "Instructions for updating:\n",
      "Please use `rate` instead of `keep_prob`. Rate should be set to `rate = 1 - keep_prob`.\n",
      "WARNING:tensorflow:From /home/ssilva/anaconda3/lib/python3.7/site-packages/tensorflow/python/ops/math_ops.py:3066: to_int32 (from tensorflow.python.ops.math_ops) is deprecated and will be removed in a future version.\n",
      "Instructions for updating:\n",
      "Use tf.cast instead.\n",
      "Epoch 1/50\n",
      "20/20 [==============================] - 1s 47ms/step - loss: 0.1993\n",
      "\n",
      "Epoch 00001: val_loss improved from inf to 0.19933, saving model to clark_best_lstm64.hdf5\n",
      " - 19s - loss: 0.4025 - val_loss: 0.1993\n",
      "Epoch 2/50\n",
      "20/20 [==============================] - 1s 43ms/step - loss: 0.1724\n",
      "\n",
      "Epoch 00002: val_loss improved from 0.19933 to 0.17236, saving model to clark_best_lstm64.hdf5\n",
      " - 19s - loss: 0.2765 - val_loss: 0.1724\n",
      "Epoch 3/50\n",
      "20/20 [==============================] - 1s 43ms/step - loss: 0.1564\n",
      "\n",
      "Epoch 00003: val_loss improved from 0.17236 to 0.15639, saving model to clark_best_lstm64.hdf5\n",
      " - 19s - loss: 0.2005 - val_loss: 0.1564\n",
      "Epoch 4/50\n",
      "20/20 [==============================] - 1s 42ms/step - loss: 0.1634\n",
      "\n",
      "Epoch 00004: val_loss did not improve from 0.15639\n",
      " - 19s - loss: 0.1664 - val_loss: 0.1634\n",
      "Epoch 5/50\n",
      "20/20 [==============================] - 1s 43ms/step - loss: 0.1585\n",
      "\n",
      "Epoch 00005: val_loss did not improve from 0.15639\n",
      " - 19s - loss: 0.1598 - val_loss: 0.1585\n",
      "Epoch 6/50\n",
      "20/20 [==============================] - 1s 42ms/step - loss: 0.1697\n",
      "\n",
      "Epoch 00006: val_loss did not improve from 0.15639\n",
      " - 19s - loss: 0.1500 - val_loss: 0.1697\n",
      "Epoch 7/50\n",
      "20/20 [==============================] - 1s 42ms/step - loss: 0.1465\n",
      "\n",
      "Epoch 00007: val_loss improved from 0.15639 to 0.14650, saving model to clark_best_lstm64.hdf5\n",
      " - 19s - loss: 0.1445 - val_loss: 0.1465\n",
      "Epoch 8/50\n",
      "20/20 [==============================] - 1s 43ms/step - loss: 0.1521\n",
      "\n",
      "Epoch 00008: val_loss did not improve from 0.14650\n",
      " - 19s - loss: 0.1431 - val_loss: 0.1521\n",
      "Epoch 9/50\n",
      "20/20 [==============================] - 1s 42ms/step - loss: 0.1565\n",
      "\n",
      "Epoch 00009: val_loss did not improve from 0.14650\n",
      " - 19s - loss: 0.1339 - val_loss: 0.1565\n",
      "Epoch 10/50\n",
      "20/20 [==============================] - 1s 42ms/step - loss: 0.1584\n",
      "\n",
      "Epoch 00010: val_loss did not improve from 0.14650\n",
      " - 19s - loss: 0.1301 - val_loss: 0.1584\n",
      "Epoch 11/50\n",
      "20/20 [==============================] - 1s 42ms/step - loss: 0.1515\n",
      "\n",
      "Epoch 00011: val_loss did not improve from 0.14650\n",
      " - 19s - loss: 0.1297 - val_loss: 0.1515\n",
      "Epoch 12/50\n",
      "20/20 [==============================] - 1s 43ms/step - loss: 0.1624\n",
      "\n",
      "Epoch 00012: val_loss did not improve from 0.14650\n",
      " - 19s - loss: 0.1285 - val_loss: 0.1624\n",
      "Epoch 13/50\n",
      "20/20 [==============================] - 1s 42ms/step - loss: 0.1430\n",
      "\n",
      "Epoch 00013: val_loss improved from 0.14650 to 0.14299, saving model to clark_best_lstm64.hdf5\n",
      " - 21s - loss: 0.1255 - val_loss: 0.1430\n",
      "Epoch 14/50\n",
      "20/20 [==============================] - 1s 53ms/step - loss: 0.1586\n",
      "\n",
      "Epoch 00014: val_loss did not improve from 0.14299\n",
      " - 23s - loss: 0.1221 - val_loss: 0.1586\n",
      "Epoch 15/50\n",
      "20/20 [==============================] - 1s 38ms/step - loss: 0.1457\n",
      "\n",
      "Epoch 00015: val_loss did not improve from 0.14299\n",
      " - 19s - loss: 0.1162 - val_loss: 0.1457\n",
      "Epoch 16/50\n",
      "20/20 [==============================] - 1s 38ms/step - loss: 0.1452\n",
      "\n",
      "Epoch 00016: val_loss did not improve from 0.14299\n",
      " - 18s - loss: 0.1186 - val_loss: 0.1452\n",
      "Epoch 17/50\n",
      "20/20 [==============================] - 1s 39ms/step - loss: 0.1591\n",
      "\n",
      "Epoch 00017: val_loss did not improve from 0.14299\n",
      " - 19s - loss: 0.1152 - val_loss: 0.1591\n",
      "Epoch 18/50\n",
      "20/20 [==============================] - 1s 38ms/step - loss: 0.1563\n",
      "\n",
      "Epoch 00018: val_loss did not improve from 0.14299\n",
      " - 19s - loss: 0.1138 - val_loss: 0.1563\n",
      "Epoch 19/50\n",
      "20/20 [==============================] - 1s 38ms/step - loss: 0.1538\n",
      "\n",
      "Epoch 00019: val_loss did not improve from 0.14299\n",
      " - 18s - loss: 0.1129 - val_loss: 0.1538\n",
      "Epoch 20/50\n",
      "20/20 [==============================] - 1s 38ms/step - loss: 0.1551\n",
      "\n",
      "Epoch 00020: val_loss did not improve from 0.14299\n",
      " - 18s - loss: 0.1128 - val_loss: 0.1551\n",
      "Epoch 21/50\n",
      "20/20 [==============================] - 1s 38ms/step - loss: 0.1505\n",
      "\n",
      "Epoch 00021: val_loss did not improve from 0.14299\n",
      " - 19s - loss: 0.1118 - val_loss: 0.1505\n",
      "Epoch 22/50\n",
      "20/20 [==============================] - 1s 42ms/step - loss: 0.1461\n",
      "\n",
      "Epoch 00022: val_loss did not improve from 0.14299\n",
      " - 19s - loss: 0.1109 - val_loss: 0.1461\n",
      "Epoch 23/50\n",
      "20/20 [==============================] - 1s 41ms/step - loss: 0.1543\n",
      "\n",
      "Epoch 00023: val_loss did not improve from 0.14299\n",
      " - 23s - loss: 0.1093 - val_loss: 0.1543\n",
      "Epoch 00023: early stopping\n"
     ]
    }
   ],
   "source": [
    "filepath_lstm64=\"clark_best_lstm64.hdf5\" \n",
    "cp_lstm64 = ModelCheckpoint(filepath_lstm64, monitor='val_loss', verbose=2, save_best_only=True, mode='min')\n",
    "es_lstm64 = EarlyStopping(monitor='val_loss', mode='min', verbose=2, patience=10, min_delta=.01)\n",
    "callbacks_list_lstm64 = [cp_lstm64, es_lstm64]\n",
    "\n",
    "# fix random seed for reproducibility\n",
    "seed = 1337\n",
    "np.random.seed(seed)\n",
    "\n",
    "model_lstm64 = Sequential()\n",
    "model_lstm64.add(layers.LSTM(64, \n",
    "                       dropout=0.2,\n",
    "                       recurrent_dropout=0.2, \n",
    "                       input_shape=(None, float_data.shape[-1])))\n",
    "model_lstm64.add(layers.Dense(64,activation='relu'))\n",
    "model_lstm64.add(layers.Dense(1))\n",
    "model_lstm64.compile(optimizer=RMSprop(), loss='mae')\n",
    "\n",
    "history_lstm64 = model_lstm64.fit_generator(train_gen,\n",
    "                                        steps_per_epoch=steps_per_epoch_cnt, \n",
    "                                        epochs=50,\n",
    "                                        validation_data=val_gen, \n",
    "                                        validation_steps=val_steps_cnt,\n",
    "                                        callbacks=callbacks_list_lstm64, verbose=2) "
   ]
  },
  {
   "cell_type": "code",
   "execution_count": 29,
   "metadata": {
    "ExecuteTime": {
     "end_time": "2019-12-20T18:05:51.474772Z",
     "start_time": "2019-12-20T18:05:51.268311Z"
    },
    "collapsed": true
   },
   "outputs": [
    {
     "data": {
      "image/png": "[encoded data removed]",
      "text/plain": [
       "<Figure size 432x288 with 1 Axes>"
      ]
     },
     "metadata": {
      "needs_background": "light"
     },
     "output_type": "display_data"
    }
   ],
   "source": [
    "loss_lstm64 = history_lstm64.history['loss']\n",
    "val_loss_lstm64 = history_lstm64.history['val_loss']\n",
    "\n",
    "epochs = range(1, len(loss_lstm64) + 1)\n",
    "\n",
    "plt.figure()\n",
    "\n",
    "plt.plot(epochs, loss_lstm64, 'bo', label='Training loss')\n",
    "plt.plot(epochs, val_loss_lstm64, 'b', label='Validation loss')\n",
    "plt.title('Training and validation loss')\n",
    "plt.legend()\n",
    "\n",
    "plt.show()"
   ]
  },
  {
   "cell_type": "code",
   "execution_count": 30,
   "metadata": {
    "ExecuteTime": {
     "end_time": "2019-12-20T18:05:51.480302Z",
     "start_time": "2019-12-20T18:05:51.476311Z"
    }
   },
   "outputs": [
    {
     "name": "stdout",
     "output_type": "stream",
     "text": [
      "Model Error: 3.21%\n"
     ]
    }
   ],
   "source": [
    "print('Model Error:', f'{((min(val_loss_lstm64) * train_mw_std)/plant_capacity):0.2%}')"
   ]
  },
  {
   "cell_type": "code",
   "execution_count": 52,
   "metadata": {
    "ExecuteTime": {
     "end_time": "2019-12-20T18:32:54.937967Z",
     "start_time": "2019-12-20T18:32:54.932441Z"
    }
   },
   "outputs": [],
   "source": [
    "lstm64 = ((min(val_loss_lstm64) * train_mw_std)/plant_capacity) * 100"
   ]
  },
  {
   "cell_type": "markdown",
   "metadata": {},
   "source": [
    "<div id=\"lstm2\"/>\n",
    "<div style='padding:20px;'> <font style='font-weight:bold;font-size:15px;color:#2c3393;'>2.5.2 LSTM with 32 nodes</font></div>"
   ]
  },
  {
   "cell_type": "code",
   "execution_count": 32,
   "metadata": {
    "ExecuteTime": {
     "end_time": "2019-12-20T18:09:35.066495Z",
     "start_time": "2019-12-20T18:05:51.485199Z"
    },
    "collapsed": true
   },
   "outputs": [
    {
     "name": "stdout",
     "output_type": "stream",
     "text": [
      "Epoch 1/50\n",
      "20/20 [==============================] - 1s 41ms/step - loss: 0.1916\n",
      "\n",
      "Epoch 00001: val_loss improved from inf to 0.19160, saving model to clark_best_lstm32.hdf5\n",
      " - 17s - loss: 0.4936 - val_loss: 0.1916\n",
      "Epoch 2/50\n",
      "20/20 [==============================] - 1s 34ms/step - loss: 0.1696\n",
      "\n",
      "Epoch 00002: val_loss improved from 0.19160 to 0.16960, saving model to clark_best_lstm32.hdf5\n",
      " - 19s - loss: 0.3050 - val_loss: 0.1696\n",
      "Epoch 3/50\n",
      "20/20 [==============================] - 1s 31ms/step - loss: 0.1460\n",
      "\n",
      "Epoch 00003: val_loss improved from 0.16960 to 0.14600, saving model to clark_best_lstm32.hdf5\n",
      " - 17s - loss: 0.2672 - val_loss: 0.1460\n",
      "Epoch 4/50\n",
      "20/20 [==============================] - 1s 31ms/step - loss: 0.1610\n",
      "\n",
      "Epoch 00004: val_loss did not improve from 0.14600\n",
      " - 17s - loss: 0.2259 - val_loss: 0.1610\n",
      "Epoch 5/50\n",
      "20/20 [==============================] - 1s 35ms/step - loss: 0.1525\n",
      "\n",
      "Epoch 00005: val_loss did not improve from 0.14600\n",
      " - 17s - loss: 0.2027 - val_loss: 0.1525\n",
      "Epoch 6/50\n",
      "20/20 [==============================] - 1s 36ms/step - loss: 0.1681\n",
      "\n",
      "Epoch 00006: val_loss did not improve from 0.14600\n",
      " - 16s - loss: 0.1687 - val_loss: 0.1681\n",
      "Epoch 7/50\n",
      "20/20 [==============================] - 1s 30ms/step - loss: 0.1471\n",
      "\n",
      "Epoch 00007: val_loss did not improve from 0.14600\n",
      " - 17s - loss: 0.1564 - val_loss: 0.1471\n",
      "Epoch 8/50\n",
      "20/20 [==============================] - 1s 31ms/step - loss: 0.1418\n",
      "\n",
      "Epoch 00008: val_loss improved from 0.14600 to 0.14184, saving model to clark_best_lstm32.hdf5\n",
      " - 16s - loss: 0.1522 - val_loss: 0.1418\n",
      "Epoch 9/50\n",
      "20/20 [==============================] - 1s 31ms/step - loss: 0.1502\n",
      "\n",
      "Epoch 00009: val_loss did not improve from 0.14184\n",
      " - 17s - loss: 0.1418 - val_loss: 0.1502\n",
      "Epoch 10/50\n",
      "20/20 [==============================] - 1s 38ms/step - loss: 0.1595\n",
      "\n",
      "Epoch 00010: val_loss did not improve from 0.14184\n",
      " - 19s - loss: 0.1390 - val_loss: 0.1595\n",
      "Epoch 11/50\n",
      "20/20 [==============================] - 1s 30ms/step - loss: 0.1491\n",
      "\n",
      "Epoch 00011: val_loss did not improve from 0.14184\n",
      " - 17s - loss: 0.1370 - val_loss: 0.1491\n",
      "Epoch 12/50\n",
      "20/20 [==============================] - 1s 34ms/step - loss: 0.1505\n",
      "\n",
      "Epoch 00012: val_loss did not improve from 0.14184\n",
      " - 17s - loss: 0.1363 - val_loss: 0.1505\n",
      "Epoch 13/50\n",
      "20/20 [==============================] - 1s 33ms/step - loss: 0.1394\n",
      "\n",
      "Epoch 00013: val_loss improved from 0.14184 to 0.13940, saving model to clark_best_lstm32.hdf5\n",
      " - 17s - loss: 0.1334 - val_loss: 0.1394\n",
      "Epoch 00013: early stopping\n"
     ]
    }
   ],
   "source": [
    "filepath_lstm32=\"clark_best_lstm32.hdf5\" \n",
    "cp_lstm32 = ModelCheckpoint(filepath_lstm32, monitor='val_loss', verbose=2, save_best_only=True, mode='min')\n",
    "es_lstm32 = EarlyStopping(monitor='val_loss', mode='min', verbose=2, patience=10, min_delta=.01)\n",
    "callbacks_list_lstm32 = [cp_lstm32, es_lstm32]\n",
    "\n",
    "# fix random seed for reproducibility\n",
    "seed = 1337\n",
    "np.random.seed(seed)\n",
    "\n",
    "model_lstm32 = Sequential()\n",
    "model_lstm32.add(layers.LSTM(32, \n",
    "                       dropout=0.2,\n",
    "                       recurrent_dropout=0.2, \n",
    "                       input_shape=(None, float_data.shape[-1])))\n",
    "model_lstm32.add(layers.Dense(32, activation='relu'))\n",
    "model_lstm32.add(layers.Dense(1))\n",
    "model_lstm32.compile(optimizer=RMSprop(), loss='mae')\n",
    "\n",
    "history_lstm32 = model_lstm32.fit_generator(train_gen,\n",
    "                                        steps_per_epoch=steps_per_epoch_cnt, \n",
    "                                        epochs=50,\n",
    "                                        validation_data=val_gen, \n",
    "                                        validation_steps=val_steps_cnt,\n",
    "                                        callbacks=callbacks_list_lstm32, verbose=2) "
   ]
  },
  {
   "cell_type": "code",
   "execution_count": 33,
   "metadata": {
    "ExecuteTime": {
     "end_time": "2019-12-20T18:09:35.322694Z",
     "start_time": "2019-12-20T18:09:35.069357Z"
    },
    "collapsed": true
   },
   "outputs": [
    {
     "data": {
      "image/png": "[encoded data removed]",
      "text/plain": [
       "<Figure size 432x288 with 1 Axes>"
      ]
     },
     "metadata": {
      "needs_background": "light"
     },
     "output_type": "display_data"
    }
   ],
   "source": [
    "loss_lstm32 = history_lstm32.history['loss']\n",
    "val_loss_lstm32 = history_lstm32.history['val_loss']\n",
    "\n",
    "epochs = range(1, len(loss_lstm32) + 1)\n",
    "\n",
    "plt.figure()\n",
    "\n",
    "plt.plot(epochs, loss_lstm32, 'bo', label='Training loss')\n",
    "plt.plot(epochs, val_loss_lstm32, 'b', label='Validation loss')\n",
    "plt.title('Training and validation loss')\n",
    "plt.legend()\n",
    "\n",
    "plt.show()"
   ]
  },
  {
   "cell_type": "code",
   "execution_count": 34,
   "metadata": {
    "ExecuteTime": {
     "end_time": "2019-12-20T18:09:35.328254Z",
     "start_time": "2019-12-20T18:09:35.324358Z"
    }
   },
   "outputs": [
    {
     "name": "stdout",
     "output_type": "stream",
     "text": [
      "Model Error: 3.13%\n"
     ]
    }
   ],
   "source": [
    "print('Model Error:', f'{((min(val_loss_lstm32) * train_mw_std)/plant_capacity):0.2%}')"
   ]
  },
  {
   "cell_type": "code",
   "execution_count": 51,
   "metadata": {
    "ExecuteTime": {
     "end_time": "2019-12-20T18:32:47.332565Z",
     "start_time": "2019-12-20T18:32:47.327600Z"
    }
   },
   "outputs": [],
   "source": [
    "lstm32 = ((min(val_loss_lstm32) * train_mw_std)/plant_capacity) * 100"
   ]
  },
  {
   "cell_type": "markdown",
   "metadata": {},
   "source": [
    "<div id=\"lstm3\"/>\n",
    "<div style='padding:20px;'> <font style='font-weight:bold;font-size:15px;color:#2c3393;'>2.5.3 Stacked LSTM with 64 and 32 nodes</font></div>"
   ]
  },
  {
   "cell_type": "code",
   "execution_count": 38,
   "metadata": {
    "ExecuteTime": {
     "end_time": "2019-12-20T18:18:29.242322Z",
     "start_time": "2019-12-20T18:11:22.635082Z"
    },
    "collapsed": true
   },
   "outputs": [
    {
     "name": "stdout",
     "output_type": "stream",
     "text": [
      "Epoch 1/50\n",
      "20/20 [==============================] - 2s 77ms/step - loss: 0.1807\n",
      "\n",
      "Epoch 00001: val_loss improved from inf to 0.18073, saving model to clark_best_lstm6432.hdf5\n",
      " - 35s - loss: 0.4037 - val_loss: 0.1807\n",
      "Epoch 2/50\n",
      "20/20 [==============================] - 2s 80ms/step - loss: 0.1452\n",
      "\n",
      "Epoch 00002: val_loss improved from 0.18073 to 0.14524, saving model to clark_best_lstm6432.hdf5\n",
      " - 34s - loss: 0.2290 - val_loss: 0.1452\n",
      "Epoch 3/50\n",
      "20/20 [==============================] - 1s 60ms/step - loss: 0.1595\n",
      "\n",
      "Epoch 00003: val_loss did not improve from 0.14524\n",
      " - 41s - loss: 0.1754 - val_loss: 0.1595\n",
      "Epoch 4/50\n",
      "20/20 [==============================] - 1s 60ms/step - loss: 0.1460\n",
      "\n",
      "Epoch 00004: val_loss did not improve from 0.14524\n",
      " - 34s - loss: 0.1528 - val_loss: 0.1460\n",
      "Epoch 5/50\n",
      "20/20 [==============================] - 1s 70ms/step - loss: 0.1535\n",
      "\n",
      "Epoch 00005: val_loss did not improve from 0.14524\n",
      " - 37s - loss: 0.1483 - val_loss: 0.1535\n",
      "Epoch 6/50\n",
      "20/20 [==============================] - 1s 67ms/step - loss: 0.1510\n",
      "\n",
      "Epoch 00006: val_loss did not improve from 0.14524\n",
      " - 39s - loss: 0.1385 - val_loss: 0.1510\n",
      "Epoch 7/50\n",
      "20/20 [==============================] - 1s 66ms/step - loss: 0.1482\n",
      "\n",
      "Epoch 00007: val_loss did not improve from 0.14524\n",
      " - 35s - loss: 0.1345 - val_loss: 0.1482\n",
      "Epoch 8/50\n",
      "20/20 [==============================] - 1s 66ms/step - loss: 0.1382\n",
      "\n",
      "Epoch 00008: val_loss improved from 0.14524 to 0.13823, saving model to clark_best_lstm6432.hdf5\n",
      " - 34s - loss: 0.1336 - val_loss: 0.1382\n",
      "Epoch 9/50\n",
      "20/20 [==============================] - 1s 66ms/step - loss: 0.1606\n",
      "\n",
      "Epoch 00009: val_loss did not improve from 0.13823\n",
      " - 34s - loss: 0.1249 - val_loss: 0.1606\n",
      "Epoch 10/50\n",
      "20/20 [==============================] - 1s 68ms/step - loss: 0.1529\n",
      "\n",
      "Epoch 00010: val_loss did not improve from 0.13823\n",
      " - 34s - loss: 0.1214 - val_loss: 0.1529\n",
      "Epoch 11/50\n",
      "20/20 [==============================] - 1s 66ms/step - loss: 0.1430\n",
      "\n",
      "Epoch 00011: val_loss did not improve from 0.13823\n",
      " - 34s - loss: 0.1213 - val_loss: 0.1430\n",
      "Epoch 12/50\n",
      "20/20 [==============================] - 1s 66ms/step - loss: 0.1400\n",
      "\n",
      "Epoch 00012: val_loss did not improve from 0.13823\n",
      " - 34s - loss: 0.1209 - val_loss: 0.1400\n",
      "Epoch 00012: early stopping\n"
     ]
    }
   ],
   "source": [
    "filepath_lstm6432=\"clark_best_lstm6432.hdf5\" \n",
    "cp_lstm6432 = ModelCheckpoint(filepath_lstm6432, monitor='val_loss', verbose=2, save_best_only=True, mode='min')\n",
    "es_lstm6432 = EarlyStopping(monitor='val_loss', mode='min', verbose=2, patience=10, min_delta=.01)\n",
    "callbacks_list_lstm6432 = [cp_lstm6432, es_lstm6432]\n",
    "\n",
    "# fix random seed for reproducibility\n",
    "seed = 1337\n",
    "np.random.seed(seed)\n",
    "\n",
    "model_lstm6432 = Sequential()\n",
    "model_lstm6432.add(layers.LSTM(64,\n",
    "                    dropout=0.2,\n",
    "                    recurrent_dropout=0.2,\n",
    "                    return_sequences=True,\n",
    "                    input_shape=(None, float_data.shape[-1])))\n",
    "model_lstm6432.add(layers.LSTM(32,\n",
    "                    dropout=0.2,\n",
    "                    recurrent_dropout=0.2))\n",
    "model_lstm6432.add(layers.Dense(32, activation='relu'))\n",
    "model_lstm6432.add(layers.Dense(1))\n",
    "model_lstm6432.compile(optimizer=RMSprop(), loss='mae')\n",
    "\n",
    "history_lstm6432 = model_lstm6432.fit_generator(train_gen,\n",
    "                                             steps_per_epoch=steps_per_epoch_cnt,\n",
    "                                             epochs=50,\n",
    "                                             validation_data=val_gen, \n",
    "                                             validation_steps=val_steps_cnt,\n",
    "                                             callbacks=callbacks_list_lstm6432, verbose=2)"
   ]
  },
  {
   "cell_type": "code",
   "execution_count": 39,
   "metadata": {
    "ExecuteTime": {
     "end_time": "2019-12-20T18:18:29.463963Z",
     "start_time": "2019-12-20T18:18:29.244219Z"
    },
    "collapsed": true
   },
   "outputs": [
    {
     "data": {
      "image/png": "[encoded data removed]",
      "text/plain": [
       "<Figure size 432x288 with 1 Axes>"
      ]
     },
     "metadata": {
      "needs_background": "light"
     },
     "output_type": "display_data"
    }
   ],
   "source": [
    "loss_lstm6432 = history_lstm6432.history['loss']\n",
    "val_loss_lstm6432 = history_lstm6432.history['val_loss']\n",
    "\n",
    "epochs = range(1, len(loss_lstm6432) + 1)\n",
    "\n",
    "plt.figure()\n",
    "\n",
    "plt.plot(epochs, loss_lstm6432, 'bo', label='Training loss')\n",
    "plt.plot(epochs, val_loss_lstm6432, 'b', label='Validation loss')\n",
    "plt.title('Training and validation loss')\n",
    "plt.legend()\n",
    "\n",
    "plt.show()"
   ]
  },
  {
   "cell_type": "code",
   "execution_count": 40,
   "metadata": {
    "ExecuteTime": {
     "end_time": "2019-12-20T18:18:29.469226Z",
     "start_time": "2019-12-20T18:18:29.466177Z"
    }
   },
   "outputs": [
    {
     "name": "stdout",
     "output_type": "stream",
     "text": [
      "Model Error: 3.10%\n"
     ]
    }
   ],
   "source": [
    "print('Model Error:', f'{((min(val_loss_lstm6432) * train_mw_std)/plant_capacity):0.2%}')"
   ]
  },
  {
   "cell_type": "code",
   "execution_count": 49,
   "metadata": {
    "ExecuteTime": {
     "end_time": "2019-12-20T18:32:30.843071Z",
     "start_time": "2019-12-20T18:32:30.839403Z"
    }
   },
   "outputs": [],
   "source": [
    "lstm6432 = ((min(val_loss_lstm6432) * train_mw_std)/plant_capacity) * 100"
   ]
  },
  {
   "cell_type": "markdown",
   "metadata": {},
   "source": [
    "<div id=\"lstm4\"/>\n",
    "<div style='padding:20px;'> <font style='font-weight:bold;font-size:15px;color:#2c3393;'>2.5.4 Stacked LSTM with 32 and 64 nodes</font></div>"
   ]
  },
  {
   "cell_type": "code",
   "execution_count": 42,
   "metadata": {
    "ExecuteTime": {
     "end_time": "2019-12-20T18:32:02.310018Z",
     "start_time": "2019-12-20T18:18:29.475148Z"
    },
    "collapsed": true
   },
   "outputs": [
    {
     "name": "stdout",
     "output_type": "stream",
     "text": [
      "Epoch 1/50\n",
      "20/20 [==============================] - 2s 77ms/step - loss: 0.1807\n",
      "\n",
      "Epoch 00001: val_loss improved from inf to 0.18071, saving model to clark_best_lstm3264.hdf5\n",
      " - 36s - loss: 0.4016 - val_loss: 0.1807\n",
      "Epoch 2/50\n",
      "20/20 [==============================] - 1s 65ms/step - loss: 0.1537\n",
      "\n",
      "Epoch 00002: val_loss improved from 0.18071 to 0.15374, saving model to clark_best_lstm3264.hdf5\n",
      " - 33s - loss: 0.2138 - val_loss: 0.1537\n",
      "Epoch 3/50\n",
      "20/20 [==============================] - 1s 65ms/step - loss: 0.1639\n",
      "\n",
      "Epoch 00003: val_loss did not improve from 0.15374\n",
      " - 33s - loss: 0.1709 - val_loss: 0.1639\n",
      "Epoch 4/50\n",
      "20/20 [==============================] - 1s 64ms/step - loss: 0.1513\n",
      "\n",
      "Epoch 00004: val_loss improved from 0.15374 to 0.15125, saving model to clark_best_lstm3264.hdf5\n",
      " - 33s - loss: 0.1528 - val_loss: 0.1513\n",
      "Epoch 5/50\n",
      "20/20 [==============================] - 1s 66ms/step - loss: 0.1401\n",
      "\n",
      "Epoch 00005: val_loss improved from 0.15125 to 0.14008, saving model to clark_best_lstm3264.hdf5\n",
      " - 33s - loss: 0.1501 - val_loss: 0.1401\n",
      "Epoch 6/50\n",
      "20/20 [==============================] - 1s 65ms/step - loss: 0.1481\n",
      "\n",
      "Epoch 00006: val_loss did not improve from 0.14008\n",
      " - 33s - loss: 0.1413 - val_loss: 0.1481\n",
      "Epoch 7/50\n",
      "20/20 [==============================] - 1s 65ms/step - loss: 0.1498\n",
      "\n",
      "Epoch 00007: val_loss did not improve from 0.14008\n",
      " - 33s - loss: 0.1372 - val_loss: 0.1498\n",
      "Epoch 8/50\n",
      "20/20 [==============================] - 1s 65ms/step - loss: 0.1588\n",
      "\n",
      "Epoch 00008: val_loss did not improve from 0.14008\n",
      " - 33s - loss: 0.1362 - val_loss: 0.1588\n",
      "Epoch 9/50\n",
      "20/20 [==============================] - 1s 71ms/step - loss: 0.1470\n",
      "\n",
      "Epoch 00009: val_loss did not improve from 0.14008\n",
      " - 33s - loss: 0.1273 - val_loss: 0.1470\n",
      "Epoch 10/50\n",
      "20/20 [==============================] - 1s 64ms/step - loss: 0.1598\n",
      "\n",
      "Epoch 00010: val_loss did not improve from 0.14008\n",
      " - 36s - loss: 0.1242 - val_loss: 0.1598\n",
      "Epoch 11/50\n",
      "20/20 [==============================] - 1s 59ms/step - loss: 0.1428\n",
      "\n",
      "Epoch 00011: val_loss did not improve from 0.14008\n",
      " - 34s - loss: 0.1246 - val_loss: 0.1428\n",
      "Epoch 12/50\n",
      "20/20 [==============================] - 1s 59ms/step - loss: 0.1389\n",
      "\n",
      "Epoch 00012: val_loss improved from 0.14008 to 0.13890, saving model to clark_best_lstm3264.hdf5\n",
      " - 33s - loss: 0.1239 - val_loss: 0.1389\n",
      "Epoch 13/50\n",
      "20/20 [==============================] - 1s 66ms/step - loss: 0.1276\n",
      "\n",
      "Epoch 00013: val_loss improved from 0.13890 to 0.12760, saving model to clark_best_lstm3264.hdf5\n",
      " - 39s - loss: 0.1203 - val_loss: 0.1276\n",
      "Epoch 14/50\n",
      "20/20 [==============================] - 1s 68ms/step - loss: 0.1609\n",
      "\n",
      "Epoch 00014: val_loss did not improve from 0.12760\n",
      " - 37s - loss: 0.1178 - val_loss: 0.1609\n",
      "Epoch 15/50\n",
      "20/20 [==============================] - 1s 70ms/step - loss: 0.1446\n",
      "\n",
      "Epoch 00015: val_loss did not improve from 0.12760\n",
      " - 36s - loss: 0.1108 - val_loss: 0.1446\n",
      "Epoch 16/50\n",
      "20/20 [==============================] - 1s 69ms/step - loss: 0.1417\n",
      "\n",
      "Epoch 00016: val_loss did not improve from 0.12760\n",
      " - 36s - loss: 0.1140 - val_loss: 0.1417\n",
      "Epoch 17/50\n",
      "20/20 [==============================] - 1s 67ms/step - loss: 0.1453\n",
      "\n",
      "Epoch 00017: val_loss did not improve from 0.12760\n",
      " - 37s - loss: 0.1111 - val_loss: 0.1453\n",
      "Epoch 18/50\n",
      "20/20 [==============================] - 1s 72ms/step - loss: 0.1500\n",
      "\n",
      "Epoch 00018: val_loss did not improve from 0.12760\n",
      " - 38s - loss: 0.1105 - val_loss: 0.1500\n",
      "Epoch 19/50\n",
      "20/20 [==============================] - 1s 68ms/step - loss: 0.1578\n",
      "\n",
      "Epoch 00019: val_loss did not improve from 0.12760\n",
      " - 36s - loss: 0.1090 - val_loss: 0.1578\n",
      "Epoch 20/50\n",
      "20/20 [==============================] - 1s 65ms/step - loss: 0.1500\n",
      "\n",
      "Epoch 00020: val_loss did not improve from 0.12760\n",
      " - 37s - loss: 0.1094 - val_loss: 0.1500\n",
      "Epoch 21/50\n",
      "20/20 [==============================] - 1s 69ms/step - loss: 0.1490\n",
      "\n",
      "Epoch 00021: val_loss did not improve from 0.12760\n",
      " - 36s - loss: 0.1088 - val_loss: 0.1490\n",
      "Epoch 22/50\n",
      "20/20 [==============================] - 1s 67ms/step - loss: 0.1482\n",
      "\n",
      "Epoch 00022: val_loss did not improve from 0.12760\n",
      " - 36s - loss: 0.1063 - val_loss: 0.1482\n",
      "Epoch 23/50\n",
      "20/20 [==============================] - 1s 69ms/step - loss: 0.1551\n",
      "\n",
      "Epoch 00023: val_loss did not improve from 0.12760\n",
      " - 36s - loss: 0.1036 - val_loss: 0.1551\n",
      "Epoch 00023: early stopping\n"
     ]
    }
   ],
   "source": [
    "filepath_lstm3264 =\"clark_best_lstm3264.hdf5\" \n",
    "cp_lstm3264 = ModelCheckpoint(filepath_lstm3264, monitor='val_loss', verbose=2, save_best_only=True, mode='min')\n",
    "es_lstm3264 = EarlyStopping(monitor='val_loss', mode='min', verbose=2, patience=10, min_delta=.01)\n",
    "callbacks_list_lstm3264 = [cp_lstm3264, es_lstm3264]\n",
    "\n",
    "# fix random seed for reproducibility\n",
    "seed = 1337\n",
    "np.random.seed(seed)\n",
    "\n",
    "model_lstm3264 = Sequential()\n",
    "model_lstm3264.add(layers.LSTM(64,\n",
    "                    dropout=0.2,\n",
    "                    recurrent_dropout=0.2,\n",
    "                    return_sequences=True,\n",
    "                    input_shape=(None, float_data.shape[-1])))\n",
    "model_lstm3264.add(layers.LSTM(32,\n",
    "                    dropout=0.2,\n",
    "                    recurrent_dropout=0.2))\n",
    "model_lstm3264.add(layers.Dense(64, activation='relu'))\n",
    "model_lstm3264.add(layers.Dense(1))\n",
    "model_lstm3264.compile(optimizer=RMSprop(), loss='mae')\n",
    "\n",
    "history_lstm3264 = model_lstm3264.fit_generator(train_gen,\n",
    "                                             steps_per_epoch=steps_per_epoch_cnt,\n",
    "                                             epochs=50,\n",
    "                                             validation_data=val_gen, \n",
    "                                             validation_steps=val_steps_cnt,\n",
    "                                             callbacks=callbacks_list_lstm3264, verbose=2)"
   ]
  },
  {
   "cell_type": "code",
   "execution_count": 43,
   "metadata": {
    "ExecuteTime": {
     "end_time": "2019-12-20T18:32:02.524020Z",
     "start_time": "2019-12-20T18:32:02.311929Z"
    },
    "collapsed": true
   },
   "outputs": [
    {
     "data": {
      "image/png": "[encoded data removed]",
      "text/plain": [
       "<Figure size 432x288 with 1 Axes>"
      ]
     },
     "metadata": {
      "needs_background": "light"
     },
     "output_type": "display_data"
    }
   ],
   "source": [
    "loss_lstm3264 = history_lstm3264.history['loss']\n",
    "val_loss_lstm3264 = history_lstm3264.history['val_loss']\n",
    "\n",
    "epochs = range(1, len(loss_lstm3264) + 1)\n",
    "\n",
    "plt.figure()\n",
    "\n",
    "plt.plot(epochs, loss_lstm3264, 'bo', label='Training loss')\n",
    "plt.plot(epochs, val_loss_lstm3264, 'b', label='Validation loss')\n",
    "plt.title('Training and validation loss')\n",
    "plt.legend()\n",
    "\n",
    "plt.show()"
   ]
  },
  {
   "cell_type": "code",
   "execution_count": 44,
   "metadata": {
    "ExecuteTime": {
     "end_time": "2019-12-20T18:32:02.530032Z",
     "start_time": "2019-12-20T18:32:02.526018Z"
    }
   },
   "outputs": [
    {
     "name": "stdout",
     "output_type": "stream",
     "text": [
      "Model Error: 2.86%\n"
     ]
    }
   ],
   "source": [
    "print('Model Error:', f'{((min(val_loss_lstm3264) * train_mw_std)/plant_capacity):0.2%}')"
   ]
  },
  {
   "cell_type": "code",
   "execution_count": 50,
   "metadata": {
    "ExecuteTime": {
     "end_time": "2019-12-20T18:32:35.926288Z",
     "start_time": "2019-12-20T18:32:35.923528Z"
    }
   },
   "outputs": [],
   "source": [
    "lstm3264 = ((min(val_loss_lstm3264) * train_mw_std)/plant_capacity) *100"
   ]
  },
  {
   "cell_type": "markdown",
   "metadata": {},
   "source": [
    "<div id=\"results\"/>\n",
    "<div style='padding:3px;'> <font style='font-weight:bold;font-size:20px;color:#2c3393;'>3. Results and Discussions</font></div>"
   ]
  },
  {
   "cell_type": "code",
   "execution_count": 53,
   "metadata": {
    "ExecuteTime": {
     "end_time": "2019-12-20T18:33:03.117143Z",
     "start_time": "2019-12-20T18:33:03.113889Z"
    }
   },
   "outputs": [],
   "source": [
    "names = ['Industry Agnostic Naive Method',\n",
    "         'Industry Standard Naive Method', \n",
    "         'LSTM with 64 nodes',\n",
    "         'LSTM with 32 nodes',\n",
    "         'LSTM+LSTM with 64 nodes and 32 nodes',\n",
    "         'LSTM+LSTM with 32 nodes and 64 nodes']\n",
    "results = [benchmark1, \n",
    "           benchmark2,\n",
    "           lstm64,\n",
    "           lstm32,\n",
    "           lstm6432,\n",
    "           lstm3264]"
   ]
  },
  {
   "cell_type": "code",
   "execution_count": 54,
   "metadata": {
    "ExecuteTime": {
     "end_time": "2019-12-20T18:33:03.541129Z",
     "start_time": "2019-12-20T18:33:03.536603Z"
    }
   },
   "outputs": [],
   "source": [
    "results = pd.DataFrame(zip(names,results), columns=['Model', 'Error in Percentage'])"
   ]
  },
  {
   "cell_type": "code",
   "execution_count": 57,
   "metadata": {
    "ExecuteTime": {
     "end_time": "2019-12-20T19:21:41.440637Z",
     "start_time": "2019-12-20T19:21:41.436318Z"
    }
   },
   "outputs": [],
   "source": [
    "results['Error in Percentage'] = round(results['Error in Percentage'],2)"
   ]
  },
  {
   "cell_type": "code",
   "execution_count": 71,
   "metadata": {
    "ExecuteTime": {
     "end_time": "2019-12-20T19:26:59.817743Z",
     "start_time": "2019-12-20T19:26:59.811066Z"
    }
   },
   "outputs": [],
   "source": [
    "results['Improvement'] = round(1-(results['Error in Percentage']/12.01),4)*100"
   ]
  },
  {
   "cell_type": "code",
   "execution_count": 72,
   "metadata": {
    "ExecuteTime": {
     "end_time": "2019-12-20T19:27:01.126010Z",
     "start_time": "2019-12-20T19:27:01.116017Z"
    }
   },
   "outputs": [
    {
     "data": {
      "text/html": [
       "<div>\n",
       "<style scoped>\n",
       "    .dataframe tbody tr th:only-of-type {\n",
       "        vertical-align: middle;\n",
       "    }\n",
       "\n",
       "    .dataframe tbody tr th {\n",
       "        vertical-align: top;\n",
       "    }\n",
       "\n",
       "    .dataframe thead th {\n",
       "        text-align: right;\n",
       "    }\n",
       "</style>\n",
       "<table border=\"1\" class=\"dataframe\">\n",
       "  <thead>\n",
       "    <tr style=\"text-align: right;\">\n",
       "      <th></th>\n",
       "      <th>Model</th>\n",
       "      <th>Error in Percentage</th>\n",
       "      <th>Improvement</th>\n",
       "    </tr>\n",
       "  </thead>\n",
       "  <tbody>\n",
       "    <tr>\n",
       "      <th>0</th>\n",
       "      <td>Industry Agnostic Naive Method</td>\n",
       "      <td>6.58</td>\n",
       "      <td>45.21</td>\n",
       "    </tr>\n",
       "    <tr>\n",
       "      <th>1</th>\n",
       "      <td>Industry Standard Naive Method</td>\n",
       "      <td>12.01</td>\n",
       "      <td>0.00</td>\n",
       "    </tr>\n",
       "    <tr>\n",
       "      <th>2</th>\n",
       "      <td>LSTM with 64 nodes</td>\n",
       "      <td>3.21</td>\n",
       "      <td>73.27</td>\n",
       "    </tr>\n",
       "    <tr>\n",
       "      <th>3</th>\n",
       "      <td>LSTM with 32 nodes</td>\n",
       "      <td>3.13</td>\n",
       "      <td>73.94</td>\n",
       "    </tr>\n",
       "    <tr>\n",
       "      <th>4</th>\n",
       "      <td>LSTM+LSTM with 64 nodes and 32 nodes</td>\n",
       "      <td>3.10</td>\n",
       "      <td>74.19</td>\n",
       "    </tr>\n",
       "    <tr>\n",
       "      <th>5</th>\n",
       "      <td>LSTM+LSTM with 32 nodes and 64 nodes</td>\n",
       "      <td>2.86</td>\n",
       "      <td>76.19</td>\n",
       "    </tr>\n",
       "  </tbody>\n",
       "</table>\n",
       "</div>"
      ],
      "text/plain": [
       "                                  Model  Error in Percentage  Improvement\n",
       "0        Industry Agnostic Naive Method                 6.58        45.21\n",
       "1        Industry Standard Naive Method                12.01         0.00\n",
       "2                    LSTM with 64 nodes                 3.21        73.27\n",
       "3                    LSTM with 32 nodes                 3.13        73.94\n",
       "4  LSTM+LSTM with 64 nodes and 32 nodes                 3.10        74.19\n",
       "5  LSTM+LSTM with 32 nodes and 64 nodes                 2.86        76.19"
      ]
     },
     "execution_count": 72,
     "metadata": {},
     "output_type": "execute_result"
    }
   ],
   "source": [
    "results"
   ]
  },
  {
   "cell_type": "markdown",
   "metadata": {
    "ExecuteTime": {
     "end_time": "2019-12-20T19:29:49.053749Z",
     "start_time": "2019-12-20T19:29:49.048516Z"
    }
   },
   "source": [
    "<div id=\"res\"/>\n",
    "<div style='padding:10px;'> <font style='font-weight:bold;font-size:15px;color:#2c3393;'>3.1 Results</font></div>"
   ]
  },
  {
   "cell_type": "markdown",
   "metadata": {},
   "source": [
    "<div style='text-align:justify; line-height:1.8'>\n",
    "<font style='font-style:italic;font-size:16px;color:#2c3393;'>\n",
    "Results are indicated in the table above. All four models appear to have performed better than the naive models by quite a margin, with the Two layer LSTM with 64 nodes and 32 nodes having the lowest error in terms of percentage. This translates to an improvement by 73.27% (LSTM with 64 nodes), 73.94% (LSTM with 32 nodes), 74.19% (LSTM+LSTM with 64 nodes and 32 nodes) and 76.19% (LSTM+LSTM with 32 nodes and 64 nodes).\n",
    "</font></div>"
   ]
  },
  {
   "cell_type": "markdown",
   "metadata": {},
   "source": [
    "<div id=\"discuss\"/>\n",
    "<div style='padding:10px;'> <font style='font-weight:bold;font-size:15px;color:#2c3393;'>3.2 Discussions and Recommendations</font></div>"
   ]
  },
  {
   "cell_type": "markdown",
   "metadata": {},
   "source": [
    "<div style='text-align:justify; line-height:1.8'>\n",
    "<font style='font-style:italic;font-size:16px;color:#2c3393;'>\n",
    "<p style='text-align:justify; line-height:1.8'>\n",
    "Adding more epochs and allowing the model train even longer would have some benefits. Results could have improved on all four models if the <code>patience</code> and the <code>min_delta</code> were relaxed.\n",
    "    \n",
    "My recommendation is to include more technical data in the dataset. Based on industry knowledge, irridiance is one of the main drivers of forecasting solar generation. I would expect that including this as a feature would drastically improve the already impressive model results. Similarly, adding power grid data such as power line capacity and degradation, solar panel angle, may improve in each models accuracy.</p>\n",
    "    \n",
    "<p style='text-align:justify; line-height:1.8'>Moving forward, I would want to explore different types of architectures. Similar journal articles suggested using an LSTM-CNN and/or a CNN-LSTM architectures. These two types of models capture not only the temporal data (LSTM) but also the spatial element (CNN). In addition, using a CNN to include images of the panels may improve the models accuracy. as this may capture the overall health of the panel.</p>\n",
    "</font>\n",
    "</div> "
   ]
  },
  {
   "cell_type": "markdown",
   "metadata": {},
   "source": [
    "<div id=\"summary\"/>\n",
    "<div style='padding:3px;'> <font style='font-weight:bold;font-size:20px;color:#2c3393;'>4. Summary and Main Learning Points</font></div>"
   ]
  },
  {
   "cell_type": "markdown",
   "metadata": {},
   "source": [
    "<div id=\"sum\"/>\n",
    "<div style='padding:10px;'> <font style='font-weight:bold;font-size:15px;color:#2c3393;'>4.1 Summary</font></div>"
   ]
  },
  {
   "cell_type": "markdown",
   "metadata": {},
   "source": [
    "<div style='text-align:justify; line-height:1.8'>\n",
    "<font style='font-style:italic;font-size:16px;color:#2c3393;'>\n",
    "The main objective of the study was to apply deep learning models to forecast solar power supply generation.   The data collected was from two online sources, the Wholesale Electrcity Spot Market and Weather Underground. Actual plant generation was obtained from the Wholesale Electricity Spot Market and 13 locational temperature data (Clark International Airport) was collected from Weather Underground. Next, domain knowledge was utilized in the preprocessing data to impute missing data. Here, two forms of benchmarks were idenfied, one was an industry agnostic standard while another error was sourced through consultation of industry experts. Afterwhich, a total of 4 different LSTM architecures were tested and all seem to have beaten both the industry agnostic and industry standard errors. Dropouts and Recurrent Dropouts were utilized during training as fine tuning of the model. In addition, ModelCheckpoints and EarlyStopping was implemented during the training to monitor the output and reduce the runtime. For the results, the 2 layer LSTM with 32 nodes and 64 nodes had the best improvement of 76.19%, from an 12.01% error to 2.86% error. \n",
    " </font>\n",
    "</div>"
   ]
  },
  {
   "cell_type": "markdown",
   "metadata": {
    "ExecuteTime": {
     "start_time": "2019-12-20T13:02:39.110Z"
    }
   },
   "source": [
    "<div id=\"main\"/>\n",
    "<div style='padding:10px;'> <font style='font-weight:bold;font-size:15px;color:#2c3393;'>4.2 Main Learning Points</font></div>"
   ]
  },
  {
   "cell_type": "markdown",
   "metadata": {},
   "source": [
    "<div style='text-align:justify; line-height:1.8'>\n",
    "<font style='font-style:italic;font-size:16px;color:#2c3393;'>\n",
    "<b>The main role of domain knowledge and expertise can be augmented with data science and machine learning.</b>\n",
    "\n",
    "<p style='text-align:justify; line-height:1.5;'>\n",
    "- The class has taught me the fundamentals of machine learning and deep learning algorithms, such as MLP, Convolutional, to Recurrent neural networks. However, what I discovered during this process is that domain knowledge influences and augments the data science flow. Yes, we may have developed the fundamentals of understanding deep learning techniques but the true potential of an algorithm can be truly harnessed only when some form of domain knowledge is utilized. \n",
    "</p>\n",
    "    \n",
    "<p style='text-align:justify; line-height:1.5'>\n",
    "- Industry heuristics can improve the data science pipeline from the feature engineering, benchmarking, model selection and hyperparameter turing. That with prior knowledge on the topic at hand can improve on the accuracy of the resulting model. \n",
    "</p>\n",
    "    \n",
    "<p style='text-align:justify; line-height:1.5'>   \n",
    "- On the contrary, having industry knowledge can allow me to think more critical with regards to other peoples models (whether in journals or at the office), both from the machine learning and technical perspective. \n",
    "</p>\n",
    "    \n",
    "<p style='text-align:justify; line-height:1.5'>\n",
    "- Lastly, one may know the inner workings of the model and know how to implement the model, however with domain knowledge, one will also know how to ask the right questions. Questions relating to (1) business value, on how to extract more value from a model, and/or (2) how can we improve or build on the model. Essentially asking what are the next steps, and how can we improve on this.\n",
    "</p>    \n",
    "    \n",
    "<b>Not really data science related but: tap the industry the topic is related about. You do not know everything in an industry so leverage on the network to figure out things</b>\n",
    "<p style='text-align:justify; line-height:1.5'>\n",
    "- Even if I was already in the energy industry, I was not particularly familiar with renewable energy forecasting and the standard protocols. If my groupmate and I were not familiar with the industry, it would have been very difficult for us to verify protocols. However, since I am blessed with very talented people from the industry, a quick 5 minute call was all we needed to verify certain aspect of the industry. \n",
    "</p>\n",
    "    \n",
    "<p style='text-align:justify; line-height:1.5;font-weight:bold'>Find a field/aspect of data science that you're interested in, stick to it, build on it and fix it!</p>\n",
    "    \n",
    "<p style='text-align:justify; line-height:1.5'>\n",
    "- From the numerous of talks I have listened in this class, it was already ingrained to me that data science is applicable to almost every industry, and as aspiring data scientists it may be difficult to hone in into a certain field or aspect. For me, I find joy when I see the application of data science to the energy sector as I have experienced and seen where the holes in the analytics are. Now, I have the fundamental skillset to cover up and fix these holes.\n",
    "</p>\n",
    "\n",
    "</font>\n",
    "</div>"
   ]
  }
 ],
 "metadata": {
  "kernelspec": {
   "display_name": "Python 3",
   "language": "python",
   "name": "python3"
  },
  "language_info": {
   "codemirror_mode": {
    "name": "ipython",
    "version": 3
   },
   "file_extension": ".py",
   "mimetype": "text/x-python",
   "name": "python",
   "nbconvert_exporter": "python",
   "pygments_lexer": "ipython3",
   "version": "3.7.3"
  }
 },
 "nbformat": 4,
 "nbformat_minor": 2
}
