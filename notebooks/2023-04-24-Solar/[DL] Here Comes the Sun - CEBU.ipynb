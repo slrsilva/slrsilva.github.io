{
 "cells": [
  {
   "cell_type": "markdown",
   "metadata": {},
   "source": [
    "<div style='padding:5px'><font style='font-weight:bold;font-size:32px;color:#2c3393;'>Here Comes The Sun: Cebu Solar Power Plant</font></div>\n",
    "<div style='padding:5px'><font style='font-weight:bold;font-size:24px;color:#2c3393;'>LT16 - Sandro Silva and Jac Lin Yu</font></div>"
   ]
  },
  {
   "cell_type": "markdown",
   "metadata": {},
   "source": [
    "------------"
   ]
  },
  {
   "cell_type": "markdown",
   "metadata": {},
   "source": [
    "<font style='font-weight:bold;font-size:32px;color:#2c3393;'>Table of Contents</font>\n"
   ]
  },
  {
   "cell_type": "markdown",
   "metadata": {
    "ExecuteTime": {
     "end_time": "2019-12-20T08:14:15.828643Z",
     "start_time": "2019-12-20T08:14:15.822694Z"
    }
   },
   "source": [
    "<font style='font-size:16px'>\n",
    "    \n",
    "**[1. Problem Statement](#problem-statement)**\n",
    "\n",
    "**[2. Methodology](#methodology)**\n",
    "\n",
    "  * [2.1. Loading Prerequisites](#preq)\n",
    "  * [2.2. Dataset and Preprocessing](#data)\n",
    "  * [2.3. Train, Validation, Test Split and Batch Generation](#train)\n",
    "  * [2.4. Determining the Benchmark](#benchmark)\n",
    "  * [2.5. Model Training and Selection](#model)\n",
    "      * [2.5.1 LSTM with 64 nodes](#lstm1)\n",
    "      * [2.5.2 LSTM with 32 nodes](#lstm2)\n",
    "      * [2.5.3 Stacked LSTM with 64 and 32 nodes](#lstm3)\n",
    "      * [2.5.4 Stacked LSTM with 32 and 64 nodes](#lstm4)   \n",
    "\n",
    "**[3. Results and Discussions](#results)**\n",
    "  * [3.1. Results](#res)\n",
    "  * [3.2. Discussions and Recommendations](#discussions)\n",
    "    \n",
    "</font>"
   ]
  },
  {
   "cell_type": "markdown",
   "metadata": {},
   "source": [
    "<div id=\"problem-statement\"/>\n",
    "<div style='padding:3px;'> <font style='font-weight:bold;font-size:20px;color:#2c3393;'>1. Problem Statement</font></div>"
   ]
  },
  {
   "cell_type": "markdown",
   "metadata": {},
   "source": [
    "<div style='padding-left: 20px; text-align: justify; font-size:16px; line-height:1.6'>\n",
    "In recent years, the global energy industry has changed its focus away from traditional fuel sources, such as oil and coal, to more alternative and sustainable solutions, such as hydroelectric, solar and wind. However, the shift towards renewable energy poses new threats and challenges to existing power grids across the world. One major concern surrounding renewable energy generation is the inherent variability and intermittency of its fuel source, as this can cause disruptions in power grids. Essentially, renewable energy technologies threaten to overwhelm the grid operators.\n",
    "<br><br> \n",
    "Renewable energy forecasting, in particular solar generation supply, may provide power grid operators the ability to predict and balance energy generation and consumption. In addition, power grid operators will be able to balance and schedule the distribution of generated power for not only renewable power plants but also conventional (and rigid) power plants, such as coal and natural gas.\n",
    "</div>"
   ]
  },
  {
   "cell_type": "markdown",
   "metadata": {},
   "source": [
    "<div id=\"methodology\"/>\n",
    "<div style='padding:5px;'> <font style='font-weight:bold;font-size:20px;color:#2c3393;'>2. Methodology</font></div>"
   ]
  },
  {
   "cell_type": "markdown",
   "metadata": {
    "ExecuteTime": {
     "end_time": "2019-12-20T09:16:29.227577Z",
     "start_time": "2019-12-20T09:16:29.221872Z"
    }
   },
   "source": [
    "<div id=\"preq\"/>\n",
    "<div style='padding:5px;'> <font style='font-weight:bold;font-size:15px;color:#2c3393;'>2.1 Loading Prerequisites</font></div>"
   ]
  },
  {
   "cell_type": "code",
   "execution_count": 66,
   "metadata": {
    "ExecuteTime": {
     "end_time": "2019-12-23T03:09:33.695977Z",
     "start_time": "2019-12-23T03:09:33.691782Z"
    }
   },
   "outputs": [],
   "source": [
    "import warnings\n",
    "warnings.simplefilter(action='ignore', category=FutureWarning)"
   ]
  },
  {
   "cell_type": "code",
   "execution_count": 67,
   "metadata": {
    "ExecuteTime": {
     "end_time": "2019-12-23T03:09:34.387828Z",
     "start_time": "2019-12-23T03:09:34.375812Z"
    }
   },
   "outputs": [],
   "source": [
    "import numpy as np\n",
    "import math\n",
    "import pandas as pd\n",
    "import matplotlib.pyplot as plt\n",
    "\n",
    "from sklearn.preprocessing import MinMaxScaler\n",
    "\n",
    "from tensorflow.keras.datasets import imdb\n",
    "from tensorflow.keras.preprocessing import sequence\n",
    "from tensorflow.keras.models import Sequential\n",
    "from tensorflow.keras import layers\n",
    "from tensorflow.keras.optimizers import RMSprop, Adam\n",
    "\n",
    "from tensorflow.keras.callbacks import ModelCheckpoint, EarlyStopping"
   ]
  },
  {
   "cell_type": "markdown",
   "metadata": {
    "ExecuteTime": {
     "end_time": "2019-12-20T09:17:54.042396Z",
     "start_time": "2019-12-20T09:17:54.032465Z"
    }
   },
   "source": [
    "<div id=\"data\"/>\n",
    "<div style='padding:5px;'> <font style='font-weight:bold;font-size:15px;color:#2c3393;'>2.2 Dataset and Preprocessing</font></div>"
   ]
  },
  {
   "cell_type": "markdown",
   "metadata": {
    "ExecuteTime": {
     "end_time": "2019-12-20T10:22:01.397144Z",
     "start_time": "2019-12-20T10:22:01.390828Z"
    }
   },
   "source": [
    "<div style='padding:5px;'> <font style='font-style:italic;font-size:15px;color:#2c3393;'>\n",
    "Here, we will load the already cleaned preprocessed dataset of solar generation per plant per hour.\n",
    "The cleaning was processed outside of this notebook, and followed a framework which follows the industry standard of imputing missing values.\n",
    "  \n",
    "    \n",
    "<b>To list a few processes:</b>\n",
    "    - using the average between the before(t-1) and after hour(t+1)\n",
    "    - using a 1-week average of all similar intervals \n",
    "    (ex, if empty during hour 6 of dec 20, take the moving average of all hour 6 from dec 13-dec19)\n",
    "    - using a 4-week moving average of that specific hour and day of the week \n",
    "    (ex, if empty during hour 6 of dec 20, we take average of hour 6(dec 13, 6, 29, 22)\n",
    "</font></div>"
   ]
  },
  {
   "cell_type": "code",
   "execution_count": 68,
   "metadata": {
    "ExecuteTime": {
     "end_time": "2019-12-23T03:10:04.531936Z",
     "start_time": "2019-12-23T03:09:36.710685Z"
    }
   },
   "outputs": [],
   "source": [
    "df = pd.read_excel('solar_dataset.xlsx', \n",
    "                   sheet_name='cebu', \n",
    "                   parse_dates=['DATETIME'])"
   ]
  },
  {
   "cell_type": "markdown",
   "metadata": {},
   "source": [
    "<div style='padding:5px;'> <font style='font-style:italic;font-size:15px;color:#2c3393;'>\n",
    "Here let us observe the different datatypes, notice that some columns are objects, some of which will be dropped.\n",
    "    </font></div>"
   ]
  },
  {
   "cell_type": "code",
   "execution_count": 9,
   "metadata": {
    "ExecuteTime": {
     "end_time": "2019-12-22T09:26:19.256729Z",
     "start_time": "2019-12-22T09:26:19.251808Z"
    }
   },
   "outputs": [
    {
     "data": {
      "text/plain": [
       "DATETIME         datetime64[ns]\n",
       "YEAR                      int64\n",
       "MONTH                     int64\n",
       "DAY                       int64\n",
       "HOUR                      int64\n",
       "RESOURCE_ID              object\n",
       "MW                      float64\n",
       "Location                 object\n",
       "Temperature             float64\n",
       "Dew Point               float64\n",
       "Humidity                float64\n",
       "Wind Speed              float64\n",
       "Wind Gust                 int64\n",
       "Pressure                float64\n",
       "Condition                object\n",
       "Location_Name            object\n",
       "dtype: object"
      ]
     },
     "execution_count": 9,
     "metadata": {},
     "output_type": "execute_result"
    }
   ],
   "source": [
    "df.dtypes"
   ]
  },
  {
   "cell_type": "code",
   "execution_count": 10,
   "metadata": {
    "ExecuteTime": {
     "end_time": "2019-12-22T09:26:19.279524Z",
     "start_time": "2019-12-22T09:26:19.258220Z"
    }
   },
   "outputs": [
    {
     "data": {
      "text/html": [
       "<div>\n",
       "<style scoped>\n",
       "    .dataframe tbody tr th:only-of-type {\n",
       "        vertical-align: middle;\n",
       "    }\n",
       "\n",
       "    .dataframe tbody tr th {\n",
       "        vertical-align: top;\n",
       "    }\n",
       "\n",
       "    .dataframe thead th {\n",
       "        text-align: right;\n",
       "    }\n",
       "</style>\n",
       "<table border=\"1\" class=\"dataframe\">\n",
       "  <thead>\n",
       "    <tr style=\"text-align: right;\">\n",
       "      <th></th>\n",
       "      <th>DATETIME</th>\n",
       "      <th>YEAR</th>\n",
       "      <th>MONTH</th>\n",
       "      <th>DAY</th>\n",
       "      <th>HOUR</th>\n",
       "      <th>RESOURCE_ID</th>\n",
       "      <th>MW</th>\n",
       "      <th>Location</th>\n",
       "      <th>Temperature</th>\n",
       "      <th>Dew Point</th>\n",
       "      <th>Humidity</th>\n",
       "      <th>Wind Speed</th>\n",
       "      <th>Wind Gust</th>\n",
       "      <th>Pressure</th>\n",
       "      <th>Condition</th>\n",
       "      <th>Location_Name</th>\n",
       "    </tr>\n",
       "  </thead>\n",
       "  <tbody>\n",
       "    <tr>\n",
       "      <th>0</th>\n",
       "      <td>2016-12-26 00:00:00</td>\n",
       "      <td>2016</td>\n",
       "      <td>12</td>\n",
       "      <td>26</td>\n",
       "      <td>1</td>\n",
       "      <td>5TOLSOL_G01</td>\n",
       "      <td>0.0</td>\n",
       "      <td>RPVM</td>\n",
       "      <td>79.0</td>\n",
       "      <td>77.0</td>\n",
       "      <td>94.0</td>\n",
       "      <td>1.0</td>\n",
       "      <td>0</td>\n",
       "      <td>29.7</td>\n",
       "      <td>Mostly Cloudy</td>\n",
       "      <td>MACTAN-CEBU</td>\n",
       "    </tr>\n",
       "    <tr>\n",
       "      <th>1</th>\n",
       "      <td>2016-12-26 01:00:00</td>\n",
       "      <td>2016</td>\n",
       "      <td>12</td>\n",
       "      <td>26</td>\n",
       "      <td>2</td>\n",
       "      <td>5TOLSOL_G01</td>\n",
       "      <td>0.0</td>\n",
       "      <td>RPVM</td>\n",
       "      <td>82.0</td>\n",
       "      <td>79.0</td>\n",
       "      <td>89.0</td>\n",
       "      <td>5.0</td>\n",
       "      <td>0</td>\n",
       "      <td>29.8</td>\n",
       "      <td>Mostly Cloudy</td>\n",
       "      <td>MACTAN-CEBU</td>\n",
       "    </tr>\n",
       "    <tr>\n",
       "      <th>2</th>\n",
       "      <td>2016-12-26 02:00:00</td>\n",
       "      <td>2016</td>\n",
       "      <td>12</td>\n",
       "      <td>26</td>\n",
       "      <td>3</td>\n",
       "      <td>5TOLSOL_G01</td>\n",
       "      <td>0.0</td>\n",
       "      <td>RPVM</td>\n",
       "      <td>84.0</td>\n",
       "      <td>79.0</td>\n",
       "      <td>84.0</td>\n",
       "      <td>6.0</td>\n",
       "      <td>0</td>\n",
       "      <td>29.8</td>\n",
       "      <td>Mostly Cloudy</td>\n",
       "      <td>MACTAN-CEBU</td>\n",
       "    </tr>\n",
       "  </tbody>\n",
       "</table>\n",
       "</div>"
      ],
      "text/plain": [
       "             DATETIME  YEAR  MONTH  DAY  HOUR  RESOURCE_ID   MW Location  \\\n",
       "0 2016-12-26 00:00:00  2016     12   26     1  5TOLSOL_G01  0.0     RPVM   \n",
       "1 2016-12-26 01:00:00  2016     12   26     2  5TOLSOL_G01  0.0     RPVM   \n",
       "2 2016-12-26 02:00:00  2016     12   26     3  5TOLSOL_G01  0.0     RPVM   \n",
       "\n",
       "   Temperature  Dew Point  Humidity  Wind Speed  Wind Gust  Pressure  \\\n",
       "0         79.0       77.0      94.0         1.0          0      29.7   \n",
       "1         82.0       79.0      89.0         5.0          0      29.8   \n",
       "2         84.0       79.0      84.0         6.0          0      29.8   \n",
       "\n",
       "       Condition Location_Name  \n",
       "0  Mostly Cloudy   MACTAN-CEBU  \n",
       "1  Mostly Cloudy   MACTAN-CEBU  \n",
       "2  Mostly Cloudy   MACTAN-CEBU  "
      ]
     },
     "execution_count": 10,
     "metadata": {},
     "output_type": "execute_result"
    }
   ],
   "source": [
    "df.head(3)"
   ]
  },
  {
   "cell_type": "markdown",
   "metadata": {},
   "source": [
    "<div style='padding:5px;'> <font style='font-style:italic;font-size:15px;color:#2c3393;'>\n",
    "    It is customary in traditional time-series regression to convert the <code>month</code>, <code>day</code>, \n",
    "    <code>hour</code> into categorical data, which will be later used in one-hot encoding. In addition, this is the usual preprocessing used in the energy industry here in the Philippines.\n",
    "</font></div>"
   ]
  },
  {
   "cell_type": "code",
   "execution_count": 11,
   "metadata": {
    "ExecuteTime": {
     "end_time": "2019-12-22T09:26:19.334881Z",
     "start_time": "2019-12-22T09:26:19.280933Z"
    }
   },
   "outputs": [],
   "source": [
    "df.MONTH = df.MONTH.astype('str')\n",
    "df.DAY = df.DAY.astype('str')\n",
    "df.HOUR = df.HOUR.astype('str')"
   ]
  },
  {
   "cell_type": "markdown",
   "metadata": {},
   "source": [
    "<div style='padding:5px;'> <font style='font-style:italic;font-size:15px;color:#2c3393;'>\n",
    "    Let us drop the unimportant columns\n",
    "</font></div>"
   ]
  },
  {
   "cell_type": "code",
   "execution_count": 12,
   "metadata": {
    "ExecuteTime": {
     "end_time": "2019-12-22T09:26:19.353643Z",
     "start_time": "2019-12-22T09:26:19.336627Z"
    }
   },
   "outputs": [],
   "source": [
    "df.drop(['Location_Name', 'Location', \"YEAR\"],axis=1,inplace=True)"
   ]
  },
  {
   "cell_type": "markdown",
   "metadata": {},
   "source": [
    "<div style='padding:5px;'> <font style='font-style:italic;font-size:15px;color:#2c3393;'>\n",
    "    Let us append the main <code>df</code> with the one-hot encoded dataframe\n",
    "</font></div>"
   ]
  },
  {
   "cell_type": "code",
   "execution_count": 13,
   "metadata": {
    "ExecuteTime": {
     "end_time": "2019-12-22T09:26:19.386758Z",
     "start_time": "2019-12-22T09:26:19.356181Z"
    }
   },
   "outputs": [],
   "source": [
    "df = df.join(pd.get_dummies(df[['MONTH','DAY','HOUR','Condition']]))"
   ]
  },
  {
   "cell_type": "markdown",
   "metadata": {},
   "source": [
    "<div style='padding:5px;'> <font style='font-style:italic;font-size:15px;color:#2c3393;'>\n",
    "    Let us get the unique list of power plants in the region\n",
    "</font></div>"
   ]
  },
  {
   "cell_type": "code",
   "execution_count": 14,
   "metadata": {
    "ExecuteTime": {
     "end_time": "2019-12-22T09:26:19.393695Z",
     "start_time": "2019-12-22T09:26:19.388626Z"
    }
   },
   "outputs": [],
   "source": [
    "locations = df.RESOURCE_ID.unique()"
   ]
  },
  {
   "cell_type": "markdown",
   "metadata": {},
   "source": [
    "<div style='padding:5px;'> <font style='font-style:italic;font-size:15px;color:#2c3393;'>\n",
    "    For this study, let us consider the first power plant\n",
    "</font></div>"
   ]
  },
  {
   "cell_type": "code",
   "execution_count": 15,
   "metadata": {
    "ExecuteTime": {
     "end_time": "2019-12-22T09:26:19.399903Z",
     "start_time": "2019-12-22T09:26:19.396320Z"
    }
   },
   "outputs": [
    {
     "data": {
      "text/plain": [
       "'5TOLSOL_G01'"
      ]
     },
     "execution_count": 15,
     "metadata": {},
     "output_type": "execute_result"
    }
   ],
   "source": [
    "locations[0]"
   ]
  },
  {
   "cell_type": "code",
   "execution_count": 16,
   "metadata": {
    "ExecuteTime": {
     "end_time": "2019-12-22T09:26:19.450892Z",
     "start_time": "2019-12-22T09:26:19.401887Z"
    }
   },
   "outputs": [],
   "source": [
    "df0 = df[df.RESOURCE_ID == locations[0]].copy()"
   ]
  },
  {
   "cell_type": "markdown",
   "metadata": {},
   "source": [
    "<div style='padding:5px;'> <font style='font-style:italic;font-size:15px;color:#2c3393;'>\n",
    "    Further dropping of columns as well as reordering of columns\n",
    "</font></div>"
   ]
  },
  {
   "cell_type": "code",
   "execution_count": 17,
   "metadata": {
    "ExecuteTime": {
     "end_time": "2019-12-22T09:26:19.459770Z",
     "start_time": "2019-12-22T09:26:19.452571Z"
    }
   },
   "outputs": [],
   "source": [
    "df0 = df0.drop(['RESOURCE_ID','DATETIME','MONTH','DAY','HOUR','Condition'],\n",
    "               axis=1)"
   ]
  },
  {
   "cell_type": "code",
   "execution_count": 18,
   "metadata": {
    "ExecuteTime": {
     "end_time": "2019-12-22T09:26:19.467676Z",
     "start_time": "2019-12-22T09:26:19.461358Z"
    }
   },
   "outputs": [],
   "source": [
    "df0 = df0[['Temperature','MW'] + df0.columns[2:].tolist()].copy()"
   ]
  },
  {
   "cell_type": "code",
   "execution_count": 19,
   "metadata": {
    "ExecuteTime": {
     "end_time": "2019-12-22T09:26:19.483872Z",
     "start_time": "2019-12-22T09:26:19.469284Z"
    }
   },
   "outputs": [],
   "source": [
    "df0 = df0.astype('float')"
   ]
  },
  {
   "cell_type": "markdown",
   "metadata": {},
   "source": [
    "<div style='padding:5px;'> <font style='font-style:italic;font-size:15px;color:#2c3393;'>\n",
    "    Final <code>DataFrame</code> to be used\n",
    "</font></div>"
   ]
  },
  {
   "cell_type": "code",
   "execution_count": 20,
   "metadata": {
    "ExecuteTime": {
     "end_time": "2019-12-22T09:26:19.511005Z",
     "start_time": "2019-12-22T09:26:19.486701Z"
    }
   },
   "outputs": [
    {
     "data": {
      "text/html": [
       "<div>\n",
       "<style scoped>\n",
       "    .dataframe tbody tr th:only-of-type {\n",
       "        vertical-align: middle;\n",
       "    }\n",
       "\n",
       "    .dataframe tbody tr th {\n",
       "        vertical-align: top;\n",
       "    }\n",
       "\n",
       "    .dataframe thead th {\n",
       "        text-align: right;\n",
       "    }\n",
       "</style>\n",
       "<table border=\"1\" class=\"dataframe\">\n",
       "  <thead>\n",
       "    <tr style=\"text-align: right;\">\n",
       "      <th></th>\n",
       "      <th>Temperature</th>\n",
       "      <th>MW</th>\n",
       "      <th>Dew Point</th>\n",
       "      <th>Humidity</th>\n",
       "      <th>Wind Speed</th>\n",
       "      <th>Wind Gust</th>\n",
       "      <th>Pressure</th>\n",
       "      <th>MONTH_1</th>\n",
       "      <th>MONTH_10</th>\n",
       "      <th>MONTH_11</th>\n",
       "      <th>...</th>\n",
       "      <th>Condition_Partly Cloudy</th>\n",
       "      <th>Condition_Partly Cloudy / Windy</th>\n",
       "      <th>Condition_Rain</th>\n",
       "      <th>Condition_Rain / Windy</th>\n",
       "      <th>Condition_Rain Shower</th>\n",
       "      <th>Condition_Showers in the Vicinity</th>\n",
       "      <th>Condition_T-Storm</th>\n",
       "      <th>Condition_Thunder</th>\n",
       "      <th>Condition_Thunder / Windy</th>\n",
       "      <th>Condition_Thunder in the Vicinity</th>\n",
       "    </tr>\n",
       "  </thead>\n",
       "  <tbody>\n",
       "    <tr>\n",
       "      <th>0</th>\n",
       "      <td>79.0</td>\n",
       "      <td>0.0</td>\n",
       "      <td>77.0</td>\n",
       "      <td>94.0</td>\n",
       "      <td>1.0</td>\n",
       "      <td>0.0</td>\n",
       "      <td>29.7</td>\n",
       "      <td>0.0</td>\n",
       "      <td>0.0</td>\n",
       "      <td>0.0</td>\n",
       "      <td>...</td>\n",
       "      <td>0.0</td>\n",
       "      <td>0.0</td>\n",
       "      <td>0.0</td>\n",
       "      <td>0.0</td>\n",
       "      <td>0.0</td>\n",
       "      <td>0.0</td>\n",
       "      <td>0.0</td>\n",
       "      <td>0.0</td>\n",
       "      <td>0.0</td>\n",
       "      <td>0.0</td>\n",
       "    </tr>\n",
       "    <tr>\n",
       "      <th>1</th>\n",
       "      <td>82.0</td>\n",
       "      <td>0.0</td>\n",
       "      <td>79.0</td>\n",
       "      <td>89.0</td>\n",
       "      <td>5.0</td>\n",
       "      <td>0.0</td>\n",
       "      <td>29.8</td>\n",
       "      <td>0.0</td>\n",
       "      <td>0.0</td>\n",
       "      <td>0.0</td>\n",
       "      <td>...</td>\n",
       "      <td>0.0</td>\n",
       "      <td>0.0</td>\n",
       "      <td>0.0</td>\n",
       "      <td>0.0</td>\n",
       "      <td>0.0</td>\n",
       "      <td>0.0</td>\n",
       "      <td>0.0</td>\n",
       "      <td>0.0</td>\n",
       "      <td>0.0</td>\n",
       "      <td>0.0</td>\n",
       "    </tr>\n",
       "    <tr>\n",
       "      <th>2</th>\n",
       "      <td>84.0</td>\n",
       "      <td>0.0</td>\n",
       "      <td>79.0</td>\n",
       "      <td>84.0</td>\n",
       "      <td>6.0</td>\n",
       "      <td>0.0</td>\n",
       "      <td>29.8</td>\n",
       "      <td>0.0</td>\n",
       "      <td>0.0</td>\n",
       "      <td>0.0</td>\n",
       "      <td>...</td>\n",
       "      <td>0.0</td>\n",
       "      <td>0.0</td>\n",
       "      <td>0.0</td>\n",
       "      <td>0.0</td>\n",
       "      <td>0.0</td>\n",
       "      <td>0.0</td>\n",
       "      <td>0.0</td>\n",
       "      <td>0.0</td>\n",
       "      <td>0.0</td>\n",
       "      <td>0.0</td>\n",
       "    </tr>\n",
       "    <tr>\n",
       "      <th>3</th>\n",
       "      <td>84.0</td>\n",
       "      <td>0.0</td>\n",
       "      <td>77.0</td>\n",
       "      <td>79.0</td>\n",
       "      <td>7.0</td>\n",
       "      <td>0.0</td>\n",
       "      <td>29.7</td>\n",
       "      <td>0.0</td>\n",
       "      <td>0.0</td>\n",
       "      <td>0.0</td>\n",
       "      <td>...</td>\n",
       "      <td>0.0</td>\n",
       "      <td>0.0</td>\n",
       "      <td>0.0</td>\n",
       "      <td>0.0</td>\n",
       "      <td>0.0</td>\n",
       "      <td>0.0</td>\n",
       "      <td>0.0</td>\n",
       "      <td>0.0</td>\n",
       "      <td>0.0</td>\n",
       "      <td>0.0</td>\n",
       "    </tr>\n",
       "    <tr>\n",
       "      <th>4</th>\n",
       "      <td>86.0</td>\n",
       "      <td>0.0</td>\n",
       "      <td>77.0</td>\n",
       "      <td>74.0</td>\n",
       "      <td>8.0</td>\n",
       "      <td>0.0</td>\n",
       "      <td>29.7</td>\n",
       "      <td>0.0</td>\n",
       "      <td>0.0</td>\n",
       "      <td>0.0</td>\n",
       "      <td>...</td>\n",
       "      <td>0.0</td>\n",
       "      <td>0.0</td>\n",
       "      <td>0.0</td>\n",
       "      <td>0.0</td>\n",
       "      <td>0.0</td>\n",
       "      <td>0.0</td>\n",
       "      <td>0.0</td>\n",
       "      <td>0.0</td>\n",
       "      <td>0.0</td>\n",
       "      <td>0.0</td>\n",
       "    </tr>\n",
       "  </tbody>\n",
       "</table>\n",
       "<p>5 rows × 99 columns</p>\n",
       "</div>"
      ],
      "text/plain": [
       "   Temperature   MW  Dew Point  Humidity  Wind Speed  Wind Gust  Pressure  \\\n",
       "0         79.0  0.0       77.0      94.0         1.0        0.0      29.7   \n",
       "1         82.0  0.0       79.0      89.0         5.0        0.0      29.8   \n",
       "2         84.0  0.0       79.0      84.0         6.0        0.0      29.8   \n",
       "3         84.0  0.0       77.0      79.0         7.0        0.0      29.7   \n",
       "4         86.0  0.0       77.0      74.0         8.0        0.0      29.7   \n",
       "\n",
       "   MONTH_1  MONTH_10  MONTH_11  ...  Condition_Partly Cloudy  \\\n",
       "0      0.0       0.0       0.0  ...                      0.0   \n",
       "1      0.0       0.0       0.0  ...                      0.0   \n",
       "2      0.0       0.0       0.0  ...                      0.0   \n",
       "3      0.0       0.0       0.0  ...                      0.0   \n",
       "4      0.0       0.0       0.0  ...                      0.0   \n",
       "\n",
       "   Condition_Partly Cloudy / Windy  Condition_Rain  Condition_Rain / Windy  \\\n",
       "0                              0.0             0.0                     0.0   \n",
       "1                              0.0             0.0                     0.0   \n",
       "2                              0.0             0.0                     0.0   \n",
       "3                              0.0             0.0                     0.0   \n",
       "4                              0.0             0.0                     0.0   \n",
       "\n",
       "   Condition_Rain Shower  Condition_Showers in the Vicinity  \\\n",
       "0                    0.0                                0.0   \n",
       "1                    0.0                                0.0   \n",
       "2                    0.0                                0.0   \n",
       "3                    0.0                                0.0   \n",
       "4                    0.0                                0.0   \n",
       "\n",
       "   Condition_T-Storm  Condition_Thunder  Condition_Thunder / Windy  \\\n",
       "0                0.0                0.0                        0.0   \n",
       "1                0.0                0.0                        0.0   \n",
       "2                0.0                0.0                        0.0   \n",
       "3                0.0                0.0                        0.0   \n",
       "4                0.0                0.0                        0.0   \n",
       "\n",
       "   Condition_Thunder in the Vicinity  \n",
       "0                                0.0  \n",
       "1                                0.0  \n",
       "2                                0.0  \n",
       "3                                0.0  \n",
       "4                                0.0  \n",
       "\n",
       "[5 rows x 99 columns]"
      ]
     },
     "execution_count": 20,
     "metadata": {},
     "output_type": "execute_result"
    }
   ],
   "source": [
    "df0.head()"
   ]
  },
  {
   "cell_type": "code",
   "execution_count": 21,
   "metadata": {
    "ExecuteTime": {
     "end_time": "2019-12-22T09:26:19.516138Z",
     "start_time": "2019-12-22T09:26:19.512822Z"
    }
   },
   "outputs": [
    {
     "data": {
      "text/plain": [
       "(23160, 99)"
      ]
     },
     "execution_count": 21,
     "metadata": {},
     "output_type": "execute_result"
    }
   ],
   "source": [
    "df0.shape"
   ]
  },
  {
   "cell_type": "code",
   "execution_count": 22,
   "metadata": {
    "ExecuteTime": {
     "end_time": "2019-12-22T09:26:19.519437Z",
     "start_time": "2019-12-22T09:26:19.517497Z"
    }
   },
   "outputs": [],
   "source": [
    "plant_capacity = 60"
   ]
  },
  {
   "cell_type": "markdown",
   "metadata": {},
   "source": [
    "<div id=\"train\"/>\n",
    "<div style='padding:5px;'> <font style='font-weight:bold;font-size:15px;color:#2c3393;'>\n",
    "    2.3 Train,Validate,Test Split and Batch Generation</font></div>"
   ]
  },
  {
   "cell_type": "markdown",
   "metadata": {},
   "source": [
    "<div style='padding:5px;'> <font style='font-style:italic;font-size:15px;color:#2c3393;'>\n",
    "    For this analysis, a <code>.8</code>, <code>.1</code>, <code>.1</code>, train-validate-test split was implemented. Since we are dealing with a time-series, the train-validate-test split cannot be randomly selected from the dataset, splitting of dataset should be conducted in a chronogical order. Below we define the starting and ending <code>index</code> for each group\n",
    "</font></div>"
   ]
  },
  {
   "cell_type": "code",
   "execution_count": 23,
   "metadata": {
    "ExecuteTime": {
     "end_time": "2019-12-22T09:26:19.524265Z",
     "start_time": "2019-12-22T09:26:19.520840Z"
    }
   },
   "outputs": [],
   "source": [
    "train_validate_test_split = [.8, .1, .1]\n",
    "\n",
    "train_idx = math.floor(df0.shape[0] * train_validate_test_split[0])\n",
    "val_idx = math.floor(df0.shape[0] * train_validate_test_split[1]) + train_idx"
   ]
  },
  {
   "cell_type": "markdown",
   "metadata": {
    "ExecuteTime": {
     "end_time": "2019-12-20T09:53:01.962892Z",
     "start_time": "2019-12-20T09:53:01.950987Z"
    }
   },
   "source": [
    "<div style='padding:5px;'> <font style='font-style:italic;font-size:15px;color:#2c3393;'>\n",
    "    The <code>generator</code> function below was utilized to yield the appropriate batch. Significant parameters include the <code>lookback</code>, or how far back of the data to consider, <code>delay</code>, or how far into the future are we forecasting, <code>batch_size</code>, refers to the number of training examples utilized in one iteration.\n",
    "</font></div>"
   ]
  },
  {
   "cell_type": "code",
   "execution_count": 24,
   "metadata": {
    "ExecuteTime": {
     "end_time": "2019-12-22T09:26:19.532834Z",
     "start_time": "2019-12-22T09:26:19.526011Z"
    }
   },
   "outputs": [],
   "source": [
    "def generator(data, lookback, delay, min_index, max_index, shuffle=False, \n",
    "              batch_size=128, step=1):\n",
    "    \n",
    "    if max_index is None:\n",
    "        max_index = len(data) - delay - 1\n",
    "    i = min_index + lookback\n",
    "    \n",
    "    while 1:\n",
    "        if shuffle:\n",
    "            rows = np.random.randint(min_index + lookback, \n",
    "                                     max_index, size=batch_size)\n",
    "        else:\n",
    "            if i + batch_size >= max_index:\n",
    "                i = min_index + lookback\n",
    "            rows = np.arange(i, min(i + batch_size, max_index))\n",
    "            i += len(rows)\n",
    "\n",
    "        samples = np.zeros((len(rows), lookback // step, data.shape[-1]))\n",
    "        targets = np.zeros((len(rows),))\n",
    "        for j, row in enumerate(rows):\n",
    "            indices = range(rows[j] - lookback, rows[j], step)\n",
    "            samples[j] = data[indices]\n",
    "            targets[j] = data[rows[j] + delay][1]\n",
    "        yield samples, targets"
   ]
  },
  {
   "cell_type": "markdown",
   "metadata": {},
   "source": [
    "<div style='padding:5px;'> <font style='font-style:italic;font-size:15px;color:#2c3393;'>\n",
    "    Let us mean-center the dataset\n",
    "</font></div>"
   ]
  },
  {
   "cell_type": "code",
   "execution_count": 25,
   "metadata": {
    "ExecuteTime": {
     "end_time": "2019-12-22T09:26:19.549564Z",
     "start_time": "2019-12-22T09:26:19.534204Z"
    }
   },
   "outputs": [],
   "source": [
    "float_data = df0.values\n",
    "train_mean = float_data[:train_idx].mean(axis=0)\n",
    "float_data -= train_mean\n",
    "train_std = float_data[:train_idx].std(axis=0)\n",
    "float_data /= train_std\n",
    "train_mw_std = train_std[1]"
   ]
  },
  {
   "cell_type": "markdown",
   "metadata": {
    "ExecuteTime": {
     "end_time": "2019-12-20T10:17:36.642996Z",
     "start_time": "2019-12-20T10:17:36.633412Z"
    }
   },
   "source": [
    "<div style='padding:5px;'> <font style='font-style:italic;font-size:15px;color:#2c3393;'>\n",
    "    Let us initialize the parameters which will be used for the generation\n",
    "    An industry standard practic is to utilize a <code>lookback</code> of either <code>144 hours</code> (1 week), <code>288 hours</code> (2 weeks), or <code>720 hours</code> (1[30-day] month). The initial run was to utilized a <code>288 hour</code> lookback period due to group's industry expert's experience. However, outside consultation with industry experts said 1 week would suffice with this limited dataset.\n",
    "</font></div>"
   ]
  },
  {
   "cell_type": "code",
   "execution_count": 26,
   "metadata": {
    "ExecuteTime": {
     "end_time": "2019-12-22T09:26:19.553372Z",
     "start_time": "2019-12-22T09:26:19.550853Z"
    }
   },
   "outputs": [],
   "source": [
    "lookback = 144 # lookback(consider) the previous week data\n",
    "step = 1 # in hourly granularity\n",
    "delay = 24 # to forecast the next 24 hours\n",
    "batch_size = 128"
   ]
  },
  {
   "cell_type": "code",
   "execution_count": 27,
   "metadata": {
    "ExecuteTime": {
     "end_time": "2019-12-22T09:26:19.559985Z",
     "start_time": "2019-12-22T09:26:19.555015Z"
    }
   },
   "outputs": [],
   "source": [
    "train_gen = generator(float_data,\n",
    "    lookback=lookback,\n",
    "    delay=delay,\n",
    "    min_index=0,\n",
    "    max_index=train_idx,\n",
    "    shuffle=True,\n",
    "    step=step,\n",
    "    batch_size=batch_size)\n",
    "\n",
    "val_gen = generator(float_data,\n",
    "    lookback=lookback,\n",
    "    delay=delay,\n",
    "    min_index=train_idx+1,\n",
    "    max_index=val_idx,\n",
    "    step=step,\n",
    "    batch_size=batch_size)\n",
    "\n",
    "test_gen = generator(float_data,\n",
    "    lookback=lookback,\n",
    "    delay=delay,\n",
    "    min_index=val_idx,\n",
    "    max_index=None,\n",
    "    step=step,\n",
    "    batch_size=batch_size)\n",
    "\n",
    "val_steps = (val_idx - (train_idx+1) - lookback)\n",
    "test_steps = (len(float_data) - (val_idx+1) - lookback)"
   ]
  },
  {
   "cell_type": "markdown",
   "metadata": {},
   "source": [
    "<div id=\"benchmark\"/>\n",
    "<div style='padding:5px;'> <font style='font-weight:bold;font-size:15px;color:#2c3393;'>2.4 Benchmark</font></div>"
   ]
  },
  {
   "cell_type": "markdown",
   "metadata": {},
   "source": [
    "<div style='padding:5px;'> <font style='font-style:italic;font-size:15px;color:#2c3393;'>\n",
    "    The team used two metrics to establish a baseline error:\n",
    "    \n",
    "    (1) the naive method identified in a previous lecture, which we scaled to industry standard\n",
    "    (2) a different framework suggested by industry\n",
    "</font></div>"
   ]
  },
  {
   "cell_type": "code",
   "execution_count": 28,
   "metadata": {
    "ExecuteTime": {
     "end_time": "2019-12-22T09:26:33.445471Z",
     "start_time": "2019-12-22T09:26:19.561752Z"
    }
   },
   "outputs": [
    {
     "name": "stdout",
     "output_type": "stream",
     "text": [
      "0\n",
      "1000\n",
      "2000\n"
     ]
    }
   ],
   "source": [
    "def evaluate_naive_method():\n",
    "\n",
    "    batch_maes = []\n",
    "    for step in range(val_steps):\n",
    "        if step % 1000 == 0:\n",
    "            print(step)\n",
    "        samples, targets = next(val_gen)\n",
    "        preds = samples[:, -1, 1]\n",
    "        mae = np.mean(np.abs(preds - targets))\n",
    "        batch_maes.append(mae)\n",
    "    \n",
    "    return np.mean(batch_maes)\n",
    "\n",
    "naive_method = evaluate_naive_method()"
   ]
  },
  {
   "cell_type": "code",
   "execution_count": 29,
   "metadata": {
    "ExecuteTime": {
     "end_time": "2019-12-22T09:26:33.449593Z",
     "start_time": "2019-12-22T09:26:33.446661Z"
    }
   },
   "outputs": [
    {
     "name": "stdout",
     "output_type": "stream",
     "text": [
      "NAIVE METHOD 1: 7.67%\n"
     ]
    }
   ],
   "source": [
    "print('NAIVE METHOD 1:', f'{((naive_method * train_mw_std)/plant_capacity):0.2%}') #where 22 is the capacity of the plant"
   ]
  },
  {
   "cell_type": "code",
   "execution_count": 30,
   "metadata": {
    "ExecuteTime": {
     "end_time": "2019-12-22T09:26:33.501935Z",
     "start_time": "2019-12-22T09:26:33.452304Z"
    }
   },
   "outputs": [],
   "source": [
    "benchmark1 = ((naive_method * train_mw_std)/plant_capacity) * 100"
   ]
  },
  {
   "cell_type": "markdown",
   "metadata": {},
   "source": [
    "<div style='padding:5px;text-align:justify'> <font style='font-style:italic;font-size:17px;color:#2c3393;'>\n",
    "For establishing the 2nd baseline error, the team consulted the industry to determine a baseline error. However, even the industry is still conflicted on how to establish a baseline measurement. As of now, the baseline is still being established by policy makers and grid operators. \n",
    "<br>   \n",
    "    \n",
    "Luckily, consulting with industry experts gave the team a framework on how to establish a baseline error per plant. The resulting measure looked at the mean squared error of the day-ahead projection(DAP), also called scheduled (Ex-Ante or RTD), and the actual delivered (Ex-Post or RTX).\n",
    "    \n",
    "    \n",
    "This was then scaled as a percentage to the capacity of the plant. This was with processed with an industry expert and not included in the notebook. The yielding error resulted with a baseline of <code>15.34%</code>\n",
    "</font></div>"
   ]
  },
  {
   "cell_type": "code",
   "execution_count": 31,
   "metadata": {
    "ExecuteTime": {
     "end_time": "2019-12-22T09:26:33.513451Z",
     "start_time": "2019-12-22T09:26:33.507329Z"
    }
   },
   "outputs": [],
   "source": [
    "benchmark2 = 15.34"
   ]
  },
  {
   "cell_type": "markdown",
   "metadata": {},
   "source": [
    "<div id=\"model\"/>\n",
    "<div style='padding:5px;'> <font style='font-weight:bold;font-size:15px;color:#2c3393;'>2.5 Model Training Selection</font></div>"
   ]
  },
  {
   "cell_type": "markdown",
   "metadata": {},
   "source": [
    "<div style='padding:5px;'> <font style='font-style:italic;font-size:15px;color:#2c3393;'>\n",
    "The team utilized 4 models:\n",
    "    \n",
    "    - LSTM with 64 nodes\n",
    "    - LSTM with 32 nodes\n",
    "    - Stacked LSTM(2 layer) with 64 and 32 nodes\n",
    "    - Stacked LSTM(2 layer) with 32 and 64 nodes\n",
    "    \n",
    "Dropout of <code>0.2</code> and Recurrent Dropout of <code>0.2</code> and a <code>RMSProp</code> optimized was implemented for all three.\n",
    "\n",
    "The group decided to use a <code>Epoch=50</code>, with an EarlyStopping of <code>patience=10</code> and <code>min_delta=0.01</code> to avoid overfitting and to reduce runtime due to the limited time constraints.\n",
    "</font></div>"
   ]
  },
  {
   "cell_type": "code",
   "execution_count": 32,
   "metadata": {
    "ExecuteTime": {
     "end_time": "2019-12-22T09:26:33.525608Z",
     "start_time": "2019-12-22T09:26:33.518190Z"
    }
   },
   "outputs": [],
   "source": [
    "steps_per_epoch_cnt = math.floor(train_idx/batch_size)\n",
    "val_steps_cnt = round(math.floor((val_idx-train_idx)/batch_size),-1)"
   ]
  },
  {
   "cell_type": "markdown",
   "metadata": {},
   "source": [
    "<div id=\"lstm1\"/>\n",
    "<div style='padding:20px;'> <font style='font-weight:bold;font-size:15px;color:#2c3393;'>2.5.1 LSTM with 64</font></div>"
   ]
  },
  {
   "cell_type": "code",
   "execution_count": 33,
   "metadata": {
    "ExecuteTime": {
     "end_time": "2019-12-22T09:31:05.428439Z",
     "start_time": "2019-12-22T09:26:33.530578Z"
    },
    "collapsed": true
   },
   "outputs": [
    {
     "name": "stdout",
     "output_type": "stream",
     "text": [
      "WARNING:tensorflow:From /home/ssilva/anaconda3/lib/python3.7/site-packages/tensorflow/python/ops/resource_variable_ops.py:435: colocate_with (from tensorflow.python.framework.ops) is deprecated and will be removed in a future version.\n",
      "Instructions for updating:\n",
      "Colocations handled automatically by placer.\n",
      "WARNING:tensorflow:From /home/ssilva/anaconda3/lib/python3.7/site-packages/tensorflow/python/keras/backend.py:4010: calling dropout (from tensorflow.python.ops.nn_ops) with keep_prob is deprecated and will be removed in a future version.\n",
      "Instructions for updating:\n",
      "Please use `rate` instead of `keep_prob`. Rate should be set to `rate = 1 - keep_prob`.\n",
      "WARNING:tensorflow:From /home/ssilva/anaconda3/lib/python3.7/site-packages/tensorflow/python/ops/math_ops.py:3066: to_int32 (from tensorflow.python.ops.math_ops) is deprecated and will be removed in a future version.\n",
      "Instructions for updating:\n",
      "Use tf.cast instead.\n",
      "Epoch 1/50\n",
      "20/20 [==============================] - 1s 65ms/step - loss: 0.2050\n",
      "\n",
      "Epoch 00001: val_loss improved from inf to 0.20503, saving model to Cebu_best_lstm64.hdf5\n",
      " - 22s - loss: 0.3745 - val_loss: 0.2050\n",
      "Epoch 2/50\n",
      "20/20 [==============================] - 1s 42ms/step - loss: 0.2099\n",
      "\n",
      "Epoch 00002: val_loss did not improve from 0.20503\n",
      " - 19s - loss: 0.2448 - val_loss: 0.2099\n",
      "Epoch 3/50\n",
      "20/20 [==============================] - 1s 44ms/step - loss: 0.1907\n",
      "\n",
      "Epoch 00003: val_loss improved from 0.20503 to 0.19068, saving model to Cebu_best_lstm64.hdf5\n",
      " - 19s - loss: 0.2185 - val_loss: 0.1907\n",
      "Epoch 4/50\n",
      "20/20 [==============================] - 1s 44ms/step - loss: 0.1947\n",
      "\n",
      "Epoch 00004: val_loss did not improve from 0.19068\n",
      " - 21s - loss: 0.1975 - val_loss: 0.1947\n",
      "Epoch 5/50\n",
      "20/20 [==============================] - 1s 42ms/step - loss: 0.1928\n",
      "\n",
      "Epoch 00005: val_loss did not improve from 0.19068\n",
      " - 20s - loss: 0.1910 - val_loss: 0.1928\n",
      "Epoch 6/50\n",
      "20/20 [==============================] - 1s 45ms/step - loss: 0.1991\n",
      "\n",
      "Epoch 00006: val_loss did not improve from 0.19068\n",
      " - 20s - loss: 0.1823 - val_loss: 0.1991\n",
      "Epoch 7/50\n",
      "20/20 [==============================] - 1s 41ms/step - loss: 0.2138\n",
      "\n",
      "Epoch 00007: val_loss did not improve from 0.19068\n",
      " - 23s - loss: 0.1713 - val_loss: 0.2138\n",
      "Epoch 8/50\n",
      "20/20 [==============================] - 1s 38ms/step - loss: 0.1954\n",
      "\n",
      "Epoch 00008: val_loss did not improve from 0.19068\n",
      " - 20s - loss: 0.1680 - val_loss: 0.1954\n",
      "Epoch 9/50\n",
      "20/20 [==============================] - 1s 45ms/step - loss: 0.2211\n",
      "\n",
      "Epoch 00009: val_loss did not improve from 0.19068\n",
      " - 19s - loss: 0.1647 - val_loss: 0.2211\n",
      "Epoch 10/50\n",
      "20/20 [==============================] - 1s 43ms/step - loss: 0.2042\n",
      "\n",
      "Epoch 00010: val_loss did not improve from 0.19068\n",
      " - 23s - loss: 0.1567 - val_loss: 0.2042\n",
      "Epoch 11/50\n",
      "20/20 [==============================] - 1s 45ms/step - loss: 0.2127\n",
      "\n",
      "Epoch 00011: val_loss did not improve from 0.19068\n",
      " - 20s - loss: 0.1566 - val_loss: 0.2127\n",
      "Epoch 12/50\n",
      "20/20 [==============================] - 1s 56ms/step - loss: 0.2272\n",
      "\n",
      "Epoch 00012: val_loss did not improve from 0.19068\n",
      " - 22s - loss: 0.1541 - val_loss: 0.2272\n",
      "Epoch 13/50\n",
      "20/20 [==============================] - 1s 45ms/step - loss: 0.2127\n",
      "\n",
      "Epoch 00013: val_loss did not improve from 0.19068\n",
      " - 21s - loss: 0.1491 - val_loss: 0.2127\n",
      "Epoch 00013: early stopping\n"
     ]
    }
   ],
   "source": [
    "filepath_lstm64=\"Cebu_best_lstm64.hdf5\" \n",
    "cp_lstm64 = ModelCheckpoint(filepath_lstm64, monitor='val_loss', verbose=2, save_best_only=True, mode='min')\n",
    "es_lstm64 = EarlyStopping(monitor='val_loss', mode='min', verbose=2, patience=10, min_delta=.01)\n",
    "callbacks_list_lstm64 = [cp_lstm64, es_lstm64]\n",
    "\n",
    "# fix random seed for reproducibility\n",
    "seed = 1337\n",
    "np.random.seed(seed)\n",
    "\n",
    "model_lstm64 = Sequential()\n",
    "model_lstm64.add(layers.LSTM(64, \n",
    "                       dropout=0.2,\n",
    "                       recurrent_dropout=0.2, \n",
    "                       input_shape=(None, float_data.shape[-1])))\n",
    "model_lstm64.add(layers.Dense(64,activation='relu'))\n",
    "model_lstm64.add(layers.Dense(1))\n",
    "model_lstm64.compile(optimizer=RMSprop(), loss='mae')\n",
    "\n",
    "history_lstm64 = model_lstm64.fit_generator(train_gen,\n",
    "                                        steps_per_epoch=steps_per_epoch_cnt, \n",
    "                                        epochs=50,\n",
    "                                        validation_data=val_gen, \n",
    "                                        validation_steps=val_steps_cnt,\n",
    "                                        callbacks=callbacks_list_lstm64, verbose=2) "
   ]
  },
  {
   "cell_type": "code",
   "execution_count": 34,
   "metadata": {
    "ExecuteTime": {
     "end_time": "2019-12-22T09:31:05.629283Z",
     "start_time": "2019-12-22T09:31:05.430601Z"
    },
    "collapsed": true
   },
   "outputs": [
    {
     "data": {
      "image/png": "[encoded data removed]",
      "text/plain": [
       "<Figure size 432x288 with 1 Axes>"
      ]
     },
     "metadata": {
      "needs_background": "light"
     },
     "output_type": "display_data"
    }
   ],
   "source": [
    "loss_lstm64 = history_lstm64.history['loss']\n",
    "val_loss_lstm64 = history_lstm64.history['val_loss']\n",
    "\n",
    "epochs = range(1, len(loss_lstm64) + 1)\n",
    "\n",
    "plt.figure()\n",
    "\n",
    "plt.plot(epochs, loss_lstm64, 'bo', label='Training loss')\n",
    "plt.plot(epochs, val_loss_lstm64, 'b', label='Validation loss')\n",
    "plt.title('Training and validation loss')\n",
    "plt.legend()\n",
    "\n",
    "plt.show()"
   ]
  },
  {
   "cell_type": "code",
   "execution_count": 35,
   "metadata": {
    "ExecuteTime": {
     "end_time": "2019-12-22T09:31:05.633838Z",
     "start_time": "2019-12-22T09:31:05.630688Z"
    }
   },
   "outputs": [
    {
     "name": "stdout",
     "output_type": "stream",
     "text": [
      "Model Error: 4.87%\n"
     ]
    }
   ],
   "source": [
    "print('Model Error:', f'{((min(val_loss_lstm64) * train_mw_std)/plant_capacity):0.2%}')"
   ]
  },
  {
   "cell_type": "code",
   "execution_count": 59,
   "metadata": {
    "ExecuteTime": {
     "end_time": "2019-12-22T10:09:26.593701Z",
     "start_time": "2019-12-22T10:09:26.588800Z"
    }
   },
   "outputs": [],
   "source": [
    "lstm64 = ((min(val_loss_lstm64) * train_mw_std)/plant_capacity)  * 100"
   ]
  },
  {
   "cell_type": "markdown",
   "metadata": {},
   "source": [
    "<div id=\"lstm2\"/>\n",
    "<div style='padding:20px;'> <font style='font-weight:bold;font-size:15px;color:#2c3393;'>2.5.2 LSTM with 32 nodes</font></div>"
   ]
  },
  {
   "cell_type": "code",
   "execution_count": 37,
   "metadata": {
    "ExecuteTime": {
     "end_time": "2019-12-22T09:35:05.753533Z",
     "start_time": "2019-12-22T09:31:05.639477Z"
    },
    "collapsed": true
   },
   "outputs": [
    {
     "name": "stdout",
     "output_type": "stream",
     "text": [
      "Epoch 1/50\n",
      "20/20 [==============================] - 1s 40ms/step - loss: 0.2389\n",
      "\n",
      "Epoch 00001: val_loss improved from inf to 0.23892, saving model to Cebu_best_lstm32.hdf5\n",
      " - 18s - loss: 0.4182 - val_loss: 0.2389\n",
      "Epoch 2/50\n",
      "20/20 [==============================] - 1s 31ms/step - loss: 0.1922\n",
      "\n",
      "Epoch 00002: val_loss improved from 0.23892 to 0.19216, saving model to Cebu_best_lstm32.hdf5\n",
      " - 16s - loss: 0.2575 - val_loss: 0.1922\n",
      "Epoch 3/50\n",
      "20/20 [==============================] - 1s 34ms/step - loss: 0.1897\n",
      "\n",
      "Epoch 00003: val_loss improved from 0.19216 to 0.18967, saving model to Cebu_best_lstm32.hdf5\n",
      " - 16s - loss: 0.2250 - val_loss: 0.1897\n",
      "Epoch 4/50\n",
      "20/20 [==============================] - 1s 33ms/step - loss: 0.1686\n",
      "\n",
      "Epoch 00004: val_loss improved from 0.18967 to 0.16857, saving model to Cebu_best_lstm32.hdf5\n",
      " - 17s - loss: 0.2017 - val_loss: 0.1686\n",
      "Epoch 5/50\n",
      "20/20 [==============================] - 1s 30ms/step - loss: 0.1814\n",
      "\n",
      "Epoch 00005: val_loss did not improve from 0.16857\n",
      " - 17s - loss: 0.1978 - val_loss: 0.1814\n",
      "Epoch 6/50\n",
      "20/20 [==============================] - 1s 36ms/step - loss: 0.1943\n",
      "\n",
      "Epoch 00006: val_loss did not improve from 0.16857\n",
      " - 16s - loss: 0.1892 - val_loss: 0.1943\n",
      "Epoch 7/50\n",
      "20/20 [==============================] - 1s 35ms/step - loss: 0.1845\n",
      "\n",
      "Epoch 00007: val_loss did not improve from 0.16857\n",
      " - 17s - loss: 0.1793 - val_loss: 0.1845\n",
      "Epoch 8/50\n",
      "20/20 [==============================] - 1s 47ms/step - loss: 0.1899\n",
      "\n",
      "Epoch 00008: val_loss did not improve from 0.16857\n",
      " - 18s - loss: 0.1751 - val_loss: 0.1899\n",
      "Epoch 9/50\n",
      "20/20 [==============================] - 1s 38ms/step - loss: 0.2050\n",
      "\n",
      "Epoch 00009: val_loss did not improve from 0.16857\n",
      " - 20s - loss: 0.1721 - val_loss: 0.2050\n",
      "Epoch 10/50\n",
      "20/20 [==============================] - 1s 32ms/step - loss: 0.1828\n",
      "\n",
      "Epoch 00010: val_loss did not improve from 0.16857\n",
      " - 17s - loss: 0.1644 - val_loss: 0.1828\n",
      "Epoch 11/50\n",
      "20/20 [==============================] - 1s 37ms/step - loss: 0.1875\n",
      "\n",
      "Epoch 00011: val_loss did not improve from 0.16857\n",
      " - 16s - loss: 0.1676 - val_loss: 0.1875\n",
      "Epoch 12/50\n",
      "20/20 [==============================] - 1s 34ms/step - loss: 0.1935\n",
      "\n",
      "Epoch 00012: val_loss did not improve from 0.16857\n",
      " - 17s - loss: 0.1646 - val_loss: 0.1935\n",
      "Epoch 13/50\n",
      "20/20 [==============================] - 1s 33ms/step - loss: 0.1911\n",
      "\n",
      "Epoch 00013: val_loss did not improve from 0.16857\n",
      " - 17s - loss: 0.1607 - val_loss: 0.1911\n",
      "Epoch 14/50\n",
      "20/20 [==============================] - 1s 35ms/step - loss: 0.1989\n",
      "\n",
      "Epoch 00014: val_loss did not improve from 0.16857\n",
      " - 17s - loss: 0.1528 - val_loss: 0.1989\n",
      "Epoch 00014: early stopping\n"
     ]
    }
   ],
   "source": [
    "filepath_lstm32=\"Cebu_best_lstm32.hdf5\" \n",
    "cp_lstm32 = ModelCheckpoint(filepath_lstm32, monitor='val_loss', verbose=2, save_best_only=True, mode='min')\n",
    "es_lstm32 = EarlyStopping(monitor='val_loss', mode='min', verbose=2, patience=10, min_delta=.01)\n",
    "callbacks_list_lstm32 = [cp_lstm32, es_lstm32]\n",
    "\n",
    "# fix random seed for reproducibility\n",
    "seed = 1337\n",
    "np.random.seed(seed)\n",
    "\n",
    "model_lstm32 = Sequential()\n",
    "model_lstm32.add(layers.LSTM(32, \n",
    "                       dropout=0.2,\n",
    "                       recurrent_dropout=0.2, \n",
    "                       input_shape=(None, float_data.shape[-1])))\n",
    "model_lstm32.add(layers.Dense(32, activation='relu'))\n",
    "model_lstm32.add(layers.Dense(1))\n",
    "model_lstm32.compile(optimizer=RMSprop(), loss='mae')\n",
    "\n",
    "history_lstm32 = model_lstm32.fit_generator(train_gen,\n",
    "                                        steps_per_epoch=steps_per_epoch_cnt, \n",
    "                                        epochs=50,\n",
    "                                        validation_data=val_gen, \n",
    "                                        validation_steps=val_steps_cnt,\n",
    "                                        callbacks=callbacks_list_lstm32, verbose=2) "
   ]
  },
  {
   "cell_type": "code",
   "execution_count": 38,
   "metadata": {
    "ExecuteTime": {
     "end_time": "2019-12-22T09:35:05.976839Z",
     "start_time": "2019-12-22T09:35:05.755643Z"
    },
    "collapsed": true
   },
   "outputs": [
    {
     "data": {
      "image/png": "[encoded data removed]",
      "text/plain": [
       "<Figure size 432x288 with 1 Axes>"
      ]
     },
     "metadata": {
      "needs_background": "light"
     },
     "output_type": "display_data"
    }
   ],
   "source": [
    "loss_lstm32 = history_lstm32.history['loss']\n",
    "val_loss_lstm32 = history_lstm32.history['val_loss']\n",
    "\n",
    "epochs = range(1, len(loss_lstm32) + 1)\n",
    "\n",
    "plt.figure()\n",
    "\n",
    "plt.plot(epochs, loss_lstm32, 'bo', label='Training loss')\n",
    "plt.plot(epochs, val_loss_lstm32, 'b', label='Validation loss')\n",
    "plt.title('Training and validation loss')\n",
    "plt.legend()\n",
    "\n",
    "plt.show()"
   ]
  },
  {
   "cell_type": "code",
   "execution_count": 39,
   "metadata": {
    "ExecuteTime": {
     "end_time": "2019-12-22T09:35:05.981729Z",
     "start_time": "2019-12-22T09:35:05.978497Z"
    }
   },
   "outputs": [
    {
     "name": "stdout",
     "output_type": "stream",
     "text": [
      "Model Error: 4.30%\n"
     ]
    }
   ],
   "source": [
    "print('Model Error:', f'{((min(val_loss_lstm32) * train_mw_std)/plant_capacity):0.2%}')"
   ]
  },
  {
   "cell_type": "code",
   "execution_count": 58,
   "metadata": {
    "ExecuteTime": {
     "end_time": "2019-12-22T10:09:20.452139Z",
     "start_time": "2019-12-22T10:09:20.444464Z"
    }
   },
   "outputs": [],
   "source": [
    "lstm32 = ((min(val_loss_lstm32) * train_mw_std)/plant_capacity)  * 100"
   ]
  },
  {
   "cell_type": "markdown",
   "metadata": {},
   "source": [
    "<div id=\"lstm3\"/>\n",
    "<div style='padding:20px;'> <font style='font-weight:bold;font-size:15px;color:#2c3393;'>2.5.3 Stacked LSTM with 64 and 32 nodes</font></div>"
   ]
  },
  {
   "cell_type": "code",
   "execution_count": 41,
   "metadata": {
    "ExecuteTime": {
     "end_time": "2019-12-22T09:44:00.372497Z",
     "start_time": "2019-12-22T09:35:05.988213Z"
    },
    "collapsed": true
   },
   "outputs": [
    {
     "name": "stdout",
     "output_type": "stream",
     "text": [
      "Epoch 1/50\n",
      "20/20 [==============================] - 2s 93ms/step - loss: 0.2058\n",
      "\n",
      "Epoch 00001: val_loss improved from inf to 0.20581, saving model to Cebu_best_lstm6432.hdf5\n",
      " - 40s - loss: 0.3520 - val_loss: 0.2058\n",
      "Epoch 2/50\n",
      "20/20 [==============================] - 1s 67ms/step - loss: 0.2092\n",
      "\n",
      "Epoch 00002: val_loss did not improve from 0.20581\n",
      " - 39s - loss: 0.2220 - val_loss: 0.2092\n",
      "Epoch 3/50\n",
      "20/20 [==============================] - 2s 80ms/step - loss: 0.2094\n",
      "\n",
      "Epoch 00003: val_loss did not improve from 0.20581\n",
      " - 41s - loss: 0.2063 - val_loss: 0.2094\n",
      "Epoch 4/50\n",
      "20/20 [==============================] - 1s 61ms/step - loss: 0.1837\n",
      "\n",
      "Epoch 00004: val_loss improved from 0.20581 to 0.18374, saving model to Cebu_best_lstm6432.hdf5\n",
      " - 38s - loss: 0.1854 - val_loss: 0.1837\n",
      "Epoch 5/50\n",
      "20/20 [==============================] - 1s 64ms/step - loss: 0.1957\n",
      "\n",
      "Epoch 00005: val_loss did not improve from 0.18374\n",
      " - 37s - loss: 0.1823 - val_loss: 0.1957\n",
      "Epoch 6/50\n",
      "20/20 [==============================] - 1s 68ms/step - loss: 0.1878\n",
      "\n",
      "Epoch 00006: val_loss did not improve from 0.18374\n",
      " - 36s - loss: 0.1751 - val_loss: 0.1878\n",
      "Epoch 7/50\n",
      "20/20 [==============================] - 2s 76ms/step - loss: 0.1899\n",
      "\n",
      "Epoch 00007: val_loss did not improve from 0.18374\n",
      " - 39s - loss: 0.1630 - val_loss: 0.1899\n",
      "Epoch 8/50\n",
      "20/20 [==============================] - 1s 65ms/step - loss: 0.2210\n",
      "\n",
      "Epoch 00008: val_loss did not improve from 0.18374\n",
      " - 39s - loss: 0.1590 - val_loss: 0.2210\n",
      "Epoch 9/50\n",
      "20/20 [==============================] - 1s 63ms/step - loss: 0.2153\n",
      "\n",
      "Epoch 00009: val_loss did not improve from 0.18374\n",
      " - 37s - loss: 0.1539 - val_loss: 0.2153\n",
      "Epoch 10/50\n",
      "20/20 [==============================] - 1s 72ms/step - loss: 0.2149\n",
      "\n",
      "Epoch 00010: val_loss did not improve from 0.18374\n",
      " - 38s - loss: 0.1487 - val_loss: 0.2149\n",
      "Epoch 11/50\n",
      "20/20 [==============================] - 1s 64ms/step - loss: 0.2119\n",
      "\n",
      "Epoch 00011: val_loss did not improve from 0.18374\n",
      " - 36s - loss: 0.1475 - val_loss: 0.2119\n",
      "Epoch 12/50\n",
      "20/20 [==============================] - 1s 75ms/step - loss: 0.2246\n",
      "\n",
      "Epoch 00012: val_loss did not improve from 0.18374\n",
      " - 37s - loss: 0.1471 - val_loss: 0.2246\n",
      "Epoch 13/50\n",
      "20/20 [==============================] - 1s 62ms/step - loss: 0.2063\n",
      "\n",
      "Epoch 00013: val_loss did not improve from 0.18374\n",
      " - 37s - loss: 0.1418 - val_loss: 0.2063\n",
      "Epoch 14/50\n",
      "20/20 [==============================] - 1s 64ms/step - loss: 0.2216\n",
      "\n",
      "Epoch 00014: val_loss did not improve from 0.18374\n",
      " - 38s - loss: 0.1352 - val_loss: 0.2216\n",
      "Epoch 00014: early stopping\n"
     ]
    }
   ],
   "source": [
    "filepath_lstm6432=\"Cebu_best_lstm6432.hdf5\" \n",
    "cp_lstm6432 = ModelCheckpoint(filepath_lstm6432, monitor='val_loss', verbose=2, save_best_only=True, mode='min')\n",
    "es_lstm6432 = EarlyStopping(monitor='val_loss', mode='min', verbose=2, patience=10, min_delta=.01)\n",
    "callbacks_list_lstm6432 = [cp_lstm6432, es_lstm6432]\n",
    "\n",
    "# fix random seed for reproducibility\n",
    "seed = 1337\n",
    "np.random.seed(seed)\n",
    "\n",
    "model_lstm6432 = Sequential()\n",
    "model_lstm6432.add(layers.LSTM(64,\n",
    "                    dropout=0.2,\n",
    "                    recurrent_dropout=0.2,\n",
    "                    return_sequences=True,\n",
    "                    input_shape=(None, float_data.shape[-1])))\n",
    "model_lstm6432.add(layers.LSTM(32,\n",
    "                    dropout=0.2,\n",
    "                    recurrent_dropout=0.2))\n",
    "model_lstm6432.add(layers.Dense(32, activation='relu'))\n",
    "model_lstm6432.add(layers.Dense(1))\n",
    "model_lstm6432.compile(optimizer=RMSprop(), loss='mae')\n",
    "\n",
    "history_lstm6432 = model_lstm6432.fit_generator(train_gen,\n",
    "                                             steps_per_epoch=steps_per_epoch_cnt,\n",
    "                                             epochs=50,\n",
    "                                             validation_data=val_gen, \n",
    "                                             validation_steps=val_steps_cnt,\n",
    "                                             callbacks=callbacks_list_lstm6432, verbose=2)"
   ]
  },
  {
   "cell_type": "code",
   "execution_count": 42,
   "metadata": {
    "ExecuteTime": {
     "end_time": "2019-12-22T09:44:00.564206Z",
     "start_time": "2019-12-22T09:44:00.374427Z"
    },
    "collapsed": true
   },
   "outputs": [
    {
     "data": {
      "image/png": "[encoded data removed]",
      "text/plain": [
       "<Figure size 432x288 with 1 Axes>"
      ]
     },
     "metadata": {
      "needs_background": "light"
     },
     "output_type": "display_data"
    }
   ],
   "source": [
    "loss_lstm6432 = history_lstm6432.history['loss']\n",
    "val_loss_lstm6432 = history_lstm6432.history['val_loss']\n",
    "\n",
    "epochs = range(1, len(loss_lstm6432) + 1)\n",
    "\n",
    "plt.figure()\n",
    "\n",
    "plt.plot(epochs, loss_lstm6432, 'bo', label='Training loss')\n",
    "plt.plot(epochs, val_loss_lstm6432, 'b', label='Validation loss')\n",
    "plt.title('Training and validation loss')\n",
    "plt.legend()\n",
    "\n",
    "plt.show()"
   ]
  },
  {
   "cell_type": "code",
   "execution_count": 43,
   "metadata": {
    "ExecuteTime": {
     "end_time": "2019-12-22T09:44:00.568731Z",
     "start_time": "2019-12-22T09:44:00.565657Z"
    }
   },
   "outputs": [
    {
     "name": "stdout",
     "output_type": "stream",
     "text": [
      "Model Error: 4.69%\n"
     ]
    }
   ],
   "source": [
    "print('Model Error:', f'{((min(val_loss_lstm6432) * train_mw_std)/plant_capacity):0.2%}')"
   ]
  },
  {
   "cell_type": "code",
   "execution_count": 57,
   "metadata": {
    "ExecuteTime": {
     "end_time": "2019-12-22T10:09:09.626426Z",
     "start_time": "2019-12-22T10:09:09.621420Z"
    }
   },
   "outputs": [],
   "source": [
    "lstm6432 = ((min(val_loss_lstm6432) * train_mw_std)/plant_capacity)  * 100"
   ]
  },
  {
   "cell_type": "markdown",
   "metadata": {},
   "source": [
    "<div id=\"lstm4\"/>\n",
    "<div style='padding:20px;'> <font style='font-weight:bold;font-size:15px;color:#2c3393;'>2.5.4 Stacked LSTM with 32 and 64 nodes</font></div>"
   ]
  },
  {
   "cell_type": "code",
   "execution_count": 45,
   "metadata": {
    "ExecuteTime": {
     "end_time": "2019-12-22T09:53:50.000828Z",
     "start_time": "2019-12-22T09:44:00.575942Z"
    },
    "collapsed": true
   },
   "outputs": [
    {
     "name": "stdout",
     "output_type": "stream",
     "text": [
      "Epoch 1/50\n",
      "20/20 [==============================] - 1s 71ms/step - loss: 0.1866\n",
      "\n",
      "Epoch 00001: val_loss improved from inf to 0.18658, saving model to Cebu_best_lstm3264.hdf5\n",
      " - 38s - loss: 0.3441 - val_loss: 0.1866\n",
      "Epoch 2/50\n",
      "20/20 [==============================] - 1s 63ms/step - loss: 0.2028\n",
      "\n",
      "Epoch 00002: val_loss did not improve from 0.18658\n",
      " - 34s - loss: 0.2206 - val_loss: 0.2028\n",
      "Epoch 3/50\n",
      "20/20 [==============================] - 1s 68ms/step - loss: 0.2007\n",
      "\n",
      "Epoch 00003: val_loss did not improve from 0.18658\n",
      " - 36s - loss: 0.2065 - val_loss: 0.2007\n",
      "Epoch 4/50\n",
      "20/20 [==============================] - 1s 70ms/step - loss: 0.2070\n",
      "\n",
      "Epoch 00004: val_loss did not improve from 0.18658\n",
      " - 38s - loss: 0.1875 - val_loss: 0.2070\n",
      "Epoch 5/50\n",
      "20/20 [==============================] - 1s 74ms/step - loss: 0.2092\n",
      "\n",
      "Epoch 00005: val_loss did not improve from 0.18658\n",
      " - 37s - loss: 0.1841 - val_loss: 0.2092\n",
      "Epoch 6/50\n",
      "20/20 [==============================] - 1s 63ms/step - loss: 0.1759\n",
      "\n",
      "Epoch 00006: val_loss improved from 0.18658 to 0.17589, saving model to Cebu_best_lstm3264.hdf5\n",
      " - 36s - loss: 0.1766 - val_loss: 0.1759\n",
      "Epoch 7/50\n",
      "20/20 [==============================] - 1s 65ms/step - loss: 0.1925\n",
      "\n",
      "Epoch 00007: val_loss did not improve from 0.17589\n",
      " - 37s - loss: 0.1656 - val_loss: 0.1925\n",
      "Epoch 8/50\n",
      "20/20 [==============================] - 1s 64ms/step - loss: 0.1958\n",
      "\n",
      "Epoch 00008: val_loss did not improve from 0.17589\n",
      " - 37s - loss: 0.1625 - val_loss: 0.1958\n",
      "Epoch 9/50\n",
      "20/20 [==============================] - 1s 63ms/step - loss: 0.1980\n",
      "\n",
      "Epoch 00009: val_loss did not improve from 0.17589\n",
      " - 35s - loss: 0.1564 - val_loss: 0.1980\n",
      "Epoch 10/50\n",
      "20/20 [==============================] - 1s 63ms/step - loss: 0.2024\n",
      "\n",
      "Epoch 00010: val_loss did not improve from 0.17589\n",
      " - 34s - loss: 0.1515 - val_loss: 0.2024\n",
      "Epoch 11/50\n",
      "20/20 [==============================] - 1s 65ms/step - loss: 0.1945\n",
      "\n",
      "Epoch 00011: val_loss did not improve from 0.17589\n",
      " - 35s - loss: 0.1507 - val_loss: 0.1945\n",
      "Epoch 12/50\n",
      "20/20 [==============================] - 1s 64ms/step - loss: 0.2235\n",
      "\n",
      "Epoch 00012: val_loss did not improve from 0.17589\n",
      " - 37s - loss: 0.1500 - val_loss: 0.2235\n",
      "Epoch 13/50\n",
      "20/20 [==============================] - 1s 64ms/step - loss: 0.2137\n",
      "\n",
      "Epoch 00013: val_loss did not improve from 0.17589\n",
      " - 38s - loss: 0.1436 - val_loss: 0.2137\n",
      "Epoch 14/50\n",
      "20/20 [==============================] - 1s 65ms/step - loss: 0.2093\n",
      "\n",
      "Epoch 00014: val_loss did not improve from 0.17589\n",
      " - 37s - loss: 0.1375 - val_loss: 0.2093\n",
      "Epoch 15/50\n",
      "20/20 [==============================] - 1s 68ms/step - loss: 0.2092\n",
      "\n",
      "Epoch 00015: val_loss did not improve from 0.17589\n",
      " - 40s - loss: 0.1401 - val_loss: 0.2092\n",
      "Epoch 16/50\n",
      "20/20 [==============================] - 1s 64ms/step - loss: 0.1887\n",
      "\n",
      "Epoch 00016: val_loss did not improve from 0.17589\n",
      " - 37s - loss: 0.1418 - val_loss: 0.1887\n",
      "Epoch 00016: early stopping\n"
     ]
    }
   ],
   "source": [
    "filepath_lstm3264 =\"Cebu_best_lstm3264.hdf5\" \n",
    "cp_lstm3264 = ModelCheckpoint(filepath_lstm3264, monitor='val_loss', verbose=2, save_best_only=True, mode='min')\n",
    "es_lstm3264 = EarlyStopping(monitor='val_loss', mode='min', verbose=2, patience=10, min_delta=.01)\n",
    "callbacks_list_lstm3264 = [cp_lstm3264, es_lstm3264]\n",
    "\n",
    "# fix random seed for reproducibility\n",
    "seed = 1337\n",
    "np.random.seed(seed)\n",
    "\n",
    "model_lstm3264 = Sequential()\n",
    "model_lstm3264.add(layers.LSTM(64,\n",
    "                    dropout=0.2,\n",
    "                    recurrent_dropout=0.2,\n",
    "                    return_sequences=True,\n",
    "                    input_shape=(None, float_data.shape[-1])))\n",
    "model_lstm3264.add(layers.LSTM(32,\n",
    "                    dropout=0.2,\n",
    "                    recurrent_dropout=0.2))\n",
    "model_lstm3264.add(layers.Dense(64, activation='relu'))\n",
    "model_lstm3264.add(layers.Dense(1))\n",
    "model_lstm3264.compile(optimizer=RMSprop(), loss='mae')\n",
    "\n",
    "history_lstm3264 = model_lstm3264.fit_generator(train_gen,\n",
    "                                             steps_per_epoch=steps_per_epoch_cnt,\n",
    "                                             epochs=50,\n",
    "                                             validation_data=val_gen, \n",
    "                                             validation_steps=val_steps_cnt,\n",
    "                                             callbacks=callbacks_list_lstm3264, verbose=2)"
   ]
  },
  {
   "cell_type": "code",
   "execution_count": 46,
   "metadata": {
    "ExecuteTime": {
     "end_time": "2019-12-22T09:53:50.199144Z",
     "start_time": "2019-12-22T09:53:50.002644Z"
    },
    "collapsed": true
   },
   "outputs": [
    {
     "data": {
      "image/png": "[encoded data removed]",
      "text/plain": [
       "<Figure size 432x288 with 1 Axes>"
      ]
     },
     "metadata": {
      "needs_background": "light"
     },
     "output_type": "display_data"
    }
   ],
   "source": [
    "loss_lstm3264 = history_lstm3264.history['loss']\n",
    "val_loss_lstm3264 = history_lstm3264.history['val_loss']\n",
    "\n",
    "epochs = range(1, len(loss_lstm3264) + 1)\n",
    "\n",
    "plt.figure()\n",
    "\n",
    "plt.plot(epochs, loss_lstm3264, 'bo', label='Training loss')\n",
    "plt.plot(epochs, val_loss_lstm3264, 'b', label='Validation loss')\n",
    "plt.title('Training and validation loss')\n",
    "plt.legend()\n",
    "\n",
    "plt.show()"
   ]
  },
  {
   "cell_type": "code",
   "execution_count": 47,
   "metadata": {
    "ExecuteTime": {
     "end_time": "2019-12-22T09:53:50.203486Z",
     "start_time": "2019-12-22T09:53:50.200593Z"
    }
   },
   "outputs": [
    {
     "name": "stdout",
     "output_type": "stream",
     "text": [
      "Model Error: 4.49%\n"
     ]
    }
   ],
   "source": [
    "print('Model Error:', f'{((min(val_loss_lstm3264) * train_mw_std)/plant_capacity):0.2%}')"
   ]
  },
  {
   "cell_type": "code",
   "execution_count": 56,
   "metadata": {
    "ExecuteTime": {
     "end_time": "2019-12-22T10:09:03.209869Z",
     "start_time": "2019-12-22T10:09:03.202111Z"
    }
   },
   "outputs": [],
   "source": [
    "lstm3264 = ((min(val_loss_lstm3264) * train_mw_std)/plant_capacity) * 100"
   ]
  },
  {
   "cell_type": "code",
   "execution_count": 54,
   "metadata": {
    "ExecuteTime": {
     "end_time": "2019-12-22T10:08:41.809910Z",
     "start_time": "2019-12-22T10:08:41.806424Z"
    }
   },
   "outputs": [
    {
     "data": {
      "text/plain": [
       "0.0448781794602682"
      ]
     },
     "execution_count": 54,
     "metadata": {},
     "output_type": "execute_result"
    }
   ],
   "source": [
    "lstm3264"
   ]
  },
  {
   "cell_type": "markdown",
   "metadata": {},
   "source": [
    "<div id=\"results\"/>\n",
    "<div style='padding:3px;'> <font style='font-weight:bold;font-size:20px;color:#2c3393;'>3. Results and Discussions</font></div>"
   ]
  },
  {
   "cell_type": "markdown",
   "metadata": {},
   "source": [
    "<div id=\"res\"/>\n",
    "<div style='padding:10px;'> <font style='font-weight:bold;font-size:15px;color:#2c3393;'>3.1 Results</font></div>"
   ]
  },
  {
   "cell_type": "code",
   "execution_count": 61,
   "metadata": {
    "ExecuteTime": {
     "end_time": "2019-12-22T10:09:34.896506Z",
     "start_time": "2019-12-22T10:09:34.893117Z"
    }
   },
   "outputs": [],
   "source": [
    "names = ['Industry Agnostic Naive Method',\n",
    "         'Industry Standard Naive Method', \n",
    "         'LSTM with 64 nodes',\n",
    "         'LSTM with 32 nodes',\n",
    "         'LSTM+LSTM with 64 nodes and 32 nodes',\n",
    "         'LSTM+LSTM with 32 nodes and 64 nodes']\n",
    "results = [benchmark1, \n",
    "           benchmark2,\n",
    "           lstm64,\n",
    "           lstm32,\n",
    "           lstm6432,\n",
    "           lstm3264]"
   ]
  },
  {
   "cell_type": "code",
   "execution_count": 62,
   "metadata": {
    "ExecuteTime": {
     "end_time": "2019-12-22T10:09:35.235782Z",
     "start_time": "2019-12-22T10:09:35.231784Z"
    }
   },
   "outputs": [],
   "source": [
    "results = pd.DataFrame(zip(names,results), columns=['Model', 'Error in Percentage'])"
   ]
  },
  {
   "cell_type": "code",
   "execution_count": 63,
   "metadata": {
    "ExecuteTime": {
     "end_time": "2019-12-22T10:09:35.485095Z",
     "start_time": "2019-12-22T10:09:35.481010Z"
    }
   },
   "outputs": [],
   "source": [
    "results['Error in Percentage'] = round(results['Error in Percentage'],2)"
   ]
  },
  {
   "cell_type": "code",
   "execution_count": 64,
   "metadata": {
    "ExecuteTime": {
     "end_time": "2019-12-22T10:09:35.815019Z",
     "start_time": "2019-12-22T10:09:35.807140Z"
    }
   },
   "outputs": [],
   "source": [
    "results['Improvement'] = round(1-(results['Error in Percentage']/benchmark2),4)*100"
   ]
  },
  {
   "cell_type": "code",
   "execution_count": 65,
   "metadata": {
    "ExecuteTime": {
     "end_time": "2019-12-22T10:09:36.158275Z",
     "start_time": "2019-12-22T10:09:36.149507Z"
    }
   },
   "outputs": [
    {
     "data": {
      "text/html": [
       "<div>\n",
       "<style scoped>\n",
       "    .dataframe tbody tr th:only-of-type {\n",
       "        vertical-align: middle;\n",
       "    }\n",
       "\n",
       "    .dataframe tbody tr th {\n",
       "        vertical-align: top;\n",
       "    }\n",
       "\n",
       "    .dataframe thead th {\n",
       "        text-align: right;\n",
       "    }\n",
       "</style>\n",
       "<table border=\"1\" class=\"dataframe\">\n",
       "  <thead>\n",
       "    <tr style=\"text-align: right;\">\n",
       "      <th></th>\n",
       "      <th>Model</th>\n",
       "      <th>Error in Percentage</th>\n",
       "      <th>Improvement</th>\n",
       "    </tr>\n",
       "  </thead>\n",
       "  <tbody>\n",
       "    <tr>\n",
       "      <th>0</th>\n",
       "      <td>Industry Agnostic Naive Method</td>\n",
       "      <td>7.67</td>\n",
       "      <td>50.00</td>\n",
       "    </tr>\n",
       "    <tr>\n",
       "      <th>1</th>\n",
       "      <td>Industry Standard Naive Method</td>\n",
       "      <td>15.34</td>\n",
       "      <td>0.00</td>\n",
       "    </tr>\n",
       "    <tr>\n",
       "      <th>2</th>\n",
       "      <td>LSTM with 64 nodes</td>\n",
       "      <td>4.87</td>\n",
       "      <td>68.25</td>\n",
       "    </tr>\n",
       "    <tr>\n",
       "      <th>3</th>\n",
       "      <td>LSTM with 32 nodes</td>\n",
       "      <td>4.30</td>\n",
       "      <td>71.97</td>\n",
       "    </tr>\n",
       "    <tr>\n",
       "      <th>4</th>\n",
       "      <td>LSTM+LSTM with 64 nodes and 32 nodes</td>\n",
       "      <td>4.69</td>\n",
       "      <td>69.43</td>\n",
       "    </tr>\n",
       "    <tr>\n",
       "      <th>5</th>\n",
       "      <td>LSTM+LSTM with 32 nodes and 64 nodes</td>\n",
       "      <td>4.49</td>\n",
       "      <td>70.73</td>\n",
       "    </tr>\n",
       "  </tbody>\n",
       "</table>\n",
       "</div>"
      ],
      "text/plain": [
       "                                  Model  Error in Percentage  Improvement\n",
       "0        Industry Agnostic Naive Method                 7.67        50.00\n",
       "1        Industry Standard Naive Method                15.34         0.00\n",
       "2                    LSTM with 64 nodes                 4.87        68.25\n",
       "3                    LSTM with 32 nodes                 4.30        71.97\n",
       "4  LSTM+LSTM with 64 nodes and 32 nodes                 4.69        69.43\n",
       "5  LSTM+LSTM with 32 nodes and 64 nodes                 4.49        70.73"
      ]
     },
     "execution_count": 65,
     "metadata": {},
     "output_type": "execute_result"
    }
   ],
   "source": [
    "results"
   ]
  },
  {
   "cell_type": "code",
   "execution_count": null,
   "metadata": {},
   "outputs": [],
   "source": []
  }
 ],
 "metadata": {
  "kernelspec": {
   "display_name": "Python 3",
   "language": "python",
   "name": "python3"
  },
  "language_info": {
   "codemirror_mode": {
    "name": "ipython",
    "version": 3
   },
   "file_extension": ".py",
   "mimetype": "text/x-python",
   "name": "python",
   "nbconvert_exporter": "python",
   "pygments_lexer": "ipython3",
   "version": "3.7.3"
  }
 },
 "nbformat": 4,
 "nbformat_minor": 2
}
